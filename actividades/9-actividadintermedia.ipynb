{
 "cells": [
  {
   "cell_type": "markdown",
   "metadata": {},
   "source": [
    "# Actividad intermedia: Construye un programa real\n",
    "\n",
    "En esta actividad vamos a construir un programa que nos permita consultar una biblioteca de referencias bibliográficas. El programa debe permitirnos consultar la bibliografía por título, autor, año de publicación y palabras claves.\n"
   ]
  },
  {
   "cell_type": "markdown",
   "metadata": {},
   "source": [
    "## Sobre el conjunto de datos\n",
    "\n",
    "Para realizar este ejercicio, les brindamos un [conjunto de referencias bibliográficas](https://www.zotero.org/groups/197065/humanidades_digitales/library) exportadas desde el programa [Zotero](https://www.zotero.org/) las cuales pueden visualizar en el [repositorio del curso](https://github.com/Taller-Abierto-de-Humanidades-Digitales/curso_python_2023B/blob/main/data/bibliografia.json)."
   ]
  },
  {
   "cell_type": "markdown",
   "metadata": {},
   "source": [
    "Antes de iniciar la actividad, es necesario importar los datos a nuestro programa. Para ello, vamos a utilizar la librería `json` de Python. \n",
    "\n",
    "**Ejecuta la siguiente celda para obtener el conjunto de datos**"
   ]
  },
  {
   "cell_type": "code",
   "execution_count": null,
   "metadata": {},
   "outputs": [],
   "source": [
    "%pip install requests\n",
    "\n",
    "import requests\n",
    "import json\n",
    "\n",
    "\n",
    "def biblioteca() -> list:\n",
    "\t\"\"\"\n",
    "\tEsta función retorna una bibliografía en formato CSL-JSON\n",
    "\t\"\"\"\n",
    "\tr = requests.get(\"https://raw.githubusercontent.com/Taller-Abierto-de-Humanidades-Digitales/curso_python_extenso/main/data/bibliografia.json\")\n",
    "\n",
    "\treturn json.loads(r.text)\n"
   ]
  },
  {
   "cell_type": "markdown",
   "metadata": {},
   "source": [
    "Exploremos un poco los datos que vamos a utilizar:"
   ]
  },
  {
   "cell_type": "code",
   "execution_count": null,
   "metadata": {},
   "outputs": [],
   "source": [
    "# contar el número de elementos en la biblioteca\n",
    "biblioteca  = biblioteca()\n",
    "print(f'Número de elementos en la biblioteca: {len(biblioteca)}\\n')\n",
    "\n",
    "# imprimir las claves de todos los elementos:\n",
    "\n",
    "claves = []\n",
    "\n",
    "for elemento in biblioteca:\n",
    "    for clave in elemento:\n",
    "        if clave not in claves:\n",
    "            claves.append(clave)\n",
    "\n",
    "tipos_bibliograficos = []\n",
    "\n",
    "for elemento in biblioteca:\n",
    "    if elemento['type'] not in tipos_bibliograficos:\n",
    "        tipos_bibliograficos.append(elemento['type'])\n",
    "\n",
    "tipos_bibliograficos.sort()\n",
    "claves.sort()\n",
    "\n",
    "print(f'Tipos de elementos: {tipos_bibliograficos}\\n')\n",
    "print(f'Claves de los elementos: {claves}\\n')"
   ]
  },
  {
   "cell_type": "markdown",
   "metadata": {},
   "source": [
    "\n",
    "```{admonition} Importante\n",
    "Es sumamente recomendable (por no decir *obligatorio*) que realicen una revisión de la estructura y contenido del conjunto de datos antes de iniciar la escritura del programa. Por ejemplo, cuántos elementos hay por cada tipo, qué claves tiene cada tipo de elemento, cuáles de estas claves son obligatorias, etc.\n",
    "```\n",
    "\n",
    "### Acceder al conjunto de datos\n",
    "\n",
    "El archivo contiene una biblioteca de citas bibliográficas en formato CSL-JSON. La biblioteca está construida a partir de una exportación de elementos de Zotero en el formato [CSL-JSON](https://citeproc-js.readthedocs.io/en/latest/csl-json/markup.html). En esta estructura, cada elemento un diccionario dentro de una lista. Cada diccionario contiene una serie de pares clave-valor."
   ]
  },
  {
   "cell_type": "markdown",
   "metadata": {},
   "source": [
    "\n",
    "### Acceder a los elementos de la biblioteca\n",
    "\n",
    "Debido a que la biblioteca es una lista de diccionarios, podemos acceder a cada elemento de la biblioteca usando la sintaxis de listas.\n",
    "\n",
    "Por ejemplo, para acceder al primer elemento de la biblioteca, podemos usar la siguiente sintaxis:"
   ]
  },
  {
   "cell_type": "code",
   "execution_count": null,
   "metadata": {},
   "outputs": [],
   "source": [
    "print(biblioteca[0])"
   ]
  },
  {
   "cell_type": "markdown",
   "metadata": {},
   "source": [
    "Y en este ejemplo, si queremos acceder al valor de la clave `title`, podemos usar la siguiente sintaxis:"
   ]
  },
  {
   "cell_type": "code",
   "execution_count": null,
   "metadata": {},
   "outputs": [],
   "source": [
    "print(biblioteca[0]['title'])"
   ]
  },
  {
   "cell_type": "markdown",
   "metadata": {},
   "source": [
    "En este sentido, un buscador deberá iterar sobre todo el diccionario y comparar el valor de cada clave con el valor de búsqueda. Por ejemplo, si queremos buscar un elemento por título, podemos usar la siguiente sintaxis para encontrar una coincidencia exacta:"
   ]
  },
  {
   "cell_type": "code",
   "execution_count": null,
   "metadata": {},
   "outputs": [],
   "source": [
    "titulo = '¿Qué son las Humanidades Digitales?'\n",
    "\n",
    "for elemento in biblioteca:\n",
    "    if elemento['title'].lower() == titulo.lower():\n",
    "        print(elemento)"
   ]
  },
  {
   "cell_type": "markdown",
   "metadata": {},
   "source": [
    "## Instrucciones\n",
    "\n",
    "### 1. Construir el módulo de búsquedas\n",
    "\n",
    "El primer paso consiste en construir las funciones búsqueda que logren cumplir con los siguientes requisitos:\n",
    "\n",
    "* Debe buscar por título, autor, año de publicación y palabras claves.\n",
    "* Debe tener la opción de buscar por libro, artículo, tesis o cualquier otro tipo de elemento.\n",
    "* Debe tener la opción de buscar por coincidencia exacta o por coincidencia parcial.\n",
    "* Debe tener la capacidad de formatear el resultado para hacerlo legible al usuario.\n",
    "* Debe poder lidiar con el tipo de dato de los autores (`list`) y de las fechas (`dict`).\n",
    "\n",
    "\n",
    "De preferencia, deberás construir dos funciones:\n",
    "\n",
    "* Una función que permita buscar por título, autor, año de publicación y palabras claves.\n",
    "* Una función que permita formatear el resultado de la búsqueda.\n",
    "\n",
    "\n",
    "Las funciones deben estar en la capacidad de replicar un resultado como el siguiente:"
   ]
  },
  {
   "cell_type": "code",
   "execution_count": null,
   "metadata": {},
   "outputs": [],
   "source": [
    "from busqueda import busqueda_simple, formar_result # <- Solo como ejemplo, no es necesario importar esto\n",
    "\n",
    "# Buscar la palabra \"Data\" en el título de los libros\n",
    "resultado = busqueda_simple('Data', 'title', 'book')\n",
    "print(formar_result(resultado))"
   ]
  },
  {
   "cell_type": "markdown",
   "metadata": {},
   "source": [
    "### 2. Construir el módulo de interfaz\n",
    "\n",
    "El segundo paso consiste en construir una interfaz que permita al usuario interactuar con el programa. Para ello, deberás construir una función que permita al usuario ingresar los parámetros de búsqueda y que muestre el resultado de la búsqueda.\n",
    "\n",
    "Esta función debe tener un menú que permita al usuario elegir entre las siguientes opciones:\n",
    "\n",
    "* Ingresar la palabra clave de búsqueda.\n",
    "* Seleccionar si se desea buscar por título, autor, fecha o palabra clave.\n",
    "* Seleccionar si se desea filtrar por libro, artículo, tesis o cualquier otro tipo de elemento.\n",
    "\n",
    "La función debe estar en la capacidad de replicar un resultado como el siguiente:\n",
    "\n",
    "```shell\n",
    "\n",
    "Ingrese los datos de la búsqueda\n",
    "Palabra a buscar: Data\n",
    "Tipos de búsqueda: [1] Título, [2] Autor, [3] Fecha, [4] Palabra clave\n",
    "Tipo de búsqueda (1, 2, 3, 4): 1\n",
    "Tipos de documento: [1] Libro, [2] Artículo, [3] Tesis, [4] Cualquiera\n",
    "Tipo de documento (1, 2, 3, 4): 1\n",
    "Buscando 'Data' en 'title' de tipo 'book'\n",
    "\n",
    "\n",
    "[1]------------\n",
    "\n",
    "id: AdrianCaballeroRoldan2019Bid\n",
    "type: book\n",
    "abstract: rare book\n",
    "ISBN: 978-84-948972-0-7\n",
    "language: Spanish\n",
    "note: 00000\n",
    "publisher: RC Libros\n",
    "source: Amazon\n",
    "title: Bid data con Python. Recolección, almacenamiento y proceso\n",
    "author: Adrián Caballero Roldán, Rafael Caballero / Martín Martín\n",
    "issued: 2019\n",
    "-----------------\n",
    "\n",
    "[2]------------\n",
    "\n",
    "id: Hamidovic.etal2019Ancient\n",
    "type: book\n",
    "abstract: Ancient Manuscripts in Digital Culture presents an overview of the digital turn in Ancient Jewish and Christian manuscripts visualisation, data mining and communication. Edited by David Hamidović, Claire Clivaz and Sarah Bowen Savant, it gathers together the contributions of seventeen scholars involved in Biblical, Early Jewish and Christian studies. The volume attests to the spreading of digital humanities in these fields and presents fundamental analysis of the rise of visual culture as well as specific test-cases concerning ancient manuscripts. Sophisticated visualisation tools, stylometric analysis, teaching and visual data, epigraphy and visualisation belong notably to the varied overview presented in the volume.\n",
    "collection-number: 3\n",
    "collection-title: Digital Biblical Studies\n",
    "edition: 1ª\n",
    "event-place: Leiden - Boston\n",
    "ISBN: 978-90-04-39929-7\n",
    "language: English\n",
    "note: ZSCC: 0000001\n",
    "number-of-pages: xvi, 284\n",
    "number-of-volumes: 1\n",
    "publisher: Brill\n",
    "publisher-place: Leiden - Boston\n",
    "title: Ancient Manuscripts in Digital Culture. Visualisation, Data Mining, Communication\n",
    "source: Library of Congress ISBN\n",
    "title: The shape of data in the digital humanities: modeling texts and text-based resources\n",
    "title-short: The shape of data in the digital humanities\n",
    "editor: Flanders, Julia; Jannidis, Fotis\n",
    "issued: 2019\n",
    "-----------------\n",
    "\n",
    "Se encontraron 4 resultados\n",
    "\n",
    "```\n"
   ]
  }
 ],
 "metadata": {
  "kernelspec": {
   "display_name": "curso_env",
   "language": "python",
   "name": "python3"
  },
  "language_info": {
   "codemirror_mode": {
    "name": "ipython",
    "version": 3
   },
   "file_extension": ".py",
   "mimetype": "text/x-python",
   "name": "python",
   "nbconvert_exporter": "python",
   "pygments_lexer": "ipython3",
   "version": "3.11.4"
  },
  "orig_nbformat": 4
 },
 "nbformat": 4,
 "nbformat_minor": 2
}
