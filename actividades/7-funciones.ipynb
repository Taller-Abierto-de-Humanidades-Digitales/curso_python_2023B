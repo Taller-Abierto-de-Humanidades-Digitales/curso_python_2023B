{
 "cells": [
  {
   "cell_type": "markdown",
   "metadata": {},
   "source": [
    "# Actividad 7: Funciones (primera parte)\n",
    "\n",
    "👉 Abre este cuaderno en tu Google Colab utilizando el botón \"Open in Colab\", luego haz una copia en Drive (\"Archivo > Guardar una copia en Drive\") y sigue las instrucciones. \n",
    "\n",
    "<a href=\"https://colab.research.google.com/gist/jairomelo/db0d5aa9d24f909f07a90de07c6dc342/7-funciones.ipynb\" target=\"_parent\"><img src=\"https://colab.research.google.com/assets/colab-badge.svg\" alt=\"Open In Colab\"/></a>\n",
    "\n",
    "**Envío:** Envía la actividad a través del foro \"Actividad 7: Funciones\" de la unidad \"Conceptos básicos\" del curso."
   ]
  },
  {
   "cell_type": "markdown",
   "metadata": {},
   "source": [
    "## Ejercicio 1. Crear una función que permita consultar el catálogo\n",
    "\n",
    "Este primer ejercicio servirá como un buscador por título. El programa debe pedirle al usuario que ingrese una palabra clave para el título del elemento del catálogo que desea consultar. Mediante una función, debe imprimirse en pantalla el listado de elementos que coincidan con la palabra clave ingresada. La función debe lidiar con mayúsculas y minúsculas, es decir, si el usuario ingresa \"el\" o \"El\", el programa debe imprimir los elementos que contengan \"el\" o \"El\".\n",
    "\n",
    "También, deberá imprimirse el número de elementos encontrados. En caso de no encontrar elementos, el programa debe imprimir un mensaje indicando que no se encontraron elementos.\n",
    "\n",
    "La función debe estar documentada y, si es el caso, cachar posible errores que puedan ocurrir.\n",
    "\n",
    "El resultado debe ser similar a lo siguiente:\n",
    "\n",
    "```shell\n",
    "Ingresa una palabra clave para el título:  el\n",
    "Se encontraron 2 elementos:\n",
    "- El señor de los anillos\n",
    "- El principito\n",
    "```"
   ]
  },
  {
   "cell_type": "code",
   "execution_count": null,
   "metadata": {},
   "outputs": [],
   "source": [
    "# Escribe tu código aquí..."
   ]
  },
  {
   "cell_type": "markdown",
   "metadata": {},
   "source": [
    "## Ejercicio 2. Crear una función que permita consultar el catálogo por fecha\n",
    "\n",
    "Este ejercicio es similar al anterior, pero en este caso, debe agregarse un parámetro que permita filtrar por fecha.\n",
    "\n",
    "El programa debe solicitarle al usuario una palabra clave para el título y un año. En el mensaje del `input()` debe indicarse la forma de ingresar el año (por ejemplo, \"Año de publicación (YYYY): \").\n",
    "\n",
    "La función debe intentar lidiar con posibles errores de dedo (por ejemplo, si el usuario ingresa 1890 en lugar de 1980), para lo cual se pueden tomar las fechas extremas del catálogo e indicarlas en las instrucciones del `input()`.\n",
    "\n",
    "La función debe imprimir el listado de elementos que coincidan con la palabra clave y el año ingresados. La función debe estar documentada y, si es el caso, cachar posible errores que puedan ocurrir.\n",
    "\n",
    "El resultado debe ser similar a lo siguiente:\n",
    "\n",
    "```shell\n",
    "Ingresa una palabra clave para el título:  el\n",
    "Año de publicación (YYYY):  1980\n",
    "\n",
    "Se encontraron 1 elementos:\n",
    "- El señor de los anillos\n",
    "```"
   ]
  },
  {
   "cell_type": "code",
   "execution_count": null,
   "metadata": {},
   "outputs": [],
   "source": [
    "# Escribe tu código aquí..."
   ]
  },
  {
   "cell_type": "markdown",
   "metadata": {},
   "source": [
    "## Ejercicio 3. Crear una función para administrar el catálogo\n",
    "\n",
    "En este ejercicio, crearemos una función que permita agregar elementos al catálogo. La función debe:\n",
    "\n",
    "1. pedirle al usuario que ingrese los datos del elemento que desea agregar.\n",
    "2. Debe agregar el elemento al catálogo y\n",
    "3. Mostrar un mensaje indicando que el elemento fue agregado.\n",
    "\n",
    "La función debe estar documentada y, si es el caso, cachar posible errores que puedan ocurrir."
   ]
  },
  {
   "cell_type": "code",
   "execution_count": null,
   "metadata": {},
   "outputs": [],
   "source": [
    "# Escribe tu código aquí..."
   ]
  }
 ],
 "metadata": {
  "language_info": {
   "name": "python"
  },
  "orig_nbformat": 4
 },
 "nbformat": 4,
 "nbformat_minor": 2
}
