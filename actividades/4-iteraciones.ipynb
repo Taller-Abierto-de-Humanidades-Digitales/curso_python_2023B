{
 "cells": [
  {
   "cell_type": "markdown",
   "metadata": {},
   "source": [
    "# Actividad 4: Iteraciones\n",
    "\n",
    "👉 Abre este cuaderno en tu Google Colab utilizando el botón \"Open in Colab\", luego haz una copia en Drive (\"Archivo > Guardar una copia en Drive\") y sigue las instrucciones. \n",
    "\n",
    "<a href=\"https://colab.research.google.com/gist/jairomelo/d24a9d1c95291adc25225dd5fd5d0f3c/4-iteraciones.ipynb\" target=\"_parent\"><img src=\"https://colab.research.google.com/assets/colab-badge.svg\" alt=\"Open In Colab\"/></a>\n",
    "\n",
    "**Envío:** Envía la actividad a través del foro \"Actividad 4: Iteraciones\" de la unidad \"Conceptos básicos\" del curso."
   ]
  },
  {
   "cell_type": "markdown",
   "metadata": {},
   "source": [
    "## Ejercicio 1: Crear un microcatálogo bibliográfico\n",
    "\n",
    "Para esta actividad, retomaremos la lista que creamos para el [ejercicio 2 de la actividad 3](../actividades/3-listas.html#ejercicio-2-crear-un-microcatalogo-bibliografico). Al final del ejercicio han quedado por lo menos tres elementos que tienen la siguiente estructura:\n",
    "\n",
    "```python\n",
    "libro = [\"Cuentos completos; Jorge Luis Borges; 1995; Ficción\"]\n",
    "```\n",
    "\n",
    "En este ejercicio, vamos a crear cuatro listados: uno para los títulos, otro para los autores, otro para los años y uno final para los géneros. Para ello deberás utilizar un *for loop* y el método `split()` para separar los elementos de la lista. El resultado final debe ser algo como lo siguiente:\n",
    "\n",
    "```python\n",
    "titulos = [\"Cuentos completos\", \"El Aleph\", \"Ficciones\", \"El libro de arena\", \"El jardín de senderos que se bifurcan\"]\n",
    "autores = [\"Jorge Luis Borges\", \"Jorge Luis Borges\", \"Jorge Luis Borges\", \"Jorge Luis Borges\", \"Jorge Luis Borges\"]\n",
    "agnos = [\"1995\", \"1949\", \"1944\", \"1945\", \"1941\"]\n",
    "generos = [\"Ficción\", \"Ficción\", \"Ficción\", \"Ficción\", \"Ficción\"]\n",
    "```"
   ]
  },
  {
   "cell_type": "code",
   "execution_count": null,
   "metadata": {},
   "outputs": [],
   "source": [
    "# Escribe aquí tu código"
   ]
  },
  {
   "cell_type": "markdown",
   "metadata": {},
   "source": [
    "## Ejercicio 2: Enriquecer el microcatálogo bibliográfico\n",
    "\n",
    "En este ejercicio, vas a añadir al menos tres nuevos libros al microcatálogo bibliográfico que creaste en el ejercicio anterior. Para ello, debes crear una nueva lista denominada `nuevos_libros` en la cual incluyas los nuevos elementos. A continuación, debes utilizar el método `extend()` para añadir los nuevos elementos a la lista `libros`."
   ]
  },
  {
   "cell_type": "code",
   "execution_count": null,
   "metadata": {},
   "outputs": [],
   "source": [
    "# Escribe aquí tu código"
   ]
  },
  {
   "cell_type": "markdown",
   "metadata": {},
   "source": [
    "## Ejercicio 3: Eliminar la categoría \"género\" del microcatálogo bibliográfico\n",
    "\n",
    "En este ejercicio, vas a eliminar la categoría \"género\" del microcatálogo bibliográfico que creaste en el ejercicio anterior. Para ello, puedes utilizar el método `pop()` o `remove()` para eliminar el elemento correspondiente al \"género\" de toda la lista de `libros`. \n",
    "\n",
    "Al finalizar, el listado de libros debe tener los mismos elementos del ejercicio anterior, pero sin la categoría \"género\"."
   ]
  },
  {
   "cell_type": "code",
   "execution_count": null,
   "metadata": {},
   "outputs": [],
   "source": [
    "# Escribe aquí tu código"
   ]
  },
  {
   "cell_type": "markdown",
   "metadata": {},
   "source": [
    "## Ejercicio 4: Calcula la fecha promedio de los libros de tu catálogo\n",
    "\n",
    "En este ejercicio, vas a calcular la fecha promedio de los libros de tu catálogo. \n",
    "\n",
    "Para ello, debes crear una lista denominada `agnos` en la cual incluyas los años de publicación de cada uno de los libros de tu catálogo. \n",
    "\n",
    "A continuación, debes utilizar un *for loop* para sumar todos los elementos de la lista `agnos`. \n",
    "\n",
    "Finalmente, debes dividir el resultado de la suma entre la longitud de la lista `agnos` para obtener la fecha promedio de los libros de tu catálogo.\n",
    "\n",
    "Muestra tu resultado mediante un mensaje formateado de la siguiente manera:\n",
    "\n",
    "```python\n",
    "print(f\"La fecha promedio de los libros de mi catálogo es: {fecha_promedio}\")\n",
    "```"
   ]
  },
  {
   "cell_type": "code",
   "execution_count": null,
   "metadata": {},
   "outputs": [],
   "source": [
    "# Escribe aquí tu código"
   ]
  },
  {
   "cell_type": "markdown",
   "metadata": {},
   "source": [
    "## Ejercicio 5: Calcula el promedio de caracteres de los títulos de tu catálogo\n",
    "\n",
    "En este ejercicio, vas a calcular el promedio de caracteres de los títulos de tu catálogo. \n",
    "\n",
    "Para ello, debes crear una lista denominada `titulos` en la cual incluyas los títulos de cada uno de los libros de tu catálogo. \n",
    "\n",
    "A continuación, crea una lista de comprensión en la variable `longitud` que contenga la longitud de cada uno de los títulos de la lista (aprovecha la función `len()`). \n",
    "\n",
    "Encuentra el promedio sumando los valores de la lista `longitud` y dividiendo el resultado entre la longitud de la lista `titulos`. \n",
    "\n",
    "Muestra tu resultado mediante un mensaje formateado de la siguiente manera:\n",
    "\n",
    "```python\n",
    "print(f\"El promedio de caracteres de los títulos de mi catálogo es: {promedio}\")\n",
    "```"
   ]
  },
  {
   "cell_type": "code",
   "execution_count": null,
   "metadata": {},
   "outputs": [],
   "source": [
    "# Escribe aquí tu código"
   ]
  }
 ],
 "metadata": {
  "language_info": {
   "name": "python"
  },
  "orig_nbformat": 4
 },
 "nbformat": 4,
 "nbformat_minor": 2
}
