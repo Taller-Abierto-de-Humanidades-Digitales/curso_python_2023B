{
 "cells": [
  {
   "cell_type": "markdown",
   "metadata": {},
   "source": [
    "# Actividad 10: Expresiones regulares\n",
    "\n",
    "👉 Abre este cuaderno en tu Google Colab utilizando el botón \"Open in Colab\", luego haz una copia en Drive (\"Archivo > Guardar una copia en Drive\") y sigue las instrucciones. \n",
    "\n",
    "<a href=\"https://colab.research.google.com/gist/jairomelo/b2b3228087f06539f56fb5535459ca2a/10-regex.ipynb\" target=\"_parent\"><img src=\"https://colab.research.google.com/assets/colab-badge.svg\" alt=\"Open In Colab\"/></a>\n",
    "\n",
    "**Envío:** Envía la actividad a través del foro \"Actividad 10: Expresiones regulares\" de la unidad \"Expresiones regulares\" del curso."
   ]
  },
  {
   "cell_type": "markdown",
   "metadata": {},
   "source": [
    "## Ejercicio 1: Integrar RegEx a las funciones de búsqueda\n",
    "\n",
    "En la actividad intermedia realizaste una función que buscaba una cadena de texto y en caso de coincidencia regresaba el elemento bibliográfico coincidente. En esta actividad, vas a integrar expresiones regulares a esa función para que pueda buscar por autor, título, año, etc.\n",
    "\n",
    "El propósito básicamente consiste en que al buscar en el catálogo, el usuario pueda ingresar una expresión regular en lugar de una cadena de texto exacta. Por ejemplo, si el usuario busca \"García Márquez\" en el catálogo, la función buscará todas las coincidencias de \"García Márquez\" en el catálogo. Pero si el usuario busca \"García Márquez|Gabo\", la función buscará todas las coincidencias de \"García Márquez\" o \"Gabo\" en el catálogo.\n",
    "\n",
    "Para ello, deberás modificar las instrucciones de entrada para que permitan que los usuarios ingresen condiciones como Y u O y sean transformadas en expresiones regulares. Por ejemplo, si el usuario ingresa la búsqueda Gabriel García Márquez *O* Gabo, la función deberá transformar la entrada en una expresión regular como \"Gabriel García Márquez|Gabo\" y buscar en el catálogo todas las coincidencias de \"Gabriel García Márquez\" o \"Gabo\". En la interfaz de usuario deberá hacerse explícita la posibilidad de utilizar expresiones regulares."
   ]
  },
  {
   "cell_type": "code",
   "execution_count": null,
   "metadata": {},
   "outputs": [],
   "source": [
    "# Escribe tu código aquí..."
   ]
  },
  {
   "cell_type": "markdown",
   "metadata": {},
   "source": [
    "## Ejercicio 2: Validar la entrada de datos con Regex\n",
    "\n",
    "En la actividad intermedia, una de las condiciones era que los usuarios pudieran buscar por fecha, sin embargo, no hay manera de validar que la entrada que realizan es correcta. Por ejemplo, si el usuario ingresa \"19900\" no es realmente una fecha válida.\n",
    "\n",
    "En este ejercicio, deberás validar que la entrada de datos sea correcta. Para ello, deberás utilizar expresiones regulares para validar que la entrada sea un año válido. Por ejemplo, si el usuario ingresa \"19900\" deberá mostrar un mensaje de error y solicitar que ingrese una fecha válida."
   ]
  },
  {
   "cell_type": "code",
   "execution_count": null,
   "metadata": {},
   "outputs": [],
   "source": [
    "# Escribe tu código aquí\n",
    "\n"
   ]
  }
 ],
 "metadata": {
  "language_info": {
   "name": "python"
  },
  "orig_nbformat": 4
 },
 "nbformat": 4,
 "nbformat_minor": 2
}
