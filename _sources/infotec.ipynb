{
 "cells": [
  {
   "cell_type": "markdown",
   "id": "56c5a740",
   "metadata": {},
   "source": [
    "# Información técnica\n",
    "\n",
    "- Versión de Python usada en este cuaderno: 3.11.1\n",
    "- Fecha de compilación: 2023-05-15\n",
    "- Librerías utilizadas:\n",
    "  - pandas: 1.5.3\n",
    "  - requests: 2.28.2\n",
    "  - numpy: 1.24.1\n",
    "  - jupyter-book: 0.13.2"
   ]
  }
 ],
 "metadata": {
  "jupytext": {
   "cell_metadata_filter": "-all",
   "formats": "md:myst",
   "text_representation": {
    "extension": ".md",
    "format_name": "myst",
    "format_version": 0.13,
    "jupytext_version": "1.14.4"
   }
  },
  "kernelspec": {
   "display_name": "Python 3 (ipykernel)",
   "language": "python",
   "name": "python3"
  },
  "language_info": {
   "codemirror_mode": {
    "name": "ipython",
    "version": 3
   },
   "file_extension": ".py",
   "mimetype": "text/x-python",
   "name": "python",
   "nbconvert_exporter": "python",
   "pygments_lexer": "ipython3",
   "version": "3.11.1"
  },
  "source_map": [
   14
  ]
 },
 "nbformat": 4,
 "nbformat_minor": 5
}