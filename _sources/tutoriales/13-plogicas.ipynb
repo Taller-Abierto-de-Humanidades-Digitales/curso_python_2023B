{
 "cells": [
  {
   "cell_type": "markdown",
   "id": "f32012e1",
   "metadata": {},
   "source": [
    "# Pruebas condicionales\n",
    "\n",
    "Las pruebas condicionales consisten en evaluar una condición lógica matemática (igualdad, desigualdad, mayor que, menor que, entre otras). Para ello, nos valemos de una serie de operadores para representar proposiciones y para manipular y evaluar expresiones. Estos operadores pueden ser lógicos (`and`, `or`, `not`) o relacionales (`==`, `!=`, `>`, `<`, `>=`, `<=`). Los operadores relacionales se utilizan para comparar dos valores y devolver un valor booleano (`True` o `False`). Los operadores lógicos se utilizan para combinar expresiones booleanas y devolver un valor booleano (`True` o `False`). Veamos esto con mayor detalle.\n",
    "\n",
    "## Operaciones de igualdad\n",
    "\n",
    "Las operaciones de igualdad se utilizan para comparar dos valores y determinar si son iguales o no. Para ello, se utiliza el operador `==`. Como ya vimos, si la igualdad se cumple, la expresión devuelve `True`, de lo contrario devuelve `False`. Veamos algunos ejemplos:"
   ]
  },
  {
   "cell_type": "code",
   "execution_count": 1,
   "id": "d8e4e5c9",
   "metadata": {},
   "outputs": [
    {
     "name": "stdout",
     "output_type": "stream",
     "text": [
      "True\n"
     ]
    }
   ],
   "source": [
    "perro = \"Firulais\"\n",
    "print(perro == \"Firulais\")"
   ]
  },
  {
   "cell_type": "markdown",
   "id": "0bee4950",
   "metadata": {},
   "source": [
    "En este caso es evidente que la igualdad se cumple, ya que el valor de la variable es idéntica al valor que se compara. Ahora, veamos un caso diferente:"
   ]
  },
  {
   "cell_type": "code",
   "execution_count": 2,
   "id": "557da2e1",
   "metadata": {},
   "outputs": [
    {
     "name": "stdout",
     "output_type": "stream",
     "text": [
      "False\n"
     ]
    }
   ],
   "source": [
    "perro = \"Firulais\"\n",
    "print(perro == \"Lassie\")"
   ]
  },
  {
   "cell_type": "markdown",
   "id": "9f9ffb05",
   "metadata": {},
   "source": [
    "La condición ahora no se cumple, ya que el valor de la variable (`Firulais`) es diferente al valor que se compara (`Lassie`). Veamos un ejemplo más:"
   ]
  },
  {
   "cell_type": "code",
   "execution_count": 3,
   "id": "4adf8e00",
   "metadata": {},
   "outputs": [
    {
     "name": "stdout",
     "output_type": "stream",
     "text": [
      "False\n"
     ]
    }
   ],
   "source": [
    "perro = \"Firulais\"\n",
    "print(perro == \"firulais\")"
   ]
  },
  {
   "cell_type": "markdown",
   "id": "aae2a561",
   "metadata": {},
   "source": [
    "La condición ahora no se cumple aunque los valores `Firulais` y `firulais` tienen el mismo significado (son iguales en términos semánticos). Esto se debe a que Python distingue entre mayúsculas y minúsculas. Para evitar esto, podemos utilizar el método `lower()` que convierte todos los caracteres de una cadena a minúsculas:"
   ]
  },
  {
   "cell_type": "code",
   "execution_count": 4,
   "id": "b2e1fa10",
   "metadata": {},
   "outputs": [
    {
     "name": "stdout",
     "output_type": "stream",
     "text": [
      "True\n"
     ]
    }
   ],
   "source": [
    "perro = \"Firulais\"\n",
    "print(perro.lower() == \"firulais\")"
   ]
  },
  {
   "cell_type": "markdown",
   "id": "d4d45b41",
   "metadata": {},
   "source": [
    "Obviamente, esto no es un caso que siempre se pueda utilizar, ya que en ciertas ocasiones es relevante identificar mayúsculas y minúsculas. Por ejemplo, si queremos saber si una palabra es un palíndromo, es decir, si se lee igual de izquierda a derecha que de derecha a izquierda, entonces sí es importante distinguir entre mayúsculas y minúsculas. Por ello, la elección de utilizar o no el método `lower()` (o cualquier otra transformación que favorezca la igualdad) dependerá del contexto.\n",
    "\n",
    "## Operaciones de desigualdad\n",
    "\n",
    "En este caso, lo que se busca es determinar si dos valores son diferentes. Si la condición se cumple, será verdadera. Para ello, se utiliza el operador `!=`. Veamos algunos ejemplos:"
   ]
  },
  {
   "cell_type": "code",
   "execution_count": 5,
   "id": "4cf3fdf2",
   "metadata": {},
   "outputs": [
    {
     "name": "stdout",
     "output_type": "stream",
     "text": [
      "False\n"
     ]
    }
   ],
   "source": [
    "perro = \"Firulais\"\n",
    "print(perro != \"Firulais\")"
   ]
  },
  {
   "cell_type": "markdown",
   "id": "17a8c79a",
   "metadata": {},
   "source": [
    "En este caso, la condición no se cumple, ya que el valor de la variable es idéntico al valor que se compara. Ahora, veamos un caso diferente:"
   ]
  },
  {
   "cell_type": "code",
   "execution_count": 6,
   "id": "872940ac",
   "metadata": {},
   "outputs": [
    {
     "name": "stdout",
     "output_type": "stream",
     "text": [
      "True\n"
     ]
    }
   ],
   "source": [
    "perro = \"Firulais\"\n",
    "print(perro != \"Lassie\")"
   ]
  },
  {
   "cell_type": "markdown",
   "id": "c51495cf",
   "metadata": {},
   "source": [
    "La condición ahora sí se cumple, ya que el valor de la variable (`Firulais`) es diferente al valor que se compara (`Lassie`). Veamos un ejemplo más:"
   ]
  },
  {
   "cell_type": "code",
   "execution_count": 7,
   "id": "e5996c8a",
   "metadata": {},
   "outputs": [
    {
     "name": "stdout",
     "output_type": "stream",
     "text": [
      "True\n"
     ]
    }
   ],
   "source": [
    "perro = \"Firulais\"\n",
    "print(perro != \"firulais\")"
   ]
  },
  {
   "cell_type": "markdown",
   "id": "d11dc246",
   "metadata": {},
   "source": [
    "La condición ahora sí se cumple porque los valores son diferentes al comparar mayúsculas y minúsculas.\n",
    "\n",
    "## Operaciones de mayor que y menor que\n",
    "\n",
    "Estas operaciones son utilizadas para comparar valores numéricos (podríamos comparar si dos cadenas son mayores o menores, pero no tiene mucho sentido). Si la condición se cumple, será verdadera. Para ello, se utilizan los operadores `>`, `<`, respectivamente. Veamos algunos ejemplos:"
   ]
  },
  {
   "cell_type": "code",
   "execution_count": 8,
   "id": "8cfb21c7",
   "metadata": {},
   "outputs": [
    {
     "name": "stdout",
     "output_type": "stream",
     "text": [
      "True\n"
     ]
    }
   ],
   "source": [
    "print(5 > 3)"
   ]
  },
  {
   "cell_type": "markdown",
   "id": "cebd196f",
   "metadata": {},
   "source": [
    "En este caso, la condición se cumple, ya que el valor de la variable es mayor que el valor que se compara. Ahora, veamos un caso diferente:"
   ]
  },
  {
   "cell_type": "code",
   "execution_count": 9,
   "id": "f691a966",
   "metadata": {},
   "outputs": [
    {
     "name": "stdout",
     "output_type": "stream",
     "text": [
      "False\n"
     ]
    }
   ],
   "source": [
    "print(5 < 3)"
   ]
  },
  {
   "cell_type": "markdown",
   "id": "12451bcd",
   "metadata": {},
   "source": [
    "Este fue el tipo de comparación que utilizamos en el ejemplo introductorio de este capítulo. La condición que buscamos era determinar si el valor aleatorio obtenido por la función `randint()` era menor que 50 (dentro de un rango de 1 a 100). Veamos ese ejemplo nuevamente:"
   ]
  },
  {
   "cell_type": "code",
   "execution_count": 10,
   "id": "b2e1b810",
   "metadata": {},
   "outputs": [
    {
     "name": "stdout",
     "output_type": "stream",
     "text": [
      "26\n",
      "True\n"
     ]
    }
   ],
   "source": [
    "from random import randint\n",
    "numero = randint(1, 100)\n",
    "print(numero)\n",
    "print(numero < 50)"
   ]
  },
  {
   "cell_type": "markdown",
   "id": "fd2741eb",
   "metadata": {},
   "source": [
    "Este ejemplo es útil porque en general lo que buscamos con un operador de este tipo es asegurar una condición para tomar una decisión específica.\n",
    "\n",
    "## Operaciones de mayor o igual que y menor o igual que\n",
    "\n",
    "Una extensión de las operaciones anteriores está dada por las de mayor o igual que y menor o igual que. Para ello, utilizamos los operadores `>=` y `<=`, respectivamente. Veamos un ejemplo simple:"
   ]
  },
  {
   "cell_type": "code",
   "execution_count": 11,
   "id": "beb62397",
   "metadata": {},
   "outputs": [
    {
     "name": "stdout",
     "output_type": "stream",
     "text": [
      "True\n"
     ]
    }
   ],
   "source": [
    "print(5 >= 3)"
   ]
  },
  {
   "cell_type": "markdown",
   "id": "f36ff885",
   "metadata": {},
   "source": [
    "En este caso, el operador cumple la misma función que el operador `>`. Pero veamos este caso:"
   ]
  },
  {
   "cell_type": "code",
   "execution_count": 12,
   "id": "f61dd5f9",
   "metadata": {},
   "outputs": [
    {
     "name": "stdout",
     "output_type": "stream",
     "text": [
      "False\n",
      "True\n"
     ]
    }
   ],
   "source": [
    "print(5 > 5)\n",
    "print(5 >= 5)"
   ]
  },
  {
   "cell_type": "markdown",
   "id": "f8cd4199",
   "metadata": {},
   "source": [
    "Observa como la primera condición no se cumple (porque 5 no es mayor que 5), pero la segunda sí (por la igualdad). Esto es un asunto fundamental en una serie numérica, por ejemplo:"
   ]
  },
  {
   "cell_type": "code",
   "execution_count": 13,
   "id": "902e42af",
   "metadata": {},
   "outputs": [
    {
     "name": "stdout",
     "output_type": "stream",
     "text": [
      "5\n",
      "6\n",
      "7\n",
      "8\n",
      "9\n"
     ]
    }
   ],
   "source": [
    "for i in range(0, 10):\n",
    "    if i >= 5:\n",
    "        print(i)"
   ]
  },
  {
   "cell_type": "markdown",
   "id": "f54cea21",
   "metadata": {},
   "source": [
    "En este caso, la serie de números incluye al cinco, pero si utilizáramos el operador `>` en lugar de `>=`, el cinco no sería incluido en la serie. Nuevamente, este uso depende de la intención de nuestro programa, por lo que es importante no utilizar los operadores de manera indiscriminada.\n",
    "\n",
    "## Probando condiciones múltiples\n",
    "\n",
    "En ocasiones, necesitamos probar más de una condición. Por ejemplo, en el ejemplo introductorio de este capítulo, queríamos determinar si el valor aleatorio obtenido por la función `randint()` era menor que 50 y mayor que 25. Para ello, podemos utilizar los operadores `and` y `or`. Veamos un ejemplo:"
   ]
  },
  {
   "cell_type": "code",
   "execution_count": 14,
   "id": "a144562c",
   "metadata": {},
   "outputs": [
    {
     "name": "stdout",
     "output_type": "stream",
     "text": [
      "16\n",
      "False\n"
     ]
    }
   ],
   "source": [
    "from random import randint\n",
    "numero = randint(1, 100)\n",
    "print(numero)\n",
    "print(numero <= 50 and numero >= 25)"
   ]
  },
  {
   "cell_type": "markdown",
   "id": "c25d8ed8",
   "metadata": {},
   "source": [
    "Para que la condición se cumpla, el número aleatorio debe ser menor o igual que 50 y mayor o igual que 25, o lo que es lo mismo, debe estar dentro del rango de 25 a 50. Veamos otro ejemplo:"
   ]
  },
  {
   "cell_type": "code",
   "execution_count": 15,
   "id": "8a488e8c",
   "metadata": {},
   "outputs": [
    {
     "name": "stdout",
     "output_type": "stream",
     "text": [
      "21\n",
      "True\n"
     ]
    }
   ],
   "source": [
    "from random import randint\n",
    "numero = randint(1, 100)\n",
    "print(numero)\n",
    "print(numero <= 50 or numero >= 25)"
   ]
  },
  {
   "cell_type": "markdown",
   "id": "b96941b4",
   "metadata": {},
   "source": [
    "En este caso la condición siempre se va a cumplir, por lo que hablamos de una tautología. No importa el valor que nos de la función `randint()`, todo número que es menor o igual a 50 siempre será mayor o igual a 25 (incluso si el número es igual a 25 o 50). Por esta razón, es relevante considerar que en estos casos utilizamos operadores lógicos cercanos a la lógica proposicional, por lo que es importante tener en cuenta la validez de las proposiciones que se forman.\n",
    "\n",
    "Ahora bien, `and` y `or` no aplican solamente para condiciones matemáticas, sino que también pueden ser utilizados para comparar cadenas de caracteres. Veamos un ejemplo:"
   ]
  },
  {
   "cell_type": "code",
   "execution_count": 16,
   "id": "c9ba5dd4",
   "metadata": {},
   "outputs": [
    {
     "name": "stdout",
     "output_type": "stream",
     "text": [
      "True\n"
     ]
    }
   ],
   "source": [
    "perro = \"Firulais\"\n",
    "gato = \"Garfield\"\n",
    "\n",
    "print(perro == \"Firulais\" and gato == \"Garfield\")"
   ]
  },
  {
   "cell_type": "markdown",
   "id": "f7e1d39b",
   "metadata": {},
   "source": [
    "En todo caso, siempre estamos evaluando condiciones, por lo que debemos ser capaces de interpretar los resultados como valores booleanos, o lo que es lo mismo:"
   ]
  },
  {
   "cell_type": "code",
   "execution_count": 17,
   "id": "2fb7ab79",
   "metadata": {},
   "outputs": [
    {
     "name": "stdout",
     "output_type": "stream",
     "text": [
      "True\n",
      "False\n",
      "False\n",
      "False\n"
     ]
    }
   ],
   "source": [
    "print(True and True)\n",
    "print(True and False)\n",
    "print(False and True)\n",
    "print(False and False)"
   ]
  },
  {
   "cell_type": "markdown",
   "id": "deb10108",
   "metadata": {},
   "source": [
    "Lo siguiente no es indispensable para aprender a programar en Python, pero entender un poco la lógica proposicional nos puede ayudar a entender mejor los operadores `and` y `or`.\n",
    "\n",
    "## Un poco de lógica proposicional\n",
    "\n",
    "Podemos entender así cualquier valor booleano como una proposición. Por ejemplo:\n",
    "\n",
    "* Firulais es el nombre de un perro: `perro == \"Firulais\"`\n",
    "* Garfield es el nombre de un gato: `gato == \"Garfield\"`\n",
    "* Firulais es el nombre de un perro y Garfield es el nombre de un gato: `perro == \"Firulais\" and gato == \"Garfield\"`\n",
    "\n",
    "Lo que formalmente se puede escribir con variables proposicionales de la siguiente forma:\n",
    "\n",
    "$$\n",
    "\\begin{align}\n",
    "P &= \\text{Firulais es el nombre de un perro} \\\\\n",
    "Q &= \\text{Garfield es el nombre de un gato} \\\\\n",
    "R &= \\text{Firulais es el nombre de un perro y Garfield es el nombre de un gato} \\\\\n",
    "O &= \\text{Firulais es el nombre de un perro o Garfield es el nombre de un gato} \\\\\n",
    "\\end{align}\n",
    "$$\n",
    "\n",
    "Y así, una tabla de verdad con estas proposiciones sería:\n",
    "\n",
    "$$\n",
    "\\begin{array}{c|c|c|c|c}\n",
    "P & Q & R & O \\\\\n",
    "\\hline\n",
    "\\text{V} & \\text{V} & \\text{V} & \\text{V} \\\\\n",
    "\\text{V} & \\text{F} & \\text{F} & \\text{V} \\\\\n",
    "\\text{F} & \\text{V} & \\text{F} & \\text{V} \\\\\n",
    "\\text{F} & \\text{F} & \\text{F} & \\text{F} \\\\\n",
    "\\end{array}\n",
    "$$\n",
    "\n",
    "De manera lógica, podemos escribir cualquiera de estas proposiciones como código Python:"
   ]
  },
  {
   "cell_type": "code",
   "execution_count": 18,
   "id": "b69be315",
   "metadata": {},
   "outputs": [
    {
     "name": "stdout",
     "output_type": "stream",
     "text": [
      "False\n",
      "True\n"
     ]
    }
   ],
   "source": [
    "perro = \"Firulais\"\n",
    "gato = \"Garfield\"\n",
    "\n",
    "condicion1 = perro != \"Firulais\" # corresponde a P falsa en la tabla de verdad\n",
    "condicion2 = gato == \"Garfield\" # corresponde a Q verdadera en la tabla de verdad\n",
    "\n",
    "print(condicion1 and condicion2) # corresponde a R falsa en la tabla de verdad\n",
    "print(condicion1 or condicion2) # corresponde a O verdadera en la tabla de verdad"
   ]
  },
  {
   "cell_type": "markdown",
   "id": "5d9f0b97",
   "metadata": {},
   "source": [
    "## A modo de cierre\n",
    "\n",
    "En este apartado nos hemos centrado en los operadores de comparación que nos permiten evaluar condiciones de verdad o falsedad de manera lógica. Antes de entrar a explorar la estructura de control `if`, veremos rápidamente los operadores de pertenencia, los cuales nos permiten evaluar si un elemento se encuentra dentro de una colección."
   ]
  }
 ],
 "metadata": {
  "jupytext": {
   "cell_metadata_filter": "-all",
   "formats": "md:myst",
   "text_representation": {
    "extension": ".md",
    "format_name": "myst",
    "format_version": 0.13,
    "jupytext_version": "1.14.4"
   }
  },
  "kernelspec": {
   "display_name": "Python 3 (ipykernel)",
   "language": "python",
   "name": "python3"
  },
  "language_info": {
   "codemirror_mode": {
    "name": "ipython",
    "version": 3
   },
   "file_extension": ".py",
   "mimetype": "text/x-python",
   "name": "python",
   "nbconvert_exporter": "python",
   "pygments_lexer": "ipython3",
   "version": "3.11.1"
  },
  "source_map": [
   14,
   24,
   27,
   31,
   34,
   38,
   41,
   45,
   48,
   56,
   59,
   63,
   66,
   70,
   73,
   81,
   83,
   87,
   89,
   93,
   98,
   106,
   108,
   112,
   115,
   119,
   123,
   131,
   136,
   140,
   145,
   151,
   156,
   160,
   165,
   203,
   212
  ]
 },
 "nbformat": 4,
 "nbformat_minor": 5
}