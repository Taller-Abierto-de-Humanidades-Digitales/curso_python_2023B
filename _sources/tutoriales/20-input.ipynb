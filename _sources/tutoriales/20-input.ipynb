{
 "cells": [
  {
   "cell_type": "markdown",
   "id": "bb3dd430",
   "metadata": {},
   "source": [
    "# Función `input()`\n",
    "\n",
    "La función `input()` tiene el propósito de recibir un valor desde la consola por un usuario. Esta función es muy útil para recibir datos de entrada sin tener que escribirlos en una variable. Retomemots nuestra función `saludar()` y supongamos que el programa lo está usando \"Juan\", quien nació en 1980 [^1]."
   ]
  },
  {
   "cell_type": "code",
   "execution_count": 1,
   "id": "1fbf58db",
   "metadata": {},
   "outputs": [],
   "source": [
    "def saludar(nombre, fecha_nacimiento=1990, lugar_de_nacimiento=\"Colombia\"):\n",
    "    \"\"\"Saluda a una persona y le dice su edad.\n",
    "    \n",
    "    Parámetros\n",
    "    ----------\n",
    "    nombre: str\n",
    "        Nombre de la persona a saludar\n",
    "    fecha_nacimiento: int\n",
    "        Año de nacimiento de la persona\n",
    "    lugar_de_nacimiento: str\n",
    "        Lugar de nacimiento de la persona\n",
    "    \"\"\"\n",
    "    edad = 2023 - fecha_nacimiento\n",
    "    print(f\"Hola {nombre.title()}, ¿cómo estás? Tienes {edad} años y naciste en {lugar_de_nacimiento.title()}.\")\n"
   ]
  },
  {
   "cell_type": "markdown",
   "id": "ce6449fe",
   "metadata": {},
   "source": [
    "Podemos entonces pedirle su nombre al usuario y saludarlo:\n",
    "\n",
    "``` python\n",
    "nombre = input(\"Ingresa tu nombre: \")\n",
    "saludar(nombre)\n",
    "```"
   ]
  },
  {
   "cell_type": "code",
   "execution_count": 2,
   "id": "c678c28e",
   "metadata": {
    "tags": [
     "remove-input"
    ]
   },
   "outputs": [
    {
     "name": "stdout",
     "output_type": "stream",
     "text": [
      "Hola Juan, ¿cómo estás? Tienes 33 años y naciste en Colombia.\n"
     ]
    }
   ],
   "source": [
    "nombre = \"Juan\"\n",
    "saludar(nombre)"
   ]
  },
  {
   "cell_type": "markdown",
   "id": "4dc46651",
   "metadata": {},
   "source": [
    "La función `input()` asigna cualquier valor que hayas pasado en la consola como una cadena de caracteres y la asigna a la variable asociada, en este caso `nombre`.\n",
    "\n",
    "## Aceptar valores numéricos\n",
    "\n",
    "En nuestro ejemplo anterior tuvimos que modificar el parámetro `fecha_nacimiento` para que el programa funcionara. Si no lo hubiéramos hecho de esa manera, obtendríamos el siguiente error:\n",
    "\n",
    "``` python\n",
    "nombre = input(\"Ingresa tu nombre: \")\n",
    "fecha_nacimiento = input(\"Ingresa tu año de nacimiento: \")\n",
    "\n",
    "saludar(nombre, fecha_nacimiento)\n",
    "```"
   ]
  },
  {
   "cell_type": "code",
   "execution_count": 3,
   "id": "7167b6c4",
   "metadata": {
    "tags": [
     "remove-input"
    ]
   },
   "outputs": [
    {
     "ename": "TypeError",
     "evalue": "unsupported operand type(s) for -: 'int' and 'str'",
     "output_type": "error",
     "traceback": [
      "\u001b[1;31m---------------------------------------------------------------------------\u001b[0m",
      "\u001b[1;31mTypeError\u001b[0m                                 Traceback (most recent call last)",
      "Cell \u001b[1;32mIn[3], line 4\u001b[0m\n\u001b[0;32m      1\u001b[0m nombre \u001b[38;5;241m=\u001b[39m \u001b[38;5;124m\"\u001b[39m\u001b[38;5;124mJuan\u001b[39m\u001b[38;5;124m\"\u001b[39m\n\u001b[0;32m      2\u001b[0m fecha_nacimiento \u001b[38;5;241m=\u001b[39m \u001b[38;5;124m\"\u001b[39m\u001b[38;5;124m1980\u001b[39m\u001b[38;5;124m\"\u001b[39m\n\u001b[1;32m----> 4\u001b[0m \u001b[43msaludar\u001b[49m\u001b[43m(\u001b[49m\u001b[43mnombre\u001b[49m\u001b[43m,\u001b[49m\u001b[43m \u001b[49m\u001b[43mfecha_nacimiento\u001b[49m\u001b[43m)\u001b[49m\n",
      "Cell \u001b[1;32mIn[1], line 13\u001b[0m, in \u001b[0;36msaludar\u001b[1;34m(nombre, fecha_nacimiento, lugar_de_nacimiento)\u001b[0m\n\u001b[0;32m      1\u001b[0m \u001b[38;5;28;01mdef\u001b[39;00m \u001b[38;5;21msaludar\u001b[39m(nombre, fecha_nacimiento\u001b[38;5;241m=\u001b[39m\u001b[38;5;241m1990\u001b[39m, lugar_de_nacimiento\u001b[38;5;241m=\u001b[39m\u001b[38;5;124m\"\u001b[39m\u001b[38;5;124mColombia\u001b[39m\u001b[38;5;124m\"\u001b[39m):\n\u001b[0;32m      2\u001b[0m \u001b[38;5;250m    \u001b[39m\u001b[38;5;124;03m\"\"\"Saluda a una persona y le dice su edad.\u001b[39;00m\n\u001b[0;32m      3\u001b[0m \u001b[38;5;124;03m    \u001b[39;00m\n\u001b[0;32m      4\u001b[0m \u001b[38;5;124;03m    Parámetros\u001b[39;00m\n\u001b[1;32m   (...)\u001b[0m\n\u001b[0;32m     11\u001b[0m \u001b[38;5;124;03m        Lugar de nacimiento de la persona\u001b[39;00m\n\u001b[0;32m     12\u001b[0m \u001b[38;5;124;03m    \"\"\"\u001b[39;00m\n\u001b[1;32m---> 13\u001b[0m     edad \u001b[38;5;241m=\u001b[39m \u001b[38;5;241;43m2023\u001b[39;49m\u001b[43m \u001b[49m\u001b[38;5;241;43m-\u001b[39;49m\u001b[43m \u001b[49m\u001b[43mfecha_nacimiento\u001b[49m\n\u001b[0;32m     14\u001b[0m     \u001b[38;5;28mprint\u001b[39m(\u001b[38;5;124mf\u001b[39m\u001b[38;5;124m\"\u001b[39m\u001b[38;5;124mHola \u001b[39m\u001b[38;5;132;01m{\u001b[39;00mnombre\u001b[38;5;241m.\u001b[39mtitle()\u001b[38;5;132;01m}\u001b[39;00m\u001b[38;5;124m, ¿cómo estás? Tienes \u001b[39m\u001b[38;5;132;01m{\u001b[39;00medad\u001b[38;5;132;01m}\u001b[39;00m\u001b[38;5;124m años y naciste en \u001b[39m\u001b[38;5;132;01m{\u001b[39;00mlugar_de_nacimiento\u001b[38;5;241m.\u001b[39mtitle()\u001b[38;5;132;01m}\u001b[39;00m\u001b[38;5;124m.\u001b[39m\u001b[38;5;124m\"\u001b[39m)\n",
      "\u001b[1;31mTypeError\u001b[0m: unsupported operand type(s) for -: 'int' and 'str'"
     ]
    }
   ],
   "source": [
    "nombre = \"Juan\"\n",
    "fecha_nacimiento = \"1980\"\n",
    "\n",
    "saludar(nombre, fecha_nacimiento)"
   ]
  },
  {
   "cell_type": "markdown",
   "id": "9fa875e1",
   "metadata": {},
   "source": [
    "Este error se debe a que la función `input()` no recibe otro tipo de valor diferente a un texto. Por ello, para lidiar con esto, debemos convertir el valor que recibimos de la consola a un número entero. Esto lo podemos hacer con la función `int()` directamente en el `input()`:\n",
    "\n",
    "``` python\n",
    "nombre = input(\"Ingresa tu nombre: \")\n",
    "fecha_nacimiento = int(input(\"Ingresa tu año de nacimiento: \"))\n",
    "saludar(nombre, fecha_nacimiento)\n",
    "```"
   ]
  },
  {
   "cell_type": "code",
   "execution_count": 4,
   "id": "3b36ab20",
   "metadata": {
    "tags": [
     "remove-input"
    ]
   },
   "outputs": [
    {
     "name": "stdout",
     "output_type": "stream",
     "text": [
      "Hola Juan, ¿cómo estás? Tienes 43 años y naciste en Colombia.\n"
     ]
    }
   ],
   "source": [
    "nombre = \"Juan\"\n",
    "fecha_nacimiento = 1980\n",
    "\n",
    "saludar(nombre, fecha_nacimiento)"
   ]
  },
  {
   "cell_type": "markdown",
   "id": "2ef06b00",
   "metadata": {},
   "source": [
    "O, podemos hacerlo directamente en la función:"
   ]
  },
  {
   "cell_type": "code",
   "execution_count": 5,
   "id": "65e42cfd",
   "metadata": {
    "tags": [
     "remove-output"
    ]
   },
   "outputs": [
    {
     "ename": "StdinNotImplementedError",
     "evalue": "raw_input was called, but this frontend does not support input requests.",
     "output_type": "error",
     "traceback": [
      "\u001b[1;31m---------------------------------------------------------------------------\u001b[0m",
      "\u001b[1;31mStdinNotImplementedError\u001b[0m                  Traceback (most recent call last)",
      "Cell \u001b[1;32mIn[5], line 17\u001b[0m\n\u001b[0;32m     13\u001b[0m     edad \u001b[38;5;241m=\u001b[39m \u001b[38;5;241m2023\u001b[39m \u001b[38;5;241m-\u001b[39m \u001b[38;5;28mint\u001b[39m(fecha_nacimiento) \u001b[38;5;66;03m# Convertimos el valor a entero\u001b[39;00m\n\u001b[0;32m     14\u001b[0m     \u001b[38;5;28mprint\u001b[39m(\u001b[38;5;124mf\u001b[39m\u001b[38;5;124m\"\u001b[39m\u001b[38;5;124mHola \u001b[39m\u001b[38;5;132;01m{\u001b[39;00mnombre\u001b[38;5;241m.\u001b[39mtitle()\u001b[38;5;132;01m}\u001b[39;00m\u001b[38;5;124m, ¿cómo estás? Tienes \u001b[39m\u001b[38;5;132;01m{\u001b[39;00medad\u001b[38;5;132;01m}\u001b[39;00m\u001b[38;5;124m años y naciste en \u001b[39m\u001b[38;5;132;01m{\u001b[39;00mlugar_de_nacimiento\u001b[38;5;241m.\u001b[39mtitle()\u001b[38;5;132;01m}\u001b[39;00m\u001b[38;5;124m.\u001b[39m\u001b[38;5;124m\"\u001b[39m)\n\u001b[1;32m---> 17\u001b[0m nombre \u001b[38;5;241m=\u001b[39m \u001b[38;5;28;43minput\u001b[39;49m\u001b[43m(\u001b[49m\u001b[38;5;124;43m\"\u001b[39;49m\u001b[38;5;124;43mIngresa tu nombre: \u001b[39;49m\u001b[38;5;124;43m\"\u001b[39;49m\u001b[43m)\u001b[49m\n\u001b[0;32m     18\u001b[0m fecha_nacimiento \u001b[38;5;241m=\u001b[39m \u001b[38;5;28minput\u001b[39m(\u001b[38;5;124m\"\u001b[39m\u001b[38;5;124mIngresa tu año de nacimiento: \u001b[39m\u001b[38;5;124m\"\u001b[39m)\n\u001b[0;32m     19\u001b[0m saludar(nombre, fecha_nacimiento)\n",
      "File \u001b[1;32mE:\\Proyectos\\curso_python_extenso\\curso_env\\Lib\\site-packages\\ipykernel\\kernelbase.py:1181\u001b[0m, in \u001b[0;36mKernel.raw_input\u001b[1;34m(self, prompt)\u001b[0m\n\u001b[0;32m   1179\u001b[0m \u001b[38;5;28;01mif\u001b[39;00m \u001b[38;5;129;01mnot\u001b[39;00m \u001b[38;5;28mself\u001b[39m\u001b[38;5;241m.\u001b[39m_allow_stdin:\n\u001b[0;32m   1180\u001b[0m     msg \u001b[38;5;241m=\u001b[39m \u001b[38;5;124m\"\u001b[39m\u001b[38;5;124mraw_input was called, but this frontend does not support input requests.\u001b[39m\u001b[38;5;124m\"\u001b[39m\n\u001b[1;32m-> 1181\u001b[0m     \u001b[38;5;28;01mraise\u001b[39;00m StdinNotImplementedError(msg)\n\u001b[0;32m   1182\u001b[0m \u001b[38;5;28;01mreturn\u001b[39;00m \u001b[38;5;28mself\u001b[39m\u001b[38;5;241m.\u001b[39m_input_request(\n\u001b[0;32m   1183\u001b[0m     \u001b[38;5;28mstr\u001b[39m(prompt),\n\u001b[0;32m   1184\u001b[0m     \u001b[38;5;28mself\u001b[39m\u001b[38;5;241m.\u001b[39m_parent_ident[\u001b[38;5;124m\"\u001b[39m\u001b[38;5;124mshell\u001b[39m\u001b[38;5;124m\"\u001b[39m],\n\u001b[0;32m   1185\u001b[0m     \u001b[38;5;28mself\u001b[39m\u001b[38;5;241m.\u001b[39mget_parent(\u001b[38;5;124m\"\u001b[39m\u001b[38;5;124mshell\u001b[39m\u001b[38;5;124m\"\u001b[39m),\n\u001b[0;32m   1186\u001b[0m     password\u001b[38;5;241m=\u001b[39m\u001b[38;5;28;01mFalse\u001b[39;00m,\n\u001b[0;32m   1187\u001b[0m )\n",
      "\u001b[1;31mStdinNotImplementedError\u001b[0m: raw_input was called, but this frontend does not support input requests."
     ]
    }
   ],
   "source": [
    "def saludar(nombre, fecha_nacimiento, lugar_de_nacimiento=\"Colombia\"):\n",
    "    \"\"\"Saluda a una persona y le dice su edad.\n",
    "    \n",
    "    Parámetros\n",
    "    ----------\n",
    "    nombre: str\n",
    "        Nombre de la persona a saludar\n",
    "    fecha_nacimiento: int\n",
    "        Año de nacimiento de la persona\n",
    "    lugar_de_nacimiento: str\n",
    "        Lugar de nacimiento de la persona\n",
    "    \"\"\"\n",
    "    edad = 2023 - int(fecha_nacimiento) # Convertimos el valor a entero\n",
    "    print(f\"Hola {nombre.title()}, ¿cómo estás? Tienes {edad} años y naciste en {lugar_de_nacimiento.title()}.\")\n",
    "\n",
    "\n",
    "nombre = input(\"Ingresa tu nombre: \")\n",
    "fecha_nacimiento = input(\"Ingresa tu año de nacimiento: \")\n",
    "saludar(nombre, fecha_nacimiento)"
   ]
  },
  {
   "cell_type": "code",
   "execution_count": 6,
   "id": "9208add7",
   "metadata": {
    "tags": [
     "remove-input"
    ]
   },
   "outputs": [
    {
     "name": "stdout",
     "output_type": "stream",
     "text": [
      "Hola Juan, ¿cómo estás? Tienes 43 años y naciste en Colombia.\n"
     ]
    }
   ],
   "source": [
    "nombre = \"Juan\"\n",
    "fecha_nacimiento = \"1980\"\n",
    "\n",
    "saludar(nombre, fecha_nacimiento)"
   ]
  },
  {
   "cell_type": "markdown",
   "id": "11e3b303",
   "metadata": {},
   "source": [
    "Así ya no tendremos problemas con el tipo de dato que recibimos de la consola.\n",
    "\n",
    "## Notas\n",
    "\n",
    "[^1]: Debido a que no contamos con una consola de entrada en este cuaderno, hemos asignado los valores directamente para simular el comportamiento de la función `input()`."
   ]
  }
 ],
 "metadata": {
  "jupytext": {
   "cell_metadata_filter": "-all",
   "formats": "md:myst",
   "text_representation": {
    "extension": ".md",
    "format_name": "myst",
    "format_version": 0.13,
    "jupytext_version": "1.14.4"
   }
  },
  "kernelspec": {
   "display_name": "Python 3 (ipykernel)",
   "language": "python",
   "name": "python3"
  },
  "language_info": {
   "codemirror_mode": {
    "name": "ipython",
    "version": 3
   },
   "file_extension": ".py",
   "mimetype": "text/x-python",
   "name": "python",
   "nbconvert_exporter": "python",
   "pygments_lexer": "ipython3",
   "version": "3.11.1"
  },
  "source_map": [
   14,
   20,
   36,
   45,
   49,
   64,
   70,
   80,
   86,
   90,
   113,
   119
  ]
 },
 "nbformat": 4,
 "nbformat_minor": 5
}