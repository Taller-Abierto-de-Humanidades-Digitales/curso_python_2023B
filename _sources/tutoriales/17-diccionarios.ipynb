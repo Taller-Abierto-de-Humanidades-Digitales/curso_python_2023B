{
 "cells": [
  {
   "cell_type": "markdown",
   "id": "6e5817d6",
   "metadata": {},
   "source": [
    "# Diccionarios\n",
    "\n",
    "Los diccionarios son estructuras de datos que permiten asociar información a través de claves y valores. De cierta manera, un diccionario puede ir desde algo muy simple hasta prácticamente representar una base de datos. En este capítulo veremos cómo crear diccionarios, cómo acceder a sus elementos y cómo modificarlos.\n",
    "\n",
    "## Creando diccionarios\n",
    "\n",
    "Los diccionarios se definen con llaves `{}` y los elementos se separan con comas `,`. Por ejemplo, un diccionario con los protagonistas de la serie de televisión \"Seinfeld\" se puede definir como:"
   ]
  },
  {
   "cell_type": "code",
   "execution_count": 1,
   "id": "581ce565",
   "metadata": {},
   "outputs": [
    {
     "name": "stdout",
     "output_type": "stream",
     "text": [
      "{'Jerry': 'Jerry Seinfeld', 'George': 'Jason Alexander', 'Elaine': 'Julia Louis-Dreyfus', 'Kramer': 'Michael Richards'}\n"
     ]
    }
   ],
   "source": [
    "protagonistas = {\n",
    "    \"Jerry\": \"Jerry Seinfeld\",\n",
    "    \"George\": \"Jason Alexander\",\n",
    "    \"Elaine\": \"Julia Louis-Dreyfus\",\n",
    "    \"Kramer\": \"Michael Richards\"\n",
    "}\n",
    "\n",
    "print(protagonistas)"
   ]
  },
  {
   "cell_type": "markdown",
   "id": "10f625d5",
   "metadata": {},
   "source": [
    "De esa manera, tenemos un listado de los protagonistas y a cada uno de ellos le hemos asignado un valor. En este caso, el valor es el nombre del actor o actriz que lo interpretó.\n",
    "\n",
    "### Determinar si un diccionario está vacío\n",
    "\n",
    "Para determinar si un diccionario está vacío, podemos usar la función `len()`. Por ejemplo:"
   ]
  },
  {
   "cell_type": "code",
   "execution_count": 2,
   "id": "0aa53c8a",
   "metadata": {},
   "outputs": [
    {
     "data": {
      "text/plain": [
       "0"
      ]
     },
     "execution_count": 2,
     "metadata": {},
     "output_type": "execute_result"
    }
   ],
   "source": [
    "protagonistasFriends = {}\n",
    "len(protagonistasFriends)"
   ]
  },
  {
   "cell_type": "markdown",
   "id": "8809720a",
   "metadata": {},
   "source": [
    "Asimismo, podemos evaluar si un diccionario está vacío en una condición, por ejemplo:"
   ]
  },
  {
   "cell_type": "code",
   "execution_count": 3,
   "id": "80c381dc",
   "metadata": {},
   "outputs": [
    {
     "name": "stdout",
     "output_type": "stream",
     "text": [
      "El diccionario protagonistas no está vacío\n"
     ]
    }
   ],
   "source": [
    "if protagonistasFriends:\n",
    "    print(\"El diccionario protagonistasFriends no está vacío\")\n",
    "elif protagonistas:\n",
    "    print(\"El diccionario protagonistas no está vacío\")\n",
    "else:\n",
    "    print(\"Los diccionarios están vacíos\")"
   ]
  },
  {
   "cell_type": "markdown",
   "id": "bf0af18f",
   "metadata": {},
   "source": [
    "Observa que en este caso evaluó si `protagonistasFriends` tenía elementos (`False`) y en caso contrario evaluó si `protagonistas` tenía elementos (`True`). En caso de que ambos diccionarios estuvieran vacíos, Python ejecutaría el `else`.\n",
    "\n",
    "## Operaciones con diccionarios\n",
    "\n",
    "Eric Matthes explica que un diccionario es \"una colección de *pares de valores clave*\" donde \"cada *clave* está conextada a un valor, y se puede usar una clave para acceder a un valor asociado con dicha clave\" {cite}`matthes_python_2016`. El valor de una clave puede ser cualquier tipo de dato, incluso otro diccionario.\n",
    "\n",
    "Por ejemplo, podemos hacer un diccionario más complejo para que cada protagonista tenga un diccionario con sus datos personales:"
   ]
  },
  {
   "cell_type": "code",
   "execution_count": 4,
   "id": "d05afb45",
   "metadata": {},
   "outputs": [
    {
     "name": "stdout",
     "output_type": "stream",
     "text": [
      "{'Jerry': {'nombre': 'Jerry Seinfeld', 'año_nacimiento': 1954, 'nacionalidad': 'Estadounidense', 'género': 'Masculino'}, 'George': {'nombre': 'Jason Alexander', 'año_nacimiento': 1959, 'nacionalidad': 'Estadounidense', 'género': 'Masculino'}, 'Elaine': {'nombre': 'Julia Louis-Dreyfus', 'año_nacimiento': 1961, 'nacionalidad': 'Estadounidense', 'género': 'Femenino'}, 'Kramer': {'nombre': 'Michael Richards', 'año_nacimiento': 1949, 'nacionalidad': 'Estadounidense', 'género': 'Masculino'}}\n"
     ]
    }
   ],
   "source": [
    "protagonistas = {\n",
    "    \"Jerry\": {\n",
    "        \"nombre\": \"Jerry Seinfeld\",\n",
    "        \"año_nacimiento\": 1954,\n",
    "        \"nacionalidad\": \"Estadounidense\",\n",
    "        \"género\": \"Masculino\"\n",
    "    },\n",
    "    \"George\": {\n",
    "        \"nombre\": \"Jason Alexander\",\n",
    "        \"año_nacimiento\": 1959,\n",
    "        \"nacionalidad\": \"Estadounidense\",\n",
    "        \"género\": \"Masculino\"\n",
    "    },\n",
    "    \"Elaine\": {\n",
    "        \"nombre\": \"Julia Louis-Dreyfus\",\n",
    "        \"año_nacimiento\": 1961,\n",
    "        \"nacionalidad\": \"Estadounidense\",\n",
    "        \"género\": \"Femenino\"\n",
    "    },\n",
    "    \"Kramer\": {\n",
    "        \"nombre\": \"Michael Richards\",\n",
    "        \"año_nacimiento\": 1949,\n",
    "        \"nacionalidad\": \"Estadounidense\",\n",
    "        \"género\": \"Masculino\"\n",
    "    }\n",
    "}\n",
    "\n",
    "print(protagonistas)"
   ]
  },
  {
   "cell_type": "markdown",
   "id": "1811e896",
   "metadata": {},
   "source": [
    "De esa manera podemos acceder no solamente a un valor asociado a una clave (por ejemplo, el nombre de la actriz que intepretó a Elaine), sino también a un diccionario asociado a una clave (por ejemplo, la edad de cada uno de los protagonistas).\n",
    "\n",
    "### Accediendo a los elementos de un diccionario\n",
    "\n",
    "Para acceder a los elementos de un diccionario, podemos usar la sintaxis `diccionario[clave]`. Por ejemplo, para acceder al nombre de la actriz que interpretó a Elaine:"
   ]
  },
  {
   "cell_type": "code",
   "execution_count": 5,
   "id": "47bf0bf4",
   "metadata": {},
   "outputs": [
    {
     "data": {
      "text/plain": [
       "'Julia Louis-Dreyfus'"
      ]
     },
     "execution_count": 5,
     "metadata": {},
     "output_type": "execute_result"
    }
   ],
   "source": [
    "protagonistas[\"Elaine\"][\"nombre\"]"
   ]
  },
  {
   "cell_type": "markdown",
   "id": "2f6dc86f",
   "metadata": {},
   "source": [
    "Presta atención a la sintaxis que usamos para acceder al valor deseado. Primero, accedemos al diccionario `protagonistas` y luego a la clave `\"Elaine\"`. Esa clave nos devuelve un diccionario con los datos de Elaine. Finalmente, accedemos a la clave `\"nombre\"` para obtener el valor deseado.\n",
    "\n",
    "Hagámoslo por pasos:"
   ]
  },
  {
   "cell_type": "code",
   "execution_count": 6,
   "id": "0ec49434",
   "metadata": {},
   "outputs": [
    {
     "name": "stdout",
     "output_type": "stream",
     "text": [
      "{'nombre': 'Julia Louis-Dreyfus', 'año_nacimiento': 1961, 'nacionalidad': 'Estadounidense', 'género': 'Femenino'}\n"
     ]
    }
   ],
   "source": [
    "# aquí accedemos al diccionario \"protagonistas\" y a la clave \"Elaine\"\n",
    "valor1 = protagonistas[\"Elaine\"]\n",
    "print(valor1)"
   ]
  },
  {
   "cell_type": "code",
   "execution_count": 7,
   "id": "756551bd",
   "metadata": {},
   "outputs": [
    {
     "name": "stdout",
     "output_type": "stream",
     "text": [
      "Julia Louis-Dreyfus\n"
     ]
    }
   ],
   "source": [
    "# aquí accedemos al diccionario \"valor1\" y a la clave \"nombre\"\n",
    "valor2 = valor1[\"nombre\"]\n",
    "print(valor2)"
   ]
  },
  {
   "cell_type": "markdown",
   "id": "14c00770",
   "metadata": {},
   "source": [
    "Si la clave no existe, Python nos arrojará un error indicando que la clave es incorrecta:"
   ]
  },
  {
   "cell_type": "code",
   "execution_count": 8,
   "id": "bd786b81",
   "metadata": {},
   "outputs": [
    {
     "ename": "KeyError",
     "evalue": "'apellido'",
     "output_type": "error",
     "traceback": [
      "\u001b[1;31m---------------------------------------------------------------------------\u001b[0m",
      "\u001b[1;31mKeyError\u001b[0m                                  Traceback (most recent call last)",
      "Cell \u001b[1;32mIn[8], line 1\u001b[0m\n\u001b[1;32m----> 1\u001b[0m \u001b[43mprotagonistas\u001b[49m\u001b[43m[\u001b[49m\u001b[38;5;124;43m\"\u001b[39;49m\u001b[38;5;124;43mGeorge\u001b[39;49m\u001b[38;5;124;43m\"\u001b[39;49m\u001b[43m]\u001b[49m\u001b[43m[\u001b[49m\u001b[38;5;124;43m\"\u001b[39;49m\u001b[38;5;124;43mapellido\u001b[39;49m\u001b[38;5;124;43m\"\u001b[39;49m\u001b[43m]\u001b[49m\n",
      "\u001b[1;31mKeyError\u001b[0m: 'apellido'"
     ]
    }
   ],
   "source": [
    "protagonistas[\"George\"][\"apellido\"]"
   ]
  },
  {
   "cell_type": "markdown",
   "id": "300fd987",
   "metadata": {},
   "source": [
    "### Agregando elementos a un diccionario\n",
    "\n",
    "Para agregar elementos a un diccionario, podemos usar la sintaxis `diccionario[clave] = valor`. Por ejemplo, para agregar el apellido de George:"
   ]
  },
  {
   "cell_type": "code",
   "execution_count": 9,
   "id": "4b892519",
   "metadata": {},
   "outputs": [
    {
     "data": {
      "text/plain": [
       "{'nombre': 'Jason Alexander',\n",
       " 'año_nacimiento': 1959,\n",
       " 'nacionalidad': 'Estadounidense',\n",
       " 'género': 'Masculino',\n",
       " 'apellido': 'Costanza'}"
      ]
     },
     "execution_count": 9,
     "metadata": {},
     "output_type": "execute_result"
    }
   ],
   "source": [
    "protagonistas[\"George\"][\"apellido\"] = \"Costanza\"\n",
    "protagonistas[\"George\"]"
   ]
  },
  {
   "cell_type": "markdown",
   "id": "dd900611",
   "metadata": {},
   "source": [
    "Notarás que el orden de los elementos no cambió. Esto es porque los diccionarios no tienen un orden definido. También notarás que no hay problema con que los demás miembros de la serie no tengan apellido. Pero si intentáramos acceder al apellido de Elaine, Python nos arrojaría un error:"
   ]
  },
  {
   "cell_type": "code",
   "execution_count": 10,
   "id": "a155c5d5",
   "metadata": {},
   "outputs": [
    {
     "ename": "KeyError",
     "evalue": "'apellido'",
     "output_type": "error",
     "traceback": [
      "\u001b[1;31m---------------------------------------------------------------------------\u001b[0m",
      "\u001b[1;31mKeyError\u001b[0m                                  Traceback (most recent call last)",
      "Cell \u001b[1;32mIn[10], line 1\u001b[0m\n\u001b[1;32m----> 1\u001b[0m \u001b[43mprotagonistas\u001b[49m\u001b[43m[\u001b[49m\u001b[38;5;124;43m\"\u001b[39;49m\u001b[38;5;124;43mElaine\u001b[39;49m\u001b[38;5;124;43m\"\u001b[39;49m\u001b[43m]\u001b[49m\u001b[43m[\u001b[49m\u001b[38;5;124;43m\"\u001b[39;49m\u001b[38;5;124;43mapellido\u001b[39;49m\u001b[38;5;124;43m\"\u001b[39;49m\u001b[43m]\u001b[49m\n",
      "\u001b[1;31mKeyError\u001b[0m: 'apellido'"
     ]
    }
   ],
   "source": [
    "protagonistas[\"Elaine\"][\"apellido\"]"
   ]
  },
  {
   "cell_type": "markdown",
   "id": "38a99060",
   "metadata": {},
   "source": [
    "Una estrategia clave para trabajar con diccionarios es la consistencia. Modificar un diccionario para que todos los elementos tengan la misma estructura es una buena práctica, incluso si los valores de algunos elementos son nulos.\n",
    "\n",
    "### Agregar una lista como valor de un diccionario\n",
    "\n",
    "Podemos agregar una lista como valor de un diccionario. Por ejemplo, para agregar los empleos que tuvo George Costanza:"
   ]
  },
  {
   "cell_type": "code",
   "execution_count": 11,
   "id": "d857f408",
   "metadata": {},
   "outputs": [
    {
     "data": {
      "text/plain": [
       "{'nombre': 'Jason Alexander',\n",
       " 'año_nacimiento': 1959,\n",
       " 'nacionalidad': 'Estadounidense',\n",
       " 'género': 'Masculino',\n",
       " 'apellido': 'Costanza',\n",
       " 'empleos': ['Rick Bahr Properties',\n",
       "  'Sanalac',\n",
       "  'Pendant Publishing',\n",
       "  'New York Yankees',\n",
       "  'Play Now',\n",
       "  'Kruger Industrial Smoothing']}"
      ]
     },
     "execution_count": 11,
     "metadata": {},
     "output_type": "execute_result"
    }
   ],
   "source": [
    "protagonistas[\"George\"][\"empleos\"] = [\"Rick Bahr Properties\", \"Sanalac\", \"Pendant Publishing\", \"New York Yankees\", \"Play Now\", \"Kruger Industrial Smoothing\"]\n",
    "protagonistas[\"George\"]"
   ]
  },
  {
   "cell_type": "markdown",
   "id": "96529504",
   "metadata": {},
   "source": [
    "De este modo, es posible acceder a los elementos de la lista e iterar sobre ellos:"
   ]
  },
  {
   "cell_type": "code",
   "execution_count": 12,
   "id": "c67f5abf",
   "metadata": {},
   "outputs": [
    {
     "name": "stdout",
     "output_type": "stream",
     "text": [
      "Rick Bahr Properties\n",
      "Sanalac\n",
      "Pendant Publishing\n",
      "New York Yankees\n",
      "Play Now\n",
      "Kruger Industrial Smoothing\n"
     ]
    }
   ],
   "source": [
    "for trabajo in protagonistas[\"George\"][\"empleos\"]:\n",
    "    print(trabajo)"
   ]
  },
  {
   "cell_type": "markdown",
   "id": "2d425fef",
   "metadata": {},
   "source": [
    "### Agregar un diccionario como valor de un diccionario\n",
    "\n",
    "Podemos agregar un diccionario como valor de un diccionario. Por ejemplo, para agregar los datos de la prometida de George Costanza:"
   ]
  },
  {
   "cell_type": "code",
   "execution_count": 13,
   "id": "4bf37e07",
   "metadata": {},
   "outputs": [
    {
     "data": {
      "text/plain": [
       "{'nombre': 'Jason Alexander',\n",
       " 'año_nacimiento': 1959,\n",
       " 'nacionalidad': 'Estadounidense',\n",
       " 'género': 'Masculino',\n",
       " 'apellido': 'Costanza',\n",
       " 'empleos': ['Rick Bahr Properties',\n",
       "  'Sanalac',\n",
       "  'Pendant Publishing',\n",
       "  'New York Yankees',\n",
       "  'Play Now',\n",
       "  'Kruger Industrial Smoothing'],\n",
       " 'esposa': {'nombre': 'Susan',\n",
       "  'año_nacimiento': 1960,\n",
       "  'nacionalidad': 'Estadounidense',\n",
       "  'género': 'Femenino'}}"
      ]
     },
     "execution_count": 13,
     "metadata": {},
     "output_type": "execute_result"
    }
   ],
   "source": [
    "protagonistas[\"George\"][\"esposa\"] = {\n",
    "    \"nombre\": \"Susan\",\n",
    "    \"año_nacimiento\": 1960,\n",
    "    \"nacionalidad\": \"Estadounidense\",\n",
    "    \"género\": \"Femenino\"\n",
    "}\n",
    "protagonistas[\"George\"]"
   ]
  },
  {
   "cell_type": "markdown",
   "id": "93b7a547",
   "metadata": {},
   "source": [
    "De este modo, es posible acceder a este nuevo diccionario y a sus elementos:"
   ]
  },
  {
   "cell_type": "code",
   "execution_count": 14,
   "id": "33d5cb33",
   "metadata": {},
   "outputs": [
    {
     "data": {
      "text/plain": [
       "'Susan'"
      ]
     },
     "execution_count": 14,
     "metadata": {},
     "output_type": "execute_result"
    }
   ],
   "source": [
    "protagonistas[\"George\"][\"esposa\"][\"nombre\"]"
   ]
  },
  {
   "cell_type": "markdown",
   "id": "1c1bc3d7",
   "metadata": {},
   "source": [
    "Como te darás cuenta, el diccionario puede tener cualquier cantidad de valores anidados y de múltiples tipos, incluso otros diccionarios. Por esto, es importante tener una estructura clara en el diccionario para que no haya mezclas de datos que puedan hacerlo ilegible.\n",
    "\n",
    "### Eliminar elementos de un diccionario\n",
    "\n",
    "Para eliminar elementos de un diccionario, podemos usar la instrucción `del`. Por ejemplo, para eliminar el apellido de George:"
   ]
  },
  {
   "cell_type": "code",
   "execution_count": 15,
   "id": "b5c13df7",
   "metadata": {},
   "outputs": [
    {
     "data": {
      "text/plain": [
       "{'nombre': 'Jason Alexander',\n",
       " 'año_nacimiento': 1959,\n",
       " 'nacionalidad': 'Estadounidense',\n",
       " 'género': 'Masculino',\n",
       " 'empleos': ['Rick Bahr Properties',\n",
       "  'Sanalac',\n",
       "  'Pendant Publishing',\n",
       "  'New York Yankees',\n",
       "  'Play Now',\n",
       "  'Kruger Industrial Smoothing'],\n",
       " 'esposa': {'nombre': 'Susan',\n",
       "  'año_nacimiento': 1960,\n",
       "  'nacionalidad': 'Estadounidense',\n",
       "  'género': 'Femenino'}}"
      ]
     },
     "execution_count": 15,
     "metadata": {},
     "output_type": "execute_result"
    }
   ],
   "source": [
    "del protagonistas[\"George\"][\"apellido\"]\n",
    "protagonistas[\"George\"]"
   ]
  },
  {
   "cell_type": "markdown",
   "id": "4fc3897a",
   "metadata": {},
   "source": [
    "Volvimos al diccionario original :D\n",
    "\n",
    "### Modificar los valores de un diccionario\n",
    "\n",
    "Para modificar los valores de un diccionario, podemos usar la sintaxis `diccionario[clave] = valor`. Por ejemplo, para modificar el nombre de la actriz que interpretó a Elaine:"
   ]
  },
  {
   "cell_type": "code",
   "execution_count": 16,
   "id": "1f2c999b",
   "metadata": {},
   "outputs": [
    {
     "data": {
      "text/plain": [
       "{'nombre': 'Julia Scarlett Elizabeth Louis-Dreyfus',\n",
       " 'año_nacimiento': 1961,\n",
       " 'nacionalidad': 'Estadounidense',\n",
       " 'género': 'Femenino'}"
      ]
     },
     "execution_count": 16,
     "metadata": {},
     "output_type": "execute_result"
    }
   ],
   "source": [
    "protagonistas[\"Elaine\"][\"nombre\"] = \"Julia Scarlett Elizabeth Louis-Dreyfus\"\n",
    "protagonistas[\"Elaine\"]"
   ]
  },
  {
   "cell_type": "markdown",
   "id": "c27ab262",
   "metadata": {},
   "source": [
    "Incluso podemos hacer una operación y devolver una nueva clave con la edad de Elaine basados en el año de nacimiento:"
   ]
  },
  {
   "cell_type": "code",
   "execution_count": 17,
   "id": "b50b3679",
   "metadata": {},
   "outputs": [
    {
     "data": {
      "text/plain": [
       "{'nombre': 'Julia Scarlett Elizabeth Louis-Dreyfus',\n",
       " 'año_nacimiento': 1961,\n",
       " 'nacionalidad': 'Estadounidense',\n",
       " 'género': 'Femenino',\n",
       " 'edad': 62}"
      ]
     },
     "execution_count": 17,
     "metadata": {},
     "output_type": "execute_result"
    }
   ],
   "source": [
    "protagonistas[\"Elaine\"][\"edad\"] = 2023 - protagonistas[\"Elaine\"][\"año_nacimiento\"]\n",
    "protagonistas[\"Elaine\"]"
   ]
  },
  {
   "cell_type": "markdown",
   "id": "7ba6858b",
   "metadata": {},
   "source": [
    "## Síntesis\n",
    "\n",
    "Ya abordamos los aspectos básicos de los diccionarios. En el siguiente apartado, veremos cómo iterar sobre los elementos de un diccionario, tanto para obtener los valores y claves, como para agregar y eliminar elementos."
   ]
  }
 ],
 "metadata": {
  "jupytext": {
   "cell_metadata_filter": "-all",
   "formats": "md:myst",
   "text_representation": {
    "extension": ".md",
    "format_name": "myst",
    "format_version": 0.13,
    "jupytext_version": "1.14.0"
   }
  },
  "kernelspec": {
   "display_name": "Python 3 (ipykernel)",
   "language": "python",
   "name": "python3"
  },
  "language_info": {
   "codemirror_mode": {
    "name": "ipython",
    "version": 3
   },
   "file_extension": ".py",
   "mimetype": "text/x-python",
   "name": "python",
   "nbconvert_exporter": "python",
   "pygments_lexer": "ipython3",
   "version": "3.11.4"
  },
  "source_map": [
   14,
   24,
   33,
   41,
   44,
   48,
   55,
   65,
   94,
   102,
   104,
   110,
   116,
   120,
   124,
   126,
   132,
   135,
   139,
   141,
   149,
   152,
   156,
   159,
   165,
   173,
   177,
   179,
   187,
   190,
   198,
   201,
   205,
   208
  ]
 },
 "nbformat": 4,
 "nbformat_minor": 5
}