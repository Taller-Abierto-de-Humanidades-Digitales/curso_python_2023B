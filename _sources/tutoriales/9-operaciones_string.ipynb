{
 "cells": [
  {
   "cell_type": "markdown",
   "id": "fb4df048",
   "metadata": {},
   "source": [
    "# Operaciones con cadenas de caracteres\n",
    "\n",
    "Una cadena de caracteres no es otra cosa sino el conjunto de caracteres que, en el lenguaje natural, forman una palabra, frase o texto. Como ya vimos, las cadenas se representan por comillas dobles o sencillas:"
   ]
  },
  {
   "cell_type": "code",
   "execution_count": 1,
   "id": "efcaa735",
   "metadata": {},
   "outputs": [],
   "source": [
    "cuento = \"Arrasado el jardín, profanados los cálices y las aras, entraron a caballo los hunos en la biblioteca monástica y rompieron los libros incomprensibles y los vituperaron y los quemaron, acaso temerosos de que las letras encubrieran blasfemias contra su dios, que era una cimitarra de hierro. Jorge Luis Borges, 'Los teólogos'.\""
   ]
  },
  {
   "cell_type": "markdown",
   "id": "2e550e50",
   "metadata": {},
   "source": [
    "Para nosotros, esta frase tiene un sentido, unos personajes, una historia. Para la computadora, en cambio, solamente es la suma de caracteres que la componen. Al manipular estas cadenas, podemos realizar operaciones que nos ayuden a extraer información de ellas.\n",
    "\n",
    "## Concatenación\n",
    "\n",
    "La concatenación es la operación que permite unir dos cadenas de caracteres. En Python, se realiza con el operador `+`:"
   ]
  },
  {
   "cell_type": "code",
   "execution_count": 2,
   "id": "1b5e9d78",
   "metadata": {},
   "outputs": [
    {
     "name": "stdout",
     "output_type": "stream",
     "text": [
      "Arrasado el jardín\n"
     ]
    }
   ],
   "source": [
    "print(\"Arrasado\" + \" \" + \"el\" + \" \" + \"jardín\")"
   ]
  },
  {
   "cell_type": "markdown",
   "id": "2c481174",
   "metadata": {},
   "source": [
    "Observa que el espacio entre palabras está representado por una cadena de caracteres vacía, que es lo mismo que una cadena de caracteres que contiene un solo espacio. Si no lo hacemos así, la frase resultante no tendrá espacios entre palabras:"
   ]
  },
  {
   "cell_type": "code",
   "execution_count": 3,
   "id": "0ab1981c",
   "metadata": {},
   "outputs": [
    {
     "name": "stdout",
     "output_type": "stream",
     "text": [
      "Arrasadoeljardín\n"
     ]
    }
   ],
   "source": [
    "print(\"Arrasado\" + \"el\" + \"jardín\")"
   ]
  },
  {
   "cell_type": "markdown",
   "id": "b3ccc08d",
   "metadata": {},
   "source": [
    "Otra opción es que cada palabra cuente con los espacios que la separan de las demás:"
   ]
  },
  {
   "cell_type": "code",
   "execution_count": 4,
   "id": "6ae24b10",
   "metadata": {},
   "outputs": [
    {
     "name": "stdout",
     "output_type": "stream",
     "text": [
      "Arrasado el jardín\n"
     ]
    }
   ],
   "source": [
    "print(\"Arrasado \" + \"el \" + \"jardín\")"
   ]
  },
  {
   "cell_type": "markdown",
   "id": "4dd0351c",
   "metadata": {},
   "source": [
    "## Obtener el largo de una cadena\n",
    "\n",
    "Debido a que las cadenas de caracteres son un conjunto de caracteres, podemos obtener el número de caracteres que la componen. Para ello, utilizamos la función `len()`:"
   ]
  },
  {
   "cell_type": "code",
   "execution_count": 5,
   "id": "075d6d7e",
   "metadata": {},
   "outputs": [
    {
     "name": "stdout",
     "output_type": "stream",
     "text": [
      "324\n"
     ]
    }
   ],
   "source": [
    "print(len(cuento))"
   ]
  },
  {
   "cell_type": "markdown",
   "id": "f183afb2",
   "metadata": {},
   "source": [
    "Esto puede ser útil al momento de comparar textos, por ejemplo, dos traducciones de Hamlet. Una (`trad1`) proveniente de una edición espúrea y la otra (`trad2`) obtenida de la edición de Inarco Celenio, impresa en Madrid en 1798 y digitalizada por la Biblioteca Virtual Cervantes:"
   ]
  },
  {
   "cell_type": "code",
   "execution_count": 6,
   "id": "54b2c8ce",
   "metadata": {},
   "outputs": [
    {
     "name": "stdout",
     "output_type": "stream",
     "text": [
      "La diferencia de longitud entre las dos traducciones es de 201 caracteres\n"
     ]
    }
   ],
   "source": [
    "trad1 = \"\"\"\n",
    "        FORTINBRÁS Cuatro capitanes portarán a Hamlet marcialmente al catafalco, pues, de habérsele brindado, habría sido un gran rey. Su muerte será honrada con sones militares y ritos de guerrero. Llevaos los cadáveres. Esta escena, más propia de batalla, aquí disuena. Vamos, que disparen los soldados\n",
    "        \"\"\"\n",
    "\n",
    "trad2 = \"\"\"\n",
    "        FORTIMBRÁS.-  Cuatro de mis capitanes lleven al túmulo el cuerpo de Hamlet con las insignias correspondientes a un guerrero. ¡Ah! Si él hubiese ocupado el trono, sin duda hubiera sido un excelente Monarca... Resuene la música militar por donde pase la pompa fúnebre, y hagánsele todos los honores de la guerra... Quitad, quitad de ahí esos cadáveres. Espectáculo tan sangriento, más es propio de un campo de batalla que de este sitio... Y vosotros, haced que salude con descargas todo el ejército.\n",
    "        \"\"\"\n",
    "\n",
    "diff = len(trad2) - len(trad1)\n",
    "print(f\"La diferencia de longitud entre las dos traducciones es de {diff} caracteres\")"
   ]
  },
  {
   "cell_type": "markdown",
   "id": "9c8353b6",
   "metadata": {},
   "source": [
    "En este ejemplo, la comparación se hace con el último diálogo de la obra, pero lo mismo podría realizarse con un conjunto de diálogos, o con todo el texto. De esta manera podríamos identificar cuánta es la \"pérdida de materia\" que se está produciendo en las traducciones a través del tiempo.\n",
    "\n",
    "```{admonition} Sobre las cadenas de texto\n",
    ":class: tip\n",
    "Bien podríamos intentar un acercamiento similar para las palabras o frases, pero en ese caso es mejor utilizar una aproximación más \"sofisticada\" que pueda tener en cuenta el valor lingüístico de una palabra y diferenciarla de un conector, un pronombre o un signo de puntuación.\n",
    "```\n",
    "\n",
    "## Acceder a una posición de una cadena\n",
    "\n",
    "En ocasiones es necesario acceder a una de las posiciones de una cadena, por ejemplo el último caracter de una palabra para saber si es plural o no. Para ello, utilizamos la notación de corchetes (`[]`) y el índice de la posición que queremos acceder:"
   ]
  },
  {
   "cell_type": "code",
   "execution_count": 7,
   "id": "d9e4cea4",
   "metadata": {},
   "outputs": [
    {
     "name": "stdout",
     "output_type": "stream",
     "text": [
      "La palabra casas es plural porque su último caracter es s\n"
     ]
    }
   ],
   "source": [
    "sing = \"casa\"\n",
    "plur = \"casas\"\n",
    "\n",
    "final = plur[-1]\n",
    "print(f\"La palabra {plur} es plural porque su último caracter es {final}\")"
   ]
  },
  {
   "cell_type": "markdown",
   "id": "80d09de1",
   "metadata": {},
   "source": [
    "*Este es un acercamiento muy directo a este problema, pero no es el mejor. Posteriormente veremos cómo podemos utilizar expresiones regulares para resolverlo de una manera más eficiente.*\n",
    "\n",
    "También podemos extraer segmentos de una cadena. Para ello utilizamos un rango de índices, separados por dos puntos (`:`):"
   ]
  },
  {
   "cell_type": "code",
   "execution_count": 8,
   "id": "b76122cc",
   "metadata": {},
   "outputs": [
    {
     "name": "stdout",
     "output_type": "stream",
     "text": [
      "Arrasado\n"
     ]
    }
   ],
   "source": [
    "print(\"Arrasado el jardín\"[0:8])"
   ]
  },
  {
   "cell_type": "markdown",
   "id": "5540cb06",
   "metadata": {},
   "source": [
    "En este caso, el primer índice indica el inicio del segmento y el segundo el final. Si no se especifica el primer índice, se asume que es el primero:"
   ]
  },
  {
   "cell_type": "code",
   "execution_count": 9,
   "id": "ee428399",
   "metadata": {},
   "outputs": [
    {
     "name": "stdout",
     "output_type": "stream",
     "text": [
      "Arrasado\n"
     ]
    }
   ],
   "source": [
    "print(\"Arrasado el jardín\"[:8])"
   ]
  },
  {
   "cell_type": "markdown",
   "id": "597d2b8b",
   "metadata": {},
   "source": [
    "Si no se especifica el segundo índice, se asume que es el último:"
   ]
  },
  {
   "cell_type": "code",
   "execution_count": 10,
   "id": "07838abc",
   "metadata": {},
   "outputs": [
    {
     "name": "stdout",
     "output_type": "stream",
     "text": [
      " el jardín\n"
     ]
    }
   ],
   "source": [
    "print(\"Arrasado el jardín\"[8:])"
   ]
  },
  {
   "cell_type": "markdown",
   "id": "6bfbe1e5",
   "metadata": {},
   "source": [
    "## Reemplazar una cadena por otra\n",
    "\n",
    "En ocasiones es necesario reemplazar una cadena por otra. Por ejemplo, si queremos eliminar los signos de puntuación de un texto, podemos hacerlo de la siguiente manera:"
   ]
  },
  {
   "cell_type": "code",
   "execution_count": 11,
   "id": "1d664e7d",
   "metadata": {},
   "outputs": [
    {
     "name": "stdout",
     "output_type": "stream",
     "text": [
      "Arrasado el jardín\n"
     ]
    }
   ],
   "source": [
    "print(\"Arrasado el jardín.\".replace(\".\", \"\"))"
   ]
  },
  {
   "cell_type": "markdown",
   "id": "4db26e20",
   "metadata": {},
   "source": [
    "En este caso, el método `replace()` recibe dos parámetros: el primero es la cadena que queremos reemplazar y el segundo es la cadena que reemplazará a la primera. En este caso, el primer parámetro es un punto (`.`) y el segundo es una cadena vacía (`\"\"`). Lo mismo puede hacerse con otros caracteres, como comas, signos de interrogación, etc. Por ejemplo, si queremos eliminar los puntos y las comas de las traducciones de Hamlet y luego comparar sus longitudes:"
   ]
  },
  {
   "cell_type": "code",
   "execution_count": 12,
   "id": "8606f47f",
   "metadata": {},
   "outputs": [
    {
     "name": "stdout",
     "output_type": "stream",
     "text": [
      "La diferencia de longitud entre las dos traducciones es de 193 caracteres\n"
     ]
    }
   ],
   "source": [
    "trad1 = trad1.replace(\".\", \"\").replace(\",\", \"\")\n",
    "trad2 = trad2.replace(\".\", \"\").replace(\",\", \"\")\n",
    "\n",
    "diff = len(trad2) - len(trad1)\n",
    "print(f\"La diferencia de longitud entre las dos traducciones es de {diff} caracteres\")"
   ]
  },
  {
   "cell_type": "markdown",
   "id": "b001ec46",
   "metadata": {},
   "source": [
    "## Encontrar subcadenas en una cadena\n",
    "\n",
    "El método find() nos permite encontrar la posición de una subcadena dentro de una cadena. Por ejemplo, si queremos saber en qué posición se encuentra la palabra \"jardín\" en la frase \"Arrasado el jardín\":"
   ]
  },
  {
   "cell_type": "code",
   "execution_count": 13,
   "id": "145328ac",
   "metadata": {},
   "outputs": [
    {
     "name": "stdout",
     "output_type": "stream",
     "text": [
      "12\n"
     ]
    }
   ],
   "source": [
    "print(\"Arrasado el jardín\".find(\"jardín\"))"
   ]
  },
  {
   "cell_type": "markdown",
   "id": "30965c63",
   "metadata": {},
   "source": [
    "Si la subcadena no se encuentra, el método devuelve el valor `-1`:"
   ]
  },
  {
   "cell_type": "code",
   "execution_count": 14,
   "id": "aa3906af",
   "metadata": {},
   "outputs": [
    {
     "name": "stdout",
     "output_type": "stream",
     "text": [
      "-1\n"
     ]
    }
   ],
   "source": [
    "print(\"Arrasado el jardín\".find(\"dios\"))"
   ]
  },
  {
   "cell_type": "markdown",
   "id": "e02b3028",
   "metadata": {},
   "source": [
    "```{admonition} Sobre el método find()\n",
    ":class: tip\n",
    "El método find() no es una función de búsqueda, es decir, encuentra la posición de una subcadena dentro de una cadena, pero no puede determinar cuántas veces se repite en un texto.\n",
    "```\n",
    "\n",
    "## Método `count()` para encontrar subcadenas\n",
    "\n",
    "El método count() nos permite contar cuántas coincidencias hay de una subcadena dentro de un texto. Por ejemplo, si queremos saber cuántas veces se repite la preposición 'los' en el texto `cuento`:"
   ]
  },
  {
   "cell_type": "code",
   "execution_count": 15,
   "id": "c46e537b",
   "metadata": {},
   "outputs": [
    {
     "name": "stdout",
     "output_type": "stream",
     "text": [
      "5\n"
     ]
    }
   ],
   "source": [
    "print(cuento.count(\"los\"))"
   ]
  },
  {
   "cell_type": "markdown",
   "id": "1aa6e91f",
   "metadata": {},
   "source": [
    "Valga anotar que esta es una coincidencia exacta, es decir, no se consideran las palabras que contengan la subcadena (como por ejemplo 'losa' o 'losas'), ni aquellas que no coincidan en mayúsculas y minúsculas (como por ejemplo 'Los' o 'LOS').\n",
    "\n",
    "## Métodos de cadenas: `startswith()` y `endswith()`\n",
    "\n",
    "Los métodos de cadenas son funciones que se aplican a una cadena. Por ejemplo, si queremos saber si una cadena comienza con una subcadena, podemos utilizar el método `startswith()`:"
   ]
  },
  {
   "cell_type": "code",
   "execution_count": 16,
   "id": "137dd281",
   "metadata": {},
   "outputs": [
    {
     "name": "stdout",
     "output_type": "stream",
     "text": [
      "True\n"
     ]
    }
   ],
   "source": [
    "print(\"Arrasado el jardín\".startswith(\"Arrasado\"))"
   ]
  },
  {
   "cell_type": "markdown",
   "id": "ffc4f021",
   "metadata": {},
   "source": [
    "Si la cadena no comienza con la subcadena, el método devuelve `False`:"
   ]
  },
  {
   "cell_type": "code",
   "execution_count": 17,
   "id": "89fdcd23",
   "metadata": {},
   "outputs": [
    {
     "name": "stdout",
     "output_type": "stream",
     "text": [
      "False\n"
     ]
    }
   ],
   "source": [
    "print(\"Arrasado el jardín\".startswith(\"arrasado\"))"
   ]
  },
  {
   "cell_type": "markdown",
   "id": "f314c9ee",
   "metadata": {},
   "source": [
    "Si queremos saber si una cadena termina con una subcadena, podemos utilizar el método `endswith()`:"
   ]
  },
  {
   "cell_type": "code",
   "execution_count": 18,
   "id": "c200c698",
   "metadata": {},
   "outputs": [
    {
     "name": "stdout",
     "output_type": "stream",
     "text": [
      "True\n"
     ]
    }
   ],
   "source": [
    "print(\"Arrasado el jardín\".endswith(\"jardín\"))"
   ]
  },
  {
   "cell_type": "markdown",
   "id": "efdb4126",
   "metadata": {},
   "source": [
    "Si la cadena no termina con la subcadena, el método devuelve `False`:"
   ]
  },
  {
   "cell_type": "code",
   "execution_count": 19,
   "id": "bfc4b8bf",
   "metadata": {},
   "outputs": [
    {
     "name": "stdout",
     "output_type": "stream",
     "text": [
      "False\n"
     ]
    }
   ],
   "source": [
    "print(\"Arrasado el jardín\".endswith(\"jardín.\"))"
   ]
  },
  {
   "cell_type": "markdown",
   "id": "99076dbe",
   "metadata": {},
   "source": [
    "Si queremos saber si una cadena contiene una subcadena, podemos utilizar el método `in`:"
   ]
  },
  {
   "cell_type": "code",
   "execution_count": 20,
   "id": "2fb97617",
   "metadata": {},
   "outputs": [
    {
     "name": "stdout",
     "output_type": "stream",
     "text": [
      "True\n"
     ]
    }
   ],
   "source": [
    "print(\"jardín\" in \"Arrasado el jardín\")"
   ]
  },
  {
   "cell_type": "markdown",
   "id": "692338c6",
   "metadata": {},
   "source": [
    "Si la cadena no contiene la subcadena, el método devuelve `False`:"
   ]
  },
  {
   "cell_type": "code",
   "execution_count": 21,
   "id": "ffd43530",
   "metadata": {},
   "outputs": [
    {
     "name": "stdout",
     "output_type": "stream",
     "text": [
      "False\n"
     ]
    }
   ],
   "source": [
    "print(\"cimitarra\" in \"Arrasado el jardín\")"
   ]
  },
  {
   "cell_type": "markdown",
   "id": "b07cd6ef",
   "metadata": {},
   "source": [
    "Estos métodos pueden aplicarse a textos de cualquier extensión. Por ejemplo, podemos usarlos en nuestro `cuento`:"
   ]
  },
  {
   "cell_type": "code",
   "execution_count": 22,
   "id": "847bf28b",
   "metadata": {},
   "outputs": [
    {
     "name": "stdout",
     "output_type": "stream",
     "text": [
      "False\n",
      "True\n",
      "True\n"
     ]
    }
   ],
   "source": [
    "print(cuento.startswith(\"En un lugar de la Mancha\"))\n",
    "print(cuento.endswith(\"Jorge Luis Borges, 'Los teólogos'.\"))\n",
    "print(\"cimitarra\" in cuento)"
   ]
  },
  {
   "cell_type": "markdown",
   "id": "80970af2",
   "metadata": {},
   "source": [
    "## Métodos de cadenas: `upper()` y `lower()`\n",
    "\n",
    "Los métodos `upper()` y `lower()` nos permiten convertir una cadena a mayúsculas o minúsculas, respectivamente. Por ejemplo, si queremos convertir la frase \"Arrasado el jardín\" a mayúsculas:"
   ]
  },
  {
   "cell_type": "code",
   "execution_count": 23,
   "id": "7e1a0a33",
   "metadata": {},
   "outputs": [
    {
     "name": "stdout",
     "output_type": "stream",
     "text": [
      "ARRASADO EL JARDÍN\n"
     ]
    }
   ],
   "source": [
    "print(\"Arrasado el jardín\".upper())"
   ]
  },
  {
   "cell_type": "markdown",
   "id": "651f84d5",
   "metadata": {},
   "source": [
    "Si queremos convertir la frase \"Arrasado el jardín\" a minúsculas:"
   ]
  },
  {
   "cell_type": "code",
   "execution_count": 24,
   "id": "192bdd8f",
   "metadata": {},
   "outputs": [
    {
     "name": "stdout",
     "output_type": "stream",
     "text": [
      "arrasado el jardín\n"
     ]
    }
   ],
   "source": [
    "print(\"Arrasado el jardín\".lower())"
   ]
  },
  {
   "cell_type": "markdown",
   "id": "f2949a42",
   "metadata": {},
   "source": [
    "## Métodos de cadenas: `capitalize()`, `title()` y `swapcase()`\n",
    "\n",
    "Los métodos `capitalize()`, `title()` y `swapcase()` nos permiten convertir una cadena a mayúsculas y minúsculas. Por ejemplo, si queremos convertir el nombre \"AGUSTÍN GONZÁLEZ HIRIARTE\" a mayúsculas en la primera letra:"
   ]
  },
  {
   "cell_type": "code",
   "execution_count": 25,
   "id": "9ea6fb68",
   "metadata": {},
   "outputs": [
    {
     "name": "stdout",
     "output_type": "stream",
     "text": [
      "Agustín gonzález hiriarte\n"
     ]
    }
   ],
   "source": [
    "print(\"AGUSTÍN GONZÁLEZ HIRIARTE\".capitalize())"
   ]
  },
  {
   "cell_type": "markdown",
   "id": "94957afd",
   "metadata": {},
   "source": [
    "Si en cambio, queremos convertir el nombre \"AGUSTÍN GONZÁLEZ HIRIARTE\" a mayúsculas en la primera letra de cada palabra:"
   ]
  },
  {
   "cell_type": "code",
   "execution_count": 26,
   "id": "f606f396",
   "metadata": {},
   "outputs": [
    {
     "name": "stdout",
     "output_type": "stream",
     "text": [
      "Agustín González Hiriarte\n"
     ]
    }
   ],
   "source": [
    "print(\"AGUSTÍN GONZÁLEZ HIRIARTE\".title())"
   ]
  },
  {
   "cell_type": "markdown",
   "id": "d99d6432",
   "metadata": {},
   "source": [
    "Si en cambio, queremos convertir el nombre \"Agustín González Hiriarte\" a minúsculas en la primera letra de cada palabra y a mayúsculas en el resto:"
   ]
  },
  {
   "cell_type": "code",
   "execution_count": 27,
   "id": "c5fd4c9d",
   "metadata": {},
   "outputs": [
    {
     "name": "stdout",
     "output_type": "stream",
     "text": [
      "aGUSTÍN gONZÁLEZ hIRIARTE\n"
     ]
    }
   ],
   "source": [
    "print(\"Agustín González Hiriarte\".swapcase())"
   ]
  },
  {
   "cell_type": "markdown",
   "id": "21dbc0f5",
   "metadata": {},
   "source": [
    "## Métodos de cadenas: `strip()`, `replace()` y `split()`\n",
    "\n",
    "Los métodos `strip()`, `replace()` y `split()` nos permiten eliminar espacios en blanco, reemplazar una subcadena por otra y dividir una cadena en varias subcadenas, respectivamente. Por ejemplo, si queremos eliminar los espacios en blanco de la frase \" Arrasado el jardín \":"
   ]
  },
  {
   "cell_type": "code",
   "execution_count": 28,
   "id": "61251e9a",
   "metadata": {},
   "outputs": [
    {
     "name": "stdout",
     "output_type": "stream",
     "text": [
      "Arrasado el jardín\n"
     ]
    }
   ],
   "source": [
    "print(\" Arrasado el jardín \".strip())"
   ]
  },
  {
   "cell_type": "markdown",
   "id": "f8321291",
   "metadata": {},
   "source": [
    "Si en cambio, queremos reemplazar la palabra \"jardín\" por la palabra \"casa\" en la frase \"Arrasado el jardín\":"
   ]
  },
  {
   "cell_type": "code",
   "execution_count": 29,
   "id": "1b40ce9c",
   "metadata": {},
   "outputs": [
    {
     "name": "stdout",
     "output_type": "stream",
     "text": [
      "Arrasado el casa\n"
     ]
    }
   ],
   "source": [
    "print(\"Arrasado el jardín\".replace(\"jardín\", \"casa\"))"
   ]
  },
  {
   "cell_type": "markdown",
   "id": "0ebf5a73",
   "metadata": {},
   "source": [
    "Si en cambio, queremos dividir la frase \"Arrasado el jardín\" en varias subcadenas:"
   ]
  },
  {
   "cell_type": "code",
   "execution_count": 30,
   "id": "ffe7fc84",
   "metadata": {},
   "outputs": [
    {
     "name": "stdout",
     "output_type": "stream",
     "text": [
      "['Arrasado', 'el', 'jardín']\n"
     ]
    }
   ],
   "source": [
    "print(\"Arrasado el jardín\".split())"
   ]
  },
  {
   "cell_type": "markdown",
   "id": "ee4c1abb",
   "metadata": {},
   "source": [
    "El método split() puede utilizar cualquier otro separador, por ejemplo, podemos usar la coma para separar frases en el `cuento`:"
   ]
  },
  {
   "cell_type": "code",
   "execution_count": 31,
   "id": "6476edb3",
   "metadata": {},
   "outputs": [
    {
     "name": "stdout",
     "output_type": "stream",
     "text": [
      "['Arrasado el jardín', ' profanados los cálices y las aras', ' entraron a caballo los hunos en la biblioteca monástica y rompieron los libros incomprensibles y los vituperaron y los quemaron', ' acaso temerosos de que las letras encubrieran blasfemias contra su dios', ' que era una cimitarra de hierro. Jorge Luis Borges', \" 'Los teólogos'.\"]\n"
     ]
    }
   ],
   "source": [
    "print(cuento.split(\",\"))"
   ]
  },
  {
   "cell_type": "markdown",
   "id": "86b61115",
   "metadata": {},
   "source": [
    "## Métodos de cadenas: `isalpha()`, `isalnum()` y `isdecimal()`\n",
    "\n",
    "Los métodos `isalpha()`, `isalnum()` y `isdecimal()` nos permiten saber si una cadena está formada por letras, letras y números o números, respectivamente. Por ejemplo, si queremos saber si la frase \"Arrasado el jardín\" está formada únicamente por letras:"
   ]
  },
  {
   "cell_type": "code",
   "execution_count": 32,
   "id": "fcc05793",
   "metadata": {},
   "outputs": [
    {
     "name": "stdout",
     "output_type": "stream",
     "text": [
      "False\n"
     ]
    }
   ],
   "source": [
    "print(\"Arrasado el jardín\".isalpha())"
   ]
  },
  {
   "cell_type": "markdown",
   "id": "c564667d",
   "metadata": {},
   "source": [
    "¿Por qué el resultado es `False`? Porque la frase \"Arrasando el jardín\" contiene espacios en blanco, que no son letras.\n",
    "\n",
    "Si en cambio, queremos saber si la frase \"Arrasado el jardín\" está formada por letras y números:"
   ]
  },
  {
   "cell_type": "code",
   "execution_count": 33,
   "id": "41226d94",
   "metadata": {},
   "outputs": [
    {
     "name": "stdout",
     "output_type": "stream",
     "text": [
      "False\n"
     ]
    }
   ],
   "source": [
    "print(\"Arrasado el jardín\".isalnum())"
   ]
  },
  {
   "cell_type": "markdown",
   "id": "caf6776a",
   "metadata": {},
   "source": [
    "Si en cambio, queremos saber si la frase \"Arrasado el jardín\" está formada por números:"
   ]
  },
  {
   "cell_type": "code",
   "execution_count": 34,
   "id": "91a69d07",
   "metadata": {},
   "outputs": [
    {
     "name": "stdout",
     "output_type": "stream",
     "text": [
      "False\n"
     ]
    }
   ],
   "source": [
    "print(\"Arrasado el jardín\".isdecimal())"
   ]
  },
  {
   "cell_type": "markdown",
   "id": "3ae23d90",
   "metadata": {},
   "source": [
    "Como habrás notado, estas funciones no son muy útiles al momento de trabajar con oraciones, pero sí lo son cuando trabajamos con palabras de manera individual. Por ejemplo:"
   ]
  },
  {
   "cell_type": "code",
   "execution_count": 35,
   "id": "de9b22b0",
   "metadata": {},
   "outputs": [
    {
     "name": "stdout",
     "output_type": "stream",
     "text": [
      "True\n",
      "False\n",
      "True\n"
     ]
    }
   ],
   "source": [
    "palabra = \"Arrasado\"\n",
    "signo = \".\"\n",
    "fecha = \"1894\"\n",
    "\n",
    "print(palabra.isalpha())\n",
    "print(signo.isalpha())\n",
    "print(fecha.isdecimal())"
   ]
  },
  {
   "cell_type": "markdown",
   "id": "4c1acb13",
   "metadata": {},
   "source": [
    "Estos métodos tendrán más sentido cuando realicemos operaciones sobre listados de palabras y hagamos uso de procesos como iteraciones y condicionales.\n",
    "\n",
    "## Conclusión\n",
    "\n",
    "Los métodos aquí mencionados son apenas unos cuantos de los que se encuentran disponibles en Python. Un listado completo de estos métodos se puede encontrar en la [documentación oficial](https://docs.python.org/3/library/stdtypes.html#string-methods) y también en [W3Schools](https://www.w3schools.com/python/python_ref_string.asp).\n",
    "\n",
    "Algunos métodos adicionales (como `join()`, `encode()`, `islower()`, `isupper()`, entre otros) los exploraremos en tanto avancemos con el curso."
   ]
  }
 ],
 "metadata": {
  "jupytext": {
   "cell_metadata_filter": "-all",
   "formats": "md:myst",
   "text_representation": {
    "extension": ".md",
    "format_name": "myst",
    "format_version": 0.13,
    "jupytext_version": "1.14.4"
   }
  },
  "kernelspec": {
   "display_name": "Python 3 (ipykernel)",
   "language": "python",
   "name": "python3"
  },
  "language_info": {
   "codemirror_mode": {
    "name": "ipython",
    "version": 3
   },
   "file_extension": ".py",
   "mimetype": "text/x-python",
   "name": "python",
   "nbconvert_exporter": "python",
   "pygments_lexer": "ipython3",
   "version": "3.11.4"
  },
  "source_map": [
   14,
   20,
   22,
   30,
   32,
   36,
   38,
   42,
   44,
   50,
   52,
   56,
   68,
   81,
   87,
   93,
   95,
   99,
   101,
   105,
   107,
   113,
   115,
   119,
   125,
   131,
   133,
   137,
   139,
   150,
   152,
   160,
   162,
   166,
   168,
   172,
   174,
   178,
   180,
   184,
   186,
   190,
   192,
   196,
   200,
   206,
   208,
   212,
   214,
   220,
   222,
   226,
   228,
   232,
   234,
   240,
   242,
   246,
   248,
   252,
   254,
   258,
   260,
   266,
   268,
   274,
   276,
   280,
   282,
   286,
   294
  ]
 },
 "nbformat": 4,
 "nbformat_minor": 5
}