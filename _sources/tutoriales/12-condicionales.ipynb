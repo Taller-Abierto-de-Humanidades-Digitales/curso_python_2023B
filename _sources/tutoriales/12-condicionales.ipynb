{
 "cells": [
  {
   "cell_type": "markdown",
   "id": "af9adb62",
   "metadata": {},
   "source": [
    "# Introducción a los condicionales\n",
    "\n",
    "En la lección anterior exploramos cómo realizar una tarea repetitiva con un bucle *for*, ese es un paso muy importante hacia la automatización de nuestras tareas. Ahora, podemos hacer que estas tareas sean mucho más complejas si tomamos decisiones en función de ciertas condiciones lógicas. Para ello, Python dispone de las sentencias `if` y `else`.\n",
    "\n",
    "Antes de iniciar nuestro programa en Python, quiero que veamos un ejemplo de uso de condicionales en [Scratch](https://scratch.mit.edu/). En este ejemplo vamos a hacer lo siguiente:\n",
    "\n",
    "* Cada vez que se pulse la barra espaciadora se asignará un valor aleatorio entre 1 y 10 a la variable *my variable*\n",
    "* Si el valor de *my variable* es menor que 50, el personaje se moverá 100 pasos, rebotando si llega al borde, y hará el sonido de *meow*\n",
    "* Si el valor de *my variable* es mayor que 50, el personaje cambiará de gesto, irá a una posición aleatoria en el cuadro y no hará el sonido de *meow*.\n",
    "* En ambos casos, el personaje mostrará un mensaje con el valor de *my variable*.\n",
    "\n",
    "Para ello, vamos a utilizar los bloques `if` y `else` de Scratch. El bloque `if` se ejecuta si la condición que se le pasa es verdadera, y el bloque `else` se ejecuta si la condición es falsa. En el siguiente ejemplo, el bloque `if` se ejecuta si el valor de *my variable* es menor que 50, y el bloque `else` se ejecuta si el valor de *my variable* es mayor que 50.\n",
    "\n",
    "![Scratch](../_static/imgs/scratch.png)\n",
    "\n",
    "Juega con el ejemplo e intenta identificar qué hace cada bloque y por qué el personaje se comporta de la manera que lo hace.\n",
    "\n",
    "<iframe src=\"https://scratch.mit.edu/projects/807081542/embed\" allowtransparency=\"true\" width=\"485\" height=\"402\" frameborder=\"0\" scrolling=\"no\" allowfullscreen></iframe>\n",
    "\n",
    "Si intentáramos replicar este ejemplo en Python, tendríamos que hacer algo similar a lo siguiente [^1]:"
   ]
  },
  {
   "cell_type": "code",
   "execution_count": 1,
   "id": "32e879b1",
   "metadata": {},
   "outputs": [
    {
     "name": "stdout",
     "output_type": "stream",
     "text": [
      "36\n",
      "El personaje se ha movido a la posición (100, 0)\n",
      "Meow!\n"
     ]
    }
   ],
   "source": [
    "import random\n",
    "\n",
    "my_variable = random.randint(1, 100)\n",
    "\n",
    "posicion_personaje = (0, 0)\n",
    "\n",
    "if my_variable < 50:\n",
    "    posicion_personaje = (posicion_personaje[0] + 100, posicion_personaje[1])\n",
    "    print(f\"{my_variable}\\nEl personaje se ha movido a la posición {posicion_personaje}\\nMeow!\")\n",
    "else:\n",
    "    posicion_personaje = (random.randint(0, 480), random.randint(0, 360))\n",
    "    print(f\"{my_variable}\\nEl personaje se ha movido a la posición {posicion_personaje}\\n\")"
   ]
  },
  {
   "cell_type": "markdown",
   "id": "28bc83ca",
   "metadata": {},
   "source": [
    "No te preocupes si no entiendes completamente este programa. Lo que debes saber por lo pronto es que cada vez que ejecutes este código el personaje se habrá movido a una posición que bien puede ser `(100, 0)` o cualquier coordenada aleatoria entre `(0, 0)` y `(480, 360)`, es decir, el personaje toma una decisión en función de la condición que se le pasa, la cual desconocemos por completo al inicio del programa. Copia este código en un archivo de Python y ejecútalo varias veces para ver cómo se comporta el personaje.\n",
    "\n",
    "Entendamos entonces las condicionales como una forma de tomar decisiones de acuerdo con una condición lógica que puede ser verdadera o falsa. Esto se puede representar con un diagrama de flujo, como el siguiente:\n",
    "\n",
    "![Diagrama de flujo](../_static/imgs/condicional.png)\n",
    "\n",
    "Vemos como, dependiendo de si se cumple o no la condición (si el valor de `my_variable` es menor a 50) el valor de `posición` será diferente. Esta simple estructura es la base de la programación condicional en Python.\n",
    "\n",
    "A continuación veremos cómo se realizan las pruebas condicionales en Python para obtener resultados de verdad o falsedad.\n",
    "\n",
    "[^1]: Este ejemplo es extremadamete sintético. Si quisiéramos replicar el ejemplo de Scratch en Python, tendríamos que utilizar la librería [Pygame](https://www.pygame.org/news) para dibujar el personaje y el fondo, y la librería [Pygame Zero](https://pygame-zero.readthedocs.io/en/stable/) para gestionar los eventos de teclado y ratón. No obstante, es un ejemplo funcional para empezar a entender el funcionamiento de las sentencias `if` y `else`."
   ]
  }
 ],
 "metadata": {
  "jupytext": {
   "cell_metadata_filter": "-all",
   "formats": "md:myst",
   "text_representation": {
    "extension": ".md",
    "format_name": "myst",
    "format_version": 0.13,
    "jupytext_version": "1.14.4"
   }
  },
  "kernelspec": {
   "display_name": "Python 3 (ipykernel)",
   "language": "python",
   "name": "python3"
  },
  "language_info": {
   "codemirror_mode": {
    "name": "ipython",
    "version": 3
   },
   "file_extension": ".py",
   "mimetype": "text/x-python",
   "name": "python",
   "nbconvert_exporter": "python",
   "pygments_lexer": "ipython3",
   "version": "3.11.1"
  },
  "source_map": [
   14,
   37,
   50
  ]
 },
 "nbformat": 4,
 "nbformat_minor": 5
}