{
 "cells": [
  {
   "cell_type": "markdown",
   "id": "94812bbf",
   "metadata": {},
   "source": [
    "# Clases\n",
    "\n",
    "Si podemos hacer la analogía de una función como una acción, podemos entender igualmente una clase como una entidad. En nuestros programas previos, elaboramos bibliografías a partir de datos que teníamos en diccionarios. Las funciones realizaban acciones, operaciones de búsqueda, segmentación, etc. La pregunta en este caso sería ¿qué entidad o entidades constituyen una bibliografía?\n",
    "\n",
    "Un catálogo bibliográfico no es otra cosa sino la representación de objetos bibliográficos: libros, revistas, manuscritos, videos, entre otros. En este sentido, podemos asimilar esto en un lenguaje de programación, donde creamos un objeto digital correspondiente a un libro, revista, etc. y que tenga las propiedades y métodos que necesitemos para trabajar con él.\n",
    "\n",
    "Iniciemos nuestro ejercicio creando la clase Libro. En este caso, la clase Libro tendrá como propiedades el título, el autor, el año de publicación y el lugar de publicación. Además, tendrá como métodos el mostrar la información del libro y el mostrar el autor."
   ]
  },
  {
   "cell_type": "code",
   "execution_count": 1,
   "id": "ae5fe682",
   "metadata": {},
   "outputs": [],
   "source": [
    "class Libro:\n",
    "    def __init__(self, titulo, autor, anio, lugar):\n",
    "        self.titulo = titulo\n",
    "        self.autor = autor\n",
    "        self.anio = anio\n",
    "        self.lugar = lugar\n",
    "\n",
    "    def mostrar_info(self):\n",
    "        print(f\"El libro {self.titulo} fue escrito por {self.autor} en {self.lugar} en el año {self.anio}.\")\n",
    "\n",
    "    def mostrar_autor(self):\n",
    "        print(f\"El autor del libro {self.titulo} es {self.autor}.\")"
   ]
  },
  {
   "cell_type": "markdown",
   "id": "02ff4ff7",
   "metadata": {},
   "source": [
    "Habrás notado rápidamente la sintaxis de una clase: para crear este objeto, necesitamos hacer uso de la palabra reservada `class` seguido por el nombre arbitrario de la clase. Por convención, la clase se escribe en estilo \"Camel Case\", es decir, la primera letra de cada palabra es mayúscula. En el cuerpo de la clase, se definen las propiedades y métodos de la clase. En este caso, las propiedades son las variables que definen el objeto y los métodos son las acciones que puede realizar el objeto.\n",
    "\n",
    "## El método `__init__`\n",
    "\n",
    "Habrás notado que las propiedades del objeto se asignan en el método `__init__`. Este es un método especial de Python que se crea automáticamente cada vez que se instancia una clase.\n",
    "\n",
    "```{admonition} Sintaxis\n",
    ":class: tip\n",
    "Ten cuidado con la sintaxis del método `__init__`. Debes utilizar **dos guiones bajos** antes y después de la palabra `init`. Si no lo haces, Python no reconocerá el método como tal y no funcionará correctamente.\n",
    "```\n",
    "\n",
    "Notarás también que el método `__init__()` recibe cinco parámetros: `self`, `titulo`, `autor`, `anio` y `lugar`. El primer parámetro, `self`, es una referencia al objeto actual, y se utiliza para acceder a las variables que pertenecen a la clase. Los otros cuatro parámetros son los que se utilizan para crear el objeto. En este caso, los parámetros `titulo`, `autor`, `anio` y `lugar` son los que se asignan a las propiedades del objeto.\n",
    "\n",
    "## El parámetro `self`\n",
    "\n",
    "En Python, la palabra clave self se utiliza como el primer parámetro en la definición de los métodos de una clase. Este parámetro hace referencia a la instancia actual de la clase y se utiliza para acceder a los atributos y métodos de esa instancia. En este caso, el parámetro `self` se utiliza para acceder a las propiedades del objeto.\n",
    "\n",
    "Cada vez que se crea una instancia de la clase, Python crea un objeto y lo asigna a la variable `self`. Por lo tanto, podemos acceder a las propiedades del objeto utilizando la variable `self`."
   ]
  },
  {
   "cell_type": "code",
   "execution_count": 2,
   "id": "d185246f",
   "metadata": {},
   "outputs": [
    {
     "name": "stdout",
     "output_type": "stream",
     "text": [
      "El libro El Quijote fue escrito por Miguel de Cervantes en Madrid en el año 1605.\n",
      "None\n"
     ]
    }
   ],
   "source": [
    "libro1 = Libro(\"El Quijote\", \"Miguel de Cervantes\", 1605, \"Madrid\")\n",
    "print(libro1.mostrar_info())"
   ]
  },
  {
   "cell_type": "markdown",
   "id": "b80996b4",
   "metadata": {},
   "source": [
    "Para que un parámetro se convierta en una propiedad del objeto es necesario utilizar la palabra clave `self`. Si hiciésemos lo contrario y no utilizásemos la palabra clave `self`, el parámetro no se convertiría en una propiedad del objeto."
   ]
  },
  {
   "cell_type": "code",
   "execution_count": 3,
   "id": "5969661b",
   "metadata": {},
   "outputs": [
    {
     "ename": "TypeError",
     "evalue": "Libro.__init__() takes 4 positional arguments but 5 were given",
     "output_type": "error",
     "traceback": [
      "\u001b[1;31m---------------------------------------------------------------------------\u001b[0m",
      "\u001b[1;31mTypeError\u001b[0m                                 Traceback (most recent call last)",
      "Cell \u001b[1;32mIn[3], line 14\u001b[0m\n\u001b[0;32m     11\u001b[0m     \u001b[38;5;28;01mdef\u001b[39;00m \u001b[38;5;21mmostrar_autor\u001b[39m():\n\u001b[0;32m     12\u001b[0m         \u001b[38;5;28mprint\u001b[39m(\u001b[38;5;124mf\u001b[39m\u001b[38;5;124m\"\u001b[39m\u001b[38;5;124mEl autor del libro \u001b[39m\u001b[38;5;132;01m{\u001b[39;00mtitulo\u001b[38;5;132;01m}\u001b[39;00m\u001b[38;5;124m es \u001b[39m\u001b[38;5;132;01m{\u001b[39;00mautor\u001b[38;5;132;01m}\u001b[39;00m\u001b[38;5;124m.\u001b[39m\u001b[38;5;124m\"\u001b[39m)\n\u001b[1;32m---> 14\u001b[0m libro1 \u001b[38;5;241m=\u001b[39m \u001b[43mLibro\u001b[49m\u001b[43m(\u001b[49m\u001b[38;5;124;43m\"\u001b[39;49m\u001b[38;5;124;43mEl Quijote\u001b[39;49m\u001b[38;5;124;43m\"\u001b[39;49m\u001b[43m,\u001b[49m\u001b[43m \u001b[49m\u001b[38;5;124;43m\"\u001b[39;49m\u001b[38;5;124;43mMiguel de Cervantes\u001b[39;49m\u001b[38;5;124;43m\"\u001b[39;49m\u001b[43m,\u001b[49m\u001b[43m \u001b[49m\u001b[38;5;241;43m1605\u001b[39;49m\u001b[43m,\u001b[49m\u001b[43m \u001b[49m\u001b[38;5;124;43m\"\u001b[39;49m\u001b[38;5;124;43mMadrid\u001b[39;49m\u001b[38;5;124;43m\"\u001b[39;49m\u001b[43m)\u001b[49m\n\u001b[0;32m     15\u001b[0m \u001b[38;5;28mprint\u001b[39m(libro1\u001b[38;5;241m.\u001b[39mmostrar_info())\n",
      "\u001b[1;31mTypeError\u001b[0m: Libro.__init__() takes 4 positional arguments but 5 were given"
     ]
    }
   ],
   "source": [
    "class Libro:\n",
    "    def __init__(titulo, autor, anio, lugar):\n",
    "        titulo = titulo\n",
    "        autor = autor\n",
    "        anio = anio\n",
    "        lugar = lugar\n",
    "\n",
    "    def mostrar_info():\n",
    "        print(f\"El libro {titulo} fue escrito por {autor} en {lugar} en el año {anio}.\")\n",
    "\n",
    "    def mostrar_autor():\n",
    "        print(f\"El autor del libro {titulo} es {autor}.\")\n",
    "\n",
    "libro1 = Libro(\"El Quijote\", \"Miguel de Cervantes\", 1605, \"Madrid\")\n",
    "print(libro1.mostrar_info())"
   ]
  },
  {
   "cell_type": "markdown",
   "id": "e06dd0c7",
   "metadata": {},
   "source": [
    "Verás que nos muestra un `TypeError` en el que se esperaba recibir 4 parámetros posicionales y se pasaron 5. ¿A qué se debe esto? El problema en el código es que el método `__init__` de la clase Libro no está recibiendo el primer argumento self. El primer argumento de cualquier método de una clase en Python siempre debe ser self, que hace referencia a la instancia de la clase en sí misma. Por lo tanto, cuando llamamos a un método de una clase, Python automáticamente pasa la instancia de la clase como el primer argumento. Por lo tanto, si no incluimos el parámetro self en el método `__init__`, Python no sabrá qué hacer con él.\n",
    "\n",
    "## Hacer una instancia de una clase\n",
    "\n",
    "Para crear una instancia de una clase, debemos llamar a la clase como si fuera una función. En este caso, la clase Libro se llama como si fuera una función y se le pasan los parámetros necesarios para crear el objeto."
   ]
  },
  {
   "cell_type": "code",
   "execution_count": 4,
   "id": "d595ec16",
   "metadata": {
    "tags": [
     "remove-cell"
    ]
   },
   "outputs": [],
   "source": [
    "class Libro:\n",
    "    def __init__(self, titulo, autor, anio, lugar):\n",
    "        self.titulo = titulo\n",
    "        self.autor = autor\n",
    "        self.anio = anio\n",
    "        self.lugar = lugar\n",
    "\n",
    "    def mostrar_info(self):\n",
    "        print(f\"El libro {self.titulo} fue escrito por {self.autor} en {self.lugar} en el año {self.anio}.\")\n",
    "\n",
    "    def mostrar_autor(self):\n",
    "        print(f\"El autor del libro {self.titulo} es {self.autor}.\")"
   ]
  },
  {
   "cell_type": "code",
   "execution_count": 5,
   "id": "57000158",
   "metadata": {},
   "outputs": [],
   "source": [
    "libro1 = Libro(\"El Quijote\", \"Miguel de Cervantes\", 1605, \"Madrid\")"
   ]
  },
  {
   "cell_type": "markdown",
   "id": "00e12442",
   "metadata": {},
   "source": [
    "## Acceder a las propiedades o atributos de una instancia\n",
    "\n",
    "Una vez que hemos creado una instancia de la clase, podemos acceder a los atributos de la instancia utilizando la notación de punto."
   ]
  },
  {
   "cell_type": "code",
   "execution_count": 6,
   "id": "5bbd2eb3",
   "metadata": {},
   "outputs": [
    {
     "name": "stdout",
     "output_type": "stream",
     "text": [
      "El Quijote\n",
      "Miguel de Cervantes\n",
      "1605\n",
      "Madrid\n"
     ]
    }
   ],
   "source": [
    "print(libro1.titulo)\n",
    "print(libro1.autor)\n",
    "print(libro1.anio)\n",
    "print(libro1.lugar)"
   ]
  },
  {
   "cell_type": "markdown",
   "id": "8d3c0042",
   "metadata": {},
   "source": [
    "## Llamar métodos\n",
    "\n",
    "Para llamar a un método de una clase, utilizamos igualmente la notación de punto. En este caso, llamamos al método `mostrar_info` de la clase Libro."
   ]
  },
  {
   "cell_type": "code",
   "execution_count": 7,
   "id": "298c1053",
   "metadata": {},
   "outputs": [
    {
     "name": "stdout",
     "output_type": "stream",
     "text": [
      "El libro El Quijote fue escrito por Miguel de Cervantes en Madrid en el año 1605.\n"
     ]
    }
   ],
   "source": [
    "libro1.mostrar_info()"
   ]
  },
  {
   "cell_type": "markdown",
   "id": "7fe607e3",
   "metadata": {},
   "source": [
    "También podemos, de la misma manera, llamar al método `mostrar_autor`."
   ]
  },
  {
   "cell_type": "code",
   "execution_count": 8,
   "id": "d29ed5fe",
   "metadata": {},
   "outputs": [
    {
     "name": "stdout",
     "output_type": "stream",
     "text": [
      "El autor del libro El Quijote es Miguel de Cervantes.\n"
     ]
    }
   ],
   "source": [
    "libro1.mostrar_autor()"
   ]
  },
  {
   "cell_type": "markdown",
   "id": "e0435cfd",
   "metadata": {},
   "source": [
    "Básicamente, estamos pasando una función que toma los argumentos de la instancia como argumentos de la función.\n",
    "\n",
    "## Crear múltiples instancias\n",
    "\n",
    "Podemos crear múltiples instancias de una clase. En este caso, creamos dos instancias de la clase Libro."
   ]
  },
  {
   "cell_type": "code",
   "execution_count": 9,
   "id": "56d2bee2",
   "metadata": {},
   "outputs": [],
   "source": [
    "libro2 = Libro(\"El Principito\", \"Antoine de Saint-Exupéry\", 1943, \"Francia\")\n",
    "libro3 = Libro(\"El Hobbit\", \"J. R. R. Tolkien\", 1937, \"Inglaterra\")"
   ]
  },
  {
   "cell_type": "markdown",
   "id": "ee25a614",
   "metadata": {},
   "source": [
    "De esta manera podemos acceder a los atributos de cada uno de los objetos creados."
   ]
  },
  {
   "cell_type": "code",
   "execution_count": 10,
   "id": "692327c7",
   "metadata": {},
   "outputs": [
    {
     "name": "stdout",
     "output_type": "stream",
     "text": [
      "Mostrar la información del libro 1\n",
      "El libro El Quijote fue escrito por Miguel de Cervantes en Madrid en el año 1605.\n",
      "El autor del libro El Quijote es Miguel de Cervantes.\n",
      "\n",
      "Mostrar la información del libro 2\n",
      "El libro El Principito fue escrito por Antoine de Saint-Exupéry en Francia en el año 1943.\n",
      "El autor del libro El Principito es Antoine de Saint-Exupéry.\n",
      "\n",
      "Mostrar la información del libro 3\n",
      "El libro El Hobbit fue escrito por J. R. R. Tolkien en Inglaterra en el año 1937.\n",
      "El autor del libro El Hobbit es J. R. R. Tolkien.\n",
      "\n"
     ]
    }
   ],
   "source": [
    "print(\"Mostrar la información del libro 1\")\n",
    "libro1.mostrar_info()\n",
    "libro1.mostrar_autor()\n",
    "print(\"\")\n",
    "\n",
    "print(\"Mostrar la información del libro 2\")\n",
    "libro2.mostrar_info()\n",
    "libro2.mostrar_autor()\n",
    "print(\"\")\n",
    "\n",
    "print(\"Mostrar la información del libro 3\")\n",
    "libro3.mostrar_info()\n",
    "libro3.mostrar_autor()\n",
    "print(\"\")"
   ]
  },
  {
   "cell_type": "markdown",
   "id": "93ce1054",
   "metadata": {},
   "source": [
    "Un aspecto importante a tener en cuenta es que incluso si tenemos la misma información es posible crear dos instancias diferentes de la misma clase."
   ]
  },
  {
   "cell_type": "code",
   "execution_count": 11,
   "id": "99205557",
   "metadata": {},
   "outputs": [],
   "source": [
    "libro4 = Libro(\"El Quijote\", \"Miguel de Cervantes\", 1605, \"Madrid\")\n",
    "libro5 = Libro(\"El Quijote\", \"Miguel de Cervantes\", 1605, \"Madrid\")"
   ]
  },
  {
   "cell_type": "markdown",
   "id": "609b2327",
   "metadata": {},
   "source": [
    "Para Python, `libro4` y `libro5` son dos objetos diferentes, aunque tengan la misma información."
   ]
  },
  {
   "cell_type": "code",
   "execution_count": 12,
   "id": "0755312f",
   "metadata": {},
   "outputs": [
    {
     "name": "stdout",
     "output_type": "stream",
     "text": [
      "El libro El Quijote fue escrito por Miguel de Cervantes en Madrid en el año 1605.\n",
      "None\n",
      "El libro El Quijote fue escrito por Miguel de Cervantes en Madrid en el año 1605.\n",
      "None\n"
     ]
    }
   ],
   "source": [
    "print(libro4.mostrar_info())\n",
    "print(libro5.mostrar_info())"
   ]
  },
  {
   "cell_type": "markdown",
   "id": "53eed573",
   "metadata": {},
   "source": [
    "Dependiendo de la situación, esto puede ser una ventaja o una desventaja. Lo que es fundamental es que tengamos en cuenta que esta es una característica del lenguaje de programación Python y que debemos tenerla en cuenta a la hora de crear nuestros programas.\n",
    "\n",
    "## Actividad autónoma\n",
    "\n",
    "1. Crea una clase llamada `Colección` que tenga como atributos el `nombre` y la `fecha de creación`. Crea un método llamado `mostrar_info` que muestre por pantalla la información de la colección. Crea una instancia de la clase `Colección` y muestra la información de la colección.\n",
    "2. Crea una clase llamada `Usuario` que tenga como atributos el `nombre`, el `apellido`, la `fecha de nacimiento` y el `correo electrónico`. Crea un método llamado `saludo` que muestre por pantalla un saludo personalizado al usuario. Crea una instancia de la clase `Usuario` y muestra un saludo personalizado al usuario."
   ]
  }
 ],
 "metadata": {
  "jupytext": {
   "cell_metadata_filter": "-all",
   "formats": "md:myst",
   "text_representation": {
    "extension": ".md",
    "format_name": "myst",
    "format_version": 0.13,
    "jupytext_version": "1.14.4"
   }
  },
  "kernelspec": {
   "display_name": "Python 3 (ipykernel)",
   "language": "python",
   "name": "python3"
  },
  "language_info": {
   "codemirror_mode": {
    "name": "ipython",
    "version": 3
   },
   "file_extension": ".py",
   "mimetype": "text/x-python",
   "name": "python",
   "nbconvert_exporter": "python",
   "pygments_lexer": "ipython3",
   "version": "3.11.4"
  },
  "source_map": [
   14,
   24,
   37,
   58,
   61,
   65,
   81,
   89,
   105,
   107,
   113,
   118,
   124,
   126,
   130,
   132,
   140,
   143,
   147,
   162,
   166,
   169,
   173,
   176
  ]
 },
 "nbformat": 4,
 "nbformat_minor": 5
}