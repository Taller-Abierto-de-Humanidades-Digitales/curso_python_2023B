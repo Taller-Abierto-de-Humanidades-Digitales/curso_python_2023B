{
 "cells": [
  {
   "cell_type": "markdown",
   "id": "33d4557d",
   "metadata": {},
   "source": [
    "# Crear módulos\n",
    "\n",
    "En esta parte, realizaremos una modularización simple para que podamos entender cómo funciona. Para ello, vamos a retomar el diccionario con el conjunto de bibliografía que utilizamos en el capítulo [Iterar a través de un diccionario](18-iterardiccio.md). Para ello, creamos un archivo llamado `biblio.py` y escribimos el siguiente código:"
   ]
  },
  {
   "cell_type": "code",
   "execution_count": 1,
   "id": "eb46a12f",
   "metadata": {},
   "outputs": [],
   "source": [
    "bibliografia = {\n",
    "    \"001\": {\n",
    "        \"tipo\": \"libro\",\n",
    "        \"autor\": [{\"nombre\": \"Martin\", \"apellido\": \"Heidegger\"}],\n",
    "        \"titulo\": \"Ser y tiempo\",\n",
    "        \"editorial\": \"Trotta\",\n",
    "        \"lugar\": \"Madrid\",\n",
    "        \"fecha\": 2003\n",
    "    },\n",
    "    \"002\": {\n",
    "        \"tipo\": \"libro\",\n",
    "        \"autor\": [{\"nombre\": \"Fernand\", \"apellido\": \"Braudel\"}],\n",
    "        \"titulo\": \"El Mediterráneo y el mundo mediterráneo en la época de Felipe II\",\n",
    "        \"editorial\": \"Fondo de Cultura Económica\",\n",
    "        \"lugar\": \"México\",\n",
    "        \"fecha\": 2022,\n",
    "        \"edicion\": \"tercera\"\n",
    "    },\n",
    "    \"003\": {\n",
    "        \"tipo\": \"libro\",\n",
    "        \"autor\": [{\"nombre\": \"Hans-Georg\", \"apellido\": \"Gadamer\"}],\n",
    "        \"titulo\": \"Verdad y método I: fundamentos de una hermenéutica filosófica\",\n",
    "        \"editorial\": \"Sígueme\",\n",
    "        \"lugar\": \"Salamanca\",\n",
    "        \"fecha\": 1996\n",
    "    },\n",
    "    \"004\": {\n",
    "        \"tipo\": \"libro\",\n",
    "        \"autor\": [{\"nombre\": \"Giorgio\", \"apellido\": \"Agamben\"}],\n",
    "        \"titulo\": \"Estado de excepción\",\n",
    "        \"editorial\": \"Adriana Hidalgo Editora\",\n",
    "        \"lugar\": \"Buenos Aires\",\n",
    "        \"fecha\": 2010\n",
    "    },\n",
    "    \"005\": {\n",
    "        \"tipo\": \"libro\",\n",
    "        \"autor\": [{\"nombre\": \"Ludwig\", \"apellido\": \"Wittgenstein\"}],\n",
    "        \"titulo\": \"Zettel\",\n",
    "        \"editorial\": \"University of California Press\",\n",
    "        \"lugar\": \"Berkeley\",\n",
    "        \"fecha\": 1970,\n",
    "        \"idioma\": \"en\"\n",
    "    }\n",
    "}"
   ]
  },
  {
   "cell_type": "markdown",
   "id": "ad36bdde",
   "metadata": {},
   "source": [
    "Este archivo funcionará como un módulo cuya única intención es almacenar un diccionario con la bibliografía.[^nota3]\n",
    "\n",
    "En el **mismo directorio**, creamos un archivo llamado `biblioteca.py` y escribimos el siguiente código:"
   ]
  },
  {
   "cell_type": "code",
   "execution_count": 2,
   "id": "bbea750d",
   "metadata": {},
   "outputs": [],
   "source": [
    "from biblio import bibliografia"
   ]
  },
  {
   "cell_type": "markdown",
   "id": "fcda586c",
   "metadata": {},
   "source": [
    "Si todo ha salido bien, al ejecutar el código anterior no debería aparecer ningún error. En caso contrario, es posible que salga el error `ModuleNotFoundError: No module named 'biblio'`. Esto significa que Python no encuentra el módulo `biblio`. Para solucionarlo, debemos asegurarnos de que el archivo `biblio.py` se encuentra en el mismo directorio que el archivo `biblioteca.py`.\n",
    "\n",
    "```{admonition} Nota\n",
    ":class: tip\n",
    "La importación de la celda anterior funciona, de hecho, al realizar la importación del archivo `biblio.py` que se encuentra en el directorio `tutoriales`. En ese sentido, este cuaderno funciona porque es posible llamar a esta `bibliografia` desde el \"módulo\" biblio.\n",
    "```\n",
    "\n",
    "Ahora, podemos crear una función que nos permita realizar búsquedas en el diccionario `bibliografia`. Para ello, escribimos el siguiente código:"
   ]
  },
  {
   "cell_type": "code",
   "execution_count": 3,
   "id": "bc716611",
   "metadata": {},
   "outputs": [],
   "source": [
    "def buscar_biblio(campo, valor):\n",
    "    for clave, item in bibliografia.items():\n",
    "        if item[campo] == valor:\n",
    "            return clave, item"
   ]
  },
  {
   "cell_type": "markdown",
   "id": "6bc08650",
   "metadata": {},
   "source": [
    "La función `buscar_biblio()` recibe dos argumentos: `campo` y `valor`. El argumento `campo` es una cadena de caracteres que indica el campo del diccionario `bibliografia` que queremos buscar ('tipo', 'autor', 'titulo', etc). El argumento `valor` la palabra o frase que queremos buscar en el campo indicado por `campo`. La función devuelve una tupla con la clave y el valor del diccionario `bibliografia` que cumple con la condición de búsqueda.\n",
    "\n",
    "Escribamos ahora una función que permita darle formato a la salida de la función `buscar_biblio()`:"
   ]
  },
  {
   "cell_type": "code",
   "execution_count": 4,
   "id": "57824e61",
   "metadata": {},
   "outputs": [],
   "source": [
    "def formato_biblio(clave, item):\n",
    "    print(f\"Clave: {clave}\")\n",
    "    print(f\"Tipo: {item['tipo']}\")\n",
    "    print(f\"Autor: {item['autor'][0]['nombre']} {item['autor'][0]['apellido']}\")\n",
    "    print(f\"Título: {item['titulo']}\")\n",
    "    print(f\"Editorial: {item['editorial']}\")\n",
    "    print(f\"Lugar: {item['lugar']}\")\n",
    "    print(f\"Fecha: {item['fecha']}\")"
   ]
  },
  {
   "cell_type": "markdown",
   "id": "1a913ee5",
   "metadata": {},
   "source": [
    "Finalmente, escribamos una función que una ambas funciones anteriores:"
   ]
  },
  {
   "cell_type": "code",
   "execution_count": 5,
   "id": "ff090b79",
   "metadata": {},
   "outputs": [],
   "source": [
    "def busqueda_simple(campo, valor):\n",
    "    clave, item = buscar_biblio(campo, valor)\n",
    "    formato_biblio(clave, item)"
   ]
  },
  {
   "cell_type": "markdown",
   "id": "659d1222",
   "metadata": {},
   "source": [
    "Ahora, podemos ejecutar la función `busqueda_simple()` para buscar un libro por su título:"
   ]
  },
  {
   "cell_type": "code",
   "execution_count": 6,
   "id": "2d6aeefa",
   "metadata": {},
   "outputs": [
    {
     "name": "stdout",
     "output_type": "stream",
     "text": [
      "Clave: 001\n",
      "Tipo: libro\n",
      "Autor: Martin Heidegger\n",
      "Título: Ser y tiempo\n",
      "Editorial: Trotta\n",
      "Lugar: Madrid\n",
      "Fecha: 2003\n"
     ]
    }
   ],
   "source": [
    "busqueda_simple(\"titulo\", \"Ser y tiempo\")"
   ]
  },
  {
   "cell_type": "markdown",
   "id": "40250307",
   "metadata": {},
   "source": [
    "Este código tiene un problema: si realizamos la importación desde otro archivo, se ejecutará la linea `busqueda_simple(\"titulo\", \"Ser y tiempo\")` y se mostrará el resultado de la búsqueda. Esto no es deseable, ya que queremos que la función `busqueda_simple()` sea llamada desde otro archivo. Para solucionar este problema, podemos utilizar la instrucción `if __name__ == \"__main__\":`. Al final, nuestro código quedaría de la siguiente manera:"
   ]
  },
  {
   "cell_type": "code",
   "execution_count": 7,
   "id": "f2a1730e",
   "metadata": {},
   "outputs": [
    {
     "name": "stdout",
     "output_type": "stream",
     "text": [
      "Clave: 001\n",
      "Tipo: libro\n",
      "Autor: Martin Heidegger\n",
      "Título: Ser y tiempo\n",
      "Editorial: Trotta\n",
      "Lugar: Madrid\n",
      "Fecha: 2003\n"
     ]
    }
   ],
   "source": [
    "from biblio import bibliografia\n",
    "\n",
    "def buscar_biblio(campo, valor):\n",
    "    for clave, item in bibliografia.items():\n",
    "        if item[campo] == valor:\n",
    "            return clave, item\n",
    "\n",
    "def formato_biblio(clave, item):\n",
    "    print(f\"Clave: {clave}\")\n",
    "    print(f\"Tipo: {item['tipo']}\")\n",
    "    print(f\"Autor: {item['autor'][0]['nombre']} {item['autor'][0]['apellido']}\")\n",
    "    print(f\"Título: {item['titulo']}\")\n",
    "    print(f\"Editorial: {item['editorial']}\")\n",
    "    print(f\"Lugar: {item['lugar']}\")\n",
    "    print(f\"Fecha: {item['fecha']}\")\n",
    "\n",
    "def busqueda_simple(campo, valor):\n",
    "    clave, item = buscar_biblio(campo, valor)\n",
    "    formato_biblio(clave, item)\n",
    "\n",
    "if __name__ == \"__main__\":\n",
    "    busqueda_simple(\"titulo\", \"Ser y tiempo\")"
   ]
  },
  {
   "cell_type": "markdown",
   "id": "1095baa0",
   "metadata": {},
   "source": [
    "La instrucción `if __name__ == \"__main__\":` permite ejecutar el código que se encuentra dentro de ella únicamente si el archivo es ejecutado como un programa principal. En caso contrario, el código no se ejecuta. Esto es útil cuando queremos importar un módulo y no queremos que se ejecute el código que se encuentra fuera de las funciones.\n",
    "\n",
    "Finalmente, podemos crear un programa que aproveche el módulo `biblioteca` que acabamos de crear y que funcione como una interfaz de búsqueda de la bibliografía. Para ello, creamos un archivo llamado `busqueda.py` y escribimos el siguiente código:"
   ]
  },
  {
   "cell_type": "code",
   "execution_count": 8,
   "id": "b3a7b0e2",
   "metadata": {},
   "outputs": [
    {
     "name": "stdout",
     "output_type": "stream",
     "text": [
      "1. Buscar por título\n",
      "2. Buscar por autor\n",
      "3. Salir\n"
     ]
    },
    {
     "ename": "StdinNotImplementedError",
     "evalue": "raw_input was called, but this frontend does not support input requests.",
     "output_type": "error",
     "traceback": [
      "\u001b[1;31m---------------------------------------------------------------------------\u001b[0m",
      "\u001b[1;31mStdinNotImplementedError\u001b[0m                  Traceback (most recent call last)",
      "Cell \u001b[1;32mIn[8], line 24\u001b[0m\n\u001b[0;32m     21\u001b[0m         opcion \u001b[38;5;241m=\u001b[39m menu()\n\u001b[0;32m     23\u001b[0m \u001b[38;5;28;01mif\u001b[39;00m \u001b[38;5;18m__name__\u001b[39m \u001b[38;5;241m==\u001b[39m \u001b[38;5;124m\"\u001b[39m\u001b[38;5;124m__main__\u001b[39m\u001b[38;5;124m\"\u001b[39m:\n\u001b[1;32m---> 24\u001b[0m     \u001b[43mmain\u001b[49m\u001b[43m(\u001b[49m\u001b[43m)\u001b[49m\n",
      "Cell \u001b[1;32mIn[8], line 11\u001b[0m, in \u001b[0;36mmain\u001b[1;34m()\u001b[0m\n\u001b[0;32m     10\u001b[0m \u001b[38;5;28;01mdef\u001b[39;00m \u001b[38;5;21mmain\u001b[39m():\n\u001b[1;32m---> 11\u001b[0m     opcion \u001b[38;5;241m=\u001b[39m \u001b[43mmenu\u001b[49m\u001b[43m(\u001b[49m\u001b[43m)\u001b[49m\n\u001b[0;32m     12\u001b[0m     \u001b[38;5;28;01mwhile\u001b[39;00m opcion \u001b[38;5;241m!=\u001b[39m \u001b[38;5;124m\"\u001b[39m\u001b[38;5;124m3\u001b[39m\u001b[38;5;124m\"\u001b[39m:\n\u001b[0;32m     13\u001b[0m         \u001b[38;5;28;01mif\u001b[39;00m opcion \u001b[38;5;241m==\u001b[39m \u001b[38;5;124m\"\u001b[39m\u001b[38;5;124m1\u001b[39m\u001b[38;5;124m\"\u001b[39m:\n",
      "Cell \u001b[1;32mIn[8], line 7\u001b[0m, in \u001b[0;36mmenu\u001b[1;34m()\u001b[0m\n\u001b[0;32m      5\u001b[0m \u001b[38;5;28mprint\u001b[39m(\u001b[38;5;124m\"\u001b[39m\u001b[38;5;124m2. Buscar por autor\u001b[39m\u001b[38;5;124m\"\u001b[39m)\n\u001b[0;32m      6\u001b[0m \u001b[38;5;28mprint\u001b[39m(\u001b[38;5;124m\"\u001b[39m\u001b[38;5;124m3. Salir\u001b[39m\u001b[38;5;124m\"\u001b[39m)\n\u001b[1;32m----> 7\u001b[0m opcion \u001b[38;5;241m=\u001b[39m \u001b[38;5;28;43minput\u001b[39;49m\u001b[43m(\u001b[49m\u001b[38;5;124;43m\"\u001b[39;49m\u001b[38;5;124;43mIngrese una opción: \u001b[39;49m\u001b[38;5;124;43m\"\u001b[39;49m\u001b[43m)\u001b[49m\n\u001b[0;32m      8\u001b[0m \u001b[38;5;28;01mreturn\u001b[39;00m opcion\n",
      "File \u001b[1;32mE:\\Proyectos\\curso_python_extenso\\curso_env\\Lib\\site-packages\\ipykernel\\kernelbase.py:1181\u001b[0m, in \u001b[0;36mKernel.raw_input\u001b[1;34m(self, prompt)\u001b[0m\n\u001b[0;32m   1179\u001b[0m \u001b[38;5;28;01mif\u001b[39;00m \u001b[38;5;129;01mnot\u001b[39;00m \u001b[38;5;28mself\u001b[39m\u001b[38;5;241m.\u001b[39m_allow_stdin:\n\u001b[0;32m   1180\u001b[0m     msg \u001b[38;5;241m=\u001b[39m \u001b[38;5;124m\"\u001b[39m\u001b[38;5;124mraw_input was called, but this frontend does not support input requests.\u001b[39m\u001b[38;5;124m\"\u001b[39m\n\u001b[1;32m-> 1181\u001b[0m     \u001b[38;5;28;01mraise\u001b[39;00m StdinNotImplementedError(msg)\n\u001b[0;32m   1182\u001b[0m \u001b[38;5;28;01mreturn\u001b[39;00m \u001b[38;5;28mself\u001b[39m\u001b[38;5;241m.\u001b[39m_input_request(\n\u001b[0;32m   1183\u001b[0m     \u001b[38;5;28mstr\u001b[39m(prompt),\n\u001b[0;32m   1184\u001b[0m     \u001b[38;5;28mself\u001b[39m\u001b[38;5;241m.\u001b[39m_parent_ident[\u001b[38;5;124m\"\u001b[39m\u001b[38;5;124mshell\u001b[39m\u001b[38;5;124m\"\u001b[39m],\n\u001b[0;32m   1185\u001b[0m     \u001b[38;5;28mself\u001b[39m\u001b[38;5;241m.\u001b[39mget_parent(\u001b[38;5;124m\"\u001b[39m\u001b[38;5;124mshell\u001b[39m\u001b[38;5;124m\"\u001b[39m),\n\u001b[0;32m   1186\u001b[0m     password\u001b[38;5;241m=\u001b[39m\u001b[38;5;28;01mFalse\u001b[39;00m,\n\u001b[0;32m   1187\u001b[0m )\n",
      "\u001b[1;31mStdinNotImplementedError\u001b[0m: raw_input was called, but this frontend does not support input requests."
     ]
    }
   ],
   "source": [
    "from biblioteca import busqueda_simple\n",
    "\n",
    "def menu():\n",
    "    print(\"1. Buscar por título\")\n",
    "    print(\"2. Buscar por autor\")\n",
    "    print(\"3. Salir\")\n",
    "    opcion = input(\"Ingrese una opción: \")\n",
    "    return opcion\n",
    "\n",
    "def main():\n",
    "    opcion = menu()\n",
    "    while opcion != \"3\":\n",
    "        if opcion == \"1\":\n",
    "            titulo = input(\"Ingrese el título: \")\n",
    "            busqueda_simple(\"titulo\", titulo)\n",
    "        elif opcion == \"2\":\n",
    "            autor = input(\"Ingrese el autor: \")\n",
    "            busqueda_simple(\"autor\", autor)\n",
    "        else:\n",
    "            print(\"Opción inválida\")\n",
    "        opcion = menu()\n",
    "\n",
    "if __name__ == \"__main__\":\n",
    "    main()"
   ]
  },
  {
   "cell_type": "markdown",
   "id": "438aa9ca",
   "metadata": {},
   "source": [
    "El programa `busqueda.py` importa la función `busqueda_simple()` del módulo `biblioteca`. Luego, define una función `menu()` que muestra un menú de opciones y devuelve la opción elegida por el usuario. La función `main()` muestra el menú y ejecuta la función `busqueda_simple()` según la opción elegida por el usuario. Finalmente, la función `main()` se ejecuta únicamente si el archivo es ejecutado como un programa principal.\n",
    "\n",
    "Ahora puedes probar el programa `busqueda.py` desde la terminal:\n",
    "\n",
    "```bash\n",
    "python busqueda.py\n",
    "```\n",
    "\n",
    "Así podrás realizar búsquedas en la bibliografía de manera similar a este ejemplo:\n",
    "\n",
    "```bash\n",
    "python busqueda.py\n",
    "\n",
    "Ingrese una opción: 1\n",
    "Ingrese el título: Ser y tiempo\n",
    "Clave: 001\n",
    "Tipo: libro\n",
    "Autor: Martin Heidegger\n",
    "Título: Ser y tiempo\n",
    "Editorial: Trotta\n",
    "Lugar: Madrid\n",
    "Fecha: 2003\n",
    "Ingrese una opción:\n",
    "```\n",
    "\n",
    "De esta manera tenemos un buscador simple, modular y que podemos mantener de manera adecuada.\n",
    "\n",
    "## Ejercicios\n",
    "\n",
    "Estos ejercicios son opcionales. Si deseas practicar más, puedes intentar resolverlos.\n",
    "\n",
    "1. Modifica el programa `busqueda.py` para que permita realizar búsquedas por año de publicación.\n",
    "2. Modifica el programa `busqueda.py` para que no se presente el error `TypeError` cuando se ingresa un valor no existente (por ejemplo \"Ser y Tiempo\")\n",
    "3. Modifica el programa `busqueda.py` para que permita realizar búsquedas por coincidencia parcial (por ejemplo, \"Ser\" o \"tiempo\").\n",
    "\n",
    "## Notas\n",
    "\n",
    "[^nota3]: En una aplicación real utilizaríamos un formato de archivo específico para almacenar información, como por ejemplo un archivo CSV o JSON. En las secciones del curso dedicadas a la lectura y escritura de archivos, abordaremos estos temas."
   ]
  }
 ],
 "metadata": {
  "jupytext": {
   "cell_metadata_filter": "-all",
   "formats": "md:myst",
   "text_representation": {
    "extension": ".md",
    "format_name": "myst",
    "format_version": 0.13,
    "jupytext_version": "1.14.4"
   }
  },
  "kernelspec": {
   "display_name": "Python 3 (ipykernel)",
   "language": "python",
   "name": "python3"
  },
  "language_info": {
   "codemirror_mode": {
    "name": "ipython",
    "version": 3
   },
   "file_extension": ".py",
   "mimetype": "text/x-python",
   "name": "python",
   "nbconvert_exporter": "python",
   "pygments_lexer": "ipython3",
   "version": "3.11.4"
  },
  "source_map": [
   14,
   20,
   65,
   71,
   73,
   84,
   89,
   95,
   104,
   108,
   112,
   116,
   118,
   122,
   145,
   151,
   176
  ]
 },
 "nbformat": 4,
 "nbformat_minor": 5
}