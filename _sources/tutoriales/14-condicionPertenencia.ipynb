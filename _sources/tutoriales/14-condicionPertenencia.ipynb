{
 "cells": [
  {
   "cell_type": "markdown",
   "id": "9fa85a2e",
   "metadata": {},
   "source": [
    "# Operadores de pertenencia\n",
    "\n",
    "En este caso, lo que se busca es determinar si un valor se encuentra dentro de una colección de valores. Si la condición se cumple, será verdadera. Para ello, se utiliza el operador `in`. Veamos algunos ejemplos:"
   ]
  },
  {
   "cell_type": "code",
   "execution_count": 1,
   "id": "03d90ffa",
   "metadata": {},
   "outputs": [
    {
     "name": "stdout",
     "output_type": "stream",
     "text": [
      "True\n"
     ]
    }
   ],
   "source": [
    "perro = \"Firulais\"\n",
    "print(perro in [\"Firulais\", \"Lassie\", \"Scooby Doo\"])"
   ]
  },
  {
   "cell_type": "markdown",
   "id": "742cda45",
   "metadata": {},
   "source": [
    "En este caso, la condición se cumple ya que el valor de la variable `perro` se encuentra dentro de la lista de perros. Ahora, veamos un caso diferente:"
   ]
  },
  {
   "cell_type": "code",
   "execution_count": 2,
   "id": "4059e9f4",
   "metadata": {},
   "outputs": [
    {
     "name": "stdout",
     "output_type": "stream",
     "text": [
      "False\n"
     ]
    }
   ],
   "source": [
    "perro = \"Firulais\"\n",
    "print(perro in [\"Lassie\", \"Scooby Doo\"])"
   ]
  },
  {
   "cell_type": "markdown",
   "id": "e77cf3b4",
   "metadata": {},
   "source": [
    "En este caso, la condición no se cumple ya que el valor de la variable `perro` no se encuentra dentro de la lista de perros. Veamos un ejemplo más:"
   ]
  },
  {
   "cell_type": "code",
   "execution_count": 3,
   "id": "7d02fabb",
   "metadata": {},
   "outputs": [
    {
     "name": "stdout",
     "output_type": "stream",
     "text": [
      "True\n"
     ]
    }
   ],
   "source": [
    "perro = \"Firulais\"\n",
    "print(perro in \"Firulais\")"
   ]
  },
  {
   "cell_type": "markdown",
   "id": "e7d533a6",
   "metadata": {},
   "source": [
    "En este caso, la condición se cumple ya que el valor de la variable `perro` se encuentra dentro de la cadena de caracteres.\n",
    "\n",
    "## Operadores de no pertenencia\n",
    "\n",
    "En este caso, lo que se busca es determinar si un valor no se encuentra dentro de una colección de valores. Si la condición se cumple, será verdadera. Para ello, se utiliza el operador `not in`. Veamos algunos ejemplos:"
   ]
  },
  {
   "cell_type": "code",
   "execution_count": 4,
   "id": "9fcb3572",
   "metadata": {},
   "outputs": [
    {
     "name": "stdout",
     "output_type": "stream",
     "text": [
      "False\n"
     ]
    }
   ],
   "source": [
    "perro = \"Firulais\"\n",
    "print(perro not in [\"Firulais\", \"Lassie\", \"Scooby Doo\"])"
   ]
  },
  {
   "cell_type": "markdown",
   "id": "4c64061f",
   "metadata": {},
   "source": [
    "En este caso, la condición no se cumple ya que el valor de la variable `perro` se encuentra dentro de la lista de perros. \n",
    "\n",
    "Como habrás deducido, el operador `not in` es el opuesto del operador `in`.\n",
    "\n",
    "## Operadores de pertenencia y no pertenencia con cadenas de caracteres\n",
    "\n",
    "En el caso de las cadenas de caracteres, el operador `in` determina si un carácter se encuentra dentro de la cadena de caracteres. Veamos un ejemplo:"
   ]
  },
  {
   "cell_type": "code",
   "execution_count": 5,
   "id": "99b0eb03",
   "metadata": {},
   "outputs": [
    {
     "name": "stdout",
     "output_type": "stream",
     "text": [
      "True\n"
     ]
    }
   ],
   "source": [
    "print(\"a\" in \"Hola\")"
   ]
  },
  {
   "cell_type": "markdown",
   "id": "347e5529",
   "metadata": {},
   "source": [
    "En este caso, la condición se cumple ya que el carácter `a` se encuentra dentro de la cadena de caracteres. Ahora, veamos un caso diferente:"
   ]
  },
  {
   "cell_type": "code",
   "execution_count": 6,
   "id": "49addf48",
   "metadata": {},
   "outputs": [
    {
     "name": "stdout",
     "output_type": "stream",
     "text": [
      "False\n"
     ]
    }
   ],
   "source": [
    "print(\"b\" in \"Hola\")"
   ]
  },
  {
   "cell_type": "markdown",
   "id": "33300703",
   "metadata": {},
   "source": [
    "En este caso, la condición no se cumple ya que el carácter `b` no se encuentra dentro de la cadena de caracteres.\n",
    "\n",
    "Y el caso contrario:"
   ]
  },
  {
   "cell_type": "code",
   "execution_count": 7,
   "id": "1c63f5be",
   "metadata": {},
   "outputs": [
    {
     "name": "stdout",
     "output_type": "stream",
     "text": [
      "True\n"
     ]
    }
   ],
   "source": [
    "print(\"b\" not in \"Hola\")"
   ]
  },
  {
   "cell_type": "markdown",
   "id": "fd0d1d02",
   "metadata": {},
   "source": [
    "En este caso, la condición se cumple ya que el carácter `b` no se encuentra dentro de la cadena de caracteres.\n",
    "\n",
    "## A continuación...\n",
    "\n",
    "Ahora que ya tenemos claro cómo realizar operaciones que determinen si una condición es verdadera o falsa, estamos preparados para empezar a utilizar las estructuras de control de flujo. En el siguiente apartado, veremos cómo utilizar las estructuras de control de flujo `if`, `elif` y `else`."
   ]
  }
 ],
 "metadata": {
  "jupytext": {
   "cell_metadata_filter": "-all",
   "formats": "md:myst",
   "text_representation": {
    "extension": ".md",
    "format_name": "myst",
    "format_version": 0.13,
    "jupytext_version": "1.14.4"
   }
  },
  "kernelspec": {
   "display_name": "Python 3 (ipykernel)",
   "language": "python",
   "name": "python3"
  },
  "language_info": {
   "codemirror_mode": {
    "name": "ipython",
    "version": 3
   },
   "file_extension": ".py",
   "mimetype": "text/x-python",
   "name": "python",
   "nbconvert_exporter": "python",
   "pygments_lexer": "ipython3",
   "version": "3.11.4"
  },
  "source_map": [
   14,
   20,
   23,
   27,
   30,
   34,
   37,
   45,
   48,
   58,
   60,
   64,
   66,
   72,
   74
  ]
 },
 "nbformat": 4,
 "nbformat_minor": 5
}