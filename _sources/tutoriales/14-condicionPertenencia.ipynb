{
 "cells": [
  {
   "cell_type": "markdown",
   "id": "3ecededd",
   "metadata": {},
   "source": [
    "# Operadores de pertenencia\n",
    "\n",
    "En este caso, lo que se busca es determinar si un valor se encuentra dentro de una colección de valores. Si la condición se cumple, será verdadera. Para ello, se utiliza el operador `in`. Veamos algunos ejemplos:"
   ]
  },
  {
   "cell_type": "code",
   "execution_count": 1,
   "id": "51a54a58",
   "metadata": {},
   "outputs": [
    {
     "name": "stdout",
     "output_type": "stream",
     "text": [
      "True\n"
     ]
    }
   ],
   "source": [
    "perro = \"Firulais\"\n",
    "print(perro in [\"Firulais\", \"Lassie\", \"Scooby Doo\"])"
   ]
  },
  {
   "cell_type": "markdown",
   "id": "b0eb8fdc",
   "metadata": {},
   "source": [
    "En este caso, la condición se cumple ya que el valor de la variable `perro` se encuentra dentro de la lista de perros. Ahora, veamos un caso diferente:"
   ]
  },
  {
   "cell_type": "code",
   "execution_count": 2,
   "id": "3e35a4b1",
   "metadata": {},
   "outputs": [
    {
     "name": "stdout",
     "output_type": "stream",
     "text": [
      "False\n"
     ]
    }
   ],
   "source": [
    "perro = \"Firulais\"\n",
    "print(perro in [\"Lassie\", \"Scooby Doo\"])"
   ]
  },
  {
   "cell_type": "markdown",
   "id": "78abdcc7",
   "metadata": {},
   "source": [
    "En este caso, la condición no se cumple ya que el valor de la variable `perro` no se encuentra dentro de la lista de perros. Veamos un ejemplo más:"
   ]
  },
  {
   "cell_type": "code",
   "execution_count": 3,
   "id": "55e694dc",
   "metadata": {},
   "outputs": [
    {
     "name": "stdout",
     "output_type": "stream",
     "text": [
      "True\n"
     ]
    }
   ],
   "source": [
    "perro = \"Firulais\"\n",
    "print(perro in \"Firulais\")"
   ]
  },
  {
   "cell_type": "markdown",
   "id": "8e6194cc",
   "metadata": {},
   "source": [
    "En este caso, la condición se cumple ya que el valor de la variable `perro` se encuentra dentro de la cadena de caracteres.\n",
    "\n",
    "## Operadores de no pertenencia\n",
    "\n",
    "En este caso, lo que se busca es determinar si un valor no se encuentra dentro de una colección de valores. Si la condición se cumple, será verdadera. Para ello, se utiliza el operador `not in`. Veamos algunos ejemplos:"
   ]
  },
  {
   "cell_type": "code",
   "execution_count": 4,
   "id": "38096601",
   "metadata": {},
   "outputs": [
    {
     "name": "stdout",
     "output_type": "stream",
     "text": [
      "False"
     ]
    },
    {
     "name": "stdout",
     "output_type": "stream",
     "text": [
      "\n"
     ]
    }
   ],
   "source": [
    "perro = \"Firulais\"\n",
    "print(perro not in [\"Firulais\", \"Lassie\", \"Scooby Doo\"])"
   ]
  },
  {
   "cell_type": "markdown",
   "id": "bc91bc3f",
   "metadata": {},
   "source": [
    "En este caso, la condición no se cumple ya que el valor de la variable `perro` se encuentra dentro de la lista de perros. \n",
    "\n",
    "Como habrás deducido, el operador `not in` es el opuesto del operador `in`.\n",
    "\n",
    "## Operadores de pertenencia y no pertenencia con cadenas de caracteres\n",
    "\n",
    "En el caso de las cadenas de caracteres, el operador `in` determina si un carácter se encuentra dentro de la cadena de caracteres. Veamos un ejemplo:"
   ]
  },
  {
   "cell_type": "code",
   "execution_count": 5,
   "id": "e83b7267",
   "metadata": {},
   "outputs": [
    {
     "name": "stdout",
     "output_type": "stream",
     "text": [
      "True\n"
     ]
    }
   ],
   "source": [
    "print(\"a\" in \"Hola\")"
   ]
  },
  {
   "cell_type": "markdown",
   "id": "c388de9c",
   "metadata": {},
   "source": [
    "En este caso, la condición se cumple ya que el carácter `a` se encuentra dentro de la cadena de caracteres. Ahora, veamos un caso diferente:"
   ]
  },
  {
   "cell_type": "code",
   "execution_count": 6,
   "id": "a6dd4b16",
   "metadata": {},
   "outputs": [
    {
     "name": "stdout",
     "output_type": "stream",
     "text": [
      "False\n"
     ]
    }
   ],
   "source": [
    "print(\"b\" in \"Hola\")"
   ]
  },
  {
   "cell_type": "markdown",
   "id": "9b524de7",
   "metadata": {},
   "source": [
    "En este caso, la condición no se cumple ya que el carácter `b` no se encuentra dentro de la cadena de caracteres.\n",
    "\n",
    "Y el caso contrario:"
   ]
  },
  {
   "cell_type": "code",
   "execution_count": 7,
   "id": "b6424a8c",
   "metadata": {},
   "outputs": [
    {
     "name": "stdout",
     "output_type": "stream",
     "text": [
      "True\n"
     ]
    }
   ],
   "source": [
    "print(\"b\" not in \"Hola\")"
   ]
  },
  {
   "cell_type": "markdown",
   "id": "1ed2a346",
   "metadata": {},
   "source": [
    "En este caso, la condición se cumple ya que el carácter `b` no se encuentra dentro de la cadena de caracteres.\n",
    "\n",
    "## A continuación...\n",
    "\n",
    "Ahora que ya tenemos claro cómo realizar operaciones que determinen si una condición es verdadera o falsa, estamos preparados para empezar a utilizar las estructuras de control de flujo. En el siguiente apartado, veremos cómo utilizar las estructuras de control de flujo `if`, `elif` y `else`."
   ]
  }
 ],
 "metadata": {
  "jupytext": {
   "cell_metadata_filter": "-all",
   "formats": "md:myst",
   "text_representation": {
    "extension": ".md",
    "format_name": "myst",
    "format_version": 0.13,
    "jupytext_version": "1.14.4"
   }
  },
  "kernelspec": {
   "display_name": "Python 3 (ipykernel)",
   "language": "python",
   "name": "python3"
  },
  "language_info": {
   "codemirror_mode": {
    "name": "ipython",
    "version": 3
   },
   "file_extension": ".py",
   "mimetype": "text/x-python",
   "name": "python",
   "nbconvert_exporter": "python",
   "pygments_lexer": "ipython3",
   "version": "3.11.1"
  },
  "source_map": [
   14,
   20,
   23,
   27,
   30,
   34,
   37,
   45,
   48,
   58,
   60,
   64,
   66,
   72,
   74
  ]
 },
 "nbformat": 4,
 "nbformat_minor": 5
}