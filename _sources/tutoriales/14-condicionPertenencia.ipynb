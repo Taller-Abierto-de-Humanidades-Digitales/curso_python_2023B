{
 "cells": [
  {
   "cell_type": "markdown",
   "id": "92fdcd66",
   "metadata": {},
   "source": [
    "# Operadores de pertenencia\n",
    "\n",
    "En este caso, lo que se busca es determinar si un valor se encuentra dentro de una colección de valores. Si la condición se cumple, será verdadera. Para ello, se utiliza el operador `in`. Veamos algunos ejemplos:"
   ]
  },
  {
   "cell_type": "code",
   "execution_count": 1,
   "id": "fa51fb69",
   "metadata": {},
   "outputs": [
    {
     "name": "stdout",
     "output_type": "stream",
     "text": [
      "True\n"
     ]
    }
   ],
   "source": [
    "perro = \"Firulais\"\n",
    "print(perro in [\"Firulais\", \"Lassie\", \"Scooby Doo\"])"
   ]
  },
  {
   "cell_type": "markdown",
   "id": "a47fc006",
   "metadata": {},
   "source": [
    "En este caso, la condición se cumple ya que el valor de la variable `perro` se encuentra dentro de la lista de perros. Ahora, veamos un caso diferente:"
   ]
  },
  {
   "cell_type": "code",
   "execution_count": 2,
   "id": "37996d5b",
   "metadata": {},
   "outputs": [
    {
     "name": "stdout",
     "output_type": "stream",
     "text": [
      "False\n"
     ]
    }
   ],
   "source": [
    "perro = \"Firulais\"\n",
    "print(perro in [\"Lassie\", \"Scooby Doo\"])"
   ]
  },
  {
   "cell_type": "markdown",
   "id": "a43d0db1",
   "metadata": {},
   "source": [
    "En este caso, la condición no se cumple ya que el valor de la variable `perro` no se encuentra dentro de la lista de perros. Veamos un ejemplo más:"
   ]
  },
  {
   "cell_type": "code",
   "execution_count": 3,
   "id": "1d9e3fa2",
   "metadata": {},
   "outputs": [
    {
     "name": "stdout",
     "output_type": "stream",
     "text": [
      "True\n"
     ]
    }
   ],
   "source": [
    "perro = \"Firulais\"\n",
    "print(perro in \"Firulais\")"
   ]
  },
  {
   "cell_type": "markdown",
   "id": "c03f7fdf",
   "metadata": {},
   "source": [
    "En este caso, la condición se cumple ya que el valor de la variable `perro` se encuentra dentro de la cadena de caracteres.\n",
    "\n",
    "## Operadores de no pertenencia\n",
    "\n",
    "En este caso, lo que se busca es determinar si un valor no se encuentra dentro de una colección de valores. Si la condición se cumple, será verdadera. Para ello, se utiliza el operador `not in`. Veamos algunos ejemplos:"
   ]
  },
  {
   "cell_type": "code",
   "execution_count": 4,
   "id": "98687bb8",
   "metadata": {},
   "outputs": [
    {
     "name": "stdout",
     "output_type": "stream",
     "text": [
      "False\n"
     ]
    }
   ],
   "source": [
    "perro = \"Firulais\"\n",
    "print(perro not in [\"Firulais\", \"Lassie\", \"Scooby Doo\"])"
   ]
  },
  {
   "cell_type": "markdown",
   "id": "489d68b6",
   "metadata": {},
   "source": [
    "En este caso, la condición no se cumple ya que el valor de la variable `perro` se encuentra dentro de la lista de perros. \n",
    "\n",
    "Como habrás deducido, el operador `not in` es el opuesto del operador `in`.\n",
    "\n",
    "## Operadores de pertenencia y no pertenencia con cadenas de caracteres\n",
    "\n",
    "En el caso de las cadenas de caracteres, el operador `in` determina si un carácter se encuentra dentro de la cadena de caracteres. Veamos un ejemplo:"
   ]
  },
  {
   "cell_type": "code",
   "execution_count": 5,
   "id": "b2ccfea3",
   "metadata": {},
   "outputs": [
    {
     "name": "stdout",
     "output_type": "stream",
     "text": [
      "True\n"
     ]
    }
   ],
   "source": [
    "print(\"a\" in \"Hola\")"
   ]
  },
  {
   "cell_type": "markdown",
   "id": "0f61f1d6",
   "metadata": {},
   "source": [
    "En este caso, la condición se cumple ya que el carácter `a` se encuentra dentro de la cadena de caracteres. Ahora, veamos un caso diferente:"
   ]
  },
  {
   "cell_type": "code",
   "execution_count": 6,
   "id": "780747b7",
   "metadata": {},
   "outputs": [
    {
     "name": "stdout",
     "output_type": "stream",
     "text": [
      "False\n"
     ]
    }
   ],
   "source": [
    "print(\"b\" in \"Hola\")"
   ]
  },
  {
   "cell_type": "markdown",
   "id": "b4810e41",
   "metadata": {},
   "source": [
    "En este caso, la condición no se cumple ya que el carácter `b` no se encuentra dentro de la cadena de caracteres.\n",
    "\n",
    "Y el caso contrario:"
   ]
  },
  {
   "cell_type": "code",
   "execution_count": 7,
   "id": "efb98787",
   "metadata": {},
   "outputs": [
    {
     "name": "stdout",
     "output_type": "stream",
     "text": [
      "True\n"
     ]
    }
   ],
   "source": [
    "print(\"b\" not in \"Hola\")"
   ]
  },
  {
   "cell_type": "markdown",
   "id": "9c149c85",
   "metadata": {},
   "source": [
    "En este caso, la condición se cumple ya que el carácter `b` no se encuentra dentro de la cadena de caracteres.\n",
    "\n",
    "## A continuación...\n",
    "\n",
    "Ahora que ya tenemos claro cómo realizar operaciones que determinen si una condición es verdadera o falsa, estamos preparados para empezar a utilizar las estructuras de control de flujo. En el siguiente apartado, veremos cómo utilizar las estructuras de control de flujo `if`, `elif` y `else`."
   ]
  }
 ],
 "metadata": {
  "jupytext": {
   "cell_metadata_filter": "-all",
   "formats": "md:myst",
   "text_representation": {
    "extension": ".md",
    "format_name": "myst",
    "format_version": 0.13,
    "jupytext_version": "1.14.4"
   }
  },
  "kernelspec": {
   "display_name": "Python 3 (ipykernel)",
   "language": "python",
   "name": "python3"
  },
  "language_info": {
   "codemirror_mode": {
    "name": "ipython",
    "version": 3
   },
   "file_extension": ".py",
   "mimetype": "text/x-python",
   "name": "python",
   "nbconvert_exporter": "python",
   "pygments_lexer": "ipython3",
   "version": "3.11.4"
  },
  "source_map": [
   14,
   20,
   23,
   27,
   30,
   34,
   37,
   45,
   48,
   58,
   60,
   64,
   66,
   72,
   74
  ]
 },
 "nbformat": 4,
 "nbformat_minor": 5
}