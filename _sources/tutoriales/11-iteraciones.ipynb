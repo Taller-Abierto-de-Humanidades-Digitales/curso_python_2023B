{
 "cells": [
  {
   "cell_type": "markdown",
   "id": "944173e0",
   "metadata": {},
   "source": [
    "# Iteraciones (*for loops*)\n",
    "\n",
    "Después de haber explorado las variables, tipos básicos de datos, operaciones con textos y listas, podemos iniciar nuestro camino hacia la automatización de tareas. Uno de estos procesos es la iteración, repetición o *loops*.\n",
    "\n",
    "Efectivamente, una de las tareas más directas en las que nos puede ayudar una computador es la de poder ejecutar tareas repetitivas de manera lógica. Una iteración, en términos simples, es un proceso en el cual se repite una tarea una y otra vez, hasta que se cumpla una condición. En el caso de un *for loop*, esta condición es que se hayan recorrido todos los elementos de una lista o un rango de números.\n",
    "\n",
    "Vamos a ver esto con un poco más de detalle.\n",
    "\n",
    "## Iterando sobre una lista\n",
    "\n",
    "Vamos a crear una lista con los nombres de los países de Sudamérica:"
   ]
  },
  {
   "cell_type": "code",
   "execution_count": 1,
   "id": "ea1c557b",
   "metadata": {},
   "outputs": [],
   "source": [
    "paises = ['Argentina', 'Bolivia', 'Brasil', 'Chile', 'Colombia', 'Ecuador', 'Guyana', 'Paraguay', 'Perú', 'Surinam', 'Uruguay', 'Venezuela']"
   ]
  },
  {
   "cell_type": "markdown",
   "id": "28fc384b",
   "metadata": {},
   "source": [
    "Ahora, vamos a iterar sobre esta lista, imprimiendo cada uno de los elementos:"
   ]
  },
  {
   "cell_type": "code",
   "execution_count": 2,
   "id": "79efcb07",
   "metadata": {},
   "outputs": [
    {
     "name": "stdout",
     "output_type": "stream",
     "text": [
      "Argentina\n",
      "Bolivia\n",
      "Brasil\n",
      "Chile\n",
      "Colombia\n",
      "Ecuador\n",
      "Guyana\n",
      "Paraguay\n",
      "Perú\n",
      "Surinam\n",
      "Uruguay\n",
      "Venezuela\n"
     ]
    }
   ],
   "source": [
    "for pais in paises:\n",
    "    print(pais)"
   ]
  },
  {
   "cell_type": "markdown",
   "id": "7c8399fe",
   "metadata": {},
   "source": [
    "Vamos a ver qué está pasando en este código. La primera línea es la que define el *loop*:"
   ]
  },
  {
   "cell_type": "code",
   "execution_count": 3,
   "id": "acf93129",
   "metadata": {
    "tags": [
     "remove-output"
    ]
   },
   "outputs": [
    {
     "ename": "SyntaxError",
     "evalue": "incomplete input (964669366.py, line 1)",
     "output_type": "error",
     "traceback": [
      "\u001b[1;36m  Cell \u001b[1;32mIn[3], line 1\u001b[1;36m\u001b[0m\n\u001b[1;33m    for pais in paises:\u001b[0m\n\u001b[1;37m                       ^\u001b[0m\n\u001b[1;31mSyntaxError\u001b[0m\u001b[1;31m:\u001b[0m incomplete input\n"
     ]
    }
   ],
   "source": [
    "for pais in paises:"
   ]
  },
  {
   "cell_type": "markdown",
   "id": "a2dc1e1a",
   "metadata": {},
   "source": [
    "La palabra  `for` indica que vamos a iterar sobre una lista. Podemos entender el valor `pais` como una variable que va a tomar el valor de cada uno de los elementos de la lista `paises`. En cada iteración, el valor de `pais` va a cambiar, y va a tomar el valor del siguiente elemento de la lista. En la primera iteración, `pais` va a tomar el valor de `'Argentina'`, en la segunda, el valor de `'Bolivia'`, y así sucesivamente.\n",
    "\n",
    "La segunda línea es la que se va a ejecutar en cada iteración:"
   ]
  },
  {
   "cell_type": "code",
   "execution_count": 4,
   "id": "2a635478",
   "metadata": {
    "tags": [
     "remove-output"
    ]
   },
   "outputs": [
    {
     "name": "stdout",
     "output_type": "stream",
     "text": [
      "Venezuela\n"
     ]
    }
   ],
   "source": [
    "    print(pais)"
   ]
  },
  {
   "cell_type": "markdown",
   "id": "fd91e47d",
   "metadata": {},
   "source": [
    "En este caso, estamos imprimiendo el valor de la variable `pais`. En la primera iteración, se va a imprimir `'Argentina'`, en la segunda, `'Bolivia'`, y así sucesivamente. Técnicamente, podemos hacer lo que queramos con esta variable, dependiendo de su tipo de dato y obviamente de lo que queramos lograr. En este caso, solo queremos imprimir el valor de la variable.\n",
    "\n",
    "¡Y listo! Ya hemos iterado sobre una lista. Veamos ahora un poco más sobre la sintaxis de los *loops*.\n",
    "\n",
    "## Sintaxis de los *loops*\n",
    "\n",
    "La sintaxis de los *loops* es muy simple. En general, se define de la siguiente manera:"
   ]
  },
  {
   "cell_type": "code",
   "execution_count": 5,
   "id": "aacd919d",
   "metadata": {
    "tags": [
     "remove-output"
    ]
   },
   "outputs": [
    {
     "ename": "SyntaxError",
     "evalue": "incomplete input (763190203.py, line 2)",
     "output_type": "error",
     "traceback": [
      "\u001b[1;36m  Cell \u001b[1;32mIn[5], line 2\u001b[1;36m\u001b[0m\n\u001b[1;33m    # hacer algo\u001b[0m\n\u001b[1;37m                ^\u001b[0m\n\u001b[1;31mSyntaxError\u001b[0m\u001b[1;31m:\u001b[0m incomplete input\n"
     ]
    }
   ],
   "source": [
    "for variable in lista:\n",
    "    # hacer algo"
   ]
  },
  {
   "cell_type": "markdown",
   "id": "812db6e0",
   "metadata": {},
   "source": [
    "Presta atención a los elementos de esta sintaxis.\n",
    "\n",
    "Por una parte, la primera línea se escribe siempre de la forma `for variable in lista`, es decir, siempre utilizamos los términos `for` e `in`. Estos términos son palabras claves del lenguaje Python, y no pueden ser reemplazados por otros ni pueden usarse como nombres de variables.\n",
    "\n",
    "La línea además termina con dos puntos (`:`). Esto es muy importante, ya que indica que la línea es una definición de un *loop*, y que la siguiente línea es la primera línea de código que se va a ejecutar en cada iteración.\n",
    "\n",
    "A partir de la segunda línea, se escribe el bloque de código que queremos que se ejecute en cada iteración. Este bloque de código debe estar indentado, es decir, debe tener un tabulador o cuatro espacios al comienzo de cada línea.\n",
    "\n",
    "Si no tenemos en cuenta lo anterior podemos encontrar los siguientes errores:\n",
    "\n",
    "### Olvidarse de indentar"
   ]
  },
  {
   "cell_type": "code",
   "execution_count": 6,
   "id": "063fd8c7",
   "metadata": {},
   "outputs": [
    {
     "ename": "IndentationError",
     "evalue": "expected an indented block after 'for' statement on line 1 (1293105895.py, line 2)",
     "output_type": "error",
     "traceback": [
      "\u001b[1;36m  Cell \u001b[1;32mIn[6], line 2\u001b[1;36m\u001b[0m\n\u001b[1;33m    print(pais)\u001b[0m\n\u001b[1;37m    ^\u001b[0m\n\u001b[1;31mIndentationError\u001b[0m\u001b[1;31m:\u001b[0m expected an indented block after 'for' statement on line 1\n"
     ]
    }
   ],
   "source": [
    "for pais in paises:\n",
    "print(pais)"
   ]
  },
  {
   "cell_type": "markdown",
   "id": "91c82c85",
   "metadata": {},
   "source": [
    "Este error de indentación muestra que no hemos dado los espacios necesarios para que Python entienda que este es un bloque de código. Esto lo sabe porque espera que después de los dos puntos exista un bloque de código o al menos una instrucción.\n",
    "\n",
    "### Olvidarse de indentar líneas adicionales"
   ]
  },
  {
   "cell_type": "code",
   "execution_count": 7,
   "id": "9c4c3ed0",
   "metadata": {},
   "outputs": [
    {
     "name": "stdout",
     "output_type": "stream",
     "text": [
      "Argentina\n",
      "Bolivia\n",
      "Brasil\n",
      "Chile\n",
      "Colombia\n",
      "Ecuador\n",
      "Guyana\n",
      "Paraguay\n",
      "Perú\n",
      "Surinam\n",
      "Uruguay\n",
      "Venezuela\n",
      "Venezuela es una país sudamericano.\n"
     ]
    }
   ],
   "source": [
    "for pais in paises:\n",
    "    print(pais)\n",
    "print(f'{pais} es una país sudamericano.')"
   ]
  },
  {
   "cell_type": "markdown",
   "id": "ff90a137",
   "metadata": {},
   "source": [
    "En este caso no hay un error de sintaxis, pero el resultado no es el que esperábamos. La idea original del código es que se mostrara en pantalla lo siguiente:\n",
    "\n",
    "```shell\n",
    "Argentina\n",
    "Argentina es un país sudamericano\n",
    "Bolivia\n",
    "Bolivia es un país sudamericano\n",
    "Brasil\n",
    "Brasil es un país sudamericano\n",
    "...\n",
    "Uruguay\n",
    "Uruguay es un país sudamericano\n",
    "Venezuela\n",
    "Venezuela es un país sudamericano\n",
    "```\n",
    "\n",
    "En lugar de eso, solamente nos muestra el último país de la lista. Esto se debe a un error lógico.\n",
    "\n",
    "### Indentación innecesaria\n",
    "\n",
    "También puede suceder lo contrario, que se haya indentado una línea que no debía estar indentada:"
   ]
  },
  {
   "cell_type": "code",
   "execution_count": 8,
   "id": "e4dc0d25",
   "metadata": {
    "tags": [
     "output_scroll"
    ]
   },
   "outputs": [
    {
     "name": "stdout",
     "output_type": "stream",
     "text": [
      "Argentina\n",
      "Ha finalizado la lista de países sudamericanos.\n",
      "Bolivia\n",
      "Ha finalizado la lista de países sudamericanos.\n",
      "Brasil\n",
      "Ha finalizado la lista de países sudamericanos.\n",
      "Chile\n",
      "Ha finalizado la lista de países sudamericanos.\n",
      "Colombia\n",
      "Ha finalizado la lista de países sudamericanos.\n",
      "Ecuador\n",
      "Ha finalizado la lista de países sudamericanos.\n",
      "Guyana\n",
      "Ha finalizado la lista de países sudamericanos.\n",
      "Paraguay\n",
      "Ha finalizado la lista de países sudamericanos.\n",
      "Perú\n",
      "Ha finalizado la lista de países sudamericanos.\n",
      "Surinam\n",
      "Ha finalizado la lista de países sudamericanos.\n",
      "Uruguay\n",
      "Ha finalizado la lista de países sudamericanos.\n",
      "Venezuela\n",
      "Ha finalizado la lista de países sudamericanos.\n"
     ]
    }
   ],
   "source": [
    "for pais in paises:\n",
    "    print(pais)\n",
    "    print(f'Ha finalizado la lista de países sudamericanos.')"
   ]
  },
  {
   "cell_type": "markdown",
   "id": "29f2f49f",
   "metadata": {},
   "source": [
    "Como podemos observar, el resultado no es el esperado. Queríamos que al finalizar de mostrarse cada elemento de la lista se mostrara el mensaje `Ha finalizado la lista de países sudamericanos.`. Una mala indentación hace que el mensaje se muestre con cada iteración.\n",
    "\n",
    "### Olvidarse de los dos puntos"
   ]
  },
  {
   "cell_type": "code",
   "execution_count": 9,
   "id": "4c47f495",
   "metadata": {},
   "outputs": [
    {
     "ename": "SyntaxError",
     "evalue": "expected ':' (3485114276.py, line 1)",
     "output_type": "error",
     "traceback": [
      "\u001b[1;36m  Cell \u001b[1;32mIn[9], line 1\u001b[1;36m\u001b[0m\n\u001b[1;33m    for pais in paises\u001b[0m\n\u001b[1;37m                      ^\u001b[0m\n\u001b[1;31mSyntaxError\u001b[0m\u001b[1;31m:\u001b[0m expected ':'\n"
     ]
    }
   ],
   "source": [
    "for pais in paises\n",
    "    print(pais)"
   ]
  },
  {
   "cell_type": "markdown",
   "id": "f645918b",
   "metadata": {},
   "source": [
    "En este caso, nos enfrentamos a un error en la sintaxis. Python entiende que se está usando la instrucción `for`, pero requiere que se le indique que se está definiendo un *loop* con los dos puntos.\n",
    "\n",
    "## Listas numéricas o por rango\n",
    "\n",
    "Son muchas las ocasiones en las que necesitamos iterar sobre una serie de números, es decir, sobre una lista numérica. Si esta lista sigue una secuencia numérica, podemos utilizar la función `range()` para crearla. Esta función recibe dos parámetros, el número inicial y el final de la secuencia. Por ejemplo:"
   ]
  },
  {
   "cell_type": "code",
   "execution_count": 10,
   "id": "b9ce83be",
   "metadata": {},
   "outputs": [
    {
     "name": "stdout",
     "output_type": "stream",
     "text": [
      "1\n",
      "2\n",
      "3\n",
      "4\n"
     ]
    }
   ],
   "source": [
    "for numero in range(1, 5):\n",
    "    print(numero)"
   ]
  },
  {
   "cell_type": "markdown",
   "id": "947fed6e",
   "metadata": {},
   "source": [
    "Notemos que el número final no se incluye en la lista. En este caso, la lista va a contener los números del 1 al 4. Es decir, tenemos que tener en cuenta que la lista dentro del rango incluye el número inicial y excluye el número final.\n",
    "\n",
    "También podemos crear sencuencias numéricas para mostrar los números pares, por ejemplo:"
   ]
  },
  {
   "cell_type": "code",
   "execution_count": 11,
   "id": "51fea6ca",
   "metadata": {},
   "outputs": [
    {
     "name": "stdout",
     "output_type": "stream",
     "text": [
      "2\n",
      "4\n",
      "6\n",
      "8\n",
      "10\n"
     ]
    }
   ],
   "source": [
    "for numero in range(2, 11, 2):\n",
    "    print(numero)"
   ]
  },
  {
   "cell_type": "markdown",
   "id": "4a67dd7d",
   "metadata": {},
   "source": [
    "En este caso, el tercer parámetro de la función `range()` indica el *step*, es decir, el número de unidades que se va a avanzar en cada iteración. Si el *step* es 2 significa que se va a avanzar de 2 en 2. Claramente podríamos hacer algo similar para mostrar los números impares:"
   ]
  },
  {
   "cell_type": "code",
   "execution_count": 12,
   "id": "26aa289c",
   "metadata": {},
   "outputs": [
    {
     "name": "stdout",
     "output_type": "stream",
     "text": [
      "1\n",
      "3\n",
      "5\n",
      "7\n",
      "9\n"
     ]
    }
   ],
   "source": [
    "for numero in range(1, 11, 2):\n",
    "    print(numero)"
   ]
  },
  {
   "cell_type": "markdown",
   "id": "ff45cb0c",
   "metadata": {},
   "source": [
    "Siguiendo este mismo método podemos crear secuencias numéricas inversas si añadimos un argumento de pasos negativo. Por ejemplo, si queremos mostrar los números del 5 al 1, podemos hacer lo siguiente:"
   ]
  },
  {
   "cell_type": "code",
   "execution_count": 13,
   "id": "e76ccddf",
   "metadata": {},
   "outputs": [
    {
     "name": "stdout",
     "output_type": "stream",
     "text": [
      "5\n",
      "4\n",
      "3\n",
      "2\n",
      "1\n"
     ]
    }
   ],
   "source": [
    "for numero in range(5, 0, -1):\n",
    "    print(numero)"
   ]
  },
  {
   "cell_type": "markdown",
   "id": "adee9e00",
   "metadata": {},
   "source": [
    "## Llenar listas con *loops*\n",
    "\n",
    "Uno de los procesos que podemos hacer con los *loops* consiste en llenar listas vacías. Por ejemplo, si queremos crear una lista con las iniciales de cada uno de los países sudamericanos, podemos hacer lo siguiente:"
   ]
  },
  {
   "cell_type": "code",
   "execution_count": 14,
   "id": "298d3e00",
   "metadata": {},
   "outputs": [
    {
     "name": "stdout",
     "output_type": "stream",
     "text": [
      "['A', 'B', 'B', 'C', 'C', 'E', 'G', 'P', 'P', 'S', 'U', 'V']\n"
     ]
    }
   ],
   "source": [
    "iniciales = []\n",
    "for pais in paises:\n",
    "    iniciales.append(pais[0])\n",
    "print(iniciales)"
   ]
  },
  {
   "cell_type": "markdown",
   "id": "da209f34",
   "metadata": {},
   "source": [
    "Como puedes ver, aquí combinamos varias operaciones que hemos aprendido a lo largo del curso:\n",
    "\n",
    "* Creamos una lista vacía.\n",
    "* Iteramos sobre la lista `paises`.\n",
    "* \"Recortamos\" una cadena de texto para obtener la primera letra.\n",
    "* Añadimos la letra a la lista vacía.\n",
    "\n",
    "## *Loops* anidados\n",
    "\n",
    "Un *loop* anidado se refiere a una iteración dentro de otra iteración. Revisa el siguiente ejemplo:"
   ]
  },
  {
   "cell_type": "code",
   "execution_count": 15,
   "id": "b6c3e369",
   "metadata": {},
   "outputs": [
    {
     "name": "stdout",
     "output_type": "stream",
     "text": [
      "E r a \n",
      "l a \n",
      "e s t a c i ó n \n",
      "d e \n",
      "l a s \n",
      "l l u v i a s \n",
      "e n \n",
      "B a n g k o k \n"
     ]
    }
   ],
   "source": [
    "frase = \"Era la estación de las lluvias en Bangkok\".split()\n",
    "\n",
    "for palabra in frase:\n",
    "    for letra in palabra:\n",
    "        print(letra, end=' ')\n",
    "    print()"
   ]
  },
  {
   "cell_type": "markdown",
   "id": "91135c1c",
   "metadata": {},
   "source": [
    "En este ejemplo, tomamos una lista obtenida a partir de aplicar el método `split()` a la frase. El primer *loop* itera sobre cada una de las palabras de la lista, en tanto el segundo *loop* itera sobre cada una de las letras de cada palabra. Por cada iteración del segundo *loop* se imprime la letra y se agrega un espacio en blanco. Al finalizar la iteración del segundo *loop* se imprime un salto de línea.\n",
    "\n",
    "## *Loops* sobre cadenas de caracteres\n",
    "\n",
    "En el ejemplo anterior realizamos el `split` de la frase antes de iterar sobre ella. ¿Qué pasaría si no hicieramos esto? Veamos:"
   ]
  },
  {
   "cell_type": "code",
   "execution_count": 16,
   "id": "405dbbb2",
   "metadata": {
    "tags": [
     "output_scroll"
    ]
   },
   "outputs": [
    {
     "name": "stdout",
     "output_type": "stream",
     "text": [
      "E\n",
      "r\n",
      "a\n",
      " \n",
      "l\n",
      "a\n",
      " \n",
      "e\n",
      "s\n",
      "t\n",
      "a\n",
      "c\n",
      "i\n",
      "ó\n",
      "n\n",
      " \n",
      "d\n",
      "e\n",
      " \n",
      "l\n",
      "a\n",
      "s\n",
      " \n",
      "l\n",
      "l\n",
      "u\n",
      "v\n",
      "i\n",
      "a\n",
      "s\n",
      " \n",
      "e\n",
      "n\n",
      " \n",
      "B\n",
      "a\n",
      "n\n",
      "g\n",
      "k\n",
      "o\n",
      "k\n"
     ]
    }
   ],
   "source": [
    "frase = \"Era la estación de las lluvias en Bangkok\"\n",
    "\n",
    "for palabra in frase:\n",
    "    print(palabra)"
   ]
  },
  {
   "cell_type": "markdown",
   "id": "235ab2ce",
   "metadata": {},
   "source": [
    "Esto sucede porque la cadena de caracteres es iterable. Es importante tener en cuenta esto porque nos podemos enfrentar a situaciones donde este no sería el resultado esperado. \n",
    "\n",
    "## Iterar sobre partes de una lista\n",
    "\n",
    "Podemos tener la posibilidad de iterar solamente sobre una parte de la lista, lo cual en general es una práctica recomendable si tenemos una gran cantidad de datos y queremos probar nuestro código con una pequeña muestra. Para ello podemos utilizar el operador de *slicing*:"
   ]
  },
  {
   "cell_type": "code",
   "execution_count": 17,
   "id": "b1526fa7",
   "metadata": {},
   "outputs": [
    {
     "name": "stdout",
     "output_type": "stream",
     "text": [
      "Argentina\n",
      "Bolivia\n",
      "Brasil\n"
     ]
    }
   ],
   "source": [
    "for pais in paises[0:3]:\n",
    "    print(pais)"
   ]
  },
  {
   "cell_type": "markdown",
   "id": "43fb2b6c",
   "metadata": {},
   "source": [
    "En este caso, estamos iterando sobre los tres primeros elementos de la lista `paises`. Si queremos iterar sobre los tres últimos elementos, podemos hacer lo siguiente:"
   ]
  },
  {
   "cell_type": "code",
   "execution_count": 18,
   "id": "fa10987a",
   "metadata": {},
   "outputs": [
    {
     "name": "stdout",
     "output_type": "stream",
     "text": [
      "Surinam\n",
      "Uruguay\n",
      "Venezuela\n"
     ]
    }
   ],
   "source": [
    "for pais in paises[-3:]:\n",
    "    print(pais)"
   ]
  },
  {
   "cell_type": "markdown",
   "id": "2a42b1e2",
   "metadata": {},
   "source": [
    "## Iterar en una lista anidada\n",
    "\n",
    "En ocasiones, las listas pueden contener otras listas. En este caso, podemos iterar sobre cada una de las listas anidadas. Por ejemplo, si tenemos una lista de listas con los nombres de los países sudamericanos y sus capitales, podemos iterar sobre cada una de las listas anidadas:"
   ]
  },
  {
   "cell_type": "code",
   "execution_count": 19,
   "id": "38e207dd",
   "metadata": {},
   "outputs": [
    {
     "name": "stdout",
     "output_type": "stream",
     "text": [
      "['Argentina', 'Buenos Aires']\n",
      "['Bolivia', 'La Paz']\n",
      "['Brasil', 'Brasilia']\n",
      "['Chile', 'Santiago de Chile']\n",
      "['Colombia', 'Bogotá']\n",
      "['Ecuador', 'Quito']\n",
      "['Guyana', 'Georgetown']\n",
      "['Paraguay', 'Asunción']\n",
      "['Perú', 'Lima']\n",
      "['Surinam', 'Paramaribo']\n",
      "['Uruguay', 'Montevideo']\n",
      "['Venezuela', 'Caracas']\n"
     ]
    }
   ],
   "source": [
    "paises_capitales = [\n",
    "    ['Argentina', 'Buenos Aires'],\n",
    "    ['Bolivia', 'La Paz'],\n",
    "    ['Brasil', 'Brasilia'],\n",
    "    ['Chile', 'Santiago de Chile'],\n",
    "    ['Colombia', 'Bogotá'],\n",
    "    ['Ecuador', 'Quito'],\n",
    "    ['Guyana', 'Georgetown'],\n",
    "    ['Paraguay', 'Asunción'],\n",
    "    ['Perú', 'Lima'],\n",
    "    ['Surinam', 'Paramaribo'],\n",
    "    ['Uruguay', 'Montevideo'],\n",
    "    ['Venezuela', 'Caracas']\n",
    "]\n",
    "\n",
    "for pais_capital in paises_capitales:\n",
    "    print(pais_capital)"
   ]
  },
  {
   "cell_type": "markdown",
   "id": "ec549fed",
   "metadata": {},
   "source": [
    "En este caso, la variable `pais_capital` es una lista anidada que contiene el nombre del país y su capital. Teniendo en cuenta esto, podríamos iterar sobre cada una de las listas anidadas para obtener su capital:"
   ]
  },
  {
   "cell_type": "code",
   "execution_count": 20,
   "id": "6d60757d",
   "metadata": {},
   "outputs": [
    {
     "name": "stdout",
     "output_type": "stream",
     "text": [
      "Buenos Aires\n",
      "La Paz\n",
      "Brasilia\n",
      "Santiago de Chile\n",
      "Bogotá\n",
      "Quito\n",
      "Georgetown\n",
      "Asunción\n",
      "Lima\n",
      "Paramaribo\n",
      "Montevideo\n",
      "Caracas\n"
     ]
    }
   ],
   "source": [
    "for pais_capital in paises_capitales:\n",
    "    print(pais_capital[1])"
   ]
  },
  {
   "cell_type": "markdown",
   "id": "c0d027c3",
   "metadata": {},
   "source": [
    "Esto se logra porque `print()` está recibiendo un argumento de tipo lista, por lo que nos es posible acceder a su segundo elemento a través de un índice.\n",
    "\n",
    "## Listas de comprensión\n",
    "\n",
    "Una forma eficiente para crear listas es a través de las denominadas listas de comprensión. Estas nos permite crear una lista a través de iteraciones en una sola línea de código. Veamos cómo funciona.\n",
    "\n",
    "Recordemos cómo llenamos una lista vacía a través de un loop:"
   ]
  },
  {
   "cell_type": "code",
   "execution_count": 21,
   "id": "84866e5c",
   "metadata": {},
   "outputs": [
    {
     "name": "stdout",
     "output_type": "stream",
     "text": [
      "['A', 'B', 'B', 'C', 'C', 'E', 'G', 'P', 'P', 'S', 'U', 'V']\n"
     ]
    }
   ],
   "source": [
    "iniciales = []\n",
    "for pais in paises:\n",
    "    iniciales.append(pais[0])\n",
    "print(iniciales)"
   ]
  },
  {
   "cell_type": "markdown",
   "id": "5c740271",
   "metadata": {},
   "source": [
    "Ahora bien, una lista de comprensión nos permite hacerlo en una sola línea de código:"
   ]
  },
  {
   "cell_type": "code",
   "execution_count": 22,
   "id": "74158ce4",
   "metadata": {},
   "outputs": [
    {
     "name": "stdout",
     "output_type": "stream",
     "text": [
      "['A', 'B', 'B', 'C', 'C', 'E', 'G', 'P', 'P', 'S', 'U', 'V']\n"
     ]
    }
   ],
   "source": [
    "iniciales = [pais[0] for pais in paises]\n",
    "print(iniciales)"
   ]
  },
  {
   "cell_type": "markdown",
   "id": "90a916ec",
   "metadata": {},
   "source": [
    "La sintaxis de este tipo de listas es la siguiente:"
   ]
  },
  {
   "cell_type": "code",
   "execution_count": 23,
   "id": "6b872258",
   "metadata": {
    "tags": [
     "remove-output"
    ]
   },
   "outputs": [
    {
     "ename": "NameError",
     "evalue": "name 'nombre_lista' is not defined",
     "output_type": "error",
     "traceback": [
      "\u001b[1;31m---------------------------------------------------------------------------\u001b[0m",
      "\u001b[1;31mNameError\u001b[0m                                 Traceback (most recent call last)",
      "Cell \u001b[1;32mIn[23], line 1\u001b[0m\n\u001b[1;32m----> 1\u001b[0m [nombre_variable \u001b[38;5;28;01mfor\u001b[39;00m nombre_variable \u001b[38;5;129;01min\u001b[39;00m \u001b[43mnombre_lista\u001b[49m]\n",
      "\u001b[1;31mNameError\u001b[0m: name 'nombre_lista' is not defined"
     ]
    }
   ],
   "source": [
    "[nombre_variable for nombre_variable in nombre_lista]"
   ]
  },
  {
   "cell_type": "markdown",
   "id": "c2ec2d82",
   "metadata": {},
   "source": [
    "Observa que estamos utilizando los mismos elementos de un *loop* tradicional, pero simplemente cambiamos el orden para que todo se pueda escribir en una sola línea."
   ]
  }
 ],
 "metadata": {
  "jupytext": {
   "cell_metadata_filter": "-all",
   "formats": "md:myst",
   "text_representation": {
    "extension": ".md",
    "format_name": "myst",
    "format_version": 0.13,
    "jupytext_version": "1.14.4"
   }
  },
  "kernelspec": {
   "display_name": "Python 3 (ipykernel)",
   "language": "python",
   "name": "python3"
  },
  "language_info": {
   "codemirror_mode": {
    "name": "ipython",
    "version": 3
   },
   "file_extension": ".py",
   "mimetype": "text/x-python",
   "name": "python",
   "nbconvert_exporter": "python",
   "pygments_lexer": "ipython3",
   "version": "3.11.1"
  },
  "source_map": [
   14,
   28,
   30,
   34,
   37,
   41,
   44,
   50,
   53,
   63,
   67,
   81,
   84,
   90,
   94,
   118,
   123,
   129,
   132,
   140,
   143,
   149,
   152,
   156,
   159,
   163,
   166,
   172,
   177,
   190,
   198,
   206,
   212,
   220,
   223,
   227,
   230,
   236,
   254,
   258,
   261,
   271,
   276,
   280,
   283,
   287,
   290
  ]
 },
 "nbformat": 4,
 "nbformat_minor": 5
}