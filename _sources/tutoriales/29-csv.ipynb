{
 "cells": [
  {
   "cell_type": "markdown",
   "id": "fbd40001",
   "metadata": {},
   "source": [
    "# Manejo de datos en archivos CSV\n",
    "\n",
    "Los archivos CSV (Comma Separated Values) son archivos de texto plano que contienen datos separados por comas. Los archivos CSV son muy utilizados para el intercambio de datos entre aplicaciones porque se escriben como texto plano, no dependen de una plataforma o software específico y replican la estructura de una hoja de cálculo.\n",
    "\n",
    "En Python podemos leer y escribir archivos CSV utilizando el módulo `csv`. Este módulo nos permite leer y escribir archivos CSV de forma muy sencilla.\n",
    "\n",
    "Por ejemplo, supongamos que queremos llevar nuestro inventario de la biblioteca a un archivo CSV. Para ello, podemos crear un archivo CSV con el siguiente contenido:\n",
    "\n",
    "```text\n",
    "titulo,autor,editorial,anio\n",
    "El Aleph,Jorge Luis Borges,Emece,1949\n",
    "El Quijote,Miguel de Cervantes,Alfaguara,2005\n",
    "El desbarrancadero,Fernando Vallejo,Planeta,2001\n",
    "Una novelita Lumpen,Roberto Bolaño,Anagrama,2002\n",
    "El amante,Marguerite Duras,Tusquets,1984\n",
    "```\n",
    "\n",
    "Para crear el csv debemos importar la librería `csv` y utilizar el método `writer`:"
   ]
  },
  {
   "cell_type": "code",
   "execution_count": 1,
   "id": "2c1b0c5d",
   "metadata": {},
   "outputs": [],
   "source": [
    "import os\n",
    "import csv\n",
    "\n",
    "with open(os.path.join(os.getcwd(), \"inventario.csv\"), \"w\", newline=\"\") as archivo:\n",
    "    writer = csv.writer(archivo)\n",
    "    writer.writerow([\"titulo\", \"autor\", \"editorial\", \"anio\"])\n",
    "    writer.writerow([\"El Aleph\", \"Jorge Luis Borges\", \"Emece\", 1949])\n",
    "    writer.writerow([\"El Quijote\", \"Miguel de Cervantes\", \"Alfaguara\", 2005])\n",
    "    writer.writerow([\"El desbarrancadero\", \"Fernando Vallejo\", \"Planeta\", 2001])\n",
    "    writer.writerow([\"Una novelita Lumpen\", \"Roberto Bolaño\", \"Anagrama\", 2002])\n",
    "    writer.writerow([\"El amante\", \"Marguerite Duras\", \"Tusquets\", 1984])"
   ]
  },
  {
   "cell_type": "markdown",
   "id": "77975c3a",
   "metadata": {},
   "source": [
    "Notarás como utilizamos, en principio, la misma lógica que con los archivos de texto con el método `open`, pero para realizar la escritura del archivo utilizamos el método `writer` del módulo `csv`. Este método nos permite escribir en el archivo fila por fila. Para ello, utilizamos el método `writerow` que recibe una lista con los elementos de la fila.\n",
    "\n",
    "Debemos prestar atención a la manera como está escrito el valor dentro de la función `writerow`, es decir, se incluye como una lista de elementos de cualquier tipo. En el caso de los valores numéricos, no se incluyen entre comillas.\n",
    "\n",
    "De forma que si tuviéramos una lista de listas con los datos de nuestro inventario, podríamos escribir el archivo CSV de la siguiente manera:"
   ]
  },
  {
   "cell_type": "code",
   "execution_count": 2,
   "id": "843eed09",
   "metadata": {},
   "outputs": [],
   "source": [
    "inventario = [\n",
    "    [\"titulo\", \"autor\", \"editorial\", \"anio\"],\n",
    "    [\"El Aleph\", \"Jorge Luis Borges\", \"Emece\", 1949],\n",
    "    [\"El Quijote\", \"Miguel de Cervantes\", \"Alfaguara\", 2005],\n",
    "    [\"El desbarrancadero\", \"Fernando Vallejo\", \"Planeta\", 2001],\n",
    "    [\"Una novelita Lumpen\", \"Roberto Bolaño\", \"Anagrama\", 2002],\n",
    "    [\"El amante\", \"Marguerite Duras\", \"Tusquets\", 1984],\n",
    "]\n",
    "\n",
    "with open(os.path.join(os.getcwd(), \"inventario.csv\"), \"w\", newline=\"\") as archivo:\n",
    "    writer = csv.writer(archivo)\n",
    "    for fila in inventario:\n",
    "        writer.writerow(fila)"
   ]
  },
  {
   "cell_type": "markdown",
   "id": "d4d31b66",
   "metadata": {},
   "source": [
    "## Lectura de archivos CSV\n",
    "\n",
    "Para leer un archivo CSV, utilizamos el método `reader` del módulo `csv`. Este método nos permite leer el archivo fila por fila. Para ello, utilizamos el método `readrow` que recibe una lista con los elementos de la fila."
   ]
  },
  {
   "cell_type": "code",
   "execution_count": 3,
   "id": "d87b5995",
   "metadata": {},
   "outputs": [
    {
     "name": "stdout",
     "output_type": "stream",
     "text": [
      "['titulo', 'autor', 'editorial', 'anio']\n",
      "['El Aleph', 'Jorge Luis Borges', 'Emece', '1949']\n",
      "['El Quijote', 'Miguel de Cervantes', 'Alfaguara', '2005']\n",
      "['El desbarrancadero', 'Fernando Vallejo', 'Planeta', '2001']\n",
      "['Una novelita Lumpen', 'Roberto Bolaño', 'Anagrama', '2002']\n",
      "['El amante', 'Marguerite Duras', 'Tusquets', '1984']\n"
     ]
    }
   ],
   "source": [
    "import os\n",
    "import csv\n",
    "\n",
    "with open(os.path.join(os.getcwd(), \"inventario.csv\"), \"r\") as archivo:\n",
    "    reader = csv.reader(archivo)\n",
    "    for fila in reader:\n",
    "        print(fila)"
   ]
  },
  {
   "cell_type": "markdown",
   "id": "da6d3ed8",
   "metadata": {},
   "source": [
    "Notarás que el método `reader` nos devuelve una lista con los elementos de la fila. De esta forma, podemos acceder a los elementos de la fila por su índice."
   ]
  },
  {
   "cell_type": "code",
   "execution_count": 4,
   "id": "e8b06f7d",
   "metadata": {},
   "outputs": [
    {
     "name": "stdout",
     "output_type": "stream",
     "text": [
      "titulo\n",
      "El Aleph\n",
      "El Quijote\n",
      "El desbarrancadero\n",
      "Una novelita Lumpen\n",
      "El amante\n"
     ]
    }
   ],
   "source": [
    "import os\n",
    "import csv\n",
    "\n",
    "with open(os.path.join(os.getcwd(), \"inventario.csv\"), \"r\") as archivo:\n",
    "    reader = csv.reader(archivo)\n",
    "    for fila in reader:\n",
    "        print(fila[0])"
   ]
  },
  {
   "cell_type": "markdown",
   "id": "df5d7dd1",
   "metadata": {},
   "source": [
    "## Lectura de archivos CSV con encabezados\n",
    "\n",
    "En el caso de que nuestro archivo CSV tenga encabezados (como es el caso de nuestro csv), podemos utilizar el método `DictReader` del módulo `csv`. Este método nos permite leer el archivo fila por fila. Para ello, utilizamos el método `readrow` que recibe una lista con los elementos de la fila."
   ]
  },
  {
   "cell_type": "code",
   "execution_count": 5,
   "id": "c3eedc20",
   "metadata": {},
   "outputs": [
    {
     "name": "stdout",
     "output_type": "stream",
     "text": [
      "{'titulo': 'El Aleph', 'autor': 'Jorge Luis Borges', 'editorial': 'Emece', 'anio': '1949'}\n",
      "{'titulo': 'El Quijote', 'autor': 'Miguel de Cervantes', 'editorial': 'Alfaguara', 'anio': '2005'}\n",
      "{'titulo': 'El desbarrancadero', 'autor': 'Fernando Vallejo', 'editorial': 'Planeta', 'anio': '2001'}\n",
      "{'titulo': 'Una novelita Lumpen', 'autor': 'Roberto Bolaño', 'editorial': 'Anagrama', 'anio': '2002'}\n",
      "{'titulo': 'El amante', 'autor': 'Marguerite Duras', 'editorial': 'Tusquets', 'anio': '1984'}\n"
     ]
    }
   ],
   "source": [
    "import os\n",
    "import csv\n",
    "\n",
    "with open(os.path.join(os.getcwd(), \"inventario.csv\"), \"r\") as archivo:\n",
    "    reader = csv.DictReader(archivo)\n",
    "    for fila in reader:\n",
    "        print(fila)"
   ]
  },
  {
   "cell_type": "markdown",
   "id": "bf6215e4",
   "metadata": {},
   "source": [
    "## Agregar nuevas filas\n",
    "\n",
    "Para agregar nuevas filas a un archivo CSV, debemos abrir el archivo en modo de escritura y utilizar el método `writer` del módulo `csv`. Este método nos permite escribir en el archivo fila por fila. Para ello, utilizamos el método `writerow` que recibe una lista con los elementos de la fila."
   ]
  },
  {
   "cell_type": "code",
   "execution_count": 6,
   "id": "7c166f86",
   "metadata": {},
   "outputs": [],
   "source": [
    "import os\n",
    "import csv\n",
    "\n",
    "with open(os.path.join(os.getcwd(), \"inventario.csv\"), \"a\", newline=\"\") as archivo:\n",
    "    writer = csv.writer(archivo)\n",
    "    writer.writerow([\"El jugador\", \"Fiodor Dostoievsky\", \"Salvat\", 1969])"
   ]
  },
  {
   "cell_type": "markdown",
   "id": "6532534c",
   "metadata": {},
   "source": [
    "Comprobemos que se agregó la nueva fila:"
   ]
  },
  {
   "cell_type": "code",
   "execution_count": 7,
   "id": "cabf5a13",
   "metadata": {},
   "outputs": [
    {
     "name": "stdout",
     "output_type": "stream",
     "text": [
      "['titulo', 'autor', 'editorial', 'anio']\n",
      "['El Aleph', 'Jorge Luis Borges', 'Emece', '1949']\n",
      "['El Quijote', 'Miguel de Cervantes', 'Alfaguara', '2005']\n",
      "['El desbarrancadero', 'Fernando Vallejo', 'Planeta', '2001']\n",
      "['Una novelita Lumpen', 'Roberto Bolaño', 'Anagrama', '2002']\n",
      "['El amante', 'Marguerite Duras', 'Tusquets', '1984']\n",
      "['El jugador', 'Fiodor Dostoievsky', 'Salvat', '1969']\n"
     ]
    }
   ],
   "source": [
    "import os\n",
    "import csv\n",
    "\n",
    "with open(os.path.join(os.getcwd(), \"inventario.csv\"), \"r\") as archivo:\n",
    "    reader = csv.reader(archivo)\n",
    "    for fila in reader:\n",
    "        print(fila)"
   ]
  },
  {
   "cell_type": "markdown",
   "id": "f3c25baf",
   "metadata": {},
   "source": [
    "## Crear un CSV a partir de un diccionario\n",
    "\n",
    "Supongamos que tenemos un diccionario con los datos de nuestro inventario:"
   ]
  },
  {
   "cell_type": "code",
   "execution_count": 8,
   "id": "04af4a6d",
   "metadata": {},
   "outputs": [],
   "source": [
    "inventario = [\n",
    "    {\"titulo\": \"El Aleph\", \"autor\": \"Jorge Luis Borges\", \"editorial\": \"Emece\", \"anio\": 1949},\n",
    "    {\"titulo\": \"El Quijote\", \"autor\": \"Miguel de Cervantes\", \"editorial\": \"Alfaguara\", \"anio\": 2005},\n",
    "    {\"titulo\": \"El desbarrancadero\", \"autor\": \"Fernando Vallejo\", \"editorial\": \"Planeta\", \"anio\": 2001},\n",
    "    {\"titulo\": \"Una novelita Lumpen\", \"autor\": \"Roberto Bolaño\", \"editorial\": \"Anagrama\", \"anio\": 2002},\n",
    "    {\"titulo\": \"El amante\", \"autor\": \"Marguerite Duras\", \"editorial\": \"Tusquets\", \"anio\": 1984},\n",
    "]"
   ]
  },
  {
   "cell_type": "markdown",
   "id": "0c2c44b4",
   "metadata": {},
   "source": [
    "Para crear el csv debemos importar la librería `csv` y utilizar el método `DictWriter`:"
   ]
  },
  {
   "cell_type": "code",
   "execution_count": 9,
   "id": "fe1a51a9",
   "metadata": {},
   "outputs": [],
   "source": [
    "import os\n",
    "import csv\n",
    "\n",
    "with open(os.path.join(os.getcwd(), \"inventario.csv\"), \"w\", newline=\"\") as archivo:\n",
    "    writer = csv.DictWriter(archivo, fieldnames=[\"titulo\", \"autor\", \"editorial\", \"anio\"])\n",
    "    writer.writeheader()\n",
    "    for libro in inventario:\n",
    "        writer.writerow(libro)"
   ]
  },
  {
   "cell_type": "markdown",
   "id": "8f0ecac7",
   "metadata": {},
   "source": [
    "Y comprobamos que se creó correctamente el archivo CSV:"
   ]
  },
  {
   "cell_type": "code",
   "execution_count": 10,
   "id": "78f5071c",
   "metadata": {},
   "outputs": [
    {
     "name": "stdout",
     "output_type": "stream",
     "text": [
      "['titulo', 'autor', 'editorial', 'anio']\n",
      "['El Aleph', 'Jorge Luis Borges', 'Emece', '1949']\n",
      "['El Quijote', 'Miguel de Cervantes', 'Alfaguara', '2005']\n",
      "['El desbarrancadero', 'Fernando Vallejo', 'Planeta', '2001']\n",
      "['Una novelita Lumpen', 'Roberto Bolaño', 'Anagrama', '2002']\n",
      "['El amante', 'Marguerite Duras', 'Tusquets', '1984']\n"
     ]
    }
   ],
   "source": [
    "with open(os.path.join(os.getcwd(), \"inventario.csv\"), \"r\") as archivo:\n",
    "    reader = csv.reader(archivo)\n",
    "    for fila in reader:\n",
    "        print(fila)"
   ]
  },
  {
   "cell_type": "markdown",
   "id": "f729bfc7",
   "metadata": {},
   "source": [
    "Notarás que utilizamos el método `writeheader` para escribir la primera fila con los encabezados.\n",
    "\n",
    "## Ejercicios\n",
    "\n",
    "### Ejercicio 1\n",
    "\n",
    "Crear un archivo CSV con los datos de los libros de la biblioteca. El archivo debe tener las siguientes columnas: `titulo`, `autor`, `editorial`, `anio`. El archivo debe tener como encabezados: `Título`, `Autor`, `Editorial`, `Año`.\n",
    "\n",
    "### Ejercicio 2\n",
    "\n",
    "Crear un programa que permita a los usuarios agregar nuevos libros al archivo CSV."
   ]
  }
 ],
 "metadata": {
  "jupytext": {
   "cell_metadata_filter": "-all",
   "formats": "md:myst",
   "text_representation": {
    "extension": ".md",
    "format_name": "myst",
    "format_version": 0.13,
    "jupytext_version": "1.14.4"
   }
  },
  "kernelspec": {
   "display_name": "Python 3 (ipykernel)",
   "language": "python",
   "name": "python3"
  },
  "language_info": {
   "codemirror_mode": {
    "name": "ipython",
    "version": 3
   },
   "file_extension": ".py",
   "mimetype": "text/x-python",
   "name": "python",
   "nbconvert_exporter": "python",
   "pygments_lexer": "ipython3",
   "version": "3.11.1"
  },
  "source_map": [
   14,
   35,
   47,
   55,
   69,
   75,
   83,
   87,
   95,
   101,
   109,
   115,
   122,
   126,
   134,
   140,
   148,
   152,
   161,
   165,
   170
  ]
 },
 "nbformat": 4,
 "nbformat_minor": 5
}