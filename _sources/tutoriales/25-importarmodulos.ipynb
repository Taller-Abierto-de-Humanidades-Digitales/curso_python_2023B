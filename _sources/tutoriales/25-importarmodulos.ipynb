{
 "cells": [
  {
   "cell_type": "markdown",
   "id": "38abd0d3",
   "metadata": {},
   "source": [
    "# Funciones: Modularidad\n",
    "\n",
    "Hasta el momento, nuestros programas han consistido en varios bloques de código que se ejecutan secuencialmente. Seguramente habrás notado que cada vez que quieres probar una función tienes que ejecutar todo el programa, incluso aquellos bloques de código que no quieres usar en ese momento.\n",
    "\n",
    "A mayor complejidad del código, más difícil es leer y entender el programa. Además, si sumamos conjuntos de datos, diccionarios, listados y otros tipos de datos, la extensión del script aumenta hasta acumular miles de líneas de código. Al igual que en un sitio Web, la lectura se hace más difícil entre más \"largo\" es el texto.\n",
    "\n",
    "La modularidad es una técnica de diseño de software ampliamente utilizada en la industria, que permite dividir un programa en partes más pequeñas, llamadas módulos. Cada módulo contiene una parte del programa, incluso puede ser un programa en sí mismo, que se puede importar y usar en otros programas o en un programa complejo.\n",
    "\n",
    "Todos los lenguajes de programación modernos tienen mecanismos para modularizar el código, y Python no es la excepción.\n",
    "\n",
    "En este segmento del curso, aprenderás a importar módulos desde la biblioteca estándar de Python, a crear tus propios módulos y a importar funciones específicas de un módulo.\n",
    "\n",
    "## Importar módulos\n",
    "\n",
    "La biblioteca estándar de Python es una colección de módulos que se instalan junto con el lenguaje. Estos módulos proporcionan una amplia variedad de funciones que pueden ser utilizadas en tus programas. Para ver una lista completa de los módulos de la biblioteca estándar, puedes consultar la [documentación oficial de Python](https://docs.python.org/es/3/library/index.html).\n",
    "\n",
    "Para los fines de nuestro curso, vamos a utilizar el módulo `datetime` para trabajar con fechas y horas. Para importar un módulo, utilizamos la palabra reservada `import` seguida del nombre del módulo. Por ejemplo, para importar el módulo `datetime`, escribimos:"
   ]
  },
  {
   "cell_type": "code",
   "execution_count": 1,
   "id": "1f438bde",
   "metadata": {},
   "outputs": [],
   "source": [
    "import datetime"
   ]
  },
  {
   "cell_type": "markdown",
   "id": "84cd1935",
   "metadata": {},
   "source": [
    "Una vez importado el módulo, podemos utilizar sus funciones. Por ejemplo, para obtener la fecha y hora actuales, escribimos:"
   ]
  },
  {
   "cell_type": "code",
   "execution_count": 2,
   "id": "cf15a44d",
   "metadata": {},
   "outputs": [
    {
     "data": {
      "text/plain": [
       "datetime.datetime(2023, 5, 8, 23, 15, 49, 472931)"
      ]
     },
     "execution_count": 2,
     "metadata": {},
     "output_type": "execute_result"
    }
   ],
   "source": [
    "datetime.datetime.now()"
   ]
  },
  {
   "cell_type": "markdown",
   "id": "81bfb548",
   "metadata": {},
   "source": [
    "Este valor devuelve la fecha y hora en la que fue construido este libro. Si ejecutas este código en tu computadora, obtendrás la fecha y hora actuales.\n",
    "\n",
    "Con este módulo también podemos calcular la diferencia entre dos fechas. Por ejemplo, para calcular la diferencia entre la fecha de hoy y el fin del año, escribimos:"
   ]
  },
  {
   "cell_type": "code",
   "execution_count": 3,
   "id": "651cd9d4",
   "metadata": {},
   "outputs": [
    {
     "name": "stdout",
     "output_type": "stream",
     "text": [
      "236 days, 0:44:10.495719\n"
     ]
    }
   ],
   "source": [
    "fin_de_ano = datetime.datetime(2023, 12, 31)\n",
    "diferencia = fin_de_ano - datetime.datetime.now()\n",
    "print(diferencia)"
   ]
  },
  {
   "cell_type": "markdown",
   "id": "ba99283a",
   "metadata": {},
   "source": [
    "Cuando importamos la librería `datetime` con la instrucción `import datetime`, estamos importando todo el módulo. Esto significa que podemos acceder a todas las funciones del módulo utilizando el prefijo `datetime.`. Es decir, cuando escribimos `datetime.datetime.now()`, estamos accediendo a la función `now()` de la clase `datetime` que pertenece al módulo `datetime`.[^nota1]\n",
    "\n",
    "### Importar funciones específicas\n",
    "\n",
    "Otra manera de importar un módulo es importando funciones específicas. Por ejemplo, para importar la función `datetime()` del módulo `datetime`, escribimos:"
   ]
  },
  {
   "cell_type": "code",
   "execution_count": 4,
   "id": "395f29f6",
   "metadata": {},
   "outputs": [],
   "source": [
    "from datetime import datetime"
   ]
  },
  {
   "cell_type": "markdown",
   "id": "089fec19",
   "metadata": {},
   "source": [
    "Una vez importada la función, podemos utilizarla directamente. Por ejemplo, para obtener la fecha y hora actuales, escribimos:"
   ]
  },
  {
   "cell_type": "code",
   "execution_count": 5,
   "id": "3dc7c08e",
   "metadata": {},
   "outputs": [
    {
     "data": {
      "text/plain": [
       "datetime.datetime(2023, 5, 8, 23, 15, 49, 539534)"
      ]
     },
     "execution_count": 5,
     "metadata": {},
     "output_type": "execute_result"
    }
   ],
   "source": [
    "datetime.now()"
   ]
  },
  {
   "cell_type": "markdown",
   "id": "da9bf6ed",
   "metadata": {},
   "source": [
    "En general es buena práctica importar funciones específicas de un módulo, ya que evita que se sobreescriban nombres de funciones que ya existen en el programa.[^nota2]\n",
    "\n",
    "### Importar módulos con alias\n",
    "\n",
    "Una práctica muy común es importar módulos con alias. Por ejemplo, para importar el módulo `datetime` con el alias `dt`, escribimos:"
   ]
  },
  {
   "cell_type": "code",
   "execution_count": 6,
   "id": "15c4b4d4",
   "metadata": {},
   "outputs": [],
   "source": [
    "import datetime as dt"
   ]
  },
  {
   "cell_type": "markdown",
   "id": "e61701cb",
   "metadata": {},
   "source": [
    "Una vez importado el módulo, podemos utilizar sus funciones utilizando el alias. Por ejemplo, para obtener la fecha y hora actuales, escribimos:"
   ]
  },
  {
   "cell_type": "code",
   "execution_count": 7,
   "id": "c04ed8a0",
   "metadata": {},
   "outputs": [
    {
     "data": {
      "text/plain": [
       "datetime.datetime(2023, 5, 8, 23, 15, 49, 579914)"
      ]
     },
     "execution_count": 7,
     "metadata": {},
     "output_type": "execute_result"
    }
   ],
   "source": [
    "dt.datetime.now()"
   ]
  },
  {
   "cell_type": "markdown",
   "id": "c02e5b55",
   "metadata": {},
   "source": [
    "En la librería estándar no es muy común utilizar alias para importar los módulos, pero es una costumbre con librerías populares como `matplotlib`, `numpy` y `pandas`.\n",
    "\n",
    "## Notas\n",
    "  \n",
    "[^nota1]: En los siguientes segmentos del curso abordaremos las clases y los objetos en Python.\n",
    "\n",
    "[^nota2]: Una manera permitida pero no recomendada de realizar importaciones es a través de la instrucción `from datetime import *`. Esta instrucción importa todas las funciones del módulo `datetime`, pero no es recomendable utilizarla ya que puede sobreescribir nombres de funciones que ya existen en el programa. Por otra parte, es difícil reconocer qué se ha importado y qué no; lo que impacta en la legibilidad del código. Por esta razón, es mejor importar funciones específicas de un módulo."
   ]
  }
 ],
 "metadata": {
  "jupytext": {
   "cell_metadata_filter": "-all",
   "formats": "md:myst",
   "text_representation": {
    "extension": ".md",
    "format_name": "myst",
    "format_version": 0.13,
    "jupytext_version": "1.14.4"
   }
  },
  "kernelspec": {
   "display_name": "Python 3 (ipykernel)",
   "language": "python",
   "name": "python3"
  },
  "language_info": {
   "codemirror_mode": {
    "name": "ipython",
    "version": 3
   },
   "file_extension": ".py",
   "mimetype": "text/x-python",
   "name": "python",
   "nbconvert_exporter": "python",
   "pygments_lexer": "ipython3",
   "version": "3.11.1"
  },
  "source_map": [
   14,
   34,
   36,
   40,
   42,
   48,
   52,
   60,
   62,
   66,
   68,
   76,
   78,
   82,
   84
  ]
 },
 "nbformat": 4,
 "nbformat_minor": 5
}