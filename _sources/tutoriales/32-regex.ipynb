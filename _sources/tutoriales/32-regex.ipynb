{
 "cells": [
  {
   "cell_type": "markdown",
   "id": "78d52b36",
   "metadata": {},
   "source": [
    "# Expresiones regulares\n",
    "\n",
    "Durante buena parte de este curso hemos recurrido a operaciones lógicas para \"descubrir\" coincidencias en los textos. Hemos recurrido a las funciones propias del método `str` de Python para normalizar palabras, hemos usado condicionales para identificar si una palabra es igual o está contenida en un conjunto de caracteres, hemos usado iteraciones para recorrer los conjuntos de palabras de un texto, incluso hemos recurrido a los métodos de `try` y `except` para saber si una palabra es un número o no.\n",
    "\n",
    "Sin embargo, hay un método que nos permite hacer todo esto de manera más eficiente: las expresiones regulares. Las expresiones regulares son un lenguaje de programación en sí mismo, que nos permite identificar patrones en los textos. En este tutorial veremos cómo usarlas en Python.\n",
    "\n",
    "## ¿Qué son las expresiones regulares?\n",
    "\n",
    "En términos simples, las expresiones regulares consisten en patrones de caracteres que nos permiten identificar coincidencias en los textos, a partir de una serie de reglas. Téoricamente, las expresiones regulares están fundamentadas en la teoría de los autómatas, un tema propio de la teoría computacional. No es necesario que comprendamos la teoría computacional para usar expresiones regulares, pero sí es relevante tener en cuenta que lo que buscan las expresiones regulares no es una coincidencia exacta, sino un patrón de coincidencia.\n",
    "\n",
    "## Uso de expresiones regulares\n",
    "\n",
    "Vamos a retomar un ejemplo que utilizamos en la lección [Funciones y modularidad](23-funcionesLlamados.md). En esa lección, creamos una función llamada `extraer_fechas()` que nos permitía extraer las fechas de un texto. La función era la siguiente:"
   ]
  },
  {
   "cell_type": "code",
   "execution_count": 1,
   "id": "499c0991",
   "metadata": {},
   "outputs": [],
   "source": [
    "def separador(palabra, caracter):\n",
    "    \"\"\"Separa una palabra en una lista de palabras según un caracter.\n",
    "\n",
    "    Parámetros\n",
    "    ----------\n",
    "    palabra: str\n",
    "        Palabra a separar\n",
    "    caracter: str\n",
    "        Caracter por el cual se separará la palabra\n",
    "\n",
    "    Retorna\n",
    "    -------\n",
    "    palabras: list\n",
    "        Lista de palabras separadas\n",
    "    \"\"\"\n",
    "    palabras = []\n",
    "    for palabra in palabra.split(caracter):\n",
    "        if palabra.isdigit() and len(palabra) == 4:\n",
    "            palabras.append(palabra)\n",
    "    return palabras\n",
    "\n",
    "def extraer_fechas(texto):\n",
    "    \"\"\"Extrae todas las fechas que aparezcan en un texto.\n",
    "    \n",
    "    Parámetros\n",
    "    ----------\n",
    "    texto: str\n",
    "        Texto del cual se extraerán las fechas\n",
    "\n",
    "    Retorna\n",
    "    -------\n",
    "    fechas: list\n",
    "        Lista de fechas extraídas del texto\n",
    "    \"\"\"\n",
    "    fechas = []\n",
    "    for palabra in texto.split():\n",
    "        palabra = palabra = palabra.strip(\",;:()[]{}\")\n",
    "        if palabra.endswith(\".\"):\n",
    "            palabra = palabra.replace(\".\", \"\")\n",
    "\n",
    "        if palabra.isdigit() and len(palabra) == 4:\n",
    "            fechas.append(palabra)\n",
    "        elif len(palabra) > 5 and \"-\" in palabra:\n",
    "            fechas.extend(separador(palabra, \"-\"))\n",
    "        elif len(palabra) > 5 and \".\" in palabra:\n",
    "            fechas.extend(separador(palabra, \".\"))\n",
    "\n",
    "    return fechas"
   ]
  },
  {
   "cell_type": "markdown",
   "id": "9e522e24",
   "metadata": {},
   "source": [
    "Y la utilizamos en un texto de ejemplo:"
   ]
  },
  {
   "cell_type": "code",
   "execution_count": 2,
   "id": "2f719ff9",
   "metadata": {},
   "outputs": [
    {
     "data": {
      "text/plain": [
       "['1547', '1616']"
      ]
     },
     "execution_count": 2,
     "metadata": {},
     "output_type": "execute_result"
    }
   ],
   "source": [
    "Cervantes = \"Miguel de Cervantes Saavedra (Alcalá de Henares,4 29 de septiembre de 1547-Madrid, 22 de abril3 de 1616) fue un novelista, poeta, dramaturgo y soldado español.\"\n",
    "extraer_fechas(Cervantes)"
   ]
  },
  {
   "cell_type": "markdown",
   "id": "d3cb0035",
   "metadata": {},
   "source": [
    "Como vemos, la función nos devuelve una lista con las fechas que encontró en el texto. Sin embargo, la función tiene un problema: sólo funciona con fechas que estén escritas en el formato `dd/mm/aaaa`. Si la fecha está escrita en otro formato, la función no la detecta. Por ejemplo, si la fecha está escrita en el formato `dd-mm-aaaa`, la función no la detecta:"
   ]
  },
  {
   "cell_type": "code",
   "execution_count": 3,
   "id": "4917880f",
   "metadata": {},
   "outputs": [
    {
     "data": {
      "text/plain": [
       "['1547', '1616']"
      ]
     },
     "execution_count": 3,
     "metadata": {},
     "output_type": "execute_result"
    }
   ],
   "source": [
    "Cervantes = \"Miguel de Cervantes Saavedra (Alcalá de Henares,4 29-09-1547-Madrid, 22-04-1616) fue un novelista, poeta, dramaturgo y soldado español.\"\n",
    "extraer_fechas(Cervantes)"
   ]
  },
  {
   "cell_type": "markdown",
   "id": "5745ab7a",
   "metadata": {},
   "source": [
    "Para solucionar este problema, podríamos modificar la función para que detecte fechas en el formato `dd-mm-aaaa`. Sin embargo, esto no solucionaría el problema, ya que podrían haber fechas escritas en otros formatos, como `dd.mm.aaaa` o `dd mm aaaa`. En este caso, la solución más eficiente sería usar expresiones regulares.\n",
    "\n",
    "## Sintaxis de las expresiones regulares\n",
    "\n",
    "Las expresiones regulares tienen una sintaxis propia, que nos permite identificar patrones en los textos. En este tutorial veremos los patrones más comunes, pero si quieren profundizar en el tema, pueden consultar la [documentación oficial de Python](https://docs.python.org/3/library/re.html).\n",
    "\n",
    "### Coincidencias exactas\n",
    "\n",
    "La coincidencia más simple que podemos buscar es una coincidencia exacta. Por ejemplo, si queremos buscar la palabra \"novelista\" en el texto de ejemplo, podemos usar la siguiente expresión regular:"
   ]
  },
  {
   "cell_type": "code",
   "execution_count": 4,
   "id": "d2402f6c",
   "metadata": {},
   "outputs": [
    {
     "data": {
      "text/plain": [
       "['novelista']"
      ]
     },
     "execution_count": 4,
     "metadata": {},
     "output_type": "execute_result"
    }
   ],
   "source": [
    "import re\n",
    "\n",
    "re.findall(r\"novelista\", Cervantes)"
   ]
  },
  {
   "cell_type": "markdown",
   "id": "0c1df8bc",
   "metadata": {},
   "source": [
    "Como vemos, la expresión regular nos devuelve una lista con todas las coincidencias exactas que encontró en el texto. Si queremos buscar la palabra \"novelista\" o \"poeta\", podemos usar el operador `|`:"
   ]
  },
  {
   "cell_type": "code",
   "execution_count": 5,
   "id": "6b927c75",
   "metadata": {},
   "outputs": [
    {
     "data": {
      "text/plain": [
       "['novelista', 'poeta']"
      ]
     },
     "execution_count": 5,
     "metadata": {},
     "output_type": "execute_result"
    }
   ],
   "source": [
    "re.findall(r\"novelista|poeta\", Cervantes)"
   ]
  },
  {
   "cell_type": "markdown",
   "id": "5ceb046c",
   "metadata": {},
   "source": [
    "Incluso podemos evitar las mayúsculas y minúsculas aprovechando el parámetro `flags` de la librearía `re`:"
   ]
  },
  {
   "cell_type": "code",
   "execution_count": 6,
   "id": "a0a2b531",
   "metadata": {},
   "outputs": [
    {
     "data": {
      "text/plain": [
       "['Miguel', 'Madrid']"
      ]
     },
     "execution_count": 6,
     "metadata": {},
     "output_type": "execute_result"
    }
   ],
   "source": [
    "re.findall(r\"miguel|madrid\", Cervantes, flags=re.IGNORECASE)"
   ]
  },
  {
   "cell_type": "markdown",
   "id": "e8bbfcc6",
   "metadata": {},
   "source": [
    "Hasta ahora nada sorprendente, ya que podríamos haber usado el método `str` de Python para buscar coincidencias exactas. Sin embargo, las expresiones regulares nos permiten buscar patrones más complejos gracias a los metacaracteres, las clases y los cuantificadores.\n",
    "\n",
    "### Metacaracteres, clases de caracteres y cuantificadores\n",
    "\n",
    "Las expresiones regulares nos permiten buscar patrones más complejos, usando metacaracteres, clases de caracteres y cuantificadores.\n",
    "\n",
    "#### Metacaracteres\n",
    "\n",
    "Una lista de metacaracteres más comunes es la siguiente:\n",
    "\n",
    "| Metacaracter | Descripción |\n",
    "|--------------|-------------|\n",
    "| `.` | Cualquier carácter, excepto nueva línea |\n",
    "| `^` | Inicio de la cadena |\n",
    "| `$` | Fin de la cadena |\n",
    "| `*` | Cero o más ocurrencias |\n",
    "| `+` | Una o más ocurrencias |\n",
    "| `?` | Cero o una ocurrencia |\n",
    "| `{}` | Exactamente el número de ocurrencias especificado |\n",
    "| `[]` | Un conjunto de caracteres |\n",
    "| `()` | Captura y agrupa |\n",
    "| `\\` | Carácter de escape |\n",
    "| `\\|` | Operador OR |\n",
    "\n",
    "Usemos un ejemplo para mostrar un poco el funcionamiento de algunos de estos metacaracteres. Por ejemplo, si queremos buscar todas las palabras que empiezan con \"nov\", podemos usar el metacaracter `^`:"
   ]
  },
  {
   "cell_type": "code",
   "execution_count": 7,
   "id": "79bed585",
   "metadata": {},
   "outputs": [
    {
     "name": "stdout",
     "output_type": "stream",
     "text": [
      "['novelista,']\n"
     ]
    }
   ],
   "source": [
    "Cervantes = \"Miguel de Cervantes Saavedra (Alcalá de Henares,4 29 de septiembre de 1547-Madrid, 22 de abril3 de 1616) fue un novelista, poeta, dramaturgo y soldado español.\"\n",
    "nov = [p for p in Cervantes.split(\" \") if re.match(r\"^nov\", p, re.IGNORECASE)]\n",
    "print(nov)"
   ]
  },
  {
   "cell_type": "markdown",
   "id": "b08c5844",
   "metadata": {},
   "source": [
    "Como vemos, la expresión regular nos devuelve una lista con todas las palabras que empiezan con \"nov\". Si queremos buscar todas las palabras que terminan con \"el\", podemos usar el metacaracter `$`:"
   ]
  },
  {
   "cell_type": "code",
   "execution_count": 8,
   "id": "0817ab19",
   "metadata": {},
   "outputs": [
    {
     "name": "stdout",
     "output_type": "stream",
     "text": [
      "[]\n"
     ]
    }
   ],
   "source": [
    "el = [p for p in Cervantes.split(\" \") if re.match(r\"el$\", p, re.IGNORECASE)]\n",
    "print(el)"
   ]
  },
  {
   "cell_type": "markdown",
   "id": "17e9fd7a",
   "metadata": {},
   "source": [
    "Ahora, supongamos que queremos buscar solamente las palabras que estén entre paréntesis. Para esto, podemos usar el metacaracter `(`:"
   ]
  },
  {
   "cell_type": "code",
   "execution_count": 9,
   "id": "62594d49",
   "metadata": {},
   "outputs": [
    {
     "data": {
      "text/plain": [
       "['(Alcalá de Henares,4 29 de septiembre de 1547-Madrid, 22 de abril3 de 1616)']"
      ]
     },
     "execution_count": 9,
     "metadata": {},
     "output_type": "execute_result"
    }
   ],
   "source": [
    "re.findall(r\"\\(.*\\)\", Cervantes, re.UNICODE)"
   ]
  },
  {
   "cell_type": "markdown",
   "id": "376fff85",
   "metadata": {},
   "source": [
    "Nota que la sintaxis en este caso es un poco más compleja, pero ya no requerimos recurrir a una iteración para encontrar los patrones.. Vamos a explicarla en detalle:\n",
    "\n",
    "- `\\(`: el paréntesis izquierdo tiene un significado especial en las expresiones regulares, por lo que debemos usar el metacaracter `\\` para indicar que queremos buscar un paréntesis izquierdo.\n",
    "- `.*`: el punto en esta fórmula significa que buscamos cualquier carácter, excepto nueva línea. El asterisco significa que queremos buscar cero o más ocurrencias de cualquier carácter.\n",
    "- `\\)`: la expresión regular busca todos los caracteres a la derecha del paréntesis izquierdo, hasta que encuentra un paréntesis derecho.\n",
    "\n",
    "Iremos utilizando otros metacaracteres en tanto avancemos en nuestras búsquedas. Por ahora, veamos las clases de caracteres.\n",
    "\n",
    "#### Clases de caracteres\n",
    "\n",
    "Las clases de caracteres son un conjunto predefinido de caracteres que encontramos en un texto. En la siguiente tabla mostramos las clases de caracteres predefinidas más comunes:\n",
    "\n",
    "| Clase de caracteres | Descripción |\n",
    "|---------------------|-------------|\n",
    "| `\\d` | Cualquier dígito |\n",
    "| `\\D` | Cualquier carácter que no sea un dígito |\n",
    "| `\\s` | Cualquier espacio en blanco |\n",
    "| `\\S` | Cualquier carácter que no sea un espacio en blanco |\n",
    "| `\\w` | Cualquier carácter alfanumérico |\n",
    "| `\\W` | Cualquier carácter que no sea alfanumérico |\n",
    "\n",
    "Hagamos otro reto, utilizando una clase de caracteres, creemos una búsqueda que regrese la primera palabra a la izquierda y la primera a la derecha después de la conjunción \"de\":"
   ]
  },
  {
   "cell_type": "code",
   "execution_count": 10,
   "id": "9a0f0f20",
   "metadata": {},
   "outputs": [
    {
     "data": {
      "text/plain": [
       "[('Miguel', 'Cervantes'),\n",
       " ('Alcalá', 'Henares'),\n",
       " ('29', 'septiembre'),\n",
       " ('22', 'abril3')]"
      ]
     },
     "execution_count": 10,
     "metadata": {},
     "output_type": "execute_result"
    }
   ],
   "source": [
    "re.findall(r\"(\\w+) de (\\w+)\", Cervantes)"
   ]
  },
  {
   "cell_type": "markdown",
   "id": "6bc13539",
   "metadata": {},
   "source": [
    "Deconstruyamos esta fórmula para entender cómo funciona:\n",
    "\n",
    "- `(\\w+)`: la expresión regular busca una o más ocurrencias de cualquier carácter alfanumérico. Está utilizando el metacaracter `()` para agrupar el resultado. La clase de caracteres `\\w` es equivalente a `[a-zA-Z0-9_]`, que quiere decir que busca cualquier carácter alfanumérico, incluyendo letras mayúsculas y minúsculas, números y el guión bajo. El signo `+` significa que queremos buscar una o más ocurrencias de cualquier carácter alfanumérico.\n",
    "- `de`: la expresión regular busca la palabra \"de\" en el texto.\n",
    "- `(\\w+)`: la expresión regular busca una o más ocurrencias de cualquier carácter alfanumérico. Está utilizando el metacaracter `()` para agrupar el resultado. En este caso, a la derecha de la palabra \"de\".\n",
    "\n",
    "Subamos la apuesta. Ahora busquemos las tres palabras a la izquierda y tres a la derecha de la palabra \"de\". Para que el ejercicio tenga sentido, aumentemos el tamaño del texto a analizar:"
   ]
  },
  {
   "cell_type": "code",
   "execution_count": 11,
   "id": "6a2b3cea",
   "metadata": {},
   "outputs": [],
   "source": [
    "Cervantes += \"\"\"Es ampliamente considerado una de las máximas figuras de la literatura española. Fue el autor de El ingenioso hidalgo don Quijote de la Mancha, novela conocida habitualmente como El Quijote, que lo llevó a ser mundialmente conocido y a la cual muchos críticos han descrito como la primera novela moderna, así como una de las mejores obras de la literatura universal, cuya cantidad de ediciones y traducciones solo es superada por la Biblia.5 A Cervantes se le ha dado el apelativo de «Príncipe de los Ingenios».6\n",
    "\n",
    "Desde el siglo xviii está admitido que el lugar de nacimiento de Miguel de Cervantes fue Alcalá de Henares,4 dado que allí fue bautizado, según su acta bautismal, y que de allí aclaró ser natural en la llamada Información de Argel (1580).7 El día exacto de su nacimiento es menos seguro, aunque lo normal es que naciera el 29 de septiembre, fecha en que se celebra la fiesta del arcángel San Miguel, dada la tradición de recibir el nombre del santoral del día del nacimiento. Miguel de Cervantes fue bautizado el 9 de octubre de 1547 en la parroquia de Santa María la Mayor.89 El acta del bautizo reza:\n",
    "\n",
    "Domingo, nueve días del mes de octubre, año del Señor de mill e quinientos e quarenta e siete años, fue baptizado Miguel, hijo de Rodrigo Cervantes e su mujer doña Leonor. Baptizóle el reverendo señor Bartolomé Serrano, cura de Nuestra Señora. Testigos, Baltasar Vázquez, Sacristán, e yo, que le bapticé e firme de mi nombre. Bachiller Serrano.10\n",
    "El padre del escritor era Rodrigo de Cervantes (1509-1585), casado con Leonor de Cortinas, de la cual apenas se sabe nada, excepto que era natural de Arganda del Rey.11 Los hermanos de Cervantes fueron Andrés (1543), Andrea (1544), Luisa (1546), que llegó a ser priora de un convento carmelita; Rodrigo (1550), también soldado, que le acompañó en el cautiverio argelino; Magdalena (1554) y Juan, solo conocido porque su padre lo menciona en el testamento.\"\"\""
   ]
  },
  {
   "cell_type": "markdown",
   "id": "b087db41",
   "metadata": {},
   "source": [
    "Ahora, apliquemos la siguiente expresión regular:"
   ]
  },
  {
   "cell_type": "code",
   "execution_count": 12,
   "id": "eb75a12e",
   "metadata": {},
   "outputs": [
    {
     "data": {
      "text/plain": [
       "[('ampliamente', 'considerado', 'una', 'las', 'máximas', 'figuras'),\n",
       " ('Fue', 'el', 'autor', 'El', 'ingenioso', 'hidalgo'),\n",
       " ('así', 'como', 'una', 'las', 'mejores', 'obras'),\n",
       " ('que', 'el', 'lugar', 'nacimiento', 'de', 'Miguel'),\n",
       " ('El', 'día', 'exacto', 'su', 'nacimiento', 'es'),\n",
       " ('dada', 'la', 'tradición', 'recibir', 'el', 'nombre'),\n",
       " ('bautizado', 'el', '9', 'octubre', 'de', '1547'),\n",
       " ('en', 'la', 'parroquia', 'Santa', 'María', 'la'),\n",
       " ('año', 'del', 'Señor', 'mill', 'e', 'quinientos'),\n",
       " ('que', 'era', 'natural', 'Arganda', 'del', 'Rey'),\n",
       " ('11', 'Los', 'hermanos', 'Cervantes', 'fueron', 'Andrés'),\n",
       " ('a', 'ser', 'priora', 'un', 'convento', 'carmelita')]"
      ]
     },
     "execution_count": 12,
     "metadata": {},
     "output_type": "execute_result"
    }
   ],
   "source": [
    "re.findall(r\"(\\w+) (\\w+) (\\w+) de (\\w+) (\\w+) (\\w+)\", Cervantes)"
   ]
  },
  {
   "cell_type": "markdown",
   "id": "79a7cad6",
   "metadata": {},
   "source": [
    "En este caso, repetimos tres veces el grupo de caracteres `\\w+`. Una solución lógica para simplificar la expresión podría ser el uso de un cuantificador, por ejemplo:"
   ]
  },
  {
   "cell_type": "code",
   "execution_count": 13,
   "id": "bb414b62",
   "metadata": {},
   "outputs": [
    {
     "data": {
      "text/plain": [
       "[('una ', 'figuras '),\n",
       " ('autor ', 'hidalgo '),\n",
       " ('una ', 'obras '),\n",
       " ('lugar ', 'Miguel '),\n",
       " ('exacto ', 'es '),\n",
       " ('tradición ', 'nombre '),\n",
       " ('9 ', '1547 '),\n",
       " ('parroquia ', 'la '),\n",
       " ('Señor ', 'quinientos '),\n",
       " ('hermanos ', 'Andrés ')]"
      ]
     },
     "execution_count": 13,
     "metadata": {},
     "output_type": "execute_result"
    }
   ],
   "source": [
    "re.findall(r\"(\\w+ ){3}de (\\w+ ){3}\", Cervantes, re.MULTILINE)"
   ]
  },
  {
   "cell_type": "markdown",
   "id": "5cae2380",
   "metadata": {},
   "source": [
    "Pero como verás, en este caso no se obtiene el listado de las palabras, lo cual no es lo que queremos. Por lo tanto, la expresión regular que utilizamos al principio es la más adecuada.\n",
    "\n",
    "Ahora, con los metacaracteres y las clases de caracteres, podemos construir una expresión que nos permita extraer los años de este conjunto de textos:"
   ]
  },
  {
   "cell_type": "code",
   "execution_count": 14,
   "id": "43b2e3a7",
   "metadata": {},
   "outputs": [
    {
     "data": {
      "text/plain": [
       "['1547',\n",
       " '1616',\n",
       " '1580',\n",
       " '1547',\n",
       " '1509',\n",
       " '1585',\n",
       " '1543',\n",
       " '1544',\n",
       " '1546',\n",
       " '1550',\n",
       " '1554']"
      ]
     },
     "execution_count": 14,
     "metadata": {},
     "output_type": "execute_result"
    }
   ],
   "source": [
    "re.findall(r\"\\d{4}\", Cervantes)"
   ]
  },
  {
   "cell_type": "markdown",
   "id": "6b58b7a2",
   "metadata": {},
   "source": [
    "¡Y eso es todo! Mientras con la función `extraer_fechas()` tuvimos que explorar una serie de opciones lógicas para extraer los años, con las expresiones regulares pudimos extraer los años en una sola línea de código.\n",
    "\n",
    "#### Clases de caracteres personalizadas\n",
    "\n",
    "Los corchetes nos permiten crear clases personalizadas, de tal manera que sea más precisa nuestra búsqueda. Por ejemplo, si queremos buscar todas las palabras que empiecen con una letra mayúscula, podemos utilizar la siguiente expresión regular:"
   ]
  },
  {
   "cell_type": "code",
   "execution_count": 15,
   "id": "b1647de8",
   "metadata": {},
   "outputs": [
    {
     "data": {
      "text/plain": [
       "['Miguel',\n",
       " 'Cervantes',\n",
       " 'Saavedra',\n",
       " 'Alcalá',\n",
       " 'Henares',\n",
       " 'Madrid',\n",
       " 'Es',\n",
       " 'Fue',\n",
       " 'El',\n",
       " 'Quijote',\n",
       " 'Mancha',\n",
       " 'El',\n",
       " 'Quijote',\n",
       " 'Biblia',\n",
       " 'Cervantes',\n",
       " 'Príncipe',\n",
       " 'Ingenios',\n",
       " 'Desde',\n",
       " 'Miguel',\n",
       " 'Cervantes',\n",
       " 'Alcalá',\n",
       " 'Henares',\n",
       " 'Información',\n",
       " 'Argel',\n",
       " 'El',\n",
       " 'San',\n",
       " 'Miguel',\n",
       " 'Miguel',\n",
       " 'Cervantes',\n",
       " 'Santa',\n",
       " 'María',\n",
       " 'Mayor',\n",
       " 'El',\n",
       " 'Domingo',\n",
       " 'Señor',\n",
       " 'Miguel',\n",
       " 'Rodrigo',\n",
       " 'Cervantes',\n",
       " 'Leonor',\n",
       " 'Baptizóle',\n",
       " 'Bartolomé',\n",
       " 'Serrano',\n",
       " 'Nuestra',\n",
       " 'Señora',\n",
       " 'Testigos',\n",
       " 'Baltasar',\n",
       " 'Vázquez',\n",
       " 'Sacristán',\n",
       " 'Bachiller',\n",
       " 'Serrano',\n",
       " 'El',\n",
       " 'Rodrigo',\n",
       " 'Cervantes',\n",
       " 'Leonor',\n",
       " 'Cortinas',\n",
       " 'Arganda',\n",
       " 'Rey',\n",
       " 'Los',\n",
       " 'Cervantes',\n",
       " 'Andrés',\n",
       " 'Andrea',\n",
       " 'Luisa',\n",
       " 'Rodrigo',\n",
       " 'Magdalena',\n",
       " 'Juan']"
      ]
     },
     "execution_count": 15,
     "metadata": {},
     "output_type": "execute_result"
    }
   ],
   "source": [
    "re.findall(r\"[A-Z]\\w+\", Cervantes)"
   ]
  },
  {
   "cell_type": "markdown",
   "id": "0b7ec4e8",
   "metadata": {},
   "source": [
    "También podemos modificar la expresión para que evite encontrar conectores como \"El\", \"Es\", \"Se\", etc.:"
   ]
  },
  {
   "cell_type": "code",
   "execution_count": 16,
   "id": "31cfd011",
   "metadata": {},
   "outputs": [
    {
     "data": {
      "text/plain": [
       "['Miguel',\n",
       " 'Cervantes',\n",
       " 'Saavedra',\n",
       " 'Henares',\n",
       " 'Madrid',\n",
       " 'Fue',\n",
       " 'Quijote',\n",
       " 'Mancha',\n",
       " 'Quijote',\n",
       " 'Biblia',\n",
       " 'Cervantes',\n",
       " 'Ingenios',\n",
       " 'Desde',\n",
       " 'Miguel',\n",
       " 'Cervantes',\n",
       " 'Henares',\n",
       " 'Argel',\n",
       " 'San',\n",
       " 'Miguel',\n",
       " 'Miguel',\n",
       " 'Cervantes',\n",
       " 'Santa',\n",
       " 'Mayor',\n",
       " 'Domingo',\n",
       " 'Miguel',\n",
       " 'Rodrigo',\n",
       " 'Cervantes',\n",
       " 'Leonor',\n",
       " 'Serrano',\n",
       " 'Nuestra',\n",
       " 'Testigos',\n",
       " 'Baltasar',\n",
       " 'Bachiller',\n",
       " 'Serrano',\n",
       " 'Rodrigo',\n",
       " 'Cervantes',\n",
       " 'Leonor',\n",
       " 'Cortinas',\n",
       " 'Arganda',\n",
       " 'Rey',\n",
       " 'Los',\n",
       " 'Cervantes',\n",
       " 'Andrea',\n",
       " 'Luisa',\n",
       " 'Rodrigo',\n",
       " 'Magdalena',\n",
       " 'Juan']"
      ]
     },
     "execution_count": 16,
     "metadata": {},
     "output_type": "execute_result"
    }
   ],
   "source": [
    "re.findall(r\"\\b(?!El\\b|Es\\b|Se\\b)([A-Z][a-z]+)\\b\", Cervantes)"
   ]
  },
  {
   "cell_type": "markdown",
   "id": "b49817a9",
   "metadata": {},
   "source": [
    "Con esta expresión empezamos a ver cómo las expresiones regulares pueden volverse ilegibles bastante rápido. Vamos a explicar esta expresión regular:\n",
    "\n",
    "Esta expresión está compuesta de dos conjuntos: uno buscar patrones que no queremos y el segundo busca patrones que sí queremos.\n",
    "\n",
    "- `\\b(?!El\\b|Es\\b|Se\\b)`: el primer conjunto busca patrones que no queremos. En este caso, buscamos patrones que empiecen con \"El\", \"Es\" o \"Se\". El metacaracter `\\b` busca límites de palabras, es decir, que la palabra empiece o termine con el patrón que estamos buscando. El metacaracter `|` funciona como un operador lógico OR, es decir, que si encuentra \"El\", \"Es\" o \"Se\", la expresión regular se detiene. El metacaracter `?!` es un operador lógico NOT, es decir, que si encuentra \"El\", \"Es\" o \"Se\", la expresión regular se detiene.\n",
    "- `([A-Z][a-z]+)`: el segundo conjunto busca patrones que sí queremos. En este caso, buscamos patrones que empiecen con una letra mayúscula y que tengan una o más letras minúsculas. El metacaracter `+` significa que queremos buscar una o más ocurrencias de cualquier carácter alfanumérico.\n",
    "\n",
    "Es fáci identificar que en este caso, si queremos ampliar nuestra lista de expresiones negativas, la fórmula va a adquirir un tamaño casi absurdo, por ejemplo:"
   ]
  },
  {
   "cell_type": "code",
   "execution_count": 17,
   "id": "082bbc00",
   "metadata": {},
   "outputs": [
    {
     "name": "stdout",
     "output_type": "stream",
     "text": [
      "['Miguel', 'Cervantes', 'Saavedra', 'Henares', 'Madrid', 'Fue', 'Quijote', 'Mancha', 'Quijote', 'Biblia', 'Cervantes', 'Ingenios', 'Miguel', 'Cervantes', 'Henares', 'Argel', 'San', 'Miguel', 'Miguel', 'Cervantes', 'Santa', 'Mayor', 'Domingo', 'Miguel', 'Rodrigo', 'Cervantes', 'Leonor', 'Serrano', 'Nuestra', 'Testigos', 'Baltasar', 'Bachiller', 'Serrano', 'Rodrigo', 'Cervantes', 'Leonor', 'Cortinas', 'Arganda', 'Rey', 'Cervantes', 'Andrea', 'Luisa', 'Rodrigo', 'Magdalena', 'Juan']\n"
     ]
    }
   ],
   "source": [
    "patron = r'\\b(?!Es\\b|Se\\b|De\\b|El\\b|La\\b|Los\\b|Las\\b|Un\\b|Una\\b|Unos\\b|Unas\\b|Al\\b|Del\\b|Y\\b|O\\b|En\\b|A\\b|Ante\\b|Bajo\\b|Cabe\\b|Con\\b|Contra\\b|De\\b|Desde\\b|Durante\\b|En\\b|Entre\\b|Hacia\\b|Hasta\\b|Mediante\\b|Para\\b|Por\\b|Según\\b|Sin\\b|Sobre\\b|Tras\\b|Versus\\b|Vía\\b)([A-Z][a-z]+)\\b'\n",
    "\n",
    "resultado = re.findall(patron, Cervantes)\n",
    "\n",
    "print(resultado)"
   ]
  },
  {
   "cell_type": "markdown",
   "id": "595e8c3d",
   "metadata": {},
   "source": [
    "En este caso, podemos aprovechar los métodos de Python para incluir todos los conectores en una lista y luego usar el método `join()` para unirlos con el operador lógico OR:"
   ]
  },
  {
   "cell_type": "code",
   "execution_count": 18,
   "id": "77fac977",
   "metadata": {},
   "outputs": [
    {
     "name": "stdout",
     "output_type": "stream",
     "text": [
      "['Miguel', 'Cervantes', 'Saavedra', 'Henares', 'Madrid', 'Fue', 'Quijote', 'Mancha', 'Quijote', 'Biblia', 'Cervantes', 'Ingenios', 'Miguel', 'Cervantes', 'Henares', 'San', 'Miguel', 'Miguel', 'Cervantes', 'Santa', 'Mayor', 'Domingo', 'Miguel', 'Rodrigo', 'Cervantes', 'Leonor', 'Nuestra', 'Testigos', 'Baltasar', 'Bachiller', 'Rodrigo', 'Cervantes', 'Leonor', 'Cortinas', 'Rey', 'Cervantes', 'Luisa', 'Rodrigo', 'Magdalena', 'Juan']"
     ]
    },
    {
     "name": "stdout",
     "output_type": "stream",
     "text": [
      "\n"
     ]
    }
   ],
   "source": [
    "conectores = [\"Es\", \"Se\", \"De\", \"El\", \"La\", \"Los\", \"Las\", \"Un\", \"Una\", \"Unos\", \"Unas\", \"Al\", \"Del\", \"Y\", \"O\", \"En\", \"A\", \"Ante\", \"Bajo\", \"Cabe\", \"Con\", \"Contra\", \"De\", \"Desde\", \"Durante\", \"En\", \"Entre\", \"Hacia\", \"Hasta\", \"Mediante\", \"Para\", \"Por\", \"Según\", \"Sin\", \"Sobre\", \"Tras\", \"Versus\", \"Vía\"]\n",
    "\n",
    "patron = r'\\b(?!' + '|'.join(conectores) + r'\\b)([A-Z][a-z]+)\\b'\n",
    "\n",
    "resultado = re.findall(patron, Cervantes)\n",
    "\n",
    "print(resultado)"
   ]
  },
  {
   "cell_type": "markdown",
   "id": "c348b894",
   "metadata": {},
   "source": [
    "De esta manera el código es mucho más legible y fácil de modificar.\n",
    "\n",
    "## Ejercicios\n",
    "\n",
    "### Ejercicio 1\n",
    "\n",
    "Construye una expresión regular que pueda identificar un patrón en el que el nombre y el apellido de una persona estén separados por una coma (por ejemplo, \"Cervantes, Miguel\"). La expresión debe ser capaz de identificar el nombre y el apellido de la persona.\n",
    "\n",
    "### Ejercicio 2\n",
    "\n",
    "Construye una expresión regular que permita extraer la fecha completa que tenga el formato dd de mes de aaaa (por ejemplo, \"12 de octubre de 1492\"). La expresión debe ser capaz de identificar el día, el mes y el año.\n",
    "\n",
    "### Ejercicio 3\n",
    "\n",
    "Construye una función que permita obtener el contexto de una palabra clave (n palabras a la izquierda y n a la derecha) en un texto. La función debe recibir como parámetros el texto, la palabra clave y el número de palabras a la izquierda y a la derecha que se quieren extraer. La función debe retornar el contexto de la palabra clave."
   ]
  }
 ],
 "metadata": {
  "jupytext": {
   "cell_metadata_filter": "-all",
   "formats": "md:myst",
   "text_representation": {
    "extension": ".md",
    "format_name": "myst",
    "format_version": 0.13,
    "jupytext_version": "1.14.4"
   }
  },
  "kernelspec": {
   "display_name": "Python 3 (ipykernel)",
   "language": "python",
   "name": "python3"
  },
  "language_info": {
   "codemirror_mode": {
    "name": "ipython",
    "version": 3
   },
   "file_extension": ".py",
   "mimetype": "text/x-python",
   "name": "python",
   "nbconvert_exporter": "python",
   "pygments_lexer": "ipython3",
   "version": "3.11.1"
  },
  "source_map": [
   14,
   29,
   78,
   82,
   85,
   89,
   92,
   104,
   108,
   112,
   114,
   118,
   120,
   148,
   152,
   156,
   159,
   163,
   165,
   190,
   192,
   202,
   209,
   213,
   215,
   219,
   221,
   227,
   229,
   237,
   239,
   243,
   245,
   256,
   262,
   266,
   275
  ]
 },
 "nbformat": 4,
 "nbformat_minor": 5
}