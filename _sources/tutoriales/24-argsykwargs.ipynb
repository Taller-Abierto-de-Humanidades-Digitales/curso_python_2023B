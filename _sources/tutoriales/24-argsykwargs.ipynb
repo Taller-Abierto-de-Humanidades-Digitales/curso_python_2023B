{
 "cells": [
  {
   "cell_type": "markdown",
   "id": "c9cb64ce",
   "metadata": {},
   "source": [
    "# Pasar cantidades arbitrarias de argumentos\n",
    "\n",
    "Debido a que los parámetros en Python se comportan de manera similar a un tuple, podemos pasar una cantidad arbitraria de argumentos para una función. Para hacer esto, debemos agregar un asterisco (`*`) antes del nombre del parámetro. Por ejemplo, podemos tener una función que nos pida cuáles libros nuevos hemos comprado:"
   ]
  },
  {
   "cell_type": "code",
   "execution_count": 1,
   "id": "2bf00400",
   "metadata": {},
   "outputs": [],
   "source": [
    "def libros_nuevos(*libros):\n",
    "    \"\"\"Imprime los libros nuevos que se han comprado.\n",
    "    \n",
    "    Parámetros\n",
    "    ----------\n",
    "    libros: tuple\n",
    "        Lista de libros nuevos que se han comprado\n",
    "    \"\"\"\n",
    "    print(\"Los libros nuevos que se han comprado son:\")\n",
    "    for libro in libros:\n",
    "        print(f\"- {libro}\")"
   ]
  },
  {
   "cell_type": "markdown",
   "id": "aac53583",
   "metadata": {},
   "source": [
    "Ahora podemos llamar a la función `libros_nuevos()` con una cantidad arbitraria de argumentos:"
   ]
  },
  {
   "cell_type": "code",
   "execution_count": 2,
   "id": "1f37f39c",
   "metadata": {},
   "outputs": [
    {
     "name": "stdout",
     "output_type": "stream",
     "text": [
      "Los libros nuevos que se han comprado son:\n",
      "- El principito\n",
      "- El señor de los anillos\n",
      "- El quijote\n",
      "- Ser y tiempo\n",
      "- El aleph\n",
      "- Vigilar y castigar\n",
      "- Elogio de la locura\n"
     ]
    }
   ],
   "source": [
    "libros_nuevos(\"El principito\", \"El señor de los anillos\", \"El quijote\", \"Ser y tiempo\", \"El aleph\", \"Vigilar y castigar\", \"Elogio de la locura\")\n"
   ]
  },
  {
   "cell_type": "markdown",
   "id": "22355a5d",
   "metadata": {},
   "source": [
    "En este caso, no importa si compramos un libro o 100 libros, la función `libros_nuevos()` imprimirá todos los libros que se han comprado.\n",
    "\n",
    "## Mezclar argumentos posicionales y arbitrarios\n",
    "\n",
    "Ahora, podemos modificar esta función para que reciba un argumento posicional y un argumento arbitrario. Por ejemplo, si queremos agregar el nombre de la persona que compró los libros, podemos hacer lo siguiente:"
   ]
  },
  {
   "cell_type": "code",
   "execution_count": 3,
   "id": "e49a8f60",
   "metadata": {},
   "outputs": [],
   "source": [
    "def libros_nuevos(nombre, *libros):\n",
    "    \"\"\"Imprime los libros nuevos que se han comprado.\n",
    "    \n",
    "    Parámetros\n",
    "    ----------\n",
    "    nombre: str\n",
    "        Nombre de la persona que compró los libros\n",
    "    libros: tuple\n",
    "        Lista de libros nuevos que se han comprado\n",
    "    \"\"\"\n",
    "    print(f\"Hola {nombre}. Has comprado los siguientes libros:\")\n",
    "    for libro in libros:\n",
    "        print(f\"- {libro}\")"
   ]
  },
  {
   "cell_type": "markdown",
   "id": "34fcd4b6",
   "metadata": {},
   "source": [
    "Ahora podemos llamar a la función `libros_nuevos()` con un argumento posicional y una cantidad arbitraria de argumentos:"
   ]
  },
  {
   "cell_type": "code",
   "execution_count": 4,
   "id": "f7ac6edb",
   "metadata": {},
   "outputs": [
    {
     "name": "stdout",
     "output_type": "stream",
     "text": [
      "Hola Juan. Has comprado los siguientes libros:\n",
      "- El principito\n",
      "- El señor de los anillos\n",
      "- El quijote\n",
      "- Ser y tiempo\n",
      "- El aleph\n",
      "- Vigilar y castigar\n",
      "- Elogio de la locura\n"
     ]
    }
   ],
   "source": [
    "usuario = \"Juan\"\n",
    "libros_nuevos(usuario, \"El principito\", \"El señor de los anillos\", \"El quijote\", \"Ser y tiempo\", \"El aleph\", \"Vigilar y castigar\", \"Elogio de la locura\")"
   ]
  },
  {
   "cell_type": "markdown",
   "id": "cadc4d09",
   "metadata": {},
   "source": [
    "```{admonition} Observación\n",
    ":class: warning\n",
    "El argumento arbitrario es de tipo `tuple`, no listado. Si pasamos como argumento una lista la función no iterará sobre cada elemento, para ello debemos desempaquetar la lista con el operador `*`.\n",
    "\n",
    "Por ejemplo:\n",
    "\n",
    "usuario = \"Juan\"\n",
    "listado_libros = [\"El señor de los anillos\", \"El principito\", \"El quijote\"]\n",
    "\n",
    "libros_nuevos(usuario, *listado_libros)\n",
    "```\n",
    "\n",
    "## Pasar cantidades arbitrarias de argumentos con palabras clave\n",
    "\n",
    "Debido a que los parámetros en Python se comportan de manera similar a un diccionario, podemos pasar una cantidad arbitraria de argumentos con palabras clave para una función. Para hacer esto, debemos agregar dos asteriscos (`**`) antes del nombre del parámetro. Por ejemplo, podemos tener una función que nos pida cuáles libros nuevos hemos comprado:"
   ]
  },
  {
   "cell_type": "code",
   "execution_count": 5,
   "id": "e25608be",
   "metadata": {},
   "outputs": [],
   "source": [
    "def libros_nuevos(**libros):\n",
    "    \"\"\"Imprime los libros nuevos que se han comprado.\n",
    "    \n",
    "    Parámetros\n",
    "    ----------\n",
    "    libros: dict\n",
    "        Diccionario con los libros nuevos que se han comprado\n",
    "    \"\"\"\n",
    "    print(\"Los libros nuevos que se han comprado son:\")\n",
    "    for libro, autor in libros.items():\n",
    "        print(f\"- {libro} ({autor})\")"
   ]
  },
  {
   "cell_type": "markdown",
   "id": "aaa67a70",
   "metadata": {},
   "source": [
    "Ahora podemos llamar a la función `libros_nuevos()` con una cantidad arbitraria de argumentos con palabras clave:"
   ]
  },
  {
   "cell_type": "code",
   "execution_count": 6,
   "id": "c9dc122c",
   "metadata": {},
   "outputs": [
    {
     "name": "stdout",
     "output_type": "stream",
     "text": [
      "Los libros nuevos que se han comprado son:\n",
      "- El_principito (Antoine de Saint-Exupéry)\n",
      "- El_señor_de_los_anillos (J. R. R. Tolkien)\n",
      "- El_quijote (Miguel de Cervantes)\n",
      "- Ser_y_tiempo (Martin Heidegger)\n",
      "- El_aleph (Jorge Luis Borges)\n",
      "- Vigilar_y_castigar (Michel Foucault)\n",
      "- Elogio_de_la_locura (Erasmo de Rotterdam)\n"
     ]
    }
   ],
   "source": [
    "libros_nuevos(\n",
    "    El_principito=\"Antoine de Saint-Exupéry\",\n",
    "    El_señor_de_los_anillos=\"J. R. R. Tolkien\",\n",
    "    El_quijote=\"Miguel de Cervantes\",\n",
    "    Ser_y_tiempo=\"Martin Heidegger\",\n",
    "    El_aleph=\"Jorge Luis Borges\",\n",
    "    Vigilar_y_castigar=\"Michel Foucault\",\n",
    "    Elogio_de_la_locura=\"Erasmo de Rotterdam\",\n",
    ")"
   ]
  },
  {
   "cell_type": "markdown",
   "id": "92b19e8f",
   "metadata": {},
   "source": [
    "Podemos, de la misma manera, pasar argumentos posicionales y argumentos con palabras clave a la función `libros_nuevos()`:"
   ]
  },
  {
   "cell_type": "code",
   "execution_count": 7,
   "id": "4c65a8a5",
   "metadata": {},
   "outputs": [],
   "source": [
    "def libros_nuevos(autor, titulo, **atributos):\n",
    "    atributos[\"autor\"] = autor\n",
    "    atributos[\"titulo\"] = titulo\n",
    "    return atributos"
   ]
  },
  {
   "cell_type": "code",
   "execution_count": 8,
   "id": "8eea97b6",
   "metadata": {},
   "outputs": [
    {
     "data": {
      "text/plain": [
       "{'editorial': 'Salamandra',\n",
       " 'año': 1943,\n",
       " 'genero': 'Ciencia ficción',\n",
       " 'idioma': 'Francés',\n",
       " 'autor': 'Antoine de Saint-Exupéry',\n",
       " 'titulo': 'El principito'}"
      ]
     },
     "execution_count": 8,
     "metadata": {},
     "output_type": "execute_result"
    }
   ],
   "source": [
    "libros_nuevos(\n",
    "    \"Antoine de Saint-Exupéry\",\n",
    "    \"El principito\",\n",
    "    editorial=\"Salamandra\",\n",
    "    año=1943,\n",
    "    genero=\"Ciencia ficción\",\n",
    "    idioma=\"Francés\",\n",
    ")"
   ]
  },
  {
   "cell_type": "markdown",
   "id": "c3ac514e",
   "metadata": {},
   "source": [
    "En general, el uso de argumentos arbitrarios es útil cuando no sabemos cuántos argumentos se pasarán a una función. No es algo que utilicemos a menudo, pero es ampliamente usado en librerías de terceros, por eso es importante conocerlo y aprender a utilizarlo."
   ]
  }
 ],
 "metadata": {
  "jupytext": {
   "cell_metadata_filter": "-all",
   "formats": "md:myst",
   "text_representation": {
    "extension": ".md",
    "format_name": "myst",
    "format_version": 0.13,
    "jupytext_version": "1.14.4"
   }
  },
  "kernelspec": {
   "display_name": "Python 3 (ipykernel)",
   "language": "python",
   "name": "python3"
  },
  "language_info": {
   "codemirror_mode": {
    "name": "ipython",
    "version": 3
   },
   "file_extension": ".py",
   "mimetype": "text/x-python",
   "name": "python",
   "nbconvert_exporter": "python",
   "pygments_lexer": "ipython3",
   "version": "3.11.4"
  },
  "source_map": [
   14,
   20,
   32,
   36,
   39,
   47,
   61,
   65,
   68,
   86,
   98,
   102,
   112,
   116,
   123,
   132
  ]
 },
 "nbformat": 4,
 "nbformat_minor": 5
}