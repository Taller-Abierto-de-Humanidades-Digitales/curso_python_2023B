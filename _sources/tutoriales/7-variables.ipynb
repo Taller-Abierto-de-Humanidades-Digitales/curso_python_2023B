{
 "cells": [
  {
   "cell_type": "markdown",
   "id": "d1741b95",
   "metadata": {},
   "source": [
    "# Sintaxis, variables y tipos de datos básicos\n",
    "\n",
    "Vamos a entrar en algunos detalles relacionados con lo que hicimos en la sección anterior.\n",
    "\n",
    "## Sintaxis básica\n",
    "\n",
    "Python es un lenguaje con una sintaxis muy sencilla. Básicamente comprende los siguientes aspectos:\n",
    "\n",
    "### Indentación\n",
    "\n",
    "Cada bloque de código se escribe con espacios o tabuladores. Por ejemplo:"
   ]
  },
  {
   "cell_type": "code",
   "execution_count": 1,
   "id": "a3f6ebb9",
   "metadata": {},
   "outputs": [
    {
     "name": "stdout",
     "output_type": "stream",
     "text": [
      "1 es mayor que 0\n"
     ]
    }
   ],
   "source": [
    "if 1 > 0:\n",
    "    print(\"1 es mayor que 0\")"
   ]
  },
  {
   "cell_type": "markdown",
   "id": "54e22a5e",
   "metadata": {},
   "source": [
    "Nota que hay cinco espacios entre la primera instrucción `if 5 > 2:` y la segunda instrucción `print(\"5 es mayor que 2\")`. Si utilizamos otro \"formato\" vamos a encontrar un error:"
   ]
  },
  {
   "cell_type": "code",
   "execution_count": 2,
   "id": "6873f24f",
   "metadata": {},
   "outputs": [
    {
     "ename": "IndentationError",
     "evalue": "expected an indented block after 'if' statement on line 1 (1165996053.py, line 2)",
     "output_type": "error",
     "traceback": [
      "\u001b[1;36m  Cell \u001b[1;32mIn[2], line 2\u001b[1;36m\u001b[0m\n\u001b[1;33m    print(\"5 es mayor que 2\")\u001b[0m\n\u001b[1;37m    ^\u001b[0m\n\u001b[1;31mIndentationError\u001b[0m\u001b[1;31m:\u001b[0m expected an indented block after 'if' statement on line 1\n"
     ]
    }
   ],
   "source": [
    "if 5 > 2: \n",
    "print(\"5 es mayor que 2\")"
   ]
  },
  {
   "cell_type": "markdown",
   "id": "2f365158",
   "metadata": {},
   "source": [
    "Notas que inmediatamente Python identifica este error como un error de indentación. Más adelante veremos algunos casos donde la indentación puede ser \"correcta\" en términos sintácticos pero no en términos de lógica.\n",
    "\n",
    "### Comentarios\n",
    "\n",
    "Un aspecto fundamental en la escritura de código es la escritura de comentarios para documentar nuestro código. Los comentarios son líneas de texto que no son interpretadas por Python. Por lo tanto, no afectan el funcionamiento del código. Por ejemplo:"
   ]
  },
  {
   "cell_type": "code",
   "execution_count": 3,
   "id": "b03216f6",
   "metadata": {},
   "outputs": [
    {
     "name": "stdout",
     "output_type": "stream",
     "text": [
      "Hola mundo\n"
     ]
    }
   ],
   "source": [
    "'''\n",
    "Esto es un comentario de varias líneas.\n",
    "Lo cual permite describir el código de manera más detallada.\n",
    "'''\n",
    "print(\"Hola mundo\") # Esto es un comentario de línea simple"
   ]
  },
  {
   "cell_type": "markdown",
   "id": "dcdec09f",
   "metadata": {},
   "source": [
    "Notarás que solamente el código de la línea `print(\"Hola mundo\")` es interpretado por Python. El resto de las líneas se ignoran, pero son fundamentales para que otras personas puedan entender qué estás haciendo en tu código.\n",
    "\n",
    "## Variables\n",
    "\n",
    "En términos muy simples, una variable es un \"valor\" que se asigna a un nombre. Por ejemplo, si yo quiero \"guardar\" el número 5 en una variable, puedo hacerlo así:"
   ]
  },
  {
   "cell_type": "code",
   "execution_count": 4,
   "id": "26e9726c",
   "metadata": {},
   "outputs": [],
   "source": [
    "numero = 5"
   ]
  },
  {
   "cell_type": "markdown",
   "id": "2c364a71",
   "metadata": {},
   "source": [
    "La utilidad de una variable está marcada en que es posible utilizarla posteriormente en el código para realizar operaciones. Por ejemplo, si quiero sumarle 2 a la variable `numero`, puedo hacerlo así:"
   ]
  },
  {
   "cell_type": "code",
   "execution_count": 5,
   "id": "311165be",
   "metadata": {},
   "outputs": [],
   "source": [
    "numero = numero + 2"
   ]
  },
  {
   "cell_type": "markdown",
   "id": "41006a53",
   "metadata": {},
   "source": [
    "Ahora, la variable `numero` tiene un valor de 7.\n",
    "\n",
    "De la misma manera lo podemos hacer con cadenas de texto:"
   ]
  },
  {
   "cell_type": "code",
   "execution_count": 6,
   "id": "b1703786",
   "metadata": {},
   "outputs": [],
   "source": [
    "nombre = \"Juan\"\n",
    "apellido = \"Pérez\""
   ]
  },
  {
   "cell_type": "markdown",
   "id": "04749fd4",
   "metadata": {},
   "source": [
    "Ahora, si quiero **concatenar** (unir) las variables `nombre` y `apellido`, puedo hacerlo así:"
   ]
  },
  {
   "cell_type": "code",
   "execution_count": 7,
   "id": "14f25a24",
   "metadata": {},
   "outputs": [],
   "source": [
    "nombre_completo = nombre + \" \" + apellido"
   ]
  },
  {
   "cell_type": "markdown",
   "id": "48061e19",
   "metadata": {},
   "source": [
    "Esta es una forma simple de entender las variables, porque estamos asignando los valores directamente desde nuestro código. Sin embargo, en la práctica, es muy común que los valores de las variables provengan de otras fuentes, como por ejemplo, de un archivo de texto o de una base de datos. En estos casos, la forma de asignar los valores implica ciertas operaciones, que veremos más adelante.\n",
    "\n",
    "### ¿cómo nombro una variable?\n",
    "\n",
    "En general, es recomendable que los nombres de las variables sean descriptivos, es decir, que permitan entender a qué se refiere la variable. Por ejemplo, si quiero guardar el nombre de una persona, es mejor que el nombre de la variable sea `nombre` que `n`. Esto es especialmente importante cuando el código es compartido con otras personas, porque permite que el código sea más legible.\n",
    "\n",
    "En Python, los nombres de las variables pueden contener letras, números y el símbolo `_`. Sin embargo, no pueden comenzar con un número. Por ejemplo, los siguientes nombres de variables son válidos:"
   ]
  },
  {
   "cell_type": "code",
   "execution_count": 8,
   "id": "bffcc0e3",
   "metadata": {},
   "outputs": [],
   "source": [
    "nombre = \"nombre\"\n",
    "nombre1 = \"nombre\"\n",
    "nombre_1 = \"nombre\""
   ]
  },
  {
   "cell_type": "markdown",
   "id": "7c55bd8a",
   "metadata": {},
   "source": [
    "Los siguientes nombres de variables no son válidos:"
   ]
  },
  {
   "cell_type": "code",
   "execution_count": 9,
   "id": "a6852d42",
   "metadata": {},
   "outputs": [
    {
     "ename": "SyntaxError",
     "evalue": "invalid decimal literal (1963099953.py, line 1)",
     "output_type": "error",
     "traceback": [
      "\u001b[1;36m  Cell \u001b[1;32mIn[9], line 1\u001b[1;36m\u001b[0m\n\u001b[1;33m    1nombre = \"nombre\"\u001b[0m\n\u001b[1;37m    ^\u001b[0m\n\u001b[1;31mSyntaxError\u001b[0m\u001b[1;31m:\u001b[0m invalid decimal literal\n"
     ]
    }
   ],
   "source": [
    "1nombre = \"nombre\"\n",
    "nombre-1 = \"nombre\""
   ]
  },
  {
   "cell_type": "markdown",
   "id": "511edb61",
   "metadata": {},
   "source": [
    "Notarás que este código nos ha marcado un error de sintáxis (`SyntaxError: invalid syntax`), lo cual indica que no es un nombre de variable válida.\n",
    "\n",
    "Respecto a las mayúsculas y minúsculas, Python no realiza ninguna distinción. Por ejemplo, las siguientes variables son correctas:"
   ]
  },
  {
   "cell_type": "code",
   "execution_count": 10,
   "id": "ae8f6553",
   "metadata": {},
   "outputs": [],
   "source": [
    "nombre = \"nombre\"\n",
    "Nombre = \"nombre\"\n",
    "NOMBRE = \"nombre\""
   ]
  },
  {
   "cell_type": "markdown",
   "id": "78f61f6d",
   "metadata": {},
   "source": [
    "Sin embargo, hay que tener en cuenta que existe una especie de acuerdo entre la comunidad de programadores, que consiste en que los nombres de las variables se escriban en minúsculas, y que las palabras que componen el nombre de la variable se separen con un guión bajo (`_`). Por ejemplo, `nombre_completo` es un nombre de variable con un estulo adecuado, mientras que `nombreCompleto` no lo es. Esto hace que el código sea más legible y nos permite distinguir fácilmente las variables de las funciones o las clases [^var_global].\n",
    "\n",
    "Nombrar variables es una habilidad importante, porque aunque técnicamente no sea compleja, evita cometer errores. Por ejemplo, si queremos guardar el nombre de una persona, es muy fácil escribir `nombre` en lugar de `nombre_completo`. En este caso, el código no va a fallar, pero el resultado no va a ser el esperado. Por eso, es importante que los nombres de las variables sean descriptivos.\n",
    "\n",
    "## Tipos de datos\n",
    "\n",
    "Python tiene una gran ventaja con respecto a otros lenguajes de programación y es que no es necesario declarar el tipo de dato que se va a utilizar. Es decir, que el mismo lenguaje puede identificar si me estoy refiriendo a un número, a una cadena de texto, a una lista, etc. Esto es muy útil porque nos permite ahorrar tiempo y esfuerzo en la programación.\n",
    "\n",
    "Veámos entonces qué tipos de datos básicos existen en Python.\n",
    "\n",
    "### Números\n",
    "\n",
    "Los números pueden ser enteros o decimales. Por ejemplo, los siguientes son números enteros (*integers*):"
   ]
  },
  {
   "cell_type": "code",
   "execution_count": 11,
   "id": "efd4c190",
   "metadata": {},
   "outputs": [],
   "source": [
    "uno = 1\n",
    "dos = 2\n",
    "tres = 3"
   ]
  },
  {
   "cell_type": "markdown",
   "id": "1b66015d",
   "metadata": {},
   "source": [
    "Los siguientes son números decimales (*floats*):"
   ]
  },
  {
   "cell_type": "code",
   "execution_count": 12,
   "id": "45a63942",
   "metadata": {},
   "outputs": [],
   "source": [
    "uno_cero = 1.0\n",
    "dos_cero = 2.0\n",
    "tres_cero = 3.0"
   ]
  },
  {
   "cell_type": "markdown",
   "id": "2cede31c",
   "metadata": {},
   "source": [
    "Con estos tipos de datos podemos realizar operaciones aritméticas básicas:"
   ]
  },
  {
   "cell_type": "code",
   "execution_count": 13,
   "id": "79f6b0a0",
   "metadata": {},
   "outputs": [
    {
     "name": "stdout",
     "output_type": "stream",
     "text": [
      "3\n",
      "2.0\n",
      "6.0\n",
      "1.5\n"
     ]
    }
   ],
   "source": [
    "suma = uno + dos\n",
    "resta = tres_cero - uno_cero\n",
    "multiplicacion = dos * tres_cero\n",
    "division = tres / dos\n",
    "\n",
    "print(suma)\n",
    "print(resta)\n",
    "print(multiplicacion)\n",
    "print(division)"
   ]
  },
  {
   "cell_type": "markdown",
   "id": "cdc598d6",
   "metadata": {},
   "source": [
    "Si revisas con detenimiento los resultados, notarás que la división de dos números enteros (`tres` y `dos`) nos da un número decimal. Esto es porque Python siempre va a intentar devolver el resultado de una operación con el tipo de dato más complejo. Por ejemplo, si sumamos un número entero y un número decimal, el resultado va a ser un número decimal.\n",
    "\n",
    "### Cadenas de texto\n",
    "\n",
    "Las cadenas de texto (*strings*) son una secuencia de caracteres. Por ejemplo, las siguientes son cadenas de texto:"
   ]
  },
  {
   "cell_type": "code",
   "execution_count": 14,
   "id": "335fa319",
   "metadata": {},
   "outputs": [],
   "source": [
    "nombre = \"nombre\"\n",
    "apellido = \"apellido\""
   ]
  },
  {
   "cell_type": "markdown",
   "id": "145b3ca6",
   "metadata": {},
   "source": [
    "Las cadenas de texto se pueden concatenar con el operador `+`:"
   ]
  },
  {
   "cell_type": "code",
   "execution_count": 15,
   "id": "56860d80",
   "metadata": {},
   "outputs": [
    {
     "name": "stdout",
     "output_type": "stream",
     "text": [
      "nombre apellido\n"
     ]
    }
   ],
   "source": [
    "nombre_completo = nombre + \" \" + apellido\n",
    "print(nombre_completo)"
   ]
  },
  {
   "cell_type": "markdown",
   "id": "0a2eba96",
   "metadata": {},
   "source": [
    "También se pueden multiplicar por un número entero:"
   ]
  },
  {
   "cell_type": "code",
   "execution_count": 16,
   "id": "f36d8e77",
   "metadata": {},
   "outputs": [
    {
     "name": "stdout",
     "output_type": "stream",
     "text": [
      "nombre apellidonombre apellidonombre apellido\n"
     ]
    }
   ],
   "source": [
    "nombre_completo = nombre_completo * 3\n",
    "print(nombre_completo)"
   ]
  },
  {
   "cell_type": "markdown",
   "id": "370812a3",
   "metadata": {},
   "source": [
    "```{admonition} Sobre las cadenas de texto:\n",
    ":class: tip\n",
    "Debemos entender que las cadenas de texto son una secuencia de caracteres. Es decir, la computadora entiende una palabra como \"perro\" como la secuencia de los caracteres \"p\", \"e\", \"r\", \"r\", \"o\". Y es una secuencia totalmente diferente a \"P\", \"e\", \"r\", \"r\", \"o\". Es decir, para la computadora \"perro\" es diferente a \"Perro\". Así, cuando tratamos de un tipo de valor de \"texto\" no nos referimos al texto en el sentido humano (letras, palabras, frases...), sino al texto en el sentido de la computadora.\n",
    "```\n",
    "\n",
    "#### Formateo de cadenas de texto\n",
    "\n",
    "En ocasiones, queremos mostrar un mensaje que contenga información de una variable. Por ejemplo, si queremos mostrar el nombre completo de una persona, podemos hacerlo de la siguiente manera:"
   ]
  },
  {
   "cell_type": "code",
   "execution_count": 17,
   "id": "23adf86f",
   "metadata": {},
   "outputs": [
    {
     "name": "stdout",
     "output_type": "stream",
     "text": [
      "El nombre completo es Manila Luzon\n"
     ]
    }
   ],
   "source": [
    "nombre = \"Manila\"\n",
    "apellido = \"Luzon\"\n",
    "nombre_completo = nombre + \" \" + apellido\n",
    "print(\"El nombre completo es \" + nombre_completo)"
   ]
  },
  {
   "cell_type": "markdown",
   "id": "a97a7263",
   "metadata": {},
   "source": [
    "Sin embargo, esta forma de hacerlo es muy tediosa. Por eso, Python nos permite formatear las cadenas de texto de una manera más sencilla. Para ello, debemos utilizar el método `format()` de las cadenas de texto. Por ejemplo, si queremos mostrar el nombre completo de una persona, podemos hacerlo de la siguiente manera:"
   ]
  },
  {
   "cell_type": "code",
   "execution_count": 18,
   "id": "d7b0e99b",
   "metadata": {},
   "outputs": [
    {
     "name": "stdout",
     "output_type": "stream",
     "text": [
      "El nombre completo es Manila Luzon\n"
     ]
    }
   ],
   "source": [
    "print(\"El nombre completo es {}\".format(nombre_completo))"
   ]
  },
  {
   "cell_type": "markdown",
   "id": "55cc8571",
   "metadata": {},
   "source": [
    "El método `format()` nos permite insertar variables dentro de una cadena de texto. Para ello, debemos utilizar las llaves `{}`. En este caso, la variable `nombre_completo` se inserta dentro de la cadena de texto en la posición de la llave `{}`.\n",
    "\n",
    "Incluso podemos hacerlo de manera más sintética simplemente agregando una `f` antes de la cadena de texto. Por ejemplo, si queremos mostrar el nombre completo de una persona, podemos hacerlo de la siguiente manera:"
   ]
  },
  {
   "cell_type": "code",
   "execution_count": 19,
   "id": "70dfc7c5",
   "metadata": {},
   "outputs": [
    {
     "name": "stdout",
     "output_type": "stream",
     "text": [
      "El nombre completo es Manila Luzon\n"
     ]
    }
   ],
   "source": [
    "print(f\"El nombre completo es {nombre_completo}\")"
   ]
  },
  {
   "cell_type": "markdown",
   "id": "431f64df",
   "metadata": {},
   "source": [
    "El formateo de cadenas de texto es muy útil cuando queremos modificar textos o incluso asignar valores no textuales a una variable textual. Por ejemplo:"
   ]
  },
  {
   "cell_type": "code",
   "execution_count": 20,
   "id": "b4d1e453",
   "metadata": {},
   "outputs": [
    {
     "name": "stdout",
     "output_type": "stream",
     "text": [
      "El nombre completo es Manila Luzon y tiene 20 años\n"
     ]
    }
   ],
   "source": [
    "edad = 20\n",
    "print(f\"El nombre completo es {nombre_completo} y tiene {edad} años\")"
   ]
  },
  {
   "cell_type": "markdown",
   "id": "08bcd719",
   "metadata": {},
   "source": [
    "### Booleanos\n",
    "\n",
    "Los valores booleanos (*booleans*) son valores que pueden ser `True` o `False`. Por ejemplo:"
   ]
  },
  {
   "cell_type": "code",
   "execution_count": 21,
   "id": "e1d4df6a",
   "metadata": {},
   "outputs": [],
   "source": [
    "verdadero = True\n",
    "falso = False"
   ]
  },
  {
   "cell_type": "markdown",
   "id": "667bd606",
   "metadata": {},
   "source": [
    "Los valores booleanos son muy útiles para realizar operaciones lógicas. Por ejemplo, podemos comparar dos valores y obtener un valor booleano:"
   ]
  },
  {
   "cell_type": "code",
   "execution_count": 22,
   "id": "583820d1",
   "metadata": {},
   "outputs": [
    {
     "name": "stdout",
     "output_type": "stream",
     "text": [
      "False"
     ]
    },
    {
     "name": "stdout",
     "output_type": "stream",
     "text": [
      "\n",
      "True\n"
     ]
    }
   ],
   "source": [
    "print(uno == dos)\n",
    "print(uno != dos)"
   ]
  },
  {
   "cell_type": "markdown",
   "id": "03fb846e",
   "metadata": {},
   "source": [
    "Los símbolos `==` y `!=` son operadores lógicos, es decir, nos permite comparar si un valor es igual o diferente de otro valor. En este caso, el resultado de la comparación es un valor booleano.\n",
    "\n",
    "Por esto, los valores de igualdad no se refieren solamente a números, sino que también se pueden utilizar para comparar cadenas de texto. Por ejemplo:"
   ]
  },
  {
   "cell_type": "code",
   "execution_count": 23,
   "id": "6e0a550c",
   "metadata": {},
   "outputs": [
    {
     "name": "stdout",
     "output_type": "stream",
     "text": [
      "False\n",
      "True\n"
     ]
    }
   ],
   "source": [
    "print(\"perro\" == \"Perro\")\n",
    "print(\"perro\" != \"Perro\")"
   ]
  },
  {
   "cell_type": "markdown",
   "id": "9531f8ff",
   "metadata": {},
   "source": [
    "También nos permite comparar si un valor es mayor o menor que otro valor:"
   ]
  },
  {
   "cell_type": "code",
   "execution_count": 24,
   "id": "43a2ba23",
   "metadata": {},
   "outputs": [
    {
     "name": "stdout",
     "output_type": "stream",
     "text": [
      "False\n",
      "True\n"
     ]
    }
   ],
   "source": [
    "print(uno > dos)\n",
    "print(uno < dos)"
   ]
  },
  {
   "cell_type": "markdown",
   "id": "147fd7fb",
   "metadata": {},
   "source": [
    "Los valores booleanos también nos permiten realizar operaciones lógicas. Por ejemplo, podemos utilizar los operadores `and` y `or` para determinar si dos valores booleanos son verdaderos o falsos. Por ejemplo:"
   ]
  },
  {
   "cell_type": "code",
   "execution_count": 25,
   "id": "af1df47e",
   "metadata": {},
   "outputs": [
    {
     "name": "stdout",
     "output_type": "stream",
     "text": [
      "False\n",
      "True\n"
     ]
    }
   ],
   "source": [
    "print(uno == dos and uno < dos)\n",
    "print(uno == dos or uno < dos)"
   ]
  },
  {
   "cell_type": "markdown",
   "id": "bab9d371",
   "metadata": {},
   "source": [
    "En el primer caso, el primer valor es falso y el segundo verdadero, por lo que el resultado es falso. En el segundo caso, el primer valor es falso y el segundo verdadero, por lo que el resultado es verdadero [^logica_formal].\n",
    "\n",
    "Y, finalmente, nos permite comparar tipos de datos. Por ejemplo:"
   ]
  },
  {
   "cell_type": "code",
   "execution_count": 26,
   "id": "cbe6857c",
   "metadata": {},
   "outputs": [
    {
     "name": "stdout",
     "output_type": "stream",
     "text": [
      "True\n",
      "False\n"
     ]
    }
   ],
   "source": [
    "print(type(uno) == int)\n",
    "print(type(uno) == str)"
   ]
  },
  {
   "cell_type": "markdown",
   "id": "a7daffab",
   "metadata": {},
   "source": [
    "## Síntesis\n",
    "\n",
    "En este capítulo hemos aprendido sobre los tipos de datos más comunes en Python. En particular, hemos aprendido sobre los tipos de datos numéricos, los tipos de datos de texto y los tipos de datos booleanos. Además, hemos aprendido sobre el formateo de cadenas de texto y sobre las operaciones lógicas. En el siguiente apartado, abordaremos las listas, un tipo de dato muy importante en Python.\n",
    "\n",
    "## Notas\n",
    "\n",
    "[^var_global]: En algunos lenguajes de programación existe una distinción entre variables locales y globales, que se refiere a que las variables locales solo pueden ser utilizadas dentro de la función en la que fueron declaradas. En Python, no existe esta distinción, por lo que todas las variables son globales. De igual manera, existen algunos valores que pueden considerarse \"constantes\", es decir, que no se modifican durante toda la ejecución del código. Python no cuenta con un mecanismo de declarar un valor como constante, pero se puede simular utilizando nombres de variables en mayúsculas. Por ejemplo, `PI = 3.1416`.\n",
    "\n",
    "[^logica_formal]: En lógica formal, los operadores `and` y `or` se conocen como conjunción y disyunción, respectivamente. La conjunción es verdadera si ambos valores son verdaderos, mientras que la disyunción es verdadera si al menos uno de los valores es verdadero. Para profundizar en este tema, te recomiendo el primer capítulo del libro de {cite}`juola_six_2017`."
   ]
  }
 ],
 "metadata": {
  "jupytext": {
   "cell_metadata_filter": "-all",
   "formats": "md:myst",
   "text_representation": {
    "extension": ".md",
    "format_name": "myst",
    "format_version": 0.13,
    "jupytext_version": "1.14.4"
   }
  },
  "kernelspec": {
   "display_name": "Python 3 (ipykernel)",
   "language": "python",
   "name": "python3"
  },
  "language_info": {
   "codemirror_mode": {
    "name": "ipython",
    "version": 3
   },
   "file_extension": ".py",
   "mimetype": "text/x-python",
   "name": "python",
   "nbconvert_exporter": "python",
   "pygments_lexer": "ipython3",
   "version": "3.11.1"
  },
  "source_map": [
   14,
   28,
   31,
   35,
   38,
   46,
   52,
   60,
   62,
   66,
   68,
   74,
   77,
   81,
   83,
   93,
   97,
   101,
   104,
   110,
   114,
   130,
   134,
   138,
   142,
   146,
   156,
   164,
   167,
   171,
   174,
   178,
   181,
   192,
   197,
   201,
   203,
   209,
   211,
   215,
   218,
   224,
   227,
   231,
   234,
   240,
   243,
   247,
   250,
   254,
   257,
   263,
   266
  ]
 },
 "nbformat": 4,
 "nbformat_minor": 5
}