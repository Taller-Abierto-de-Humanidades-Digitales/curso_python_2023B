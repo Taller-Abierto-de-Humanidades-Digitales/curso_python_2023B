{
 "cells": [
  {
   "cell_type": "markdown",
   "id": "9a8f14b4",
   "metadata": {},
   "source": [
    "# Sentencias `if`, `elif` y `else`\n",
    "\n",
    "Con las pruebas condicionales obtenemos un valor booleano de verdad o falsedad. Para que nuestro programa tome una decisión, debemos utilizar la sentencia (*statement*) `if`. En términos simples, la setnencia `if` valida si un valor es verdadero y realiza una acción. Un ejemplo es el siguiente:"
   ]
  },
  {
   "cell_type": "code",
   "execution_count": 1,
   "id": "022df4d2",
   "metadata": {},
   "outputs": [
    {
     "name": "stdout",
     "output_type": "stream",
     "text": [
      "5 es mayor que 3\n"
     ]
    }
   ],
   "source": [
    "if 5 > 3:\n",
    "    print(\"5 es mayor que 3\")"
   ]
  },
  {
   "cell_type": "markdown",
   "id": "445d2d51",
   "metadata": {},
   "source": [
    "Podemos leerlo de la siguiente forma:\n",
    "\n",
    "> **Si** 5 **es** mayor que 3, **entonces** imprime \"5 es mayor que 3\".\n",
    "\n",
    "Es decir, siempre estamos usando este esquema: Si algo es verdad, entonces haz algo.\n",
    "\n",
    "```{admonition} La verdad\n",
    ":class: tip\n",
    "Ten en cuenta que hablamos aquí de una verdad lógica, no de una verdad experimental o testimonial. Por ejemplo:\n",
    "\n",
    "> presidenteColombia = \"Benito Juárez\"\n",
    "\n",
    "> if presidenteColombia == \"Benito Juárez\":\n",
    "\n",
    "> print(f\"¡Es verdad! El presidente actual de Colombia es {presidenteColombia}\")\n",
    "\n",
    ">       \"¡Es verdad! El presidente actual de Colombia es Benito Juárez\"\n",
    "\n",
    "En este caso, la verdad es que el presidente de Colombia actual es Benito Juárez, porque así se estableció en el dato. La verdad es lógica (p es igual a q), no experimental (p es igual a q porque lo observé) o producto de la evidencia (p es igual a q porque lo puedo demostrar).\n",
    "```\n",
    "\n",
    "Teniendo en cuenta lo anterior, podemos validar un valor y establecer una acción a partir de allí. Por ejemplo, podemos validar si \"Benito Juárez\" fue uno de los presidentes de Colombia del siglo XXI:"
   ]
  },
  {
   "cell_type": "code",
   "execution_count": 2,
   "id": "fd34ee5a",
   "metadata": {},
   "outputs": [],
   "source": [
    "presidentesColXXI = [\"Álvaro Uribe\", \"Juan Manuel Santos\", \"Iván Duque\", \"Gustavo Petro\"]\n",
    "\n",
    "# ¿Fue Benito Juárez presidente de Colombia en el siglo XXI?\n",
    "\n",
    "if \"Benito Juárez\" in presidentesColXXI:\n",
    "    print(\"¡Es verdad! Benito Juárez fue presidente de Colombia en el siglo XXI\")"
   ]
  },
  {
   "cell_type": "markdown",
   "id": "77d6d9a0",
   "metadata": {},
   "source": [
    "Observa que el valor de verdad no se cumple y que utilizamos un operador de pertenencia para validar si el valor de la variable `presidenteColombia` se encuentra dentro de la lista `presidentesColXXI`. En este caso, el valor de verdad es falso, por lo que no se ejecuta la acción. Podemos hacer que en lugar de validar la pertenencia, validemos la no pertenencia:"
   ]
  },
  {
   "cell_type": "code",
   "execution_count": 3,
   "id": "a53746a5",
   "metadata": {},
   "outputs": [
    {
     "name": "stdout",
     "output_type": "stream",
     "text": [
      "¡Es verdad! Benito Juárez no fue presidente de Colombia en el siglo XXI\n"
     ]
    }
   ],
   "source": [
    "if \"Benito Juárez\" not in presidentesColXXI:\n",
    "    print(\"¡Es verdad! Benito Juárez no fue presidente de Colombia en el siglo XXI\")"
   ]
  },
  {
   "cell_type": "markdown",
   "id": "93fecfc4",
   "metadata": {},
   "source": [
    "También podemos establecer en una sola operación si el valor pertenece o no pertenece y en cada caso realizar una acción, para ello nos valdremos de la sentencia `else`.\n",
    "\n",
    "## Sentencia `else`\n",
    "\n",
    "La sentencia `else` permite que ejecutemos una acción en caso de que la condición de verdad no se cumpla. Por ejemplo:"
   ]
  },
  {
   "cell_type": "code",
   "execution_count": 4,
   "id": "8fc07312",
   "metadata": {},
   "outputs": [
    {
     "name": "stdout",
     "output_type": "stream",
     "text": [
      "No es cierto. Benito Juárez no fue presidente de Colombia en el siglo XXI\n"
     ]
    }
   ],
   "source": [
    "# ¿Fue Benito Juárez presidente de Colombia en el siglo XXI?\n",
    "\n",
    "if \"Benito Juárez\" in presidentesColXXI:\n",
    "    print(\"¡Es verdad! Benito Juárez fue presidente de Colombia en el siglo XXI\")\n",
    "else:\n",
    "    print(\"No es cierto. Benito Juárez no fue presidente de Colombia en el siglo XXI\")"
   ]
  },
  {
   "cell_type": "markdown",
   "id": "92642ec7",
   "metadata": {},
   "source": [
    "Nuevamente, podemos leer esta sentencia de la siguiente manera:\n",
    "\n",
    "> **Si** \"Benito Juárez\" **está** en la lista `presidentesColXXI`, **entonces** imprime \"¡Es verdad! Benito Juárez fue presidente de Colombia en el siglo XXI\". **De lo contrario**, imprime \"No es cierto. Benito Juárez no fue presidente de Colombia en el siglo XXI\".\n",
    "\n",
    "## Sentencia `elif`\n",
    "\n",
    "Ahora, no siempre encontramos una sola condición de verdad que queremos cumplir, en ciertas ocasiones podremos intentar validad si una condición se cumple y si no se cumple, intentar validar otra condición. Para ello, utilizamos la sentencia `elif` (*else if*). Por ejemplo, podemos validar si \"Benito Juárez\" fue presidente de Colombia en el siglo XXI o si \"Juan Manuel Santos\" fue presidente de Colombia en el siglo XXI:"
   ]
  },
  {
   "cell_type": "code",
   "execution_count": 5,
   "id": "069adbf4",
   "metadata": {},
   "outputs": [
    {
     "name": "stdout",
     "output_type": "stream",
     "text": [
      "¡Es verdad! Juan Manuel Santos fue presidente de Colombia en el siglo XXI\n"
     ]
    }
   ],
   "source": [
    "# ¿Fue Benito Juárez o Juan Manuel Santos presidente de Colombia en el siglo XXI?\n",
    "\n",
    "if \"Benito Juárez\" in presidentesColXXI:\n",
    "    print(\"¡Es verdad! Benito Juárez fue presidente de Colombia en el siglo XXI\")\n",
    "elif \"Juan Manuel Santos\" in presidentesColXXI:\n",
    "    print(\"¡Es verdad! Juan Manuel Santos fue presidente de Colombia en el siglo XXI\")\n",
    "else:\n",
    "    print(\"No es cierto. Ni Benito Juárez ni Juan Manuel Santos fueron presidentes de Colombia en el siglo XXI\")"
   ]
  },
  {
   "cell_type": "markdown",
   "id": "ae5af6d4",
   "metadata": {},
   "source": [
    "```{admonition} Nota\n",
    ":class: tip\n",
    "\n",
    "Técnicamente, podemos utilizar la sentencia `elif` tantas veces como queramos, pero es recomendable no abusar de esta. En primer lugar, el código puede hacerse muy complejo para leer y de depurar, pues la cantidad de decisiones que se toman en un solo bloque de codigo pueden ser demasiadas. En general, si es necesario tomar muchas decisiones es mejor utilizar una estructura de datos que permita evitar esto, como un diccionario o una lista de diccionarios (los veremos en la siguiente sección).\n",
    "```\n",
    "\n",
    "## Algunos consejos para hacer más eficiente el código\n",
    "\n",
    "La sentencia `if` es muy útil para validar condiciones y tomar decisiones. Nuestras computadoras hacen que hoy en día no sea un problema tan grande, sin embargo, al sumar cada uno de los pasos que hacemos es factible que el programa se ejecute en mucho mayor tiempo del necesario. Antes de que nos enfrentemos a una situación en la que el programa se demore demasiado, es importante tener en cuenta algunos consejos para hacer más eficiente el código.\n",
    "\n",
    "1. **Ordenar las condiciones en función de su probabilidad de ocurrencia**: En caso de que sepamos que una condición es más probable que se cumpla que otra, es conveniente colocarla al principio de la sentencia `if`. Esto se debe a que Python realiza la evaluación en orden secuencial. De esta manera, si la primera condición se cumple, no evaluará las demás. Por ejemplo, en el siguiente programa queremos convertir el listado de países a sus códigos ISO3. En este caso, sabemos que el país que más aparece es México. Por lo tanto, podemos colocar la condición de México al principio:"
   ]
  },
  {
   "cell_type": "code",
   "execution_count": 6,
   "id": "0c1eb139",
   "metadata": {},
   "outputs": [
    {
     "name": "stdout",
     "output_type": "stream",
     "text": [
      "['COL', 'MEX', 'ARG', 'MEX', 'MEX', 'ESP', 'MEX', 'PER', 'CHL', 'USA', 'COL', 'MEX', 'MEX', 'ESP', 'MEX', 'PER', 'CHL', 'USA', 'COL', 'MEX', 'MEX', 'ESP', 'MEX', 'PER', 'CHL', 'USA', 'COL', 'MEX', 'MEX', 'ESP', 'MEX', 'PER', 'CHL', 'USA', 'COL', 'MEX', 'MEX', 'ESP', 'MEX', 'PER', 'CHL', 'USA', 'COL', 'MEX', 'MEX', 'ESP', 'MEX', 'PER', 'CHL', 'USA', 'COL', 'MEX', 'MEX', 'ESP', 'MEX', 'PER', 'CHL', 'USA', 'COL', 'MEX', 'MEX', 'ESP', 'MEX', 'PER', 'CHL', 'USA', 'COL', 'MEX', 'MEX', 'ESP', 'MEX', 'PER', 'CHL', 'USA', 'COL', 'MEX', 'MEX', 'ESP', 'MEX', 'PER', 'CHL', 'USA', 'COL', 'MEX', 'MEX', 'ESP', 'MEX', 'PER', 'CHL', 'USA', 'COL', 'MEX', 'MEX', 'ESP', 'MEX', 'PER']\n"
     ]
    }
   ],
   "source": [
    "paises_de_origen = [\"Colombia\", \"México\", \"Argentina\", \"México\", \"México\", \"España\", \"México\", \"Perú\", \"Chile\", \"Estados Unidos\", \"Colombia\", \"México\", \"México\", \"España\", \"México\", \"Perú\", \"Chile\", \"Estados Unidos\", \"Colombia\", \"México\", \"México\", \"España\", \"México\", \"Perú\", \"Chile\", \"Estados Unidos\", \"Colombia\", \"México\", \"México\", \"España\", \"México\", \"Perú\", \"Chile\", \"Estados Unidos\", \"Colombia\", \"México\", \"México\", \"España\", \"México\", \"Perú\", \"Chile\", \"Estados Unidos\", \"Colombia\", \"México\", \"México\", \"España\", \"México\", \"Perú\", \"Chile\", \"Estados Unidos\", \"Colombia\", \"México\", \"México\", \"España\", \"México\", \"Perú\", \"Chile\", \"Estados Unidos\", \"Colombia\", \"México\", \"México\", \"España\", \"México\", \"Perú\", \"Chile\", \"Estados Unidos\", \"Colombia\", \"México\", \"México\", \"España\", \"México\", \"Perú\", \"Chile\", \"Estados Unidos\", \"Colombia\", \"México\", \"México\", \"España\", \"México\", \"Perú\", \"Chile\", \"Estados Unidos\", \"Colombia\", \"México\", \"México\", \"España\", \"México\", \"Perú\", \"Chile\", \"Estados Unidos\", \"Colombia\", \"México\", \"México\", \"España\", \"México\", \"Perú\"]\n",
    "\n",
    "codigos_iso3 = []\n",
    "\n",
    "for pais in paises_de_origen:\n",
    "    if pais == \"México\":\n",
    "        codigos_iso3.append(\"MEX\")\n",
    "    elif pais == \"Colombia\":\n",
    "        codigos_iso3.append(\"COL\")\n",
    "    elif pais == \"Argentina\":\n",
    "        codigos_iso3.append(\"ARG\")\n",
    "    elif pais == \"España\":\n",
    "        codigos_iso3.append(\"ESP\")\n",
    "    elif pais == \"Perú\":\n",
    "        codigos_iso3.append(\"PER\")\n",
    "    elif pais == \"Chile\":\n",
    "        codigos_iso3.append(\"CHL\")\n",
    "    elif pais == \"Estados Unidos\":\n",
    "        codigos_iso3.append(\"USA\")\n",
    "    else:\n",
    "        codigos_iso3.append(\"OTRO\")\n",
    "\n",
    "print(codigos_iso3)"
   ]
  },
  {
   "cell_type": "markdown",
   "id": "4f500ee1",
   "metadata": {},
   "source": [
    "En este listado la diferencia de ejecución entre el código con la condición de México al principio y el código con la condición de México al final es muy pequeña. Pero si esta lista tuviera 1000 elementos o más, o la operación fuese más compleja, la diferencia empezaría a ser más significativa.\n",
    "\n",
    "2. **Aprovechar los operadores lógicos**: En caso de que tengamos que validar varias condiciones, podemos aprovechar los operadores lógicos para hacer más eficiente el código garantizando que solamente si la primera condición es verdadera se evalúe la segunda. Por ejemplo:"
   ]
  },
  {
   "cell_type": "code",
   "execution_count": 7,
   "id": "6eb6a37b",
   "metadata": {},
   "outputs": [],
   "source": [
    "# ¿Fueron Benito Juárez y Juan Manuel Santos presidentes de Colombia en el siglo XXI?\n",
    "\n",
    "if \"Benito Juárez\" in presidentesColXXI and \"Juan Manuel Santos\" in presidentesColXXI:\n",
    "    print(\"¡Es verdad! Benito Juárez y Juan Manuel Santos fueron presidentes de Colombia en el siglo XXI\")"
   ]
  },
  {
   "cell_type": "markdown",
   "id": "9dbccd1a",
   "metadata": {},
   "source": [
    "En este caso, el programa no evaluará la segunda condición (`\"Juan Manuel Santos\" in presidentesColXXI`) porque ya sabemos que la primera condición (`\"Benito Juárez\" in presidentesColXXI`) es falsa. De esta manera, el programa no evalúa la segunda condición y se ahorra tiempo de ejecución.\n",
    "\n",
    "Existen otras estrategias para hacer más eficiente el código, pero estas dos son muy valiosas y pueden ser de utilidad cuando trabajamos con proyectos en los cuales la cantidad de datos y la velocidad de ejecución son importantes."
   ]
  }
 ],
 "metadata": {
  "jupytext": {
   "cell_metadata_filter": "-all",
   "formats": "md:myst",
   "text_representation": {
    "extension": ".md",
    "format_name": "myst",
    "format_version": 0.13,
    "jupytext_version": "1.14.4"
   }
  },
  "kernelspec": {
   "display_name": "Python 3 (ipykernel)",
   "language": "python",
   "name": "python3"
  },
  "language_info": {
   "codemirror_mode": {
    "name": "ipython",
    "version": 3
   },
   "file_extension": ".py",
   "mimetype": "text/x-python",
   "name": "python",
   "nbconvert_exporter": "python",
   "pygments_lexer": "ipython3",
   "version": "3.11.4"
  },
  "source_map": [
   14,
   20,
   23,
   48,
   56,
   60,
   63,
   71,
   79,
   89,
   99,
   113,
   138,
   144,
   150
  ]
 },
 "nbformat": 4,
 "nbformat_minor": 5
}