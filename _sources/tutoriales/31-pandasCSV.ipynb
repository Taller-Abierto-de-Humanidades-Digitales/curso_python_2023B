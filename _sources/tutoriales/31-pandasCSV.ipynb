{
 "cells": [
  {
   "cell_type": "markdown",
   "id": "177e0ee4",
   "metadata": {},
   "source": [
    "# Manejar archivos CSV con `pandas`\n",
    "\n",
    "Para trabajar con archivos CSV de tamaño modesto, es suficiente (y recomendable) utilizar la librería `csv`, pero para poder trabajar con archivos CSV de gran tamaño y complejidad, es recomendado apelar a la librería `pandas`.\n",
    "\n",
    "Esta librería fue creada por Wes McKinney en 2008 y es una de las más utilizadas en el mundo de la ciencia de datos. `pandas` es una librería de código abierto que provee estructuras de datos y herramientas de análisis de datos de alto rendimiento y fácil de usar. En particular, `pandas` provee estructuras de datos y operaciones para manipular tablas numéricas y series temporales. Además, `pandas` está construida sobre `numpy`, por lo que es posible utilizar las funciones de `numpy` en `pandas`.\n",
    "\n",
    "En este curso, simplemente utilizaremos la librería `pandas` para leer y escribir archivos CSV. Para aprender más sobre `pandas`, te recomiendo explorar el libro de Wes McKinney, *Python for Data Analysis* {cite}`mckinney_python_2018`.\n",
    "\n",
    "```{admonition} Nota\n",
    ":class: warning\n",
    "En muchos foros se suele comentar que utilizar `pandas` simplemente para leer y escribir archivos CSV es como utilizar un tanque para matar una mosca. Ten esto en cuenta para el momento de utilizar esta librería en un entorno de desarrollo profesional.\n",
    "```\n",
    "\n",
    "## Instalar `pandas`\n",
    "\n",
    "Para instalar `pandas`, podemos utilizar `pip` o `conda`:\n",
    "\n",
    "```shell\n",
    "pip install pandas\n",
    "```\n",
    "\n",
    "```shell\n",
    "conda install pandas\n",
    "```\n",
    "\n",
    "La versión actual (abril 2023) es la 2.0.1. Sin embargo, es posible que gran parte de los tutoriales que existen en la actualidad dependan de la versión 1.5 o anterior. Verifica cuál es la versión de tu instalación de `pandas` con el siguiente código:"
   ]
  },
  {
   "cell_type": "code",
   "execution_count": 1,
   "id": "5299a4f6",
   "metadata": {},
   "outputs": [
    {
     "name": "stdout",
     "output_type": "stream",
     "text": [
      "1.5.3\n"
     ]
    }
   ],
   "source": [
    "import pandas as pd\n",
    "\n",
    "print(pd.__version__)"
   ]
  },
  {
   "cell_type": "markdown",
   "id": "9974114d",
   "metadata": {},
   "source": [
    "La versión que ves arriba será la que utilizaremos en este tutorial.\n",
    "\n",
    "## Leer archivos CSV\n",
    "\n",
    "Para leer un archivo CSV con `pandas`, podemos utilizar el método `read_csv()`. Este método tiene muchos argumentos opcionales que permiten configurar la lectura del archivo CSV. Pasemos a leer nuestro archivo `inventario.csv` con `pandas`:"
   ]
  },
  {
   "cell_type": "code",
   "execution_count": 2,
   "id": "6a29948f",
   "metadata": {},
   "outputs": [
    {
     "name": "stdout",
     "output_type": "stream",
     "text": [
      "                titulo                autor  editorial  anio\n",
      "0             El Aleph    Jorge Luis Borges      Emece  1949\n",
      "1           El Quijote  Miguel de Cervantes  Alfaguara  2005\n",
      "2   El desbarrancadero     Fernando Vallejo    Planeta  2001\n",
      "3  Una novelita Lumpen       Roberto Bolaño   Anagrama  2002\n",
      "4            El amante     Marguerite Duras   Tusquets  1984\n"
     ]
    }
   ],
   "source": [
    "import pandas as pd\n",
    "import os\n",
    "import chardet\n",
    "\n",
    "# usaremos en este ejemplo la librería chardet para detectar el encoding del archivo\n",
    "raw = open(os.path.join(os.getcwd(), \"inventario.csv\"), 'rb').read()\n",
    "encodign = chardet.detect(raw)['encoding']\n",
    "\n",
    "df = pd.read_csv(os.path.join(os.getcwd(), \"inventario.csv\"), encoding=encodign)\n",
    "print(df)"
   ]
  },
  {
   "cell_type": "markdown",
   "id": "359c8d81",
   "metadata": {},
   "source": [
    "Como verás, únicamente requerimos de la función `read_csv` para leer el archivo CSV. Para poder hacer frente a una cantidad de posibles formas de creación del archivo, `pandas` cuenta con un buen número de parámetros que permiten solventar archivos con separadores diferentes a comas (`sep=\";\"`), con encabezados (`header=0`), con índices (`index_col=0`), con valores faltantes (`na_values=[\"\"]`), etc. Para conocer todos los parámetros de la función `read_csv`, puedes consultar la [documentación oficial](https://pandas.pydata.org/pandas-docs/version/1.5/reference/api/pandas.read_csv.html).\n",
    "\n",
    "El resultado de la lectura del archivo CSV es un objeto de tipo `DataFrame` de `pandas`. Un `DataFrame` es una estructura de datos bidimensional que puede contener datos de diferentes tipos (numéricos, de cadena de caracteres, booleanos, etc.). En este caso, el `DataFrame` contiene los datos del archivo CSV, con los tipos de datos que `pandas` consideró más adecuados para cada columna."
   ]
  },
  {
   "cell_type": "code",
   "execution_count": 3,
   "id": "54fbea29",
   "metadata": {},
   "outputs": [
    {
     "name": "stdout",
     "output_type": "stream",
     "text": [
      "<class 'pandas.core.frame.DataFrame'>\n"
     ]
    }
   ],
   "source": [
    "print(type(df))"
   ]
  },
  {
   "cell_type": "markdown",
   "id": "2a45c87d",
   "metadata": {},
   "source": [
    "## Escribir archivos CSV\n",
    "\n",
    "Para escribir un archivo CSV con `pandas`, podemos utilizar el método `to_csv()`. Sin embargo, debemos convertir los datos que queremos a un formato de `DataFrame` para que puedan ser guardados en la tabla. Por ejemplo, si queremos guardar los datos de un diccionario, podemos convertirlo a un `DataFrame` y luego guardarlo en un archivo CSV:"
   ]
  },
  {
   "cell_type": "code",
   "execution_count": 4,
   "id": "8b3c7ed3",
   "metadata": {},
   "outputs": [],
   "source": [
    "import pandas as pd\n",
    "\n",
    "diccionario = {\n",
    "    \"nombre\": [\"Juan\", \"María\", \"Pedro\"],\n",
    "    \"edad\": [25, 30, 40],\n",
    "    \"ciudad\": [\"Bogotá\", \"Medellín\", \"Cali\"]\n",
    "}\n",
    "\n",
    "df = pd.DataFrame(diccionario)\n",
    "\n",
    "df.to_csv(\"diccionario.csv\", index=False, encoding=\"utf-8\")"
   ]
  },
  {
   "cell_type": "markdown",
   "id": "9bba0283",
   "metadata": {},
   "source": [
    "Y podemos compronbar que el archivo CSV se creó correctamente:"
   ]
  },
  {
   "cell_type": "code",
   "execution_count": 5,
   "id": "69841d47",
   "metadata": {},
   "outputs": [
    {
     "name": "stdout",
     "output_type": "stream",
     "text": [
      "  nombre  edad    ciudad\n",
      "0   Juan    25    Bogotá\n",
      "1  María    30  Medellín\n",
      "2  Pedro    40      Cali\n"
     ]
    }
   ],
   "source": [
    "df = pd.read_csv(\"diccionario.csv\")\n",
    "print(df)"
   ]
  },
  {
   "cell_type": "markdown",
   "id": "b359e3f1",
   "metadata": {},
   "source": [
    "## Agregar datos a un CSV con `pandas`\n",
    "\n",
    "En este caso, lo que debemos realizar es una lectura del archivo CSV, agregar los datos que queremos y luego escribir el archivo CSV. Por ejemplo, si queremos agregar una nueva fila al archivo `diccionario.csv`, podemos hacer lo siguiente:"
   ]
  },
  {
   "cell_type": "code",
   "execution_count": 6,
   "id": "985209e7",
   "metadata": {},
   "outputs": [],
   "source": [
    "import pandas as pd\n",
    "\n",
    "df = pd.read_csv(\"diccionario.csv\")\n",
    "\n",
    "nueva_fila = {\n",
    "    \"nombre\": \"Luis\",\n",
    "    \"edad\": 35,\n",
    "    \"ciudad\": \"Barranquilla\"\n",
    "}\n",
    "\n",
    "df = pd.concat([df, pd.DataFrame(nueva_fila, index=[0])])\n",
    "\n",
    "df.to_csv(\"diccionario.csv\", index=False, encoding=\"utf-8\")"
   ]
  },
  {
   "cell_type": "markdown",
   "id": "709f509f",
   "metadata": {},
   "source": [
    "Y podemos comprobar que el archivo CSV se creó correctamente:"
   ]
  },
  {
   "cell_type": "code",
   "execution_count": 7,
   "id": "460a5620",
   "metadata": {},
   "outputs": [
    {
     "name": "stdout",
     "output_type": "stream",
     "text": [
      "  nombre  edad        ciudad\n",
      "0   Juan    25        Bogotá\n",
      "1  María    30      Medellín\n",
      "2  Pedro    40          Cali\n",
      "3   Luis    35  Barranquilla\n"
     ]
    }
   ],
   "source": [
    "df = pd.read_csv(\"diccionario.csv\")\n",
    "print(df)"
   ]
  },
  {
   "cell_type": "markdown",
   "id": "713b8fdb",
   "metadata": {},
   "source": [
    "Paradójicamente, si queremos simplemente agregar una fila al archivo CSV, es más eficiente utilizar la librería `csv` que `pandas`. Sin embargo, si queremos agregar varias filas, es mucho mejor utilizar `pandas`. Depende de las necesidades del programa que utilicemos o no `pandas` para agregar datos a un archivo CSV.\n",
    "\n",
    "## Eliminar datos de un CSV con `pandas`\n",
    "\n",
    "En este caso, lo que debemos realizar es una lectura del archivo CSV, eliminar los datos que queremos y luego escribir el archivo CSV. Por ejemplo, si queremos eliminar la fila con nombre \"María\" del archivo `diccionario.csv`, podemos hacer lo siguiente:"
   ]
  },
  {
   "cell_type": "code",
   "execution_count": 8,
   "id": "1d3ea9c1",
   "metadata": {},
   "outputs": [],
   "source": [
    "import pandas as pd\n",
    "\n",
    "df = pd.read_csv(\"diccionario.csv\")\n",
    "\n",
    "df = df[df[\"nombre\"] != \"María\"]\n",
    "\n",
    "df.to_csv(\"diccionario.csv\", index=False, encoding=\"utf-8\")"
   ]
  },
  {
   "cell_type": "markdown",
   "id": "d8b54f3b",
   "metadata": {},
   "source": [
    "Y podemos comprobar que el archivo CSV se creó correctamente:"
   ]
  },
  {
   "cell_type": "code",
   "execution_count": 9,
   "id": "47b458c3",
   "metadata": {},
   "outputs": [
    {
     "name": "stdout",
     "output_type": "stream",
     "text": [
      "  nombre  edad        ciudad\n",
      "0   Juan    25        Bogotá\n",
      "1  Pedro    40          Cali\n",
      "2   Luis    35  Barranquilla\n"
     ]
    }
   ],
   "source": [
    "df = pd.read_csv(\"diccionario.csv\")\n",
    "print(df)"
   ]
  },
  {
   "cell_type": "markdown",
   "id": "c8f31c98",
   "metadata": {},
   "source": [
    "## Actualizar datos de un CSV con `pandas`\n",
    "\n",
    "En este caso, lo que debemos realizar es una lectura del archivo CSV, actualizar los datos que queremos y luego escribir el archivo CSV. Por ejemplo, si queremos actualizar la edad de la fila con nombre \"Pedro\" del archivo `diccionario.csv`, podemos hacer lo siguiente:"
   ]
  },
  {
   "cell_type": "code",
   "execution_count": 10,
   "id": "26a893dd",
   "metadata": {},
   "outputs": [],
   "source": [
    "import pandas as pd\n",
    "\n",
    "df = pd.read_csv(\"diccionario.csv\")\n",
    "\n",
    "df.loc[df[\"nombre\"] == \"Pedro\", \"edad\"] = 45\n",
    "\n",
    "df.to_csv(\"diccionario.csv\", index=False, encoding=\"utf-8\")"
   ]
  },
  {
   "cell_type": "markdown",
   "id": "f39b9d0b",
   "metadata": {},
   "source": [
    "Y podemos comprobar que el archivo CSV se creó correctamente:"
   ]
  },
  {
   "cell_type": "code",
   "execution_count": 11,
   "id": "e7d728c4",
   "metadata": {},
   "outputs": [
    {
     "name": "stdout",
     "output_type": "stream",
     "text": [
      "  nombre  edad        ciudad\n",
      "0   Juan    25        Bogotá\n",
      "1  Pedro    45          Cali\n",
      "2   Luis    35  Barranquilla\n"
     ]
    }
   ],
   "source": [
    "df = pd.read_csv(\"diccionario.csv\")\n",
    "print(df)"
   ]
  },
  {
   "cell_type": "markdown",
   "id": "277190ab",
   "metadata": {},
   "source": [
    "La gran ventaja de los dos ejemplos anteriores con respecto a la librería `csv` es que no tenemos que crear un archivo temporal para luego renombrarlo. `pandas` se encarga de todo esto por nosotros.\n",
    "\n",
    "## Crear una nueva columna en un CSV con `pandas`\n",
    "\n",
    "En este caso, lo que debemos realizar es una lectura del archivo CSV, crear la nueva columna y luego escribir el archivo CSV. Por ejemplo, si queremos crear una nueva columna con el nombre \"pais_nacimiento\" en el archivo `diccionario.csv`, podemos hacer lo siguiente:"
   ]
  },
  {
   "cell_type": "code",
   "execution_count": 12,
   "id": "42a89e61",
   "metadata": {},
   "outputs": [],
   "source": [
    "import pandas as pd\n",
    "\n",
    "df = pd.read_csv(\"diccionario.csv\")\n",
    "\n",
    "df[\"pais_nacimiento\"] = [\"Colombia\", \"Perú\", \"Colombia\"]\n",
    "\n",
    "df.to_csv(\"diccionario.csv\", index=False, encoding=\"utf-8\")"
   ]
  },
  {
   "cell_type": "markdown",
   "id": "4195f2dc",
   "metadata": {},
   "source": [
    "Y podemos comprobar que el archivo CSV se creó correctamente:"
   ]
  },
  {
   "cell_type": "code",
   "execution_count": 13,
   "id": "1192b3e8",
   "metadata": {},
   "outputs": [
    {
     "name": "stdout",
     "output_type": "stream",
     "text": [
      "  nombre  edad        ciudad pais_nacimiento\n",
      "0   Juan    25        Bogotá        Colombia\n",
      "1  Pedro    45          Cali            Perú\n",
      "2   Luis    35  Barranquilla        Colombia\n"
     ]
    }
   ],
   "source": [
    "df = pd.read_csv(\"diccionario.csv\")\n",
    "print(df)"
   ]
  },
  {
   "cell_type": "markdown",
   "id": "dadcfb9d",
   "metadata": {},
   "source": [
    "## Eliminar una columna de un CSV con `pandas`\n",
    "\n",
    "En este caso, lo que debemos realizar es una lectura del archivo CSV, eliminar la columna y luego escribir el archivo CSV. Por ejemplo, si queremos eliminar la columna \"pais_nacimiento\" del archivo `diccionario.csv`, podemos hacer lo siguiente:"
   ]
  },
  {
   "cell_type": "code",
   "execution_count": 14,
   "id": "ce3d3cae",
   "metadata": {},
   "outputs": [],
   "source": [
    "import pandas as pd\n",
    "\n",
    "df = pd.read_csv(\"diccionario.csv\")\n",
    "\n",
    "df = df.drop(columns=[\"pais_nacimiento\"])\n",
    "\n",
    "df.to_csv(\"diccionario.csv\", index=False, encoding=\"utf-8\")"
   ]
  },
  {
   "cell_type": "markdown",
   "id": "5a2add6e",
   "metadata": {},
   "source": [
    "Y podemos comprobar que el archivo CSV se creó correctamente:"
   ]
  },
  {
   "cell_type": "code",
   "execution_count": 15,
   "id": "81980933",
   "metadata": {},
   "outputs": [
    {
     "name": "stdout",
     "output_type": "stream",
     "text": [
      "  nombre  edad        ciudad\n",
      "0   Juan    25        Bogotá\n",
      "1  Pedro    45          Cali\n",
      "2   Luis    35  Barranquilla\n"
     ]
    }
   ],
   "source": [
    "df = pd.read_csv(\"diccionario.csv\")\n",
    "print(df)"
   ]
  },
  {
   "cell_type": "markdown",
   "id": "c50d6cf9",
   "metadata": {},
   "source": [
    "## Actualizar una columna de un CSV con `pandas`\n",
    "\n",
    "En este caso, lo que debemos realizar es una lectura del archivo CSV, actualizar la columna y luego escribir el archivo CSV. Por ejemplo, si queremos actualizar la columna \"ciudad\" del archivo `diccionario.csv`, podemos hacer lo siguiente:"
   ]
  },
  {
   "cell_type": "code",
   "execution_count": 16,
   "id": "2a204acb",
   "metadata": {},
   "outputs": [],
   "source": [
    "import pandas as pd\n",
    "\n",
    "df = pd.read_csv(\"diccionario.csv\")\n",
    "\n",
    "df[\"ciudad\"] = [\"Barranquilla\", \"Cali\", \"Tunja\"]\n",
    "\n",
    "df.to_csv(\"diccionario.csv\", index=False, encoding=\"utf-8\")"
   ]
  },
  {
   "cell_type": "markdown",
   "id": "20a18ebe",
   "metadata": {},
   "source": [
    "Y podemos comprobar que el archivo CSV se creó correctamente:"
   ]
  },
  {
   "cell_type": "code",
   "execution_count": 17,
   "id": "d1622966",
   "metadata": {},
   "outputs": [
    {
     "name": "stdout",
     "output_type": "stream",
     "text": [
      "  nombre  edad        ciudad\n",
      "0   Juan    25  Barranquilla\n",
      "1  Pedro    45          Cali\n",
      "2   Luis    35         Tunja\n"
     ]
    }
   ],
   "source": [
    "df = pd.read_csv(\"diccionario.csv\")\n",
    "print(df)"
   ]
  },
  {
   "cell_type": "markdown",
   "id": "8d0c6e8f",
   "metadata": {},
   "source": [
    "## Conclusión\n",
    "\n",
    "En este tutorial apenas arañamos la superficie de lo que se puede hacer con `pandas`. Sin embargo, es suficiente para que puedas empezar a utilizar esta librería para leer, escribir y actualizar archivos CSV.\n",
    "\n",
    "## Ejercicios\n",
    "\n",
    "1. Crea un archivo CSV con los datos de tu biblioteca personal. Cada fila debe tener los siguientes datos: título, autor, editorial, año de publicación, género y número de páginas. Luego, crea un programa que lea el archivo CSV y muestre los datos de todos los libros que sean de un género específico.\n",
    "\n",
    "2. Crea una pequeña interface que permita agregar, eliminar y actualizar los datos del archivo CSV. Puedes aprovechar la librería `csv` o `pandas` para realizar esta tarea."
   ]
  }
 ],
 "metadata": {
  "jupytext": {
   "cell_metadata_filter": "-all",
   "formats": "md:myst",
   "text_representation": {
    "extension": ".md",
    "format_name": "myst",
    "format_version": 0.13,
    "jupytext_version": "1.14.4"
   }
  },
  "kernelspec": {
   "display_name": "Python 3 (ipykernel)",
   "language": "python",
   "name": "python3"
  },
  "language_info": {
   "codemirror_mode": {
    "name": "ipython",
    "version": 3
   },
   "file_extension": ".py",
   "mimetype": "text/x-python",
   "name": "python",
   "nbconvert_exporter": "python",
   "pygments_lexer": "ipython3",
   "version": "3.11.4"
  },
  "source_map": [
   14,
   42,
   46,
   54,
   65,
   71,
   73,
   79,
   91,
   95,
   98,
   104,
   118,
   122,
   125,
   133,
   141,
   145,
   148,
   154,
   162,
   166,
   169,
   177,
   185,
   189,
   192,
   198,
   206,
   210,
   213,
   219,
   227,
   231,
   234
  ]
 },
 "nbformat": 4,
 "nbformat_minor": 5
}