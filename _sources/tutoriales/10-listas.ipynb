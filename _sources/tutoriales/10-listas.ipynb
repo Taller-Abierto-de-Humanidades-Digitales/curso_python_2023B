{
 "cells": [
  {
   "cell_type": "markdown",
   "id": "a668d250",
   "metadata": {},
   "source": [
    "# Listas\n",
    "\n",
    "Las listas son conjuntos de datos en Python. Sus características básicas son:\n",
    "\n",
    "- Son **mutables**. Esto significa que podemos modificar su contenido.\n",
    "- Son **ordenadas**. Esto significa que los elementos de una lista tienen un orden y podemos acceder a ellos mediante su posición.\n",
    "- Son **iterables**. Esto significa que podemos recorrer sus elementos con un bucle `for`.\n",
    "\n",
    "Además, en Python las listas pueden estar compuestas de cualquier tipo de datos, incluso de otras listas, diccionarios, tuplas, entre otros. Esto hace que sean muy flexibles, a la vez que requieren que tengamos cuidado de no mezclar tipos de datos de manera inadecuada.\n",
    "\n",
    "## Creación de listas\n",
    "\n",
    "Para crear una lista en Python, debemos encerrar sus elementos entre corchetes `[]` y separarlos con comas `,`. Por ejemplo:"
   ]
  },
  {
   "cell_type": "code",
   "execution_count": 1,
   "id": "342bccd3",
   "metadata": {},
   "outputs": [],
   "source": [
    "lista = [\"a\", \"b\", \"c\", \"d\", \"e\"]"
   ]
  },
  {
   "cell_type": "markdown",
   "id": "03b7a78a",
   "metadata": {},
   "source": [
    "Si queremos crear una lista vacía, debemos hacerlo de la siguiente manera:"
   ]
  },
  {
   "cell_type": "code",
   "execution_count": 2,
   "id": "261724f2",
   "metadata": {},
   "outputs": [],
   "source": [
    "lista_vacia = []"
   ]
  },
  {
   "cell_type": "markdown",
   "id": "109b22d6",
   "metadata": {},
   "source": [
    "## Acceso a elementos de una lista\n",
    "\n",
    "Para acceder a un elemento de una lista, debemos indicar su posición entre corchetes `[]`. Por ejemplo, si queremos acceder al primer elemento de la lista `lista` que creamos en el ejemplo anterior, debemos hacer lo siguiente:"
   ]
  },
  {
   "cell_type": "code",
   "execution_count": 3,
   "id": "951f6712",
   "metadata": {},
   "outputs": [
    {
     "data": {
      "text/plain": [
       "'a'"
      ]
     },
     "execution_count": 3,
     "metadata": {},
     "output_type": "execute_result"
    }
   ],
   "source": [
    "lista[0]"
   ]
  },
  {
   "cell_type": "markdown",
   "id": "dc792227",
   "metadata": {},
   "source": [
    "En Python, las posiciones de los elementos de una lista empiezan en `0`, por lo que el primer elemento de una lista es el que está en la posición `0`. Por lo tanto, si queremos acceder al segundo elemento de la lista, debemos hacer lo siguiente:"
   ]
  },
  {
   "cell_type": "code",
   "execution_count": 4,
   "id": "e2324ecc",
   "metadata": {},
   "outputs": [
    {
     "data": {
      "text/plain": [
       "'b'"
      ]
     },
     "execution_count": 4,
     "metadata": {},
     "output_type": "execute_result"
    }
   ],
   "source": [
    "lista[1]"
   ]
  },
  {
   "cell_type": "markdown",
   "id": "bd45bf96",
   "metadata": {},
   "source": [
    "Si queremos acceder al último elemento de la lista, podemos hacerlo de dos maneras:"
   ]
  },
  {
   "cell_type": "code",
   "execution_count": 5,
   "id": "56be5c21",
   "metadata": {},
   "outputs": [
    {
     "data": {
      "text/plain": [
       "'e'"
      ]
     },
     "execution_count": 5,
     "metadata": {},
     "output_type": "execute_result"
    }
   ],
   "source": [
    "lista[-1]"
   ]
  },
  {
   "cell_type": "code",
   "execution_count": 6,
   "id": "c9c47c26",
   "metadata": {},
   "outputs": [
    {
     "data": {
      "text/plain": [
       "'e'"
      ]
     },
     "execution_count": 6,
     "metadata": {},
     "output_type": "execute_result"
    }
   ],
   "source": [
    "lista[len(lista) - 1]"
   ]
  },
  {
   "cell_type": "markdown",
   "id": "4603de91",
   "metadata": {},
   "source": [
    "En este caso, el último elemento de la lista es el que está en la posición `len(lista) - 1`, donde `len(lista)` es la longitud de la lista, es decir, el número de elementos que contiene.\n",
    "\n",
    "## Modificación de elementos de una lista\n",
    "\n",
    "Para modificar un elemento de una lista, debemos indicar su posición entre corchetes `[]` y asignarle un nuevo valor. Por ejemplo, si queremos modificar el primer elemento de la lista `lista` que creamos en el ejemplo anterior, debemos hacer lo siguiente:"
   ]
  },
  {
   "cell_type": "code",
   "execution_count": 7,
   "id": "b9b50ea9",
   "metadata": {},
   "outputs": [],
   "source": [
    "lista[0] = \"A\""
   ]
  },
  {
   "cell_type": "markdown",
   "id": "02e4d772",
   "metadata": {},
   "source": [
    "## Añadir elementos a una lista\n",
    "\n",
    "Para añadir un elemento al final de una lista, debemos utilizar el método `append()`. Por ejemplo, si queremos añadir el elemento `\"f\"` al final de la lista `lista` que creamos en el ejemplo anterior, debemos hacer lo siguiente:"
   ]
  },
  {
   "cell_type": "code",
   "execution_count": 8,
   "id": "bedaacc3",
   "metadata": {},
   "outputs": [],
   "source": [
    "lista.append(\"f\")"
   ]
  },
  {
   "cell_type": "markdown",
   "id": "ae057ede",
   "metadata": {},
   "source": [
    "Si queremos añadir un elemento en una posición determinada de una lista, debemos utilizar el método `insert()`. Por ejemplo, si queremos añadir el elemento `\"z\"` en la posición `2` de la lista `lista` que creamos en el ejemplo anterior, debemos hacer lo siguiente:"
   ]
  },
  {
   "cell_type": "code",
   "execution_count": 9,
   "id": "9d25357e",
   "metadata": {},
   "outputs": [],
   "source": [
    "lista.insert(2, \"z\")"
   ]
  },
  {
   "cell_type": "markdown",
   "id": "a9b4afcc",
   "metadata": {},
   "source": [
    "## Eliminar elementos de una lista\n",
    "\n",
    "Para eliminar un elemento de una lista, debemos utilizar el método `remove()`. Por ejemplo, si queremos eliminar el elemento `\"z\"` de la lista `lista` que creamos en el ejemplo anterior, debemos hacer lo siguiente:"
   ]
  },
  {
   "cell_type": "code",
   "execution_count": 10,
   "id": "e08a9870",
   "metadata": {},
   "outputs": [],
   "source": [
    "lista.remove(\"z\")"
   ]
  },
  {
   "cell_type": "markdown",
   "id": "a0f6d640",
   "metadata": {},
   "source": [
    "Si queremos eliminar un elemento de una posición determinada de una lista, debemos utilizar el método `pop()`. Por ejemplo, si queremos eliminar el elemento que está en la posición `2` de la lista `lista` que creamos en el ejemplo anterior, debemos hacer lo siguiente:"
   ]
  },
  {
   "cell_type": "code",
   "execution_count": 11,
   "id": "277765fc",
   "metadata": {},
   "outputs": [
    {
     "data": {
      "text/plain": [
       "'c'"
      ]
     },
     "execution_count": 11,
     "metadata": {},
     "output_type": "execute_result"
    }
   ],
   "source": [
    "lista.pop(2)"
   ]
  },
  {
   "cell_type": "markdown",
   "id": "40cf3fc4",
   "metadata": {},
   "source": [
    "Si queremos eliminar todos los elementos de una lista, debemos utilizar el método `clear()`. Por ejemplo, si queremos eliminar todos los elementos de la lista `lista` que creamos en el ejemplo anterior, debemos hacer lo siguiente:"
   ]
  },
  {
   "cell_type": "code",
   "execution_count": 12,
   "id": "0fe5b2fe",
   "metadata": {},
   "outputs": [],
   "source": [
    "lista.clear()"
   ]
  },
  {
   "cell_type": "markdown",
   "id": "e79409dd",
   "metadata": {},
   "source": [
    "## Operaciones con listas\n",
    "\n",
    "### Concatenación\n",
    "\n",
    "Para concatenar dos listas, debemos utilizar el operador `+`. Por ejemplo, si queremos concatenar las listas `lista1` y `lista2` que creamos en el ejemplo anterior, debemos hacer lo siguiente:"
   ]
  },
  {
   "cell_type": "code",
   "execution_count": 13,
   "id": "22ecfc8d",
   "metadata": {},
   "outputs": [
    {
     "data": {
      "text/plain": [
       "['a', 'b', 'c', 'd', 'e', 'f']"
      ]
     },
     "execution_count": 13,
     "metadata": {},
     "output_type": "execute_result"
    }
   ],
   "source": [
    "lista1 = [\"a\", \"b\", \"c\"]\n",
    "lista2 = [\"d\", \"e\", \"f\"]\n",
    "lista1 + lista2"
   ]
  },
  {
   "cell_type": "markdown",
   "id": "8514eca5",
   "metadata": {},
   "source": [
    "### Repetición\n",
    "\n",
    "Para repetir una lista, debemos utilizar el operador `*`. Por ejemplo, si queremos repetir la lista `lista` que creamos en el ejemplo anterior, debemos hacer lo siguiente:"
   ]
  },
  {
   "cell_type": "code",
   "execution_count": 14,
   "id": "3d770719",
   "metadata": {},
   "outputs": [
    {
     "data": {
      "text/plain": [
       "['a', 'b', 'c', 'a', 'b', 'c']"
      ]
     },
     "execution_count": 14,
     "metadata": {},
     "output_type": "execute_result"
    }
   ],
   "source": [
    "lista = [\"a\", \"b\", \"c\"]\n",
    "lista * 2"
   ]
  },
  {
   "cell_type": "markdown",
   "id": "86d65094",
   "metadata": {},
   "source": [
    "### Comprobación de pertenencia\n",
    "\n",
    "Para comprobar si un elemento pertenece a una lista, debemos utilizar el operador `in`. Por ejemplo, si queremos comprobar si el elemento `\"a\"` pertenece a la lista `lista` que creamos en el ejemplo anterior, debemos hacer lo siguiente:"
   ]
  },
  {
   "cell_type": "code",
   "execution_count": 15,
   "id": "93afcd20",
   "metadata": {},
   "outputs": [
    {
     "data": {
      "text/plain": [
       "True"
      ]
     },
     "execution_count": 15,
     "metadata": {},
     "output_type": "execute_result"
    }
   ],
   "source": [
    "lista = [\"a\", \"b\", \"c\"]\n",
    "\"a\" in lista"
   ]
  },
  {
   "cell_type": "markdown",
   "id": "dde703eb",
   "metadata": {},
   "source": [
    "### Longitud de una lista\n",
    "\n",
    "Para obtener la longitud de una lista, debemos utilizar la función `len()`. Por ejemplo, si queremos obtener la longitud de la lista `lista` que creamos en el ejemplo anterior, debemos hacer lo siguiente:"
   ]
  },
  {
   "cell_type": "code",
   "execution_count": 16,
   "id": "483e719e",
   "metadata": {},
   "outputs": [
    {
     "data": {
      "text/plain": [
       "3"
      ]
     },
     "execution_count": 16,
     "metadata": {},
     "output_type": "execute_result"
    }
   ],
   "source": [
    "lista = [\"a\", \"b\", \"c\"]\n",
    "len(lista)"
   ]
  },
  {
   "cell_type": "markdown",
   "id": "a7f3dbb3",
   "metadata": {},
   "source": [
    "## Recorrer una lista\n",
    "\n",
    "Para recorrer una lista, podemos utilizar un bucle `for`. Por ejemplo, si queremos recorrer la lista `lista` que creamos en el ejemplo anterior, debemos hacer lo siguiente:"
   ]
  },
  {
   "cell_type": "code",
   "execution_count": 17,
   "id": "2ad81d5b",
   "metadata": {},
   "outputs": [
    {
     "name": "stdout",
     "output_type": "stream",
     "text": [
      "a\n",
      "b\n",
      "c\n"
     ]
    }
   ],
   "source": [
    "lista = [\"a\", \"b\", \"c\"]\n",
    "for elemento in lista:\n",
    "    print(elemento)"
   ]
  },
  {
   "cell_type": "markdown",
   "id": "e624eeba",
   "metadata": {},
   "source": [
    "## Ordenar una lista\n",
    "\n",
    "Para ordenar una lista, debemos utilizar el método `sort()`. Por ejemplo, si queremos ordenar la lista `lista` que creamos en el ejemplo anterior, debemos hacer lo siguiente:"
   ]
  },
  {
   "cell_type": "code",
   "execution_count": 18,
   "id": "dac36917",
   "metadata": {},
   "outputs": [],
   "source": [
    "lista = [\"c\", \"a\", \"b\"]\n",
    "lista.sort()"
   ]
  },
  {
   "cell_type": "markdown",
   "id": "56dec00d",
   "metadata": {},
   "source": [
    "También podemos hacer lo de manera invertida con el método `reverse()`. Por ejemplo, si queremos ordenar la lista `lista` que creamos en el ejemplo anterior, debemos hacer lo siguiente:"
   ]
  },
  {
   "cell_type": "code",
   "execution_count": 19,
   "id": "4c1945d2",
   "metadata": {},
   "outputs": [],
   "source": [
    "lista = [\"a\", \"b\", \"c\"]\n",
    "lista.reverse()"
   ]
  },
  {
   "cell_type": "markdown",
   "id": "78849470",
   "metadata": {},
   "source": [
    "## Copiar una lista\n",
    "\n",
    "Para copiar una lista, debemos utilizar el método `copy()`. Por ejemplo, si queremos copiar la lista `lista` que creamos en el ejemplo anterior, debemos hacer lo siguiente:"
   ]
  },
  {
   "cell_type": "code",
   "execution_count": 20,
   "id": "dd2e505f",
   "metadata": {},
   "outputs": [],
   "source": [
    "lista = [\"a\", \"b\", \"c\"]\n",
    "lista_copia = lista.copy()"
   ]
  },
  {
   "cell_type": "markdown",
   "id": "9858ac68",
   "metadata": {},
   "source": [
    "## Listas multidimensionales\n",
    "\n",
    "Una lista multidimensional es una lista que contiene otras listas. Por ejemplo, si queremos crear una lista multidimensional, debemos hacer lo siguiente:"
   ]
  },
  {
   "cell_type": "code",
   "execution_count": 21,
   "id": "8f8148db",
   "metadata": {},
   "outputs": [],
   "source": [
    "lista = [['a', 'b', 'c'], ['d', 'e', 'f'], ['g', 'h', 'i']]"
   ]
  },
  {
   "cell_type": "markdown",
   "id": "1fe7e399",
   "metadata": {},
   "source": [
    "Para acceder a un elemento de una lista multidimensional, debemos indicar la posición de la lista y la posición del elemento dentro de la lista. Por ejemplo, si queremos acceder al elemento `5` de la lista `lista` que creamos en el ejemplo anterior, debemos hacer lo siguiente:"
   ]
  },
  {
   "cell_type": "code",
   "execution_count": 22,
   "id": "e501ded0",
   "metadata": {},
   "outputs": [
    {
     "data": {
      "text/plain": [
       "'e'"
      ]
     },
     "execution_count": 22,
     "metadata": {},
     "output_type": "execute_result"
    }
   ],
   "source": [
    "lista = [['a', 'b', 'c'], ['d', 'e', 'f'], ['g', 'h', 'i']]\n",
    "lista[1][1]"
   ]
  },
  {
   "cell_type": "markdown",
   "id": "aa8757a3",
   "metadata": {},
   "source": [
    "## Listas por comprensión\n",
    "\n",
    "Las listas por comprensión son una forma de crear listas de forma sencilla. Por ejemplo, si queremos crear una lista con los números del `1` al `10`, debemos hacer lo siguiente:"
   ]
  },
  {
   "cell_type": "code",
   "execution_count": 23,
   "id": "beab654e",
   "metadata": {},
   "outputs": [],
   "source": [
    "lista = [i for i in range(1, 11)]"
   ]
  },
  {
   "cell_type": "markdown",
   "id": "464bc31a",
   "metadata": {},
   "source": [
    "Podemos hacer algo similar con letras del alfabeto, pero en este caso debemos utilizar la función `chr()` para obtener el código ASCII de cada letra. Por ejemplo, si queremos crear una lista con las letras del `a` al `z`, debemos hacer lo siguiente:"
   ]
  },
  {
   "cell_type": "code",
   "execution_count": 24,
   "id": "7d5fa193",
   "metadata": {},
   "outputs": [],
   "source": [
    "lista = [chr(i) for i in range(97, 123)]"
   ]
  }
 ],
 "metadata": {
  "jupytext": {
   "cell_metadata_filter": "-all",
   "formats": "md:myst",
   "text_representation": {
    "extension": ".md",
    "format_name": "myst",
    "format_version": 0.13,
    "jupytext_version": "1.14.4"
   }
  },
  "kernelspec": {
   "display_name": "Python 3 (ipykernel)",
   "language": "python",
   "name": "python3"
  },
  "language_info": {
   "codemirror_mode": {
    "name": "ipython",
    "version": 3
   },
   "file_extension": ".py",
   "mimetype": "text/x-python",
   "name": "python",
   "nbconvert_exporter": "python",
   "pygments_lexer": "ipython3",
   "version": "3.11.4"
  },
  "source_map": [
   14,
   30,
   32,
   36,
   38,
   44,
   46,
   50,
   52,
   56,
   60,
   62,
   70,
   72,
   78,
   80,
   84,
   86,
   92,
   94,
   98,
   100,
   104,
   106,
   114,
   118,
   124,
   127,
   133,
   136,
   142,
   145,
   151,
   155,
   161,
   164,
   168,
   171,
   177,
   180,
   186,
   188,
   192,
   195,
   201,
   203,
   207
  ]
 },
 "nbformat": 4,
 "nbformat_minor": 5
}