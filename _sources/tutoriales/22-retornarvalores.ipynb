{
 "cells": [
  {
   "cell_type": "markdown",
   "id": "a467f80f",
   "metadata": {},
   "source": [
    "# Retornar valores en una función\n",
    "\n",
    "En los ejemplos anteriores cada función que creamos imprime un mensaje en la pantalla. Esto puede ser útil en algunos casos, pero en general lo que deseamos es que una función devuelva un valor que podamos utilizar en nuestro programa. Modifiquemos nuestra función  `saludar()` para que en lugar de imprimir un mensaje en la pantalla, devuelva el mensaje como un valor de cadena:"
   ]
  },
  {
   "cell_type": "code",
   "execution_count": 1,
   "id": "0ed27cf9",
   "metadata": {},
   "outputs": [],
   "source": [
    "def saludar(nombre):\n",
    "    mensaje = f\"Hola {nombre}, ¿cómo estás?\"\n",
    "    return mensaje"
   ]
  },
  {
   "cell_type": "markdown",
   "id": "2b6d4cdf",
   "metadata": {},
   "source": [
    "Ahora podemos llamar a la función `saludar()` y guardar el valor de retorno en una variable:"
   ]
  },
  {
   "cell_type": "code",
   "execution_count": 2,
   "id": "6e7417e6",
   "metadata": {},
   "outputs": [
    {
     "name": "stdout",
     "output_type": "stream",
     "text": [
      "Hola Juan, ¿cómo estás?\n"
     ]
    }
   ],
   "source": [
    "saludo = saludar(\"Juan\")\n",
    "print(saludo)"
   ]
  },
  {
   "cell_type": "markdown",
   "id": "63f3f355",
   "metadata": {},
   "source": [
    "Aunque \"técnicamente\" nuestro programa cumple la misma función, una ventaja es que podemos reutilizar el valor del saludo en cualquier parte del programa:"
   ]
  },
  {
   "cell_type": "code",
   "execution_count": 3,
   "id": "44395235",
   "metadata": {},
   "outputs": [
    {
     "name": "stdout",
     "output_type": "stream",
     "text": [
      "HOLA JUAN, ¿CÓMO ESTÁS?\n"
     ]
    }
   ],
   "source": [
    "saludo = saludo.upper()\n",
    "print(saludo)"
   ]
  },
  {
   "cell_type": "markdown",
   "id": "da6df50b",
   "metadata": {},
   "source": [
    "El anterior es un ejemplo sumamente simple, pero describe de manera sucinta lo que puede lograr una función. Ahora realicemos una acción un poco más compleja.\n",
    "\n",
    "## Retornar múltiples valores (tuples)\n",
    "\n",
    "En el ejemplo anterior, la función `saludar()` devolvió un único valor. Sin embargo, es posible que una función devuelva múltiples valores. Por ejemplo, podemos modificar la función `saludar()` para que devuelva el saludo y la longitud del saludo:"
   ]
  },
  {
   "cell_type": "code",
   "execution_count": 4,
   "id": "e089af70",
   "metadata": {},
   "outputs": [],
   "source": [
    "def saludar(nombre):\n",
    "    mensaje = f\"Hola {nombre}, ¿cómo estás?\"\n",
    "    return mensaje, len(mensaje)"
   ]
  },
  {
   "cell_type": "markdown",
   "id": "da5bc31f",
   "metadata": {},
   "source": [
    "Ahora podemos llamar a la función `saludar()` y guardar los valores de retorno en dos variables:"
   ]
  },
  {
   "cell_type": "code",
   "execution_count": 5,
   "id": "b9eb78b9",
   "metadata": {},
   "outputs": [
    {
     "name": "stdout",
     "output_type": "stream",
     "text": [
      "Hola Juan, ¿cómo estás?\n",
      "23\n"
     ]
    }
   ],
   "source": [
    "saludo, longitud = saludar(\"Juan\")\n",
    "print(saludo)\n",
    "print(longitud)"
   ]
  },
  {
   "cell_type": "markdown",
   "id": "65f752c0",
   "metadata": {},
   "source": [
    "```{admonition} Observación\n",
    ":class: tip\n",
    "\n",
    "En este caso, la función devuelve un tipo de dato denominado `tuple` (tupla). Una tupla es una estructura de datos que permite almacenar múltiples valores, de manera similar a un lista, pero con unas características ligeramente diferentes:\n",
    "\n",
    "- La tupla es ordenada: los valores se almacenan en un orden específico.\n",
    "- La tupla es inmutable: una vez creada, no es posible modificar sus valores.\n",
    "- La tupla permite duplicados: es posible almacenar valores duplicados en una tupla.\n",
    "\n",
    "Veremos un poco más sobre las tuplas en el siguiente tutorial.\n",
    "```\n",
    "\n",
    "De la misma manera podemos lograr que la función regrese múltiples valores de cualquier tipo de dato:"
   ]
  },
  {
   "cell_type": "code",
   "execution_count": 6,
   "id": "357d922e",
   "metadata": {},
   "outputs": [
    {
     "name": "stdout",
     "output_type": "stream",
     "text": [
      "Juan nació en Colombia y tiene 33 años.\n"
     ]
    }
   ],
   "source": [
    "def saludar(nombre, fecha_nacimiento=1990, lugar_de_nacimiento=\"Colombia\"):\n",
    "    \"\"\"Saluda a una persona y le dice su edad.\n",
    "    \n",
    "    Parámetros\n",
    "    ----------\n",
    "    nombre: str\n",
    "        Nombre de la persona a saludar\n",
    "    fecha_nacimiento: int\n",
    "        Año de nacimiento de la persona\n",
    "    lugar_de_nacimiento: str\n",
    "        Lugar de nacimiento de la persona   \n",
    "\n",
    "    Retorna\n",
    "    -------\n",
    "    edad: int\n",
    "        Edad de la persona\n",
    "    nombre: str\n",
    "        Nombre de la persona\n",
    "    lugar_de_nacimiento: str\n",
    "        Lugar de nacimiento de la persona\n",
    "    \"\"\"\n",
    "    try:\n",
    "        edad = 2023 - int(fecha_nacimiento)\n",
    "        return edad, nombre, lugar_de_nacimiento # observa que el orden de los valores es diferente al de los parámetros\n",
    "    except:\n",
    "        raise ValueError(f\"La fecha de nacimiento ingresada ({fecha_nacimiento}) no es un número.\")\n",
    "        raise\n",
    "\n",
    "edad, nombre, lugar_de_nacimiento = saludar(\"Juan\", 1990, \"Colombia\")\n",
    "print(f\"{nombre} nació en {lugar_de_nacimiento} y tiene {edad} años.\")"
   ]
  },
  {
   "cell_type": "markdown",
   "id": "67df0e50",
   "metadata": {},
   "source": [
    "Teniendo en cuenta que esta función regresa un valor de edad a partir de una fecha de nacimiento, podríamos utilizarla en un programa que calcule la edad promedio de un grupo de estudiantes a partir de sus fechas de nacimiento:"
   ]
  },
  {
   "cell_type": "code",
   "execution_count": 7,
   "id": "ba99c21f",
   "metadata": {},
   "outputs": [
    {
     "name": "stdout",
     "output_type": "stream",
     "text": [
      "La edad promedio del grupo es 24.00 años.\n"
     ]
    }
   ],
   "source": [
    "grupo = [\n",
    "    (\"Juan\", 1990, \"Colombia\"),\n",
    "    (\"María\", 1992, \"Colombia\"),\n",
    "    (\"Pedro\", 1994, \"Colombia\"),\n",
    "    (\"Ana\", 1996, \"Colombia\"),\n",
    "    (\"Luis\", 1998, \"Colombia\"),\n",
    "    (\"Sofía\", 2000, \"Colombia\"),\n",
    "    (\"Carlos\", 2002, \"Colombia\"),\n",
    "    (\"Camila\", 2004, \"Colombia\"),\n",
    "    (\"Jorge\", 2006, \"Colombia\"),\n",
    "    (\"Laura\", 2008, \"Colombia\"),\n",
    "]\n",
    "\n",
    "edades = []\n",
    "for estudiante in grupo:\n",
    "    edad, nombre, lugar_de_nacimiento = saludar(*estudiante) # este es un ejemplo de desempaquetamiento de tuplas\n",
    "    edades.append(edad)\n",
    "\n",
    "edad_promedio = sum(edades) / len(edades)\n",
    "print(f\"La edad promedio del grupo es {edad_promedio:.2f} años.\")"
   ]
  },
  {
   "cell_type": "markdown",
   "id": "379cb472",
   "metadata": {},
   "source": [
    "Esto significa que también podríamos aplicar esta función a una lista de comprensión:"
   ]
  },
  {
   "cell_type": "code",
   "execution_count": 8,
   "id": "6723d47c",
   "metadata": {},
   "outputs": [
    {
     "name": "stdout",
     "output_type": "stream",
     "text": [
      "La edad promedio del grupo es 24.00 años.\n"
     ]
    }
   ],
   "source": [
    "edades = [saludar(*estudiante)[0] for estudiante in grupo]\n",
    "edad_promedio = sum(edades) / len(edades)\n",
    "print(f\"La edad promedio del grupo es {edad_promedio:.2f} años.\")"
   ]
  },
  {
   "cell_type": "markdown",
   "id": "dd64d892",
   "metadata": {},
   "source": [
    "## Retornar listas\n",
    "\n",
    "En los ejemplos anteriores retornamos una tupla, una estructura de datos inmutable y ordenada. No obstate, es posible retornar una lista. Vamos a cambiar de función. En este caso, vamos a crear una que nos permita retornar todas los años que se encuentren en un texto:"
   ]
  },
  {
   "cell_type": "code",
   "execution_count": 9,
   "id": "4535523c",
   "metadata": {},
   "outputs": [],
   "source": [
    "def extraer_fechas(texto):\n",
    "    \"\"\"Extrae todas las fechas que aparezcan en un texto.\n",
    "    \n",
    "    Parámetros\n",
    "    ----------\n",
    "    texto: str\n",
    "        Texto del cual se extraerán las fechas\n",
    "\n",
    "    Retorna\n",
    "    -------\n",
    "    fechas: list\n",
    "        Lista de fechas extraídas del texto\n",
    "    \"\"\"\n",
    "    fechas = []\n",
    "    for palabra in texto.split():\n",
    "        palabra = palabra = palabra.strip(\",;:()[]{}\")\n",
    "        if palabra.endswith(\".\"):\n",
    "            palabra = palabra.replace(\".\", \"\")\n",
    "\n",
    "        if palabra.isdigit() and len(palabra) == 4:\n",
    "            fechas.append(palabra)\n",
    "        elif len(palabra) > 5 and \"-\" in palabra:\n",
    "            for palabra in palabra.split(\"-\"):\n",
    "                if palabra.isdigit() and len(palabra) == 4:\n",
    "                    fechas.append(palabra)\n",
    "        elif len(palabra) > 5 and \".\" in palabra:\n",
    "            for palabra in palabra.split(\".\"):\n",
    "                if palabra.isdigit() and len(palabra) == 4:\n",
    "                    fechas.append(palabra)\n",
    "\n",
    "    return fechas"
   ]
  },
  {
   "cell_type": "markdown",
   "id": "5b4a980c",
   "metadata": {},
   "source": [
    "Esta función nos permitirá encontrar los valores numéricos en un texto y todos aquellos que tengan cuatro dígitos serán considerados una fecha. Además, consideramos dos casos particulares, los rangos de fecha separados por un guión y los valores de fecha que puedan estar unidos a un llamado a nota al pie (p. ej, “1894.45”).\n",
    "\n",
    "```{note}\n",
    "La lógica de esta función viene determinada por el tipo de información que le estamos pasando al programa. En este caso, sabemos que las fechas se escriben completas (AAAA) y que no contamos con valores decimales que nos puedan confundir (p. ej, en “1894.45” el primer valor - 1894 - es una fecha y el segundo valor - 45 - es un llamado a una nota al pie). Es por tanto una función hecha a propósito para este caso particular.\n",
    "\n",
    "Asimismo, esta función utiliza una estrategia lógica para encontrar coincidencias. Sin embargo, será más eficiente cuando utilicemos expresiones regulares, como veremos al final del curso.\n",
    "```\n",
    "\n",
    "Vamos a realizar nuestro ejercicio con algunos textos tomados de unas biografías en Wikipedia:"
   ]
  },
  {
   "cell_type": "code",
   "execution_count": 10,
   "id": "5b64f5ad",
   "metadata": {},
   "outputs": [],
   "source": [
    "# Tomamos el primer párrafo de la biografía en español de Wikipedia\n",
    "\n",
    "Cervantes = \"Miguel de Cervantes Saavedra (Alcalá de Henares,4​ 29 de septiembre de 1547-Madrid, 22 de abril3​ de 1616) fue un novelista, poeta, dramaturgo y soldado español.\"\n",
    "Quevedo = \"Francisco Gómez de Quevedo Villegas y Santibáñez Cevallos (Madrid, 14 de septiembre de 1580-Villanueva de los Infantes, Ciudad Real, 8 de septiembre de 1645) fue un noble, político y escritor español del Siglo de Oro.\"\n",
    "Calderon = \"Pedro Calderón de la Barca (Madrid, 17 de enero de 1600-25 de mayo de 1681) fue un escritor español, sacerdote católico, miembro de la Venerable Congregación de Presbíteros Seculares Naturales de Madrid San Pedro Apóstol y caballero de la Orden de Santiago, conocido fundamentalmente por ser uno de los más insignes literatos barrocos del Siglo de Oro, en especial por su teatro.\"\n",
    "\n",
    "bios = [Cervantes, Quevedo, Calderon]\n",
    "\n",
    "fechas = []\n",
    "for b in bios:\n",
    "    fechas.append(extraer_fechas(b))"
   ]
  },
  {
   "cell_type": "markdown",
   "id": "7168cb83",
   "metadata": {},
   "source": [
    "En cada caso recuperamos una lista de fechas. En caso de que no existieran elementos se devolvería una lista vacía. Incluso, por la forma de nuestros datos, podríamos determinar la edad de la persona en el momento de su muerte:"
   ]
  },
  {
   "cell_type": "code",
   "execution_count": 11,
   "id": "205ffab9",
   "metadata": {},
   "outputs": [
    {
     "name": "stdout",
     "output_type": "stream",
     "text": [
      "La edad de la persona en el momento de su muerte fue de 69 años.\n",
      "La edad de la persona en el momento de su muerte fue de 65 años.\n",
      "La edad de la persona en el momento de su muerte fue de 81 años.\n"
     ]
    }
   ],
   "source": [
    "for f in fechas:\n",
    "    if len(f) == 2:\n",
    "        print(f\"La edad de la persona en el momento de su muerte fue de {int(f[1]) - int(f[0])} años.\")\n",
    "    else:\n",
    "        print(\"No se encontró la fecha de muerte.\")"
   ]
  },
  {
   "cell_type": "markdown",
   "id": "c65aea9f",
   "metadata": {},
   "source": [
    "Nuevamente, estamos tratando aquí de un ejemplo muy puntual que funcionará solamente en unos cuantos casos, pero nos es útil para ilustrar el uso de las funciones y su retorno.\n",
    "\n",
    "## Retornar diccionarios\n",
    "\n",
    "En el ejemplo anterior, retornamos una lista de fechas. Sin embargo, es posible retornar un diccionario. Vamos a crear una función que nos permita extraer las palabras de un texto y contar cuántas veces aparecen:"
   ]
  },
  {
   "cell_type": "code",
   "execution_count": 12,
   "id": "c26ac43e",
   "metadata": {},
   "outputs": [],
   "source": [
    "def contar_palabras(texto):\n",
    "    \"\"\"Cuenta las palabras que aparecen en un texto.\n",
    "    \n",
    "    Parámetros\n",
    "    ----------\n",
    "    texto: str\n",
    "        Texto del cual se extraerán las palabras\n",
    "\n",
    "    Retorna\n",
    "    -------\n",
    "    palabras: dict\n",
    "        Diccionario con las palabras y su frecuencia\n",
    "    \"\"\"\n",
    "    palabras = {}\n",
    "    for palabra in texto.split():\n",
    "        palabra = palabra.strip(\",;:()[]{}\")\n",
    "        if palabra.endswith(\".\"):\n",
    "            palabra = palabra.replace(\".\", \"\")\n",
    "\n",
    "        if palabra in palabras:\n",
    "            palabras[palabra] += 1\n",
    "        else:\n",
    "            palabras[palabra] = 1\n",
    "\n",
    "    return palabras"
   ]
  },
  {
   "cell_type": "markdown",
   "id": "a3135fdc",
   "metadata": {},
   "source": [
    "```{note}\n",
    "Esta función también utiliza una estrategia lógica para encontrar coincidencias, no obstante, una manera más sofisticada de hacerlo sería utilizando una librería como `nltk` para tokenizar el texto y luego contar las palabras. Veremos un poco de esta librería en sesiones posteriores.\n",
    "```\n",
    "\n",
    "Vamos a realizar nuestro ejercicio con algunos textos tomados de unas biografías en Wikipedia:"
   ]
  },
  {
   "cell_type": "code",
   "execution_count": 13,
   "id": "ce95ce3b",
   "metadata": {},
   "outputs": [
    {
     "name": "stdout",
     "output_type": "stream",
     "text": [
      "\n",
      "BIOGRAFÍA DE MIGUEL DE CERVANTES SAAVEDRA\n",
      "\n",
      "de 6\n",
      "\n",
      "BIOGRAFÍA DE FRANCISCO GÓMEZ DE QUEVEDO\n",
      "\n",
      "de 7\n",
      "y 2\n",
      "septiembre 2\n",
      "\n",
      "BIOGRAFÍA DE PEDRO CALDERÓN DE LA\n",
      "\n",
      "Pedro 2\n",
      "de 12\n",
      "la 3\n",
      "Madrid 2\n",
      "por 2\n"
     ]
    }
   ],
   "source": [
    "for b in bios:\n",
    "    palabras = contar_palabras(b)\n",
    "    print(f\"\\nBiografía de {' '.join(b.split()[0:4])}\\n\".upper())\n",
    "    # imprime solamente las palabras que aparecen más de una vez\n",
    "    for palabra, frecuencia in palabras.items(): # iteramos sobre el diccionario\n",
    "        if frecuencia > 1:\n",
    "            print(palabra, frecuencia)"
   ]
  },
  {
   "cell_type": "markdown",
   "id": "4eedb455",
   "metadata": {},
   "source": [
    "Vemos entonces que dependiendo del tipo de dato que retornemos, podremos utilizar la función de distintas maneras. Por ejemplo, si retornamos una lista, podemos iterar sobre ella y utilizarla para realizar otras operaciones. Si retornamos un diccionario, podemos iterar sobre él y utilizarlo para realizar otras operaciones.\n",
    "\n",
    "En el siguiente apartado veremos cómo llamar a una función desde otra función."
   ]
  }
 ],
 "metadata": {
  "jupytext": {
   "cell_metadata_filter": "-all",
   "formats": "md:myst",
   "text_representation": {
    "extension": ".md",
    "format_name": "myst",
    "format_version": 0.13,
    "jupytext_version": "1.14.4"
   }
  },
  "kernelspec": {
   "display_name": "Python 3 (ipykernel)",
   "language": "python",
   "name": "python3"
  },
  "language_info": {
   "codemirror_mode": {
    "name": "ipython",
    "version": 3
   },
   "file_extension": ".py",
   "mimetype": "text/x-python",
   "name": "python",
   "nbconvert_exporter": "python",
   "pygments_lexer": "ipython3",
   "version": "3.11.1"
  },
  "source_map": [
   14,
   20,
   24,
   28,
   31,
   35,
   38,
   46,
   50,
   54,
   58,
   74,
   105,
   109,
   130,
   134,
   138,
   144,
   176,
   188,
   200,
   204,
   210,
   218,
   244,
   252,
   261
  ]
 },
 "nbformat": 4,
 "nbformat_minor": 5
}