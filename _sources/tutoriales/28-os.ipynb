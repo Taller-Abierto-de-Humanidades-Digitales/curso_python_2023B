{
 "cells": [
  {
   "cell_type": "markdown",
   "id": "6ffbb410",
   "metadata": {},
   "source": [
    "# La librería `os`\n",
    "\n",
    "Una de las librerías más utilizadas en Python es `os`. Esta permite interactuar con el sistema operativo (de allí su nombre), de tal manera que podemos crear, eliminar y mover archivos y directorios, entre otras cosas. Debido a que es una interface miscelánea para el sistema operativo, la librería `os` es muy grande y tiene muchos métodos [^1]. En este tutorial, veremos algunos de los más útiles para trabajar con archivos y directorios.\n",
    "\n",
    "```{admonition} Nota\n",
    ":class: warning\n",
    "En las salidas de este cuaderno las rutas de archivo corresponden al ambiente local desde el cual se ejecuta el programa. Por lo tanto, las salidas serán diferentes para tu computador.\n",
    "```\n",
    "\n",
    "## El directorio de trabajo\n",
    "\n",
    "El directorio de trabajo es el directorio desde el cual se ejecuta el programa. Para ver cuál es el directorio de trabajo, podemos usar el método `getcwd()`:"
   ]
  },
  {
   "cell_type": "code",
   "execution_count": 1,
   "id": "36869d96",
   "metadata": {},
   "outputs": [
    {
     "name": "stdout",
     "output_type": "stream",
     "text": [
      "E:\\Proyectos\\curso_python_extenso\\tutoriales\n"
     ]
    }
   ],
   "source": [
    "import os\n",
    "\n",
    "print(os.getcwd())"
   ]
  },
  {
   "cell_type": "markdown",
   "id": "209c3dab",
   "metadata": {},
   "source": [
    "Para cambiar el directorio de trabajo, podemos usar el método `chdir()`:"
   ]
  },
  {
   "cell_type": "code",
   "execution_count": 2,
   "id": "7fc24c81",
   "metadata": {},
   "outputs": [
    {
     "name": "stdout",
     "output_type": "stream",
     "text": [
      "E:\\Proyectos\\curso_python_extenso\\archivos\\txt\n"
     ]
    }
   ],
   "source": [
    "os.chdir(\"../archivos/txt\")\n",
    "print(os.getcwd())"
   ]
  },
  {
   "cell_type": "code",
   "execution_count": 3,
   "id": "b78eb933",
   "metadata": {
    "tags": [
     "remove-cell"
    ]
   },
   "outputs": [
    {
     "name": "stdout",
     "output_type": "stream",
     "text": [
      "E:\\Proyectos\\curso_python_extenso\\tutoriales\n"
     ]
    }
   ],
   "source": [
    "os.chdir(\"../../tutoriales\")\n",
    "print(os.getcwd())"
   ]
  },
  {
   "cell_type": "markdown",
   "id": "84c06785",
   "metadata": {},
   "source": [
    "## Listar archivos y directorios\n",
    "\n",
    "Para listar los archivos y directorios de un directorio, podemos usar el método `listdir()`:"
   ]
  },
  {
   "cell_type": "code",
   "execution_count": 4,
   "id": "f504205e",
   "metadata": {},
   "outputs": [
    {
     "name": "stdout",
     "output_type": "stream",
     "text": [
      "['arreola.txt', 'ejemplo.txt', 'el_quijote.txt']\n"
     ]
    }
   ],
   "source": [
    "print(os.listdir(\"../archivos/txt\"))"
   ]
  },
  {
   "cell_type": "markdown",
   "id": "4e6c45f6",
   "metadata": {},
   "source": [
    "También podemos utilizar el método `walk` en caso de que queramos revisar directorios y subdirectorios:"
   ]
  },
  {
   "cell_type": "code",
   "execution_count": 5,
   "id": "8bdd35cc",
   "metadata": {},
   "outputs": [
    {
     "name": "stdout",
     "output_type": "stream",
     "text": [
      "Directorio raíz:\n",
      "../_static\n",
      "Subdirectorios:\n",
      "['imgs']\n",
      "Archivos:\n",
      "[]\n",
      "\n",
      "Directorio raíz:\n",
      "../_static\\imgs\n",
      "Subdirectorios:\n",
      "['crear-carpeta', 'intro']\n",
      "Archivos:\n",
      "['condicional.png', 'función_estructura.png', 'logo.png', 'parametros.png', 'scratch.png']\n",
      "\n",
      "Directorio raíz:\n",
      "../_static\\imgs\\crear-carpeta\n",
      "Subdirectorios:\n",
      "[]\n",
      "Archivos:\n",
      "['cambiar_nombre.gif', 'colab_ini.png', 'nuevo_cuaderno.png']\n",
      "\n",
      "Directorio raíz:\n",
      "../_static\\imgs\\intro\n",
      "Subdirectorios:\n",
      "[]\n",
      "Archivos:\n",
      "['ejemplo_actividad.gif']\n",
      "\n"
     ]
    }
   ],
   "source": [
    "for root, dirs, files in os.walk(\"../_static\"): \n",
    "    print(f\"Directorio raíz:\\n{root}\")\n",
    "    print(f\"Subdirectorios:\\n{dirs}\")\n",
    "    print(f\"Archivos:\\n{files}\\n\")"
   ]
  },
  {
   "cell_type": "markdown",
   "id": "bc3e6e6a",
   "metadata": {},
   "source": [
    "## Crear y eliminar directorios\n",
    "\n",
    "Para crear un directorio, podemos usar el método `mkdir()`:"
   ]
  },
  {
   "cell_type": "code",
   "execution_count": 6,
   "id": "ebd4162e",
   "metadata": {},
   "outputs": [
    {
     "name": "stdout",
     "output_type": "stream",
     "text": [
      "['1-preliminares.md', '10-listas.md', '11-iteraciones.md', '12-condicionales.md', '13-plogicas.md', '14-condicionPertenencia.md', '15-ifelse.md', '16-listaseif.md', '17-diccionarios.md', '18-iterardiccio.md', '19-funcionesIntro.md', '20-input.md', '21-funciones_y_TryExcept.md', '22-retornarvalores.md', '23-funcionesLlamados.md', '24-argsykwargs.md', '25-importarmodulos.md', '26-modularfunciones.md', '27-archivos.md', '28-os.md', '29-json.md', '30-csv.md', '31-pandasCSV.md', '32-regex.md', '33-regexcont.md', '34-introObjetos.md', '35-clases.md', '6-python.md', '7-variables.md', '8-operadores.md', '9-operaciones_string.md', 'biblio.py', 'biblioteca.py', 'busqueda.py', 'diccionario.csv', 'inventario.csv', 'nuevo', 'tmp2.py', '__pycache__']\n"
     ]
    }
   ],
   "source": [
    "os.mkdir(\"nuevo\")\n",
    "print(os.listdir())"
   ]
  },
  {
   "cell_type": "markdown",
   "id": "f440e78b",
   "metadata": {},
   "source": [
    "Para eliminar un directorio, podemos usar el método `rmdir()`:"
   ]
  },
  {
   "cell_type": "code",
   "execution_count": 7,
   "id": "6aab76da",
   "metadata": {},
   "outputs": [
    {
     "name": "stdout",
     "output_type": "stream",
     "text": [
      "['1-preliminares.md', '10-listas.md', '11-iteraciones.md', '12-condicionales.md', '13-plogicas.md', '14-condicionPertenencia.md', '15-ifelse.md', '16-listaseif.md', '17-diccionarios.md', '18-iterardiccio.md', '19-funcionesIntro.md', '20-input.md', '21-funciones_y_TryExcept.md', '22-retornarvalores.md', '23-funcionesLlamados.md', '24-argsykwargs.md', '25-importarmodulos.md', '26-modularfunciones.md', '27-archivos.md', '28-os.md', '29-json.md', '30-csv.md', '31-pandasCSV.md', '32-regex.md', '33-regexcont.md', '34-introObjetos.md', '35-clases.md', '6-python.md', '7-variables.md', '8-operadores.md', '9-operaciones_string.md', 'biblio.py', 'biblioteca.py', 'busqueda.py', 'diccionario.csv', 'inventario.csv', 'tmp2.py', '__pycache__']\n"
     ]
    }
   ],
   "source": [
    "os.rmdir(\"nuevo\")\n",
    "print(os.listdir())"
   ]
  },
  {
   "cell_type": "markdown",
   "id": "e6a0a0b5",
   "metadata": {},
   "source": [
    "También podemos utilizar el método `makedirs()`, el cual es sumamente útil cuando queremos crear directorios anidados:"
   ]
  },
  {
   "cell_type": "code",
   "execution_count": 8,
   "id": "2e02e08f",
   "metadata": {},
   "outputs": [
    {
     "name": "stdout",
     "output_type": "stream",
     "text": [
      "['1-preliminares.md', '10-listas.md', '11-iteraciones.md', '12-condicionales.md', '13-plogicas.md', '14-condicionPertenencia.md', '15-ifelse.md', '16-listaseif.md', '17-diccionarios.md', '18-iterardiccio.md', '19-funcionesIntro.md', '20-input.md', '21-funciones_y_TryExcept.md', '22-retornarvalores.md', '23-funcionesLlamados.md', '24-argsykwargs.md', '25-importarmodulos.md', '26-modularfunciones.md', '27-archivos.md', '28-os.md', '29-json.md', '30-csv.md', '31-pandasCSV.md', '32-regex.md', '33-regexcont.md', '34-introObjetos.md', '35-clases.md', '6-python.md', '7-variables.md', '8-operadores.md', '9-operaciones_string.md', 'biblio.py', 'biblioteca.py', 'busqueda.py', 'diccionario.csv', 'inventario.csv', 'nuevo', 'tmp2.py', '__pycache__']\n"
     ]
    }
   ],
   "source": [
    "os.makedirs(\"nuevo/nuevo2\", exist_ok=True)\n",
    "print(os.listdir())"
   ]
  },
  {
   "cell_type": "markdown",
   "id": "3d4eefa6",
   "metadata": {},
   "source": [
    "El parámetro `exist_ok` indica si se debe lanzar una excepción si el directorio ya existe. Si `exist_ok` es `True`, no se lanzará una excepción. Esto evita que debamos utilizar un bloque `try-except` para manejar la excepción.\n",
    "\n",
    "Para eliminar directorios anidados, podemos usar el método `removedirs()`:"
   ]
  },
  {
   "cell_type": "code",
   "execution_count": 9,
   "id": "ee8ca976",
   "metadata": {},
   "outputs": [
    {
     "name": "stdout",
     "output_type": "stream",
     "text": [
      "['1-preliminares.md', '10-listas.md', '11-iteraciones.md', '12-condicionales.md', '13-plogicas.md', '14-condicionPertenencia.md', '15-ifelse.md', '16-listaseif.md', '17-diccionarios.md', '18-iterardiccio.md', '19-funcionesIntro.md', '20-input.md', '21-funciones_y_TryExcept.md', '22-retornarvalores.md', '23-funcionesLlamados.md', '24-argsykwargs.md', '25-importarmodulos.md', '26-modularfunciones.md', '27-archivos.md', '28-os.md', '29-json.md', '30-csv.md', '31-pandasCSV.md', '32-regex.md', '33-regexcont.md', '34-introObjetos.md', '35-clases.md', '6-python.md', '7-variables.md', '8-operadores.md', '9-operaciones_string.md', 'biblio.py', 'biblioteca.py', 'busqueda.py', 'diccionario.csv', 'inventario.csv', 'tmp2.py', '__pycache__']\n"
     ]
    }
   ],
   "source": [
    "os.removedirs(\"nuevo/nuevo2\")\n",
    "print(os.listdir())"
   ]
  },
  {
   "cell_type": "markdown",
   "id": "27590214",
   "metadata": {},
   "source": [
    "## Rutear archivos y directorios\n",
    "\n",
    "Para rutear archivos y directorios, podemos usar el método `path.join()`:"
   ]
  },
  {
   "cell_type": "code",
   "execution_count": 10,
   "id": "b1309fc6",
   "metadata": {},
   "outputs": [
    {
     "name": "stdout",
     "output_type": "stream",
     "text": [
      "nuevo\\nuevo2\\nuevo3\n"
     ]
    }
   ],
   "source": [
    "print(os.path.join(\"nuevo\", \"nuevo2\", \"nuevo3\"))"
   ]
  },
  {
   "cell_type": "markdown",
   "id": "bb683c81",
   "metadata": {},
   "source": [
    "Es una buena práctica utilizar este método para rutear archivos y directorios, ya que este método es independiente del sistema operativo. Por ejemplo, si queremos rutear el archivo `ejemplo.txt` en el directorio `nuevo`, podemos hacer lo siguiente:"
   ]
  },
  {
   "cell_type": "code",
   "execution_count": 11,
   "id": "cdf41f5e",
   "metadata": {},
   "outputs": [
    {
     "name": "stdout",
     "output_type": "stream",
     "text": [
      "nuevo\\ejemplo.txt\n"
     ]
    }
   ],
   "source": [
    "print(os.path.join(\"nuevo\", \"ejemplo.txt\"))"
   ]
  },
  {
   "cell_type": "markdown",
   "id": "656585f9",
   "metadata": {},
   "source": [
    "En general se desaconseja utilizar el método `format` o la concatenación para crear la ruta de un archivo o directorio. En general un sistema operativo puede deducir si una ruta en Linux o MacOS está escrita con diagonales o con barras invertidas, pero esto no es así en Windows. `os` hace que sea más seguro indicar la ruta y evitar las particularidades de un sistema operativo.\n",
    "\n",
    "## Obtener el nombre de un archivo\n",
    "\n",
    "Para obtener el nombre de un archivo, podemos usar el método `path.basename()`:"
   ]
  },
  {
   "cell_type": "code",
   "execution_count": 12,
   "id": "719aa3a3",
   "metadata": {},
   "outputs": [
    {
     "name": "stdout",
     "output_type": "stream",
     "text": [
      "ejemplo.txt\n"
     ]
    }
   ],
   "source": [
    "print(os.path.basename(\"../archivos/txt/ejemplo.txt\"))"
   ]
  },
  {
   "cell_type": "markdown",
   "id": "2adda297",
   "metadata": {},
   "source": [
    "## Obtener el directorio de un archivo\n",
    "\n",
    "Para obtener el directorio de un archivo, podemos usar el método `path.dirname()`:"
   ]
  },
  {
   "cell_type": "code",
   "execution_count": 13,
   "id": "af3a628a",
   "metadata": {},
   "outputs": [
    {
     "name": "stdout",
     "output_type": "stream",
     "text": [
      "../archivos/txt\n"
     ]
    }
   ],
   "source": [
    "print(os.path.dirname(\"../archivos/txt/ejemplo.txt\"))"
   ]
  },
  {
   "cell_type": "markdown",
   "id": "f194e7ba",
   "metadata": {},
   "source": [
    "## Obtener el nombre y el directorio de un archivo\n",
    "\n",
    "Para obtener el nombre y el directorio de un archivo, podemos usar el método `path.split()`:"
   ]
  },
  {
   "cell_type": "code",
   "execution_count": 14,
   "id": "3d27102b",
   "metadata": {},
   "outputs": [
    {
     "name": "stdout",
     "output_type": "stream",
     "text": [
      "('../archivos/txt', 'ejemplo.txt')\n"
     ]
    }
   ],
   "source": [
    "print(os.path.split(\"../archivos/txt/ejemplo.txt\"))"
   ]
  },
  {
   "cell_type": "markdown",
   "id": "40a57472",
   "metadata": {},
   "source": [
    "## Obtener la extensión de un archivo\n",
    "\n",
    "Para obtener la extensión de un archivo, podemos usar el método `path.splitext()`:"
   ]
  },
  {
   "cell_type": "code",
   "execution_count": 15,
   "id": "0982b705",
   "metadata": {},
   "outputs": [
    {
     "name": "stdout",
     "output_type": "stream",
     "text": [
      "('../archivos/txt/ejemplo', '.txt')\n"
     ]
    }
   ],
   "source": [
    "print(os.path.splitext(\"../archivos/txt/ejemplo.txt\"))"
   ]
  },
  {
   "cell_type": "markdown",
   "id": "0f90b1e0",
   "metadata": {},
   "source": [
    "## Obtener el tamaño de un archivo\n",
    "\n",
    "Para obtener el tamaño de un archivo, podemos usar el método `path.getsize()`:"
   ]
  },
  {
   "cell_type": "code",
   "execution_count": 16,
   "id": "cb9981a1",
   "metadata": {},
   "outputs": [
    {
     "name": "stdout",
     "output_type": "stream",
     "text": [
      "235\n"
     ]
    }
   ],
   "source": [
    "print(os.path.getsize(\"../archivos/txt/ejemplo.txt\"))"
   ]
  },
  {
   "cell_type": "markdown",
   "id": "179a4e05",
   "metadata": {},
   "source": [
    "## Obtener la fecha de creación de un archivo\n",
    "\n",
    "Para obtener la fecha de creación de un archivo, podemos usar el método `path.getctime()`:"
   ]
  },
  {
   "cell_type": "code",
   "execution_count": 17,
   "id": "0cc8cb2a",
   "metadata": {},
   "outputs": [
    {
     "name": "stdout",
     "output_type": "stream",
     "text": [
      "1681865490.048676\n"
     ]
    }
   ],
   "source": [
    "print(os.path.getctime(\"../archivos/txt/ejemplo.txt\"))"
   ]
  },
  {
   "cell_type": "markdown",
   "id": "4ef07b39",
   "metadata": {},
   "source": [
    "## Obtener la fecha de modificación de un archivo\n",
    "\n",
    "Para obtener la fecha de modificación de un archivo, podemos usar el método `path.getmtime()`:"
   ]
  },
  {
   "cell_type": "code",
   "execution_count": 18,
   "id": "1423d86c",
   "metadata": {},
   "outputs": [
    {
     "name": "stdout",
     "output_type": "stream",
     "text": [
      "1681852887.547928\n"
     ]
    }
   ],
   "source": [
    "print(os.path.getmtime(\"../archivos/txt/ejemplo.txt\"))"
   ]
  },
  {
   "cell_type": "markdown",
   "id": "654e7442",
   "metadata": {},
   "source": [
    "## Obtener la fecha de acceso de un archivo\n",
    "\n",
    "Para obtener la fecha de acceso de un archivo, podemos usar el método `path.getatime()`:"
   ]
  },
  {
   "cell_type": "code",
   "execution_count": 19,
   "id": "ba055b73",
   "metadata": {},
   "outputs": [
    {
     "name": "stdout",
     "output_type": "stream",
     "text": [
      "1705957247.1486857\n"
     ]
    }
   ],
   "source": [
    "print(os.path.getatime(\"../archivos/txt/ejemplo.txt\"))"
   ]
  },
  {
   "cell_type": "markdown",
   "id": "aa101d19",
   "metadata": {},
   "source": [
    "## Conclusión\n",
    "\n",
    "En general, la librería `os` facilita significativamente el trabajo con archivos y directorios independientemente de la plataforma. Esto es importante, ya que debemos programar teniendo en cuenta a los usuarios posibles de nuestro programa, quienes tendrán distintos sistemas operativos y distintas configuraciones. `os` no resuelve todos los posibles problemas que surjan en la ejecución de nuestro programa, pero sí nos permite evitar algunos de los problemas más comunes.\n",
    "\n",
    "## Notas\n",
    "\n",
    "[^1]: Para ver todos los métodos de la librería `os`, podemos ejecutar `dir(os)`. También puede ser útil consultar la documentación oficial de la librería: https://docs.python.org/3/library/os.html."
   ]
  }
 ],
 "metadata": {
  "jupytext": {
   "cell_metadata_filter": "-all",
   "formats": "md:myst",
   "text_representation": {
    "extension": ".md",
    "format_name": "myst",
    "format_version": 0.13,
    "jupytext_version": "1.14.4"
   }
  },
  "kernelspec": {
   "display_name": "Python 3 (ipykernel)",
   "language": "python",
   "name": "python3"
  },
  "language_info": {
   "codemirror_mode": {
    "name": "ipython",
    "version": 3
   },
   "file_extension": ".py",
   "mimetype": "text/x-python",
   "name": "python",
   "nbconvert_exporter": "python",
   "pygments_lexer": "ipython3",
   "version": "3.11.4"
  },
  "source_map": [
   14,
   28,
   32,
   36,
   41,
   45,
   51,
   53,
   57,
   62,
   68,
   71,
   75,
   78,
   82,
   85,
   91,
   94,
   100,
   102,
   106,
   108,
   116,
   118,
   124,
   126,
   132,
   134,
   140,
   142,
   148,
   150,
   156,
   158,
   164,
   166,
   172,
   174
  ]
 },
 "nbformat": 4,
 "nbformat_minor": 5
}