{
 "cells": [
  {
   "cell_type": "markdown",
   "id": "7635e1a1",
   "metadata": {},
   "source": [
    "# La librería `os`\n",
    "\n",
    "Una de las librerías más utilizadas en Python es `os`. Esta permite interactuar con el sistema operativo (de allí su nombre), de tal manera que podemos crear, eliminar y mover archivos y directorios, entre otras cosas. Debido a que es una interface miscelánea para el sistema operativo, la librería `os` es muy grande y tiene muchos métodos [^1]. En este tutorial, veremos algunos de los más útiles para trabajar con archivos y directorios.\n",
    "\n",
    "```{admonition} Nota\n",
    ":class: warning\n",
    "En las salidas de este cuaderno las rutas de archivo corresponden al ambiente local desde el cual se ejecuta el programa. Por lo tanto, las salidas serán diferentes para tu computador.\n",
    "```\n",
    "\n",
    "## El directorio de trabajo\n",
    "\n",
    "El directorio de trabajo es el directorio desde el cual se ejecuta el programa. Para ver cuál es el directorio de trabajo, podemos usar el método `getcwd()`:"
   ]
  },
  {
   "cell_type": "code",
   "execution_count": 1,
   "id": "82d7aabc",
   "metadata": {},
   "outputs": [
    {
     "name": "stdout",
     "output_type": "stream",
     "text": [
      "E:\\Proyectos\\curso_python_extenso\\tutoriales\n"
     ]
    }
   ],
   "source": [
    "import os\n",
    "\n",
    "print(os.getcwd())"
   ]
  },
  {
   "cell_type": "markdown",
   "id": "fc6fdaab",
   "metadata": {},
   "source": [
    "Para cambiar el directorio de trabajo, podemos usar el método `chdir()`:"
   ]
  },
  {
   "cell_type": "code",
   "execution_count": 2,
   "id": "c669a83b",
   "metadata": {},
   "outputs": [
    {
     "name": "stdout",
     "output_type": "stream",
     "text": [
      "E:\\Proyectos\\curso_python_extenso\\archivos\\txt\n"
     ]
    }
   ],
   "source": [
    "os.chdir(\"../archivos/txt\")\n",
    "print(os.getcwd())"
   ]
  },
  {
   "cell_type": "code",
   "execution_count": 3,
   "id": "ad3b0325",
   "metadata": {
    "tags": [
     "remove-cell"
    ]
   },
   "outputs": [
    {
     "name": "stdout",
     "output_type": "stream",
     "text": [
      "E:\\Proyectos\\curso_python_extenso\\tutoriales\n"
     ]
    }
   ],
   "source": [
    "os.chdir(\"../../tutoriales\")\n",
    "print(os.getcwd())"
   ]
  },
  {
   "cell_type": "markdown",
   "id": "3f3fd75d",
   "metadata": {},
   "source": [
    "## Listar archivos y directorios\n",
    "\n",
    "Para listar los archivos y directorios de un directorio, podemos usar el método `listdir()`:"
   ]
  },
  {
   "cell_type": "code",
   "execution_count": 4,
   "id": "6058b617",
   "metadata": {},
   "outputs": [
    {
     "name": "stdout",
     "output_type": "stream",
     "text": [
      "['arreola.txt', 'ejemplo.txt', 'el_quijote.txt']\n"
     ]
    }
   ],
   "source": [
    "print(os.listdir(\"../archivos/txt\"))"
   ]
  },
  {
   "cell_type": "markdown",
   "id": "46a10f4a",
   "metadata": {},
   "source": [
    "También podemos utilizar el método `walk` en caso de que queramos revisar directorios y subdirectorios:"
   ]
  },
  {
   "cell_type": "code",
   "execution_count": 5,
   "id": "53991d2f",
   "metadata": {},
   "outputs": [
    {
     "name": "stdout",
     "output_type": "stream",
     "text": [
      "../_build/html\n",
      "['actividades', 'tutoriales', '_images', '_sources', '_sphinx_design_static', '_static']\n",
      "['.buildinfo', 'genindex.html', 'index.html', 'infotec.html', 'objects.inv', 'references.html', 'search.html', 'searchindex.js']\n",
      "../_build/html\\actividades\n",
      "[]\n",
      "['1-configuracion.html', '2-sintaxis_variables.html', '3-listas.html', '4-iteraciones.html', '5-condicionales.html', '6-diccionarios.html', '7-funciones.html', '8-funciones2.html', '9-actividadintermedia.html']\n",
      "../_build/html\\tutoriales\n",
      "[]\n",
      "['1-instalarPython.html', '10-listas.html', '11-iteraciones.html', '12-condicionales.html', '13-ifelse.html', '13-plogicas.html', '14-condicionPertenencia.html', '15-ifelse.html', '16-listaseif.html', '17-diccionarios.html', '18-iterardiccio.html', '19-funcionesIntro.html', '2-terminal.html', '20-funciones_y_TryExcept.html', '20-input.html', '21-funciones_y_TryExcept.html', '22-retornarvalores.html', '23-funcionesLlamados.html', '24-argsykwargs.html', '25-importarmodulos.html', '25-modularfunciones.html', '26-importarmodulos.html', '26-modularfunciones.html', '27-archivos.html', '27-introObjetos.html', '28-clases.html', '28-os.html', '29-csv.html', '3-instalarVSCode.html', '30-pandasCSV.html', '31-json.html', '32-regex.html', '33-regexcont.html', '34-introObjetos.html', '35-clases.html', '4-Git.html', '5-Github.html', '6-python.html', '7-variables.html', '8-operadores.html', '9-operaciones_string.html']\n",
      "../_build/html\\_images\n",
      "[]\n",
      "['condicional.png', 'función_estructura.png', 'parametros.png', 'scratch.png']\n",
      "../_build/html\\_sources\n",
      "['actividades', 'tutoriales']\n",
      "['index.md', 'infotec.ipynb', 'infotec.md', 'references.ipynb', 'references.md']\n",
      "../_build/html\\_sources\\actividades\n",
      "[]\n",
      "['1-configuracion.md', '2-sintaxis_variables.md', '3-listas.md', '4-iteraciones.md', '5-condicionales.md', '6-diccionarios.md', '7-funciones.md', '8-funciones2.md', '9-actividadintermedia.ipynb', '9-actividadintermedia.md']\n",
      "../_build/html\\_sources\\tutoriales\n",
      "[]\n",
      "['1-instalarPython.md', '10-listas.ipynb', '10-listas.md', '11-iteraciones.ipynb', '11-iteraciones.md', '12-condicionales.ipynb', '12-condicionales.md', '13-ifelse.ipynb', '13-ifelse.md', '13-plogicas.ipynb', '13-plogicas.md', '14-condicionPertenencia.ipynb', '14-condicionPertenencia.md', '15-ifelse.ipynb', '15-ifelse.md', '16-listaseif.ipynb', '16-listaseif.md', '17-diccionarios.ipynb', '17-diccionarios.md', '18-iterardiccio.ipynb', '18-iterardiccio.md', '19-funcionesIntro.ipynb', '19-funcionesIntro.md', '2-terminal.ipynb', '2-terminal.md', '20-funciones_y_TryExcept.ipynb', '20-funciones_y_TryExcept.md', '20-input.ipynb', '20-input.md', '21-funciones_y_TryExcept.ipynb', '21-funciones_y_TryExcept.md', '22-retornarvalores.ipynb', '22-retornarvalores.md', '23-funcionesLlamados.ipynb', '23-funcionesLlamados.md', '24-argsykwargs.ipynb', '24-argsykwargs.md', '25-importarmodulos.ipynb', '25-importarmodulos.md', '25-modularfunciones.ipynb', '25-modularfunciones.md', '26-importarmodulos.ipynb', '26-importarmodulos.md', '26-modularfunciones.ipynb', '26-modularfunciones.md', '27-archivos.ipynb', '27-archivos.md', '27-introObjetos.ipynb', '27-introObjetos.md', '28-clases.ipynb', '28-clases.md', '28-os.ipynb', '28-os.md', '29-csv.ipynb', '29-csv.md', '3-instalarVSCode.md', '30-pandasCSV.ipynb', '30-pandasCSV.md', '31-json.ipynb', '31-json.md', '32-regex.ipynb', '32-regex.md', '33-regexcont.ipynb', '33-regexcont.md', '34-introObjetos.ipynb', '34-introObjetos.md', '35-clases.ipynb', '35-clases.md', '4-Git.md', '5-Github.md', '6-python.ipynb', '6-python.md', '7-variables.ipynb', '7-variables.md', '8-operadores.ipynb', '8-operadores.md', '9-operaciones_string.ipynb', '9-operaciones_string.md']\n",
      "../_build/html\\_sphinx_design_static\n",
      "[]\n",
      "['design-style.b7bb847fb20b106c3d81b95245e65545.min.css', 'design-tabs.js']\n",
      "../_build/html\\_static\n",
      "['images', 'imgs', 'locales', 'scripts', 'styles', 'vendor']\n",
      "['basic.css', 'check-solid.svg', 'clipboard.min.js', 'copy-button.svg', 'copybutton.css', 'copybutton.js', 'copybutton_funcs.js', 'design-style.b7bb847fb20b106c3d81b95245e65545.min.css', 'design-tabs.js', 'doctools.js', 'documentation_options.js', 'file.png', 'jquery-3.5.1.js', 'jquery.js', 'language_data.js', 'logo.png', 'minus.png', 'mystnb.css', 'plus.png', 'pygments.css', 'sbt-webpack-macros.html', 'searchtools.js', 'sphinx-thebe.css', 'sphinx-thebe.js', 'togglebutton.css', 'togglebutton.js', 'underscore-1.13.1.js', 'underscore.js', 'webpack-macros.html']\n",
      "../_build/html\\_static\\images\n",
      "[]\n",
      "['logo_binder.svg', 'logo_colab.png', 'logo_deepnote.svg', 'logo_jupyterhub.svg']\n",
      "../_build/html\\_static\\imgs\n",
      "[]\n",
      "['condicional.png', 'función_estructura.png', 'logo.png', 'parametros.png', 'scratch.png']\n",
      "../_build/html\\_static\\locales\n",
      "['ar', 'bg', 'bn', 'ca', 'cs', 'da', 'de', 'el', 'eo', 'es', 'et', 'fi', 'fr', 'hr', 'id', 'it', 'iw', 'ja', 'ko', 'lt', 'lv', 'ml', 'mr', 'ms', 'nl', 'no', 'pl', 'pt', 'ro', 'ru', 'sk', 'sl', 'sr', 'sv', 'ta', 'te', 'tg', 'th', 'tl', 'tr', 'uk', 'ur', 'vi', 'zh_CN', 'zh_TW']\n",
      "[]\n",
      "../_build/html\\_static\\locales\\ar\n",
      "['LC_MESSAGES']\n",
      "[]\n",
      "../_build/html\\_static\\locales\\ar\\LC_MESSAGES\n",
      "[]\n",
      "['booktheme.po']\n",
      "../_build/html\\_static\\locales\\bg\n",
      "['LC_MESSAGES']\n",
      "[]\n",
      "../_build/html\\_static\\locales\\bg\\LC_MESSAGES\n",
      "[]\n",
      "['booktheme.po']\n",
      "../_build/html\\_static\\locales\\bn\n",
      "['LC_MESSAGES']\n",
      "[]\n",
      "../_build/html\\_static\\locales\\bn\\LC_MESSAGES\n",
      "[]\n",
      "['booktheme.po']\n",
      "../_build/html\\_static\\locales\\ca\n",
      "['LC_MESSAGES']\n",
      "[]\n",
      "../_build/html\\_static\\locales\\ca\\LC_MESSAGES\n",
      "[]\n",
      "['booktheme.po']\n",
      "../_build/html\\_static\\locales\\cs\n",
      "['LC_MESSAGES']\n",
      "[]\n",
      "../_build/html\\_static\\locales\\cs\\LC_MESSAGES\n",
      "[]\n",
      "['booktheme.po']\n",
      "../_build/html\\_static\\locales\\da\n",
      "['LC_MESSAGES']\n",
      "[]\n",
      "../_build/html\\_static\\locales\\da\\LC_MESSAGES\n",
      "[]\n",
      "['booktheme.po']\n",
      "../_build/html\\_static\\locales\\de\n",
      "['LC_MESSAGES']\n",
      "[]\n",
      "../_build/html\\_static\\locales\\de\\LC_MESSAGES\n",
      "[]\n",
      "['booktheme.po']\n",
      "../_build/html\\_static\\locales\\el\n",
      "['LC_MESSAGES']\n",
      "[]\n",
      "../_build/html\\_static\\locales\\el\\LC_MESSAGES\n",
      "[]\n",
      "['booktheme.po']\n",
      "../_build/html\\_static\\locales\\eo\n",
      "['LC_MESSAGES']\n",
      "[]\n",
      "../_build/html\\_static\\locales\\eo\\LC_MESSAGES\n",
      "[]\n",
      "['booktheme.po']\n",
      "../_build/html\\_static\\locales\\es\n",
      "['LC_MESSAGES']\n",
      "[]\n",
      "../_build/html\\_static\\locales\\es\\LC_MESSAGES\n",
      "[]\n",
      "['booktheme.po']\n",
      "../_build/html\\_static\\locales\\et\n",
      "['LC_MESSAGES']\n",
      "[]\n",
      "../_build/html\\_static\\locales\\et\\LC_MESSAGES\n",
      "[]\n",
      "['booktheme.po']\n",
      "../_build/html\\_static\\locales\\fi\n",
      "['LC_MESSAGES']\n",
      "[]\n",
      "../_build/html\\_static\\locales\\fi\\LC_MESSAGES\n",
      "[]\n",
      "['booktheme.po']\n",
      "../_build/html\\_static\\locales\\fr\n",
      "['LC_MESSAGES']\n",
      "[]\n",
      "../_build/html\\_static\\locales\\fr\\LC_MESSAGES\n",
      "[]\n",
      "['booktheme.po']\n",
      "../_build/html\\_static\\locales\\hr\n",
      "['LC_MESSAGES']\n",
      "[]\n"
     ]
    },
    {
     "name": "stdout",
     "output_type": "stream",
     "text": [
      "../_build/html\\_static\\locales\\hr\\LC_MESSAGES\n",
      "[]\n",
      "['booktheme.po']\n",
      "../_build/html\\_static\\locales\\id\n",
      "['LC_MESSAGES']\n",
      "[]\n",
      "../_build/html\\_static\\locales\\id\\LC_MESSAGES\n",
      "[]\n",
      "['booktheme.po']\n",
      "../_build/html\\_static\\locales\\it\n",
      "['LC_MESSAGES']\n",
      "[]\n",
      "../_build/html\\_static\\locales\\it\\LC_MESSAGES\n",
      "[]\n",
      "['booktheme.po']\n",
      "../_build/html\\_static\\locales\\iw\n",
      "['LC_MESSAGES']\n",
      "[]\n",
      "../_build/html\\_static\\locales\\iw\\LC_MESSAGES\n",
      "[]\n",
      "['booktheme.po']\n",
      "../_build/html\\_static\\locales\\ja\n",
      "['LC_MESSAGES']\n",
      "[]\n",
      "../_build/html\\_static\\locales\\ja\\LC_MESSAGES\n",
      "[]\n",
      "['booktheme.po']\n",
      "../_build/html\\_static\\locales\\ko\n",
      "['LC_MESSAGES']\n",
      "[]\n",
      "../_build/html\\_static\\locales\\ko\\LC_MESSAGES\n",
      "[]\n",
      "['booktheme.po']\n",
      "../_build/html\\_static\\locales\\lt\n",
      "['LC_MESSAGES']\n",
      "[]\n",
      "../_build/html\\_static\\locales\\lt\\LC_MESSAGES\n",
      "[]\n",
      "['booktheme.po']\n",
      "../_build/html\\_static\\locales\\lv\n",
      "['LC_MESSAGES']\n",
      "[]\n",
      "../_build/html\\_static\\locales\\lv\\LC_MESSAGES\n",
      "[]\n",
      "['booktheme.po']\n",
      "../_build/html\\_static\\locales\\ml\n",
      "['LC_MESSAGES']\n",
      "[]\n",
      "../_build/html\\_static\\locales\\ml\\LC_MESSAGES\n",
      "[]\n",
      "['booktheme.po']\n",
      "../_build/html\\_static\\locales\\mr\n",
      "['LC_MESSAGES']\n",
      "[]\n",
      "../_build/html\\_static\\locales\\mr\\LC_MESSAGES\n",
      "[]\n",
      "['booktheme.po']\n",
      "../_build/html\\_static\\locales\\ms\n",
      "['LC_MESSAGES']\n",
      "[]\n",
      "../_build/html\\_static\\locales\\ms\\LC_MESSAGES\n",
      "[]\n",
      "['booktheme.po']\n",
      "../_build/html\\_static\\locales\\nl\n",
      "['LC_MESSAGES']\n",
      "[]\n",
      "../_build/html\\_static\\locales\\nl\\LC_MESSAGES\n",
      "[]\n",
      "['booktheme.po']\n",
      "../_build/html\\_static\\locales\\no\n",
      "['LC_MESSAGES']\n",
      "[]\n",
      "../_build/html\\_static\\locales\\no\\LC_MESSAGES\n",
      "[]\n",
      "['booktheme.po']\n",
      "../_build/html\\_static\\locales\\pl\n",
      "['LC_MESSAGES']\n",
      "[]\n",
      "../_build/html\\_static\\locales\\pl\\LC_MESSAGES\n",
      "[]\n",
      "['booktheme.po']\n",
      "../_build/html\\_static\\locales\\pt\n",
      "['LC_MESSAGES']\n",
      "[]\n",
      "../_build/html\\_static\\locales\\pt\\LC_MESSAGES\n",
      "[]\n",
      "['booktheme.po']\n",
      "../_build/html\\_static\\locales\\ro\n",
      "['LC_MESSAGES']\n",
      "[]\n",
      "../_build/html\\_static\\locales\\ro\\LC_MESSAGES\n",
      "[]\n",
      "['booktheme.po']\n",
      "../_build/html\\_static\\locales\\ru\n",
      "['LC_MESSAGES']\n",
      "[]\n",
      "../_build/html\\_static\\locales\\ru\\LC_MESSAGES\n",
      "[]\n",
      "['booktheme.po']\n",
      "../_build/html\\_static\\locales\\sk\n",
      "['LC_MESSAGES']\n",
      "[]\n",
      "../_build/html\\_static\\locales\\sk\\LC_MESSAGES\n",
      "[]\n",
      "['booktheme.po']\n",
      "../_build/html\\_static\\locales\\sl\n",
      "['LC_MESSAGES']\n",
      "[]\n",
      "../_build/html\\_static\\locales\\sl\\LC_MESSAGES\n",
      "[]\n",
      "['booktheme.po']\n",
      "../_build/html\\_static\\locales\\sr\n",
      "['LC_MESSAGES']\n",
      "[]\n",
      "../_build/html\\_static\\locales\\sr\\LC_MESSAGES\n",
      "[]\n",
      "['booktheme.po']\n",
      "../_build/html\\_static\\locales\\sv\n",
      "['LC_MESSAGES']\n",
      "[]\n",
      "../_build/html\\_static\\locales\\sv\\LC_MESSAGES\n",
      "[]\n",
      "['booktheme.po']\n",
      "../_build/html\\_static\\locales\\ta\n",
      "['LC_MESSAGES']\n",
      "[]\n",
      "../_build/html\\_static\\locales\\ta\\LC_MESSAGES\n",
      "[]\n",
      "['booktheme.po']\n",
      "../_build/html\\_static\\locales\\te\n",
      "['LC_MESSAGES']\n",
      "[]\n",
      "../_build/html\\_static\\locales\\te\\LC_MESSAGES\n",
      "[]\n",
      "['booktheme.po']\n",
      "../_build/html\\_static\\locales\\tg\n",
      "['LC_MESSAGES']\n",
      "[]\n",
      "../_build/html\\_static\\locales\\tg\\LC_MESSAGES\n",
      "[]\n",
      "['booktheme.po']\n",
      "../_build/html\\_static\\locales\\th\n",
      "['LC_MESSAGES']\n",
      "[]\n",
      "../_build/html\\_static\\locales\\th\\LC_MESSAGES\n",
      "[]\n",
      "['booktheme.po']\n",
      "../_build/html\\_static\\locales\\tl\n",
      "['LC_MESSAGES']\n",
      "[]\n",
      "../_build/html\\_static\\locales\\tl\\LC_MESSAGES\n",
      "[]\n",
      "['booktheme.po']\n",
      "../_build/html\\_static\\locales\\tr\n",
      "['LC_MESSAGES']\n",
      "[]\n",
      "../_build/html\\_static\\locales\\tr\\LC_MESSAGES\n",
      "[]\n",
      "['booktheme.po']\n",
      "../_build/html\\_static\\locales\\uk\n",
      "['LC_MESSAGES']\n",
      "[]\n",
      "../_build/html\\_static\\locales\\uk\\LC_MESSAGES\n",
      "[]\n",
      "['booktheme.po']\n",
      "../_build/html\\_static\\locales\\ur\n",
      "['LC_MESSAGES']\n",
      "[]\n",
      "../_build/html\\_static\\locales\\ur\\LC_MESSAGES\n",
      "[]\n",
      "['booktheme.po']\n",
      "../_build/html\\_static\\locales\\vi\n",
      "['LC_MESSAGES']\n",
      "[]\n",
      "../_build/html\\_static\\locales\\vi\\LC_MESSAGES\n",
      "[]\n",
      "['booktheme.po']\n",
      "../_build/html\\_static\\locales\\zh_CN\n",
      "['LC_MESSAGES']\n",
      "[]\n",
      "../_build/html\\_static\\locales\\zh_CN\\LC_MESSAGES\n",
      "[]\n",
      "['booktheme.po']\n",
      "../_build/html\\_static\\locales\\zh_TW\n",
      "['LC_MESSAGES']\n",
      "[]\n",
      "../_build/html\\_static\\locales\\zh_TW\\LC_MESSAGES\n",
      "[]\n",
      "['booktheme.po']\n",
      "../_build/html\\_static\\scripts\n",
      "[]\n",
      "['pydata-sphinx-theme.js', 'sphinx-book-theme.js', 'sphinx-book-theme.js.map']\n",
      "../_build/html\\_static\\styles\n",
      "[]\n",
      "['pydata-sphinx-theme.css', 'sphinx-book-theme.css', 'theme.css']\n",
      "../_build/html\\_static\\vendor\n",
      "['fontawesome']\n",
      "[]\n",
      "../_build/html\\_static\\vendor\\fontawesome\n",
      "['5.13.0']\n",
      "[]\n"
     ]
    },
    {
     "name": "stdout",
     "output_type": "stream",
     "text": [
      "../_build/html\\_static\\vendor\\fontawesome\\5.13.0"
     ]
    },
    {
     "name": "stdout",
     "output_type": "stream",
     "text": [
      "\n",
      "['css', 'webfonts']\n",
      "['LICENSE.txt']\n",
      "../_build/html\\_static\\vendor\\fontawesome\\5.13.0\\css\n",
      "[]\n",
      "['all.min.css']\n",
      "../_build/html\\_static\\vendor\\fontawesome\\5.13.0\\webfonts\n",
      "[]\n",
      "['fa-brands-400.eot', 'fa-brands-400.svg', 'fa-brands-400.ttf', 'fa-brands-400.woff', 'fa-brands-400.woff2', 'fa-regular-400.eot', 'fa-regular-400.svg', 'fa-regular-400.ttf', 'fa-regular-400.woff', 'fa-regular-400.woff2', 'fa-solid-900.eot', 'fa-solid-900.svg', 'fa-solid-900.ttf', 'fa-solid-900.woff', 'fa-solid-900.woff2']\n"
     ]
    }
   ],
   "source": [
    "for root, dirs, files in os.walk(\"../_build/html\"):\n",
    "    print(root)\n",
    "    print(dirs)\n",
    "    print(files)"
   ]
  },
  {
   "cell_type": "markdown",
   "id": "d55a25c9",
   "metadata": {},
   "source": [
    "## Crear y eliminar directorios\n",
    "\n",
    "Para crear un directorio, podemos usar el método `mkdir()`:"
   ]
  },
  {
   "cell_type": "code",
   "execution_count": 6,
   "id": "5f7afa8b",
   "metadata": {},
   "outputs": [
    {
     "name": "stdout",
     "output_type": "stream",
     "text": [
      "['1-instalarPython.md', '10-listas.md', '11-iteraciones.md', '12-condicionales.md', '13-plogicas.md', '14-condicionPertenencia.md', '15-ifelse.md', '16-listaseif.md', '17-diccionarios.md', '18-iterardiccio.md', '19-funcionesIntro.md', '2-terminal.md', '20-input.md', '21-funciones_y_TryExcept.md', '22-retornarvalores.md', '23-funcionesLlamados.md', '24-argsykwargs.md', '25-importarmodulos.md', '26-modularfunciones.md', '27-archivos.md', '28-os.md', '29-csv.md', '3-instalarVSCode.md', '30-pandasCSV.md', '31-json.md', '32-regex.md', '33-regexcont.md', '34-introObjetos.md', '35-clases.md', '4-Git.md', '5-Github.md', '6-python.md', '7-variables.md', '8-operadores.md', '9-operaciones_string.md', 'biblio.py', 'biblioteca.py', 'busqueda.py', 'diccionario.csv', 'inventario.csv', 'nuevo', 'tmp2.py', '__pycache__']\n"
     ]
    }
   ],
   "source": [
    "os.mkdir(\"nuevo\")\n",
    "print(os.listdir())"
   ]
  },
  {
   "cell_type": "markdown",
   "id": "cbd585c8",
   "metadata": {},
   "source": [
    "Para eliminar un directorio, podemos usar el método `rmdir()`:"
   ]
  },
  {
   "cell_type": "code",
   "execution_count": 7,
   "id": "8814a57f",
   "metadata": {},
   "outputs": [
    {
     "name": "stdout",
     "output_type": "stream",
     "text": [
      "['1-instalarPython.md', '10-listas.md', '11-iteraciones.md', '12-condicionales.md', '13-plogicas.md', '14-condicionPertenencia.md', '15-ifelse.md', '16-listaseif.md', '17-diccionarios.md', '18-iterardiccio.md', '19-funcionesIntro.md', '2-terminal.md', '20-input.md', '21-funciones_y_TryExcept.md', '22-retornarvalores.md', '23-funcionesLlamados.md', '24-argsykwargs.md', '25-importarmodulos.md', '26-modularfunciones.md', '27-archivos.md', '28-os.md', '29-csv.md', '3-instalarVSCode.md', '30-pandasCSV.md', '31-json.md', '32-regex.md', '33-regexcont.md', '34-introObjetos.md', '35-clases.md', '4-Git.md', '5-Github.md', '6-python.md', '7-variables.md', '8-operadores.md', '9-operaciones_string.md', 'biblio.py', 'biblioteca.py', 'busqueda.py', 'diccionario.csv', 'inventario.csv', 'tmp2.py', '__pycache__']\n"
     ]
    }
   ],
   "source": [
    "os.rmdir(\"nuevo\")\n",
    "print(os.listdir())"
   ]
  },
  {
   "cell_type": "markdown",
   "id": "9386f305",
   "metadata": {},
   "source": [
    "También podemos utilizar el método `makedirs()`, el cual es sumamente útil cuando queremos crear directorios anidados:"
   ]
  },
  {
   "cell_type": "code",
   "execution_count": 8,
   "id": "693ebf1c",
   "metadata": {},
   "outputs": [
    {
     "name": "stdout",
     "output_type": "stream",
     "text": [
      "['1-instalarPython.md', '10-listas.md', '11-iteraciones.md', '12-condicionales.md', '13-plogicas.md', '14-condicionPertenencia.md', '15-ifelse.md', '16-listaseif.md', '17-diccionarios.md', '18-iterardiccio.md', '19-funcionesIntro.md', '2-terminal.md', '20-input.md', '21-funciones_y_TryExcept.md', '22-retornarvalores.md', '23-funcionesLlamados.md', '24-argsykwargs.md', '25-importarmodulos.md', '26-modularfunciones.md', '27-archivos.md', '28-os.md', '29-csv.md', '3-instalarVSCode.md', '30-pandasCSV.md', '31-json.md', '32-regex.md', '33-regexcont.md', '34-introObjetos.md', '35-clases.md', '4-Git.md', '5-Github.md', '6-python.md', '7-variables.md', '8-operadores.md', '9-operaciones_string.md', 'biblio.py', 'biblioteca.py', 'busqueda.py', 'diccionario.csv', 'inventario.csv', 'nuevo', 'tmp2.py', '__pycache__']\n"
     ]
    }
   ],
   "source": [
    "os.makedirs(\"nuevo/nuevo2\", exist_ok=True)\n",
    "print(os.listdir())"
   ]
  },
  {
   "cell_type": "markdown",
   "id": "bd1c891f",
   "metadata": {},
   "source": [
    "El parámetro `exist_ok` indica si se debe lanzar una excepción si el directorio ya existe. Si `exist_ok` es `True`, no se lanzará una excepción. Esto evita que debamos utilizar un bloque `try-except` para manejar la excepción.\n",
    "\n",
    "Para eliminar directorios anidados, podemos usar el método `removedirs()`:"
   ]
  },
  {
   "cell_type": "code",
   "execution_count": 9,
   "id": "5923659d",
   "metadata": {},
   "outputs": [
    {
     "name": "stdout",
     "output_type": "stream",
     "text": [
      "['1-instalarPython.md', '10-listas.md', '11-iteraciones.md', '12-condicionales.md', '13-plogicas.md', '14-condicionPertenencia.md', '15-ifelse.md', '16-listaseif.md', '17-diccionarios.md', '18-iterardiccio.md', '19-funcionesIntro.md', '2-terminal.md', '20-input.md', '21-funciones_y_TryExcept.md', '22-retornarvalores.md', '23-funcionesLlamados.md', '24-argsykwargs.md', '25-importarmodulos.md', '26-modularfunciones.md', '27-archivos.md', '28-os.md', '29-csv.md', '3-instalarVSCode.md', '30-pandasCSV.md', '31-json.md', '32-regex.md', '33-regexcont.md', '34-introObjetos.md', '35-clases.md', '4-Git.md', '5-Github.md', '6-python.md', '7-variables.md', '8-operadores.md', '9-operaciones_string.md', 'biblio.py', 'biblioteca.py', 'busqueda.py', 'diccionario.csv', 'inventario.csv', 'tmp2.py', '__pycache__']\n"
     ]
    }
   ],
   "source": [
    "os.removedirs(\"nuevo/nuevo2\")\n",
    "print(os.listdir())"
   ]
  },
  {
   "cell_type": "markdown",
   "id": "79bfd8ec",
   "metadata": {},
   "source": [
    "## Rutear archivos y directorios\n",
    "\n",
    "Para rutear archivos y directorios, podemos usar el método `path.join()`:"
   ]
  },
  {
   "cell_type": "code",
   "execution_count": 10,
   "id": "4ebfe5f9",
   "metadata": {},
   "outputs": [
    {
     "name": "stdout",
     "output_type": "stream",
     "text": [
      "nuevo\\nuevo2\\nuevo3\n"
     ]
    }
   ],
   "source": [
    "print(os.path.join(\"nuevo\", \"nuevo2\", \"nuevo3\"))"
   ]
  },
  {
   "cell_type": "markdown",
   "id": "3a03567a",
   "metadata": {},
   "source": [
    "Es una buena práctica utilizar este método para rutear archivos y directorios, ya que este método es independiente del sistema operativo. Por ejemplo, si queremos rutear el archivo `ejemplo.txt` en el directorio `nuevo`, podemos hacer lo siguiente:"
   ]
  },
  {
   "cell_type": "code",
   "execution_count": 11,
   "id": "b0c24145",
   "metadata": {},
   "outputs": [
    {
     "name": "stdout",
     "output_type": "stream",
     "text": [
      "nuevo\\ejemplo.txt\n"
     ]
    }
   ],
   "source": [
    "print(os.path.join(\"nuevo\", \"ejemplo.txt\"))"
   ]
  },
  {
   "cell_type": "markdown",
   "id": "90558f14",
   "metadata": {},
   "source": [
    "En general se desaconseja utilizar el método `format` o la concatenación para crear la ruta de un archivo o directorio. En general un sistema operativo puede deducir si una ruta en Linux o MacOS está escrita con diagonales o con barras invertidas, pero esto no es así en Windows. `os` hace que sea más seguro indicar la ruta y evitar las particularidades de un sistema operativo.\n",
    "\n",
    "## Obtener el nombre de un archivo\n",
    "\n",
    "Para obtener el nombre de un archivo, podemos usar el método `path.basename()`:"
   ]
  },
  {
   "cell_type": "code",
   "execution_count": 12,
   "id": "5b59f9a6",
   "metadata": {},
   "outputs": [
    {
     "name": "stdout",
     "output_type": "stream",
     "text": [
      "ejemplo.txt\n"
     ]
    }
   ],
   "source": [
    "print(os.path.basename(\"../archivos/txt/ejemplo.txt\"))"
   ]
  },
  {
   "cell_type": "markdown",
   "id": "0ff6b3bb",
   "metadata": {},
   "source": [
    "## Obtener el directorio de un archivo\n",
    "\n",
    "Para obtener el directorio de un archivo, podemos usar el método `path.dirname()`:"
   ]
  },
  {
   "cell_type": "code",
   "execution_count": 13,
   "id": "471d227f",
   "metadata": {},
   "outputs": [
    {
     "name": "stdout",
     "output_type": "stream",
     "text": [
      "../archivos/txt\n"
     ]
    }
   ],
   "source": [
    "print(os.path.dirname(\"../archivos/txt/ejemplo.txt\"))"
   ]
  },
  {
   "cell_type": "markdown",
   "id": "e5791cdf",
   "metadata": {},
   "source": [
    "## Obtener el nombre y el directorio de un archivo\n",
    "\n",
    "Para obtener el nombre y el directorio de un archivo, podemos usar el método `path.split()`:"
   ]
  },
  {
   "cell_type": "code",
   "execution_count": 14,
   "id": "897a3035",
   "metadata": {},
   "outputs": [
    {
     "name": "stdout",
     "output_type": "stream",
     "text": [
      "('../archivos/txt', 'ejemplo.txt')\n"
     ]
    }
   ],
   "source": [
    "print(os.path.split(\"../archivos/txt/ejemplo.txt\"))"
   ]
  },
  {
   "cell_type": "markdown",
   "id": "6c26f37e",
   "metadata": {},
   "source": [
    "## Obtener la extensión de un archivo\n",
    "\n",
    "Para obtener la extensión de un archivo, podemos usar el método `path.splitext()`:"
   ]
  },
  {
   "cell_type": "code",
   "execution_count": 15,
   "id": "a80c9a5d",
   "metadata": {},
   "outputs": [
    {
     "name": "stdout",
     "output_type": "stream",
     "text": [
      "('../archivos/txt/ejemplo', '.txt')\n"
     ]
    }
   ],
   "source": [
    "print(os.path.splitext(\"../archivos/txt/ejemplo.txt\"))"
   ]
  },
  {
   "cell_type": "markdown",
   "id": "7b0cab95",
   "metadata": {},
   "source": [
    "## Obtener el tamaño de un archivo\n",
    "\n",
    "Para obtener el tamaño de un archivo, podemos usar el método `path.getsize()`:"
   ]
  },
  {
   "cell_type": "code",
   "execution_count": 16,
   "id": "3610a4a8",
   "metadata": {},
   "outputs": [
    {
     "name": "stdout",
     "output_type": "stream",
     "text": [
      "235\n"
     ]
    }
   ],
   "source": [
    "print(os.path.getsize(\"../archivos/txt/ejemplo.txt\"))"
   ]
  },
  {
   "cell_type": "markdown",
   "id": "dbea3797",
   "metadata": {},
   "source": [
    "## Obtener la fecha de creación de un archivo\n",
    "\n",
    "Para obtener la fecha de creación de un archivo, podemos usar el método `path.getctime()`:"
   ]
  },
  {
   "cell_type": "code",
   "execution_count": 17,
   "id": "dd0fcd77",
   "metadata": {},
   "outputs": [
    {
     "name": "stdout",
     "output_type": "stream",
     "text": [
      "1681865490.048676\n"
     ]
    }
   ],
   "source": [
    "print(os.path.getctime(\"../archivos/txt/ejemplo.txt\"))"
   ]
  },
  {
   "cell_type": "markdown",
   "id": "d826f219",
   "metadata": {},
   "source": [
    "## Obtener la fecha de modificación de un archivo\n",
    "\n",
    "Para obtener la fecha de modificación de un archivo, podemos usar el método `path.getmtime()`:"
   ]
  },
  {
   "cell_type": "code",
   "execution_count": 18,
   "id": "dee0fc63",
   "metadata": {},
   "outputs": [
    {
     "name": "stdout",
     "output_type": "stream",
     "text": [
      "1681852887.547928\n"
     ]
    }
   ],
   "source": [
    "print(os.path.getmtime(\"../archivos/txt/ejemplo.txt\"))"
   ]
  },
  {
   "cell_type": "markdown",
   "id": "6b200365",
   "metadata": {},
   "source": [
    "## Obtener la fecha de acceso de un archivo\n",
    "\n",
    "Para obtener la fecha de acceso de un archivo, podemos usar el método `path.getatime()`:"
   ]
  },
  {
   "cell_type": "code",
   "execution_count": 19,
   "id": "f8994bc3",
   "metadata": {},
   "outputs": [
    {
     "name": "stdout",
     "output_type": "stream",
     "text": [
      "1684212198.1394603\n"
     ]
    }
   ],
   "source": [
    "print(os.path.getatime(\"../archivos/txt/ejemplo.txt\"))"
   ]
  },
  {
   "cell_type": "markdown",
   "id": "7f915a91",
   "metadata": {},
   "source": [
    "## Conclusión\n",
    "\n",
    "En general, la librería `os` facilita significativamente el trabajo con archivos y directorios independientemente de la plataforma. Esto es importante, ya que debemos programar teniendo en cuenta a los usuarios posibles de nuestro programa, quienes tendrán distintos sistemas operativos y distintas configuraciones. `os` no resuelve todos los posibles problemas que surjan en la ejecución de nuestro programa, pero sí nos permite evitar algunos de los problemas más comunes.\n",
    "\n",
    "## Notas\n",
    "\n",
    "[^1]: Para ver todos los métodos de la librería `os`, podemos ejecutar `dir(os)`. También puede ser útil consultar la documentación oficial de la librería: https://docs.python.org/3/library/os.html."
   ]
  }
 ],
 "metadata": {
  "jupytext": {
   "cell_metadata_filter": "-all",
   "formats": "md:myst",
   "text_representation": {
    "extension": ".md",
    "format_name": "myst",
    "format_version": 0.13,
    "jupytext_version": "1.14.4"
   }
  },
  "kernelspec": {
   "display_name": "Python 3 (ipykernel)",
   "language": "python",
   "name": "python3"
  },
  "language_info": {
   "codemirror_mode": {
    "name": "ipython",
    "version": 3
   },
   "file_extension": ".py",
   "mimetype": "text/x-python",
   "name": "python",
   "nbconvert_exporter": "python",
   "pygments_lexer": "ipython3",
   "version": "3.11.1"
  },
  "source_map": [
   14,
   28,
   32,
   36,
   41,
   45,
   51,
   53,
   57,
   62,
   68,
   71,
   75,
   78,
   82,
   85,
   91,
   94,
   100,
   102,
   106,
   108,
   116,
   118,
   124,
   126,
   132,
   134,
   140,
   142,
   148,
   150,
   156,
   158,
   164,
   166,
   172,
   174
  ]
 },
 "nbformat": 4,
 "nbformat_minor": 5
}