{
 "cells": [
  {
   "cell_type": "markdown",
   "id": "c2b77005",
   "metadata": {},
   "source": [
    "# Funciones de la librería `re`\n",
    "\n",
    "En la sección anterior vimos el funcionamiento de la función `findall` de la librería `re` y muy someramente aplicamos la función `match`. La librería `re` tiene otras funciones que son de mucha utilidad para trabajar con cadenas de texto de manera eficiente. En esta sección veremos las funciones `search`, `match`, `group`, `split`, `sub` y `compile`.\n",
    "\n",
    "## Función `search`\n",
    "\n",
    "La función `search` es muy similar a la función `findall` que vimos en la sección anterior. La función `search` busca en una cadena de texto la primera ocurrencia de una expresión regular y devuelve un objeto de tipo `Match` que contiene la posición de la cadena de texto donde se encontró la primera ocurrencia de la expresión regular. Si no se encuentra ninguna ocurrencia, la función devuelve `None`.\n",
    "\n",
    "Tomemos esta vez todo el texto del archivo `quijote.txt` y busquemos la primera ocurrencia de la palabra `caballero`:"
   ]
  },
  {
   "cell_type": "code",
   "execution_count": 1,
   "id": "0eb68d7e",
   "metadata": {},
   "outputs": [
    {
     "name": "stdout",
     "output_type": "stream",
     "text": [
      "<re.Match object; span=(2529, 2538), match='caballero'>\n"
     ]
    }
   ],
   "source": [
    "import re\n",
    "import os\n",
    "\n",
    "with open(\"../archivos/txt/el_quijote.txt\", \"r\", encoding=\"utf-8\") as f:\n",
    "    texto = f.read()\n",
    "\n",
    "busqueda = re.search(r\"caballero\", texto)\n",
    "print(busqueda)"
   ]
  },
  {
   "cell_type": "markdown",
   "id": "62ae76ed",
   "metadata": {},
   "source": [
    "Como verás, no se retorna un listado de coincidencias, sino un objeto de tipo `Match`. Para acceder a la posición donde se encontró la primera ocurrencia de la expresión regular, se utiliza el método `start` del objeto `Match`:"
   ]
  },
  {
   "cell_type": "code",
   "execution_count": 2,
   "id": "69acd7bc",
   "metadata": {},
   "outputs": [
    {
     "data": {
      "text/plain": [
       "2529"
      ]
     },
     "execution_count": 2,
     "metadata": {},
     "output_type": "execute_result"
    }
   ],
   "source": [
    "busqueda.start()"
   ]
  },
  {
   "cell_type": "markdown",
   "id": "bb08b70d",
   "metadata": {},
   "source": [
    "Ahora, el resultado, como notarás, es un número entero que indica la posición donde se encontró la primera ocurrencia de la expresión regular. Esto puede ser útil para extraer una porción de texto de una cadena de texto. Por ejemplo, si queremos extraer los 50 caracteres previos y posteriores a la primera ocurrencia de la palabra `caballero`, podemos hacer lo siguiente:"
   ]
  },
  {
   "cell_type": "code",
   "execution_count": 3,
   "id": "952639ef",
   "metadata": {},
   "outputs": [
    {
     "data": {
      "text/plain": [
       "'. Con estas y semejantes razones perdía el pobre caballero el juicio, y desvelábase por entenderla'"
      ]
     },
     "execution_count": 3,
     "metadata": {},
     "output_type": "execute_result"
    }
   ],
   "source": [
    "texto[busqueda.start()-50:busqueda.start()+50]"
   ]
  },
  {
   "cell_type": "markdown",
   "id": "201637fe",
   "metadata": {},
   "source": [
    "Existen otras funciones para el objeto `Match` que pueden ser de utilidad. Por ejemplo, el método `end` devuelve la posición donde termina la primera ocurrencia de la expresión regular:"
   ]
  },
  {
   "cell_type": "code",
   "execution_count": 4,
   "id": "5e157c88",
   "metadata": {},
   "outputs": [
    {
     "data": {
      "text/plain": [
       "2538"
      ]
     },
     "execution_count": 4,
     "metadata": {},
     "output_type": "execute_result"
    }
   ],
   "source": [
    "busqueda.end()"
   ]
  },
  {
   "cell_type": "markdown",
   "id": "f0db5604",
   "metadata": {},
   "source": [
    "```{admonition} Observación\n",
    ":class: tip\n",
    "En todos los casos, el objeto `Match` retorna la posición de la primera ocurrencia de la expresión regular. Si la expresión regular se repite en la cadena de texto, el objeto `Match` no retorna las posiciones de las demás ocurrencias, por lo que `end()` se refiere a la posición final (2538), pero no a la última coincidencia en el texto.\n",
    "```\n",
    "\n",
    "Otra función es `span`, que retorna una tupla con las posiciones inicial y final de la primera ocurrencia de la expresión regular:"
   ]
  },
  {
   "cell_type": "code",
   "execution_count": 5,
   "id": "6d3f5b4c",
   "metadata": {},
   "outputs": [
    {
     "data": {
      "text/plain": [
       "(2529, 2538)"
      ]
     },
     "execution_count": 5,
     "metadata": {},
     "output_type": "execute_result"
    }
   ],
   "source": [
    "busqueda.span()"
   ]
  },
  {
   "cell_type": "markdown",
   "id": "a82e9a0b",
   "metadata": {},
   "source": [
    "Finalmente, el método `group` retorna la cadena de texto que coincide con la expresión regular:"
   ]
  },
  {
   "cell_type": "code",
   "execution_count": 6,
   "id": "58425dc6",
   "metadata": {},
   "outputs": [
    {
     "data": {
      "text/plain": [
       "'caballero'"
      ]
     },
     "execution_count": 6,
     "metadata": {},
     "output_type": "execute_result"
    }
   ],
   "source": [
    "busqueda.group()"
   ]
  },
  {
   "cell_type": "markdown",
   "id": "750649a8",
   "metadata": {},
   "source": [
    "El objeto `Match` también tiene un atributo `string` que retorna la cadena de texto donde se realizó la búsqueda:"
   ]
  },
  {
   "cell_type": "code",
   "execution_count": 7,
   "id": "65c66050",
   "metadata": {},
   "outputs": [
    {
     "data": {
      "text/plain": [
       "'n'"
      ]
     },
     "execution_count": 7,
     "metadata": {},
     "output_type": "execute_result"
    }
   ],
   "source": [
    "busqueda.string[100] # Reducimos a 100 caracteres porque de otra forma el resultado es todo El Quijote"
   ]
  },
  {
   "cell_type": "markdown",
   "id": "42e27eaf",
   "metadata": {},
   "source": [
    "## Función `match`\n",
    "\n",
    "La función `match` es muy similar a la función `search`, pero con una diferencia fundamental: `match` busca la expresión regular al comienzo de la cadena de texto, mientras que `search` busca la expresión regular en cualquier parte de la cadena de texto. Veamos un ejemplo:"
   ]
  },
  {
   "cell_type": "code",
   "execution_count": 8,
   "id": "0a139b4a",
   "metadata": {},
   "outputs": [
    {
     "name": "stdout",
     "output_type": "stream",
     "text": [
      "None\n"
     ]
    }
   ],
   "source": [
    "busqueda = re.match(r\"caballero\", texto)\n",
    "print(busqueda)"
   ]
  },
  {
   "cell_type": "markdown",
   "id": "e2592878",
   "metadata": {},
   "source": [
    "Como puedes ver, la función `match` no encuentra ninguna coincidencia, por lo que retorna `None`. Esto se debe a que la palabra `caballero` no se encuentra al comienzo de la cadena de texto. Si buscamos la palabra `DON` al comienzo de la cadena de texto, la función `match` sí encuentra una coincidencia:"
   ]
  },
  {
   "cell_type": "code",
   "execution_count": 9,
   "id": "68d88018",
   "metadata": {},
   "outputs": [
    {
     "name": "stdout",
     "output_type": "stream",
     "text": [
      "<re.Match object; span=(0, 3), match='DON'>\n"
     ]
    }
   ],
   "source": [
    "busqueda = re.match(r\"DON\", texto)\n",
    "print(busqueda)"
   ]
  },
  {
   "cell_type": "markdown",
   "id": "fbe262a0",
   "metadata": {},
   "source": [
    "Aquí podemos utilizar el parámetro `flags` para evitar que la búsqueda sea sensible a mayúsculas y minúsculas:"
   ]
  },
  {
   "cell_type": "code",
   "execution_count": 10,
   "id": "08693863",
   "metadata": {},
   "outputs": [
    {
     "name": "stdout",
     "output_type": "stream",
     "text": [
      "<re.Match object; span=(0, 3), match='DON'>\n"
     ]
    }
   ],
   "source": [
    "busqueda = re.match(r\"don\", texto, flags=re.IGNORECASE)\n",
    "print(busqueda)"
   ]
  },
  {
   "cell_type": "markdown",
   "id": "4ce52d4d",
   "metadata": {},
   "source": [
    "Igualmente, hemos utilizado aquí un texto exacto como expresión regular, pero podríamos utilizar una expresión regular un poco más elaborada, por ejemplo, que el texto empiece con mayúscula sostenida y tenga un espacio después de tres letras mayúsculas:"
   ]
  },
  {
   "cell_type": "code",
   "execution_count": 11,
   "id": "4c6fb2dd",
   "metadata": {},
   "outputs": [
    {
     "name": "stdout",
     "output_type": "stream",
     "text": [
      "<re.Match object; span=(0, 4), match='DON '>\n"
     ]
    }
   ],
   "source": [
    "busqueda = re.match(r\"[A-Z]{3}\\s\", texto)\n",
    "print(busqueda)"
   ]
  },
  {
   "cell_type": "markdown",
   "id": "cd43411e",
   "metadata": {},
   "source": [
    "En general, la función `match` no tiene mucha utilidad con textos largos, pero puede ser útil para validar que una cadena de texto cumpla con ciertas condiciones. Por ejemplo, un correo electrónico debe tener un formato específico, por lo que podemos utilizar la función `match` para validar que un correo electrónico cumpla con ese formato:"
   ]
  },
  {
   "cell_type": "code",
   "execution_count": 12,
   "id": "99ad1043",
   "metadata": {},
   "outputs": [
    {
     "name": "stdout",
     "output_type": "stream",
     "text": [
      "El correo es válido\n"
     ]
    }
   ],
   "source": [
    "correo = \"jairoantoniomelo@gmail.com\"\n",
    "busqueda = re.match(r\"[a-zA-Z0-9]+@[a-zA-Z0-9]+\\.[a-zA-Z0-9]+\", correo)\n",
    "if busqueda:\n",
    "    print(\"El correo es válido\")\n",
    "else:\n",
    "    print(\"El correo no es válido\")"
   ]
  },
  {
   "cell_type": "markdown",
   "id": "eb7faba5",
   "metadata": {},
   "source": [
    "Esta es una fórmula muy sencilla, y deja de lado varias opciones como un correo con terminación `.com.co` o `.co`, pero es un buen punto de partida para validar que un correo electrónico tenga un formato válido [^nota1].\n",
    "\n",
    "Del mismo modo, puedes utilizar la función `match` para saber si un nombre propio es válido o no, independientemente si está compuesto por dos nombres y dos apellidos, un nombre y dos apellidos, o un nombre y un apellido:"
   ]
  },
  {
   "cell_type": "code",
   "execution_count": 13,
   "id": "ccc247d8",
   "metadata": {},
   "outputs": [
    {
     "name": "stdout",
     "output_type": "stream",
     "text": [
      "El nombre es válido\n"
     ]
    }
   ],
   "source": [
    "nombre = \"Jairo Antonio Melo\"\n",
    "busqueda = re.match(r\"([A-Z][a-z]+\\s[A-Z][a-z]+)|([A-Z][a-z]+)\\s([A-Z][a-z]+)\", nombre)\n",
    "if busqueda:\n",
    "    print(\"El nombre es válido\")\n",
    "else:\n",
    "    print(\"El nombre no es válido\")"
   ]
  },
  {
   "cell_type": "markdown",
   "id": "560f9e54",
   "metadata": {},
   "source": [
    "Esta expresión captura dos patrones:\n",
    "\n",
    "- Un nombre completo con un espacio en medio, donde tanto el nombre como el apellido comienzan con mayúscula sostenida y tienen al menos una letra minúscula.\n",
    "- Un nombre y un apellido, donde tanto el nombre como el apellido comienzan con mayúscula sostenida y tienen al menos una letra minúscula.\n",
    "\n",
    "Este patrón regresa un error solamente en caso de que se agregue una sola palabra o que haya una letra mayúsucula en medio de la palabra (ej. `JAiro Antonio Melo`)\n",
    "\n",
    "### Método `group`\n",
    "\n",
    "El método `group` es muy útil para extraer información de una cadena de texto. Por ejemplo, en este caso, si el nombre tiene un formato válido (un nombre y dos apellidos), entonces podemos extraer el nombre y el apellido por separado:"
   ]
  },
  {
   "cell_type": "code",
   "execution_count": 14,
   "id": "f288d59e",
   "metadata": {},
   "outputs": [
    {
     "name": "stdout",
     "output_type": "stream",
     "text": [
      "El nombre es válido\n",
      "Nombre: Jairo\n",
      "Apellidos: Melo Flórez\n"
     ]
    }
   ],
   "source": [
    "nombre = \"Jairo Melo Flórez\"\n",
    "busqueda = re.match(r\"([A-Z][a-ü]+)\\s+([A-Z][a-z]+(?:\\s+[A-Z][a-ü]+)*)\", nombre)\n",
    "if busqueda:\n",
    "    print(\"El nombre es válido\")\n",
    "    print(\"Nombre:\", busqueda.group(1))\n",
    "    print(\"Apellidos:\", busqueda.group(2))\n",
    "else:\n",
    "    print(\"El nombre no es válido\")"
   ]
  },
  {
   "cell_type": "markdown",
   "id": "4208a6cb",
   "metadata": {},
   "source": [
    "En esta expresión regular, el nombre y apellidos se capturan en dos grupos diferentes:\n",
    "\n",
    "- El primer grupo ```([A-Z][a-ü]+)``` captura el primer nombre, que comienza con una letra mayúscula seguida de letras minúsculas, incluyendo las letras acentuadas o con diéresis.\n",
    "- El segundo grupo ```([A-Z][a-z]+(?:\\s+[A-Z][a-ü]+)*)``` captura los apellidos. Aquí utilizamos un patrón más complejo:\n",
    "  - ```(?:\\s+[A-Z][a-ü]+)*``` captura cero o más grupos de espacios seguidos de una letra mayúscula seguida de letras minúsculas, lo que permite capturar apellidos compuestos o con múltiples palabras.\n",
    "\n",
    "Ten en cuenta que para que el método `group` funcione, es necesario que la función `match` encuentre un grupo (definido por el metacaracter `(` y `)`). Si no se encuentra ningún grupo, el método `group` retorna un error:"
   ]
  },
  {
   "cell_type": "code",
   "execution_count": 15,
   "id": "4f7a83e0",
   "metadata": {},
   "outputs": [
    {
     "name": "stdout",
     "output_type": "stream",
     "text": [
      "El nombre es válido\n"
     ]
    },
    {
     "ename": "IndexError",
     "evalue": "no such group",
     "output_type": "error",
     "traceback": [
      "\u001b[1;31m---------------------------------------------------------------------------\u001b[0m",
      "\u001b[1;31mIndexError\u001b[0m                                Traceback (most recent call last)",
      "Cell \u001b[1;32mIn[15], line 5\u001b[0m\n\u001b[0;32m      3\u001b[0m \u001b[38;5;28;01mif\u001b[39;00m busqueda:\n\u001b[0;32m      4\u001b[0m     \u001b[38;5;28mprint\u001b[39m(\u001b[38;5;124m\"\u001b[39m\u001b[38;5;124mEl nombre es válido\u001b[39m\u001b[38;5;124m\"\u001b[39m)\n\u001b[1;32m----> 5\u001b[0m     \u001b[38;5;28mprint\u001b[39m(\u001b[38;5;124m\"\u001b[39m\u001b[38;5;124mNombre:\u001b[39m\u001b[38;5;124m\"\u001b[39m, \u001b[43mbusqueda\u001b[49m\u001b[38;5;241;43m.\u001b[39;49m\u001b[43mgroup\u001b[49m\u001b[43m(\u001b[49m\u001b[38;5;241;43m1\u001b[39;49m\u001b[43m)\u001b[49m)\n\u001b[0;32m      6\u001b[0m     \u001b[38;5;28mprint\u001b[39m(\u001b[38;5;124m\"\u001b[39m\u001b[38;5;124mApellidos:\u001b[39m\u001b[38;5;124m\"\u001b[39m, busqueda\u001b[38;5;241m.\u001b[39mgroup(\u001b[38;5;241m2\u001b[39m))\n\u001b[0;32m      7\u001b[0m \u001b[38;5;28;01melse\u001b[39;00m:\n",
      "\u001b[1;31mIndexError\u001b[0m: no such group"
     ]
    }
   ],
   "source": [
    "nombre = \"Jairo Melo Flórez\"\n",
    "busqueda = re.match(r\"[A-Z][a-ü]+\\s+[A-Z][a-z]+(?:\\s+[A-Z][a-ü]+)*\", nombre)\n",
    "if busqueda:\n",
    "    print(\"El nombre es válido\")\n",
    "    print(\"Nombre:\", busqueda.group(1))\n",
    "    print(\"Apellidos:\", busqueda.group(2))\n",
    "else:\n",
    "    print(\"El nombre no es válido\")"
   ]
  },
  {
   "cell_type": "markdown",
   "id": "8936f940",
   "metadata": {},
   "source": [
    "Aquí regresa un `IndexError` porque no se encontró ningún grupo [^nota2].\n",
    "\n",
    "## Función `sub`\n",
    "\n",
    "La función `sub` tiene un funcionamiento similar al método `replace` del objeto `str`, solamente que no se limita a reemplazar las cadenas literales, también lo puede hacer por medio de patrones. Por ejemplo, si alguien ingresa su nombre o apellido de manera incorrecta (p. ej: \"JAiro Melo FLórez\") es posible corregirlo siguiendo un patrón:"
   ]
  },
  {
   "cell_type": "code",
   "execution_count": 16,
   "id": "8e9ebee8",
   "metadata": {},
   "outputs": [
    {
     "name": "stdout",
     "output_type": "stream",
     "text": [
      "Jairo Melo Flórez\n"
     ]
    }
   ],
   "source": [
    "nombre = \"JAiro Melo FLórez\"\n",
    "if not re.match(r\"([A-Z][a-ü]+)\\s+([A-Z][a-z]+(?:\\s+[A-Z][a-ü]+)*)\", nombre):\n",
    "    nombre_correcto = re.sub(r\"([A-Z])([A-Z][a-ü]+)\\b\", lambda match: match.group(1) + match.group(2).lower(), nombre)\n",
    "    print(nombre_correcto)"
   ]
  },
  {
   "cell_type": "markdown",
   "id": "3e54a7c4",
   "metadata": {},
   "source": [
    "Vamos a explicar un poco lo que hicimos en esta expresión regular:\n",
    "\n",
    "- ```([A-Z])([A-Z][a-ü]+)``` captura dos grupos:\n",
    "  - El primer grupo captura una letra mayúscula.\n",
    "  - El segundo grupo captura una letra mayúscula seguida de letras minúsculas, incluyendo las letras acentuadas o con diéresis.\n",
    "- ```\\b``` es un límite de palabra, que indica que la expresión regular debe terminar en una palabra.\n",
    "- ```lambda match: match.group(1) + match.group(2).lower()``` es una función anónima que recibe como parámetro el objeto `match` y retorna el primer grupo en mayúscula y el segundo grupo en minúscula.\n",
    "\n",
    "Otro ejemplo un tanto más sencillo es el siguiente. Supongamos que queremos modificar las fechas que vengan con el formato \"AAAA-MM-DD\" a \"DD/MM/AAAA\":"
   ]
  },
  {
   "cell_type": "code",
   "execution_count": 17,
   "id": "c0259e42",
   "metadata": {},
   "outputs": [
    {
     "name": "stdout",
     "output_type": "stream",
     "text": [
      "La fecha actual es 15/05/2023\n"
     ]
    }
   ],
   "source": [
    "fecha = \"La fecha actual es 2023-05-15\"\n",
    "fecha_corregida = re.sub(r\"(\\d{4})-(\\d{2})-(\\d{2})\", r\"\\3/\\2/\\1\", fecha)\n",
    "print(fecha_corregida)"
   ]
  },
  {
   "cell_type": "markdown",
   "id": "58f4f65f",
   "metadata": {},
   "source": [
    "La expresión regular `r\"(\\d{4})-(\\d{2})-(\\d{2})\"` busca una cadena de cuatro dígitos, seguida de un guion, luego dos dígitos, otro guion y finalmente dos dígitos más. Utilizamos paréntesis para capturar los tres grupos de dígitos por separado.\n",
    "\n",
    "En el argumento de sustitución de `re.sub()`, utilizamos `\\3`, `\\2` y `\\1` para referirnos a los grupos capturados respectivamente. Esto nos permite reordenar los grupos de dígitos en el formato deseado.\n",
    "\n",
    "## Función `finditer`\n",
    "\n",
    "La función `finditer` es similar a la función `findall`, con la diferencia de que retorna un iterador en lugar de una lista. Esto es útil cuando se trabaja con cadenas de texto muy grandes, ya que no es necesario almacenar todos los resultados en memoria. Por ejemplo, si queremos encontrar todas las coincidencias con la palabra \"Dulcinea\" en el Quijote, podemos hacer lo siguiente:"
   ]
  },
  {
   "cell_type": "code",
   "execution_count": 18,
   "id": "a2bbd7ce",
   "metadata": {},
   "outputs": [
    {
     "name": "stdout",
     "output_type": "stream",
     "text": [
      "La palabra 'Dulcinea' aparece 88 veces en el Quijote\n"
     ]
    }
   ],
   "source": [
    "contador = 0\n",
    "for match in re.finditer(r\"Dulcinea\", texto):\n",
    "    contador += 1\n",
    "\n",
    "print(f\"La palabra 'Dulcinea' aparece {contador} veces en el Quijote\")"
   ]
  },
  {
   "cell_type": "markdown",
   "id": "c165501b",
   "metadata": {},
   "source": [
    "De la misma manera, podríamos encontrar todas las palabras que tengan el lexema \"ilustr\" en el Quijote:"
   ]
  },
  {
   "cell_type": "code",
   "execution_count": 19,
   "id": "37933c94",
   "metadata": {},
   "outputs": [
    {
     "name": "stdout",
     "output_type": "stream",
     "text": [
      "ilustres\n",
      "ilustrado\n",
      "ilustre\n",
      "ilustres\n",
      "ilustre\n",
      "ilustre\n",
      "ilustres\n",
      "ilustre\n",
      "ilustre\n",
      "ilustre\n",
      "ilustre\n"
     ]
    }
   ],
   "source": [
    "for match in re.finditer(r\"\\bilustr\\w+\\b\", texto):\n",
    "    print(match.group())"
   ]
  },
  {
   "cell_type": "markdown",
   "id": "0be42a6c",
   "metadata": {},
   "source": [
    "O, podremos encontrar aquellas palabras que contengan el sufijo '-ción':"
   ]
  },
  {
   "cell_type": "code",
   "execution_count": 20,
   "id": "6739bc35",
   "metadata": {},
   "outputs": [
    {
     "name": "stdout",
     "output_type": "stream",
     "text": [
      "['condición', 'narración', 'afición', 'administración', 'condición', 'resolución', 'imaginación', 'generación', 'imaginación', 'intención']\n"
     ]
    }
   ],
   "source": [
    "grupos = []\n",
    "for match in re.finditer(r\"\\b\\w+ción\\b\", texto):\n",
    "    grupos.append(match.group())\n",
    "\n",
    "print(grupos[:10])"
   ]
  },
  {
   "cell_type": "markdown",
   "id": "9ec82498",
   "metadata": {},
   "source": [
    "## Función `split`\n",
    "\n",
    "La función `split` es similar al método `split` del objeto `str`, con la diferencia de que se puede utilizar una expresión regular para definir el separador. Por ejemplo, si queremos separar una cadena de texto por los caracteres no alfanuméricos (signos de puntuación, admiración, espacios, etc.), podemos hacer lo siguiente:"
   ]
  },
  {
   "cell_type": "code",
   "execution_count": 21,
   "id": "7ca6e3f0",
   "metadata": {},
   "outputs": [
    {
     "name": "stdout",
     "output_type": "stream",
     "text": [
      "['DON', 'QUIJOTE', 'DE', 'LA', 'MANCHA', 'Miguel', 'de', 'Cervantes', 'Saavedra', 'PRIMERA']\n"
     ]
    }
   ],
   "source": [
    "palabras = re.split(r\"\\W+\", texto)\n",
    "print(palabras[:10])"
   ]
  },
  {
   "cell_type": "markdown",
   "id": "38322fa5",
   "metadata": {},
   "source": [
    "En este ejemplo es evidente la utilidad de las expresiones regulares para definir patrones de búsqueda. Si utilizáramos el método `split` del objeto `str`, tendríamos que definir un separador para cada uno de los caracteres no alfanuméricos, mientras que en este caso podemos hacerlo con una sola expresión regular.\n",
    "\n",
    "## Función `compile`\n",
    "\n",
    "La función `compile` permite compilar una expresión regular para luego utilizarla en otras funciones. Por ejemplo, si queremos encontrar todas las palabras que comienzan con mayúscula, podemos hacer lo siguiente:"
   ]
  },
  {
   "cell_type": "code",
   "execution_count": 22,
   "id": "da1ffab2",
   "metadata": {},
   "outputs": [
    {
     "name": "stdout",
     "output_type": "stream",
     "text": [
      "['DON', 'QUIJOTE', 'DE', 'LA', 'MANCHA', 'Miguel', 'Cervantes', 'Saavedra', 'PRIMERA', 'PARTE']\n"
     ]
    }
   ],
   "source": [
    "patron = re.compile(r\"\\b[A-Z]\\w+\\b\")\n",
    "\n",
    "grupos = []\n",
    "\n",
    "for match in patron.finditer(texto):\n",
    "    grupos.append(match.group())\n",
    "\n",
    "print(grupos[:10])"
   ]
  },
  {
   "cell_type": "markdown",
   "id": "83b4a7f0",
   "metadata": {},
   "source": [
    "La utilidad de esta función es que podemos reutilizar la expresión regular en otras funciones, sin tener que volver a escribirla. Reutilicemos el patrón que usamos para determinar un nombre completo:"
   ]
  },
  {
   "cell_type": "code",
   "execution_count": 23,
   "id": "0a719989",
   "metadata": {},
   "outputs": [
    {
     "name": "stdout",
     "output_type": "stream",
     "text": [
      "['Cervantes Saavedra', 'Mancha\\nEn', 'Cid Ruy Di', 'Aldonza Lorenzo', 'Quijote\\nHechas', 'Puerto La', 'Don Quijote', 'Don Quijote', 'Viendo Don Quijote', 'Don Quijote']\n"
     ]
    }
   ],
   "source": [
    "patron = re.compile(r\"([A-Z][a-ü]+)\\s+([A-Z][a-z]+(?:\\s+[A-Z][a-ü]+)*)\")\n",
    "\n",
    "patrones = []\n",
    "\n",
    "for match in patron.finditer(texto):\n",
    "    patrones.append(match.group())\n",
    "\n",
    "print(patrones[:10])"
   ]
  },
  {
   "cell_type": "markdown",
   "id": "297ced5a",
   "metadata": {},
   "source": [
    "Y ahora también lo puedo usar en otro texto:"
   ]
  },
  {
   "cell_type": "code",
   "execution_count": 24,
   "id": "e5694019",
   "metadata": {},
   "outputs": [
    {
     "name": "stdout",
     "output_type": "stream",
     "text": [
      "El Quijote\n",
      "Cervantes Saavedra\n"
     ]
    }
   ],
   "source": [
    "texto2 = \"El Quijote de la Mancha es una novela escrita por Miguel de Cervantes Saavedra\"\n",
    "for match in patron.finditer(texto2):\n",
    "    print(match.group())"
   ]
  },
  {
   "cell_type": "markdown",
   "id": "019be2b2",
   "metadata": {},
   "source": [
    "Esto hace que, por un lado, la escritura de las expresiones sea más fácil de mantener, y por otro lado, que el código sea más eficiente, ya que no tenemos que compilar la expresión regular cada vez que la utilizamos.\n",
    "\n",
    "## Conclusión\n",
    "\n",
    "Con estas lecciones abordamos los principios básicos de las expresiones regulares, además de explorar las funciones de la librería `re`. Obviamente, las expresiones regulares son todo un campo de estudio, por lo que no pretendemos, ni mucho menos, cubrirlas por completo en estas lecciones. Lo ideal es que intentes utilizarlas en tus propios proyectos, y que consultes la documentación de Python para profundizar en el tema.\n",
    "\n",
    "## Ejercicio\n",
    "\n",
    "Integra los métodos y patrones de las expresiones regulares en la interfaz de búsqueda del proyecto intermedio. Por ejemplo, puedes utilizar una expresión regular para buscar palabras que comiencen con mayúscula, o para buscar palabras que contengan un sufijo en particular.\n",
    "\n",
    "## Notas\n",
    "\n",
    "[^nota1]: En caso de que tengas curiosidad de una expresión regular estándar (aunque simplificada) para validar correos electrónicos usada por los navegadores, es la siguiente: ```^[a-zA-Z0-9.!#$%&'*+\\/=?^_`{|}~-]+@[a-zA-Z0-9](?:[a-zA-Z0-9-]{0,61}[a-zA-Z0-9])?(?:\\.[a-zA-Z0-9](?:[a-zA-Z0-9-]{0,61}[a-zA-Z0-9])?)*$``` Tomado de David J. Malan, [Harvard CS50's Introduction to Programming with Python](https://youtu.be/nLRL_NcnK-4?t=34943). Una versión más compleja es la siguiente [Mail::RFC822::Address: regexp-based address validation](http://www.ex-parrot.com/~pdw/Mail-RFC822-Address.html), aunque realmente no es recomendable usarla en la práctica. En caso de que desees utilizar un método para validar los correos electrónicos, y antes de empezar a hacer una confusa e ilegible expresión regular, puedes utilizar la librería [email-validator](https://pypi.org/project/email-validator/), que es mucho más sencilla de usar y comprende una importante variedad de posibilidades que una sola expresión regular no podría manejar (p. ej: <https://github.com/JoshData/python-email-validator/blob/main/email_validator/rfc_constants.py>).\n",
    "\n",
    "[^nota2]: En este caso, la función `match` regresa un objeto `None`, que no tiene ningún grupo. Por lo tanto, la función `group` no puede extraer ningún grupo. Por otra parte, el segundo grupo ```(?:\\s+[A-Z][a-ü]+)``` no se captura porque se usa `(?:...)` como grupo no capturador."
   ]
  }
 ],
 "metadata": {
  "jupytext": {
   "cell_metadata_filter": "-all",
   "formats": "md:myst",
   "text_representation": {
    "extension": ".md",
    "format_name": "myst",
    "format_version": 0.13,
    "jupytext_version": "1.14.4"
   }
  },
  "kernelspec": {
   "display_name": "Python 3 (ipykernel)",
   "language": "python",
   "name": "python3"
  },
  "language_info": {
   "codemirror_mode": {
    "name": "ipython",
    "version": 3
   },
   "file_extension": ".py",
   "mimetype": "text/x-python",
   "name": "python",
   "nbconvert_exporter": "python",
   "pygments_lexer": "ipython3",
   "version": "3.11.4"
  },
  "source_map": [
   14,
   25,
   34,
   38,
   40,
   44,
   46,
   50,
   52,
   61,
   63,
   67,
   69,
   73,
   75,
   81,
   84,
   88,
   91,
   95,
   98,
   102,
   105,
   109,
   116,
   122,
   129,
   142,
   151,
   161,
   170,
   178,
   183,
   195,
   199,
   209,
   215,
   219,
   222,
   226,
   232,
   238,
   241,
   249,
   258,
   262,
   271,
   275,
   279
  ]
 },
 "nbformat": 4,
 "nbformat_minor": 5
}