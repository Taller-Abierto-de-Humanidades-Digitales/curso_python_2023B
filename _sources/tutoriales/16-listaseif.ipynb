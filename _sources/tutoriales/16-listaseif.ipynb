{
 "cells": [
  {
   "cell_type": "markdown",
   "id": "b6c2784d",
   "metadata": {},
   "source": [
    "# Combinar listas y sentencias `if`\n",
    "\n",
    "Para finalizar esta sección, veamos cómo podemos combinar listas y sentencias `if`. En general, lo que se busca es que a través de una condición, se pueda evaluar el contenido de un listado y realizar una operación con estos valores.\n",
    "\n",
    "Veamos un ejemplo:"
   ]
  },
  {
   "cell_type": "code",
   "execution_count": 1,
   "id": "393c2870",
   "metadata": {},
   "outputs": [
    {
     "name": "stdout",
     "output_type": "stream",
     "text": [
      "['María', 'Sacrificio y recompensa', 'Gil Gómez, el insurgente', 'Martín Garatuza ', 'Tres episodios mexicanos', 'Vida de Juan Facundo Quiroga']\n"
     ]
    }
   ],
   "source": [
    "novelas_siglo_XIX = [\"María\", \"Sacrificio y recompensa\", \"Gil Gómez, el insurgente\", \"Martín Garatuza : memorias de la Inquisición\", \"Tres episodios mexicanos\", \"Vida de Juan Facundo Quiroga\"]\n",
    "\n",
    "# separar subtítulos\n",
    "\n",
    "for novela in novelas_siglo_XIX:\n",
    "    if \":\" in novela:\n",
    "        titulo, subtitulo = novela.split(\":\")\n",
    "        # reemplazar el título original por el nuevo\n",
    "        novelas_siglo_XIX[novelas_siglo_XIX.index(novela)] = titulo\n",
    "\n",
    "print(novelas_siglo_XIX)"
   ]
  },
  {
   "cell_type": "markdown",
   "id": "8ef4fafc",
   "metadata": {},
   "source": [
    "Aquí hemos construido un pequeño programa que toma una lista de novelas del siglo XIX y separa el subtítulo de la novela a partir de un patrón que consiste en los dos puntos `:`. En este caso, el programa permite descartar en cada iteración si se cumple con la condición de que el valor del nombre de la novela contenga un subtítulo. Solamente cuando se cumple, se realiza la operación, en todo otro caso, se omite.\n",
    "\n",
    "## Sentencias `ìf` en listas de comprensión\n",
    "\n",
    "También es posible utilizar sentencias `if` en listas de comprensión. Veamos un ejemplo:"
   ]
  },
  {
   "cell_type": "code",
   "execution_count": 2,
   "id": "bf72aa12",
   "metadata": {},
   "outputs": [
    {
     "name": "stdout",
     "output_type": "stream",
     "text": [
      "['memorias de la Inquisición']\n"
     ]
    }
   ],
   "source": [
    "novelas_siglo_XIX = [\"María\", \"Sacrificio y recompensa\", \"Gil Gómez, el insurgente\", \"Martín Garatuza : memorias de la Inquisición\", \"Tres episodios mexicanos\", \"Vida de Juan Facundo Quiroga\"]\n",
    "\n",
    "# separar subtítulos\n",
    "\n",
    "subtitulos = [novela.split(\" : \")[1] for novela in novelas_siglo_XIX if \":\" in novela]\n",
    "\n",
    "print(subtitulos)"
   ]
  },
  {
   "cell_type": "markdown",
   "id": "5a85522b",
   "metadata": {},
   "source": [
    "Debes tener en cuenta que en esta sintaxis no es posible utilizar las sentencias `else` o `elif`, por lo que solamente deberás utilizarla para validar una condición de verdad."
   ]
  }
 ],
 "metadata": {
  "jupytext": {
   "cell_metadata_filter": "-all",
   "formats": "md:myst",
   "text_representation": {
    "extension": ".md",
    "format_name": "myst",
    "format_version": 0.13,
    "jupytext_version": "1.14.4"
   }
  },
  "kernelspec": {
   "display_name": "Python 3 (ipykernel)",
   "language": "python",
   "name": "python3"
  },
  "language_info": {
   "codemirror_mode": {
    "name": "ipython",
    "version": 3
   },
   "file_extension": ".py",
   "mimetype": "text/x-python",
   "name": "python",
   "nbconvert_exporter": "python",
   "pygments_lexer": "ipython3",
   "version": "3.11.1"
  },
  "source_map": [
   14,
   22,
   34,
   42,
   51
  ]
 },
 "nbformat": 4,
 "nbformat_minor": 5
}