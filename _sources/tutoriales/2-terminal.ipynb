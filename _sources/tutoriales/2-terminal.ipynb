{
 "cells": [
  {
   "cell_type": "markdown",
   "id": "8df8fe0b",
   "metadata": {},
   "source": [
    "# Terminal\n",
    "\n",
    "## ¿Qué es?\n",
    "\n",
    "El terminal es una herramienta que nos permite interactuar con el sistema operativo a través de comandos. Estos comandos son similares a los que usamos en el lenguaje natural, pero en vez de palabras usamos comandos que el sistema operativo entiende.\n",
    "\n",
    "## ¿Cómo abrir el terminal?\n",
    "\n",
    "### Windows\n",
    "\n",
    "1. Presionar la tecla `Windows` + `R` para abrir el cuadro de ejecución.\n",
    "2. Escribir `cmd` y presionar `Enter`.\n",
    "\n",
    "### Mac\n",
    "\n",
    "1. Presionar `Command` + `Espacio` para abrir Spotlight.\n",
    "2. Escribir `terminal` y presionar `Enter`.\n",
    "\n",
    "## Probar Python desde el terminal\n",
    "\n",
    "### Windows\n",
    "\n",
    "1. Abrir el terminal.\n",
    "2. Escribir `python` y presionar `Enter`.\n",
    "3. Escribir `print(\"Hola mundo\")` y presionar `Enter`.\n",
    "4. Escribir `exit()` y presionar `Enter` para salir."
   ]
  },
  {
   "cell_type": "code",
   "execution_count": 1,
   "id": "339d986a",
   "metadata": {},
   "outputs": [
    {
     "ename": "SyntaxError",
     "evalue": "unexpected character after line continuation character (305037511.py, line 1)",
     "output_type": "error",
     "traceback": [
      "\u001b[1;36m  Cell \u001b[1;32mIn[1], line 1\u001b[1;36m\u001b[0m\n\u001b[1;33m    C:\\Users\\Usuario>python\u001b[0m\n\u001b[1;37m       ^\u001b[0m\n\u001b[1;31mSyntaxError\u001b[0m\u001b[1;31m:\u001b[0m unexpected character after line continuation character\n"
     ]
    }
   ],
   "source": [
    "C:\\Users\\Usuario>python\n",
    "Python 3.11.0 (tags/v3.11.0:1a79785, Oct  5 2021, 19:00:00) [MSC v.1929 64 bit (AMD64)] on win32\n",
    "Type \"help\", \"copyright\", \"credits\" or \"license\" for more information.\n",
    ">>> print(\"Hola mundo\")\n",
    "Hola mundo\n",
    ">>> exit()"
   ]
  },
  {
   "cell_type": "markdown",
   "id": "3eca4a4d",
   "metadata": {},
   "source": [
    "### Mac\n",
    "\n",
    "1. Abrir el terminal.\n",
    "2. Escribir `python3` y presionar `Enter`.\n",
    "3. Escribir `print(\"Hola mundo\")` y presionar `Enter`.\n",
    "4. Escribir `exit()` y presionar `Enter` para salir."
   ]
  },
  {
   "cell_type": "code",
   "execution_count": 2,
   "id": "f13faba9",
   "metadata": {},
   "outputs": [
    {
     "ename": "SyntaxError",
     "evalue": "invalid decimal literal (2330249718.py, line 2)",
     "output_type": "error",
     "traceback": [
      "\u001b[1;36m  Cell \u001b[1;32mIn[2], line 2\u001b[1;36m\u001b[0m\n\u001b[1;33m    Python 3.11.0 (tags/v3.11.0:1a79785, Oct  5 2021, 19:00:00) [Clang 13.0.0 (clang-1300.0.29.3)] on darwin\u001b[0m\n\u001b[1;37m                                ^\u001b[0m\n\u001b[1;31mSyntaxError\u001b[0m\u001b[1;31m:\u001b[0m invalid decimal literal\n"
     ]
    }
   ],
   "source": [
    "$ python3\n",
    "Python 3.11.0 (tags/v3.11.0:1a79785, Oct  5 2021, 19:00:00) [Clang 13.0.0 (clang-1300.0.29.3)] on darwin\n",
    "Type \"help\", \"copyright\", \"credits\" or \"license\" for more information.\n",
    ">>> print(\"Hola mundo\")\n",
    "Hola mundo\n",
    ">>> exit()"
   ]
  }
 ],
 "metadata": {
  "jupytext": {
   "cell_metadata_filter": "-all",
   "formats": "md:myst",
   "text_representation": {
    "extension": ".md",
    "format_name": "myst",
    "format_version": 0.13,
    "jupytext_version": "1.14.4"
   }
  },
  "kernelspec": {
   "display_name": "Python 3 (ipykernel)",
   "language": "python",
   "name": "python3"
  },
  "language_info": {
   "codemirror_mode": {
    "name": "ipython",
    "version": 3
   },
   "file_extension": ".py",
   "mimetype": "text/x-python",
   "name": "python",
   "nbconvert_exporter": "python",
   "pygments_lexer": "ipython3",
   "version": "3.11.1"
  },
  "source_map": [
   14,
   43,
   50,
   59
  ]
 },
 "nbformat": 4,
 "nbformat_minor": 5
}