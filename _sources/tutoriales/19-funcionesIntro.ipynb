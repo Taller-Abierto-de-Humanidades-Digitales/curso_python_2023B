{
 "cells": [
  {
   "cell_type": "markdown",
   "id": "ae4a327f",
   "metadata": {},
   "source": [
    "# Funciones: Introducción\n",
    "\n",
    "Hasta ahora, hemos apredido a realizar programas que tiene un comportamiento lineal, que se ejecutan sencuencialmente y de ser necesario repetir una acción, debemos escribir nuevamente el código que la realiza. Esto tiene varios inconvenientes, entre ellos, que el código se hace muy largo y difícil de leer, además, si queremos modificar una de estas acciones, debemos hacerlo sobre cada una de las repeticiones, lo cual es una receta para el desastre. Las funciones son bloques de código que nos permiten agrupar acciones que se repiten y que además nos permiten reutilizarlas en otros programas. Básicamente, una función tiene la intención de realizar una función específica a partir de unos parámetros de entrada y con ello devolver un resultado.\n",
    "\n",
    "## Definición de una función\n",
    "\n",
    "La siguiente imagen muestra la estructura de una función en Python:\n",
    "\n",
    "```{figure} ../_static/imgs/función_estructura.png\n",
    "---\n",
    "height: 200px\n",
    "name: estructura_funcion\n",
    "---\n",
    "Estructura de una función en Python\n",
    "```\n",
    "\n",
    "Como verás, la sintaxis de una función es bastante simple:\n",
    "\n",
    "* Se define con la palabra reservada `def`\n",
    "* Le sigue el nombre de la función. La convención es que se escriba en minúsculas y separando las palabras con guiones bajos.\n",
    "* Se abre un paréntesis y se escriben los parámetros de entrada de la función, separados por comas. Si la función no tiene parámetros de entrada, se deja el paréntesis vacío.\n",
    "* Se cierra el paréntesis y se abre un dos puntos.\n",
    "* Se escribe el código de la función, indentado.\n",
    "\n",
    "Veamos un ejemplo de una función que no tiene parámetros de entrada:"
   ]
  },
  {
   "cell_type": "code",
   "execution_count": 1,
   "id": "8a375268",
   "metadata": {},
   "outputs": [
    {
     "name": "stdout",
     "output_type": "stream",
     "text": [
      "Hola, ¿cómo estás?\n"
     ]
    }
   ],
   "source": [
    "def saludar():\n",
    "    print(\"Hola, ¿cómo estás?\")\n",
    "\n",
    "saludar()"
   ]
  },
  {
   "cell_type": "markdown",
   "id": "2c070946",
   "metadata": {},
   "source": [
    "En este caso, la función `saludar()` no tiene parámetros de entrada, por lo que no hay ningún elemento dentro del paréntesis. La acción, en este caso, es sencillamente imprimir un mensaje en pantalla que dice \"Hola, ¿cómo estás?\". La función se invoca en la última línea del código escribiendo el nombre de la función y abriendo y cerrando paréntesis.\n",
    "\n",
    "```{note}\n",
    "Nota que cuando invocamos la función `saludar()` no estamos haciendo print en la línea (`print(saludar())`), sino que es el bloque de código de la función el que hace el print. \n",
    "```\n",
    "\n",
    "## Pasar valores a una función\n",
    "\n",
    "Como vimos en la imagen anterior, las funciones pueden tener parámetros de entrada. Un *parámetro* es una \"pieza de información\" que se pasa a la función para que esta pueda realizar sus acciones. Un *argumento* sería el valor que se le pasa a la función para que ésta lo utilice como parámetro.\n",
    "\n",
    "Modifiquemos la función anterior para que reciba un nombre y lo imprima en pantalla:"
   ]
  },
  {
   "cell_type": "code",
   "execution_count": 2,
   "id": "825594fb",
   "metadata": {},
   "outputs": [
    {
     "name": "stdout",
     "output_type": "stream",
     "text": [
      "Hola Virginia, ¿cómo estás?\n"
     ]
    }
   ],
   "source": [
    "def saludar(nombre):\n",
    "    print(f\"Hola {nombre.title()}, ¿cómo estás?\")\n",
    "\n",
    "saludar(\"Virginia\")"
   ]
  },
  {
   "cell_type": "markdown",
   "id": "62d15abb",
   "metadata": {},
   "source": [
    "Ahora la función recibe un valor (\"Virginia\") y lo utiliza para personalizar el mensaje. Es decir, el *argumento* es \"Virginia\" y se asigna al *parámetro* `nombre`. Podríamos decir que el *parámetro* es un nombre de variable, y el *argumento* el valor que se le asigna\n",
    "\n",
    "```{note}\n",
    "Esta distinción que realizamos no es estrictamente necesaria. De hecho, es común que estos términos se usen como sinónimos. Por esta razón, es posible que encuentres que en algunos libros se usan los términos de manera intercambiable.\n",
    "```\n",
    "\n",
    "## Pasar argumentos\n",
    "\n",
    "Una función suele tener más de un parámetro, por lo que necesitamos definir cómo pasar los argumentos de tal manera que el bloque de código utilice los valores de manera correcta. Para esto, Python nos ofrece varias formas de pasar los argumentos a una función, los cuales veremos con detalle.\n",
    "\n",
    "### Argumentos posicionales\n",
    "\n",
    "Este es el método más sencillo de pasar argumentos a una función. Básicamente, el orden de los parámetros es el mismo que el orden de los argumentos. Por ejemplo, si en nuestra función queremos recibir el nombre y la fecha de nacimiento, para regresar un saludo y la edad de la persona, podemos hacer lo siguiente:"
   ]
  },
  {
   "cell_type": "code",
   "execution_count": 3,
   "id": "6b3e1b91",
   "metadata": {},
   "outputs": [
    {
     "name": "stdout",
     "output_type": "stream",
     "text": [
      "Hola Virginia, ¿cómo estás? Tienes 33 años.\n"
     ]
    }
   ],
   "source": [
    "def saludar(nombre, fecha_nacimiento):\n",
    "    edad = 2023 - fecha_nacimiento\n",
    "    print(f\"Hola {nombre.title()}, ¿cómo estás? Tienes {edad} años.\")\n",
    "\n",
    "saludar(\"Virginia\", 1990)"
   ]
  },
  {
   "cell_type": "markdown",
   "id": "280d805f",
   "metadata": {},
   "source": [
    "La función define que requerimos dos valores: un nombre y una fecha. El orden en este caso es fundamental, de otra manera obtendremos un error:"
   ]
  },
  {
   "cell_type": "code",
   "execution_count": 4,
   "id": "75a28341",
   "metadata": {},
   "outputs": [
    {
     "ename": "TypeError",
     "evalue": "unsupported operand type(s) for -: 'int' and 'str'",
     "output_type": "error",
     "traceback": [
      "\u001b[1;31m---------------------------------------------------------------------------\u001b[0m",
      "\u001b[1;31mTypeError\u001b[0m                                 Traceback (most recent call last)",
      "Cell \u001b[1;32mIn[4], line 1\u001b[0m\n\u001b[1;32m----> 1\u001b[0m \u001b[43msaludar\u001b[49m\u001b[43m(\u001b[49m\u001b[38;5;241;43m1990\u001b[39;49m\u001b[43m,\u001b[49m\u001b[43m \u001b[49m\u001b[38;5;124;43m\"\u001b[39;49m\u001b[38;5;124;43mVirginia\u001b[39;49m\u001b[38;5;124;43m\"\u001b[39;49m\u001b[43m)\u001b[49m\n",
      "Cell \u001b[1;32mIn[3], line 2\u001b[0m, in \u001b[0;36msaludar\u001b[1;34m(nombre, fecha_nacimiento)\u001b[0m\n\u001b[0;32m      1\u001b[0m \u001b[38;5;28;01mdef\u001b[39;00m \u001b[38;5;21msaludar\u001b[39m(nombre, fecha_nacimiento):\n\u001b[1;32m----> 2\u001b[0m     edad \u001b[38;5;241m=\u001b[39m \u001b[38;5;241;43m2023\u001b[39;49m\u001b[43m \u001b[49m\u001b[38;5;241;43m-\u001b[39;49m\u001b[43m \u001b[49m\u001b[43mfecha_nacimiento\u001b[49m\n\u001b[0;32m      3\u001b[0m     \u001b[38;5;28mprint\u001b[39m(\u001b[38;5;124mf\u001b[39m\u001b[38;5;124m\"\u001b[39m\u001b[38;5;124mHola \u001b[39m\u001b[38;5;132;01m{\u001b[39;00mnombre\u001b[38;5;241m.\u001b[39mtitle()\u001b[38;5;132;01m}\u001b[39;00m\u001b[38;5;124m, ¿cómo estás? Tienes \u001b[39m\u001b[38;5;132;01m{\u001b[39;00medad\u001b[38;5;132;01m}\u001b[39;00m\u001b[38;5;124m años.\u001b[39m\u001b[38;5;124m\"\u001b[39m)\n",
      "\u001b[1;31mTypeError\u001b[0m: unsupported operand type(s) for -: 'int' and 'str'"
     ]
    }
   ],
   "source": [
    "saludar(1990, \"Virginia\")"
   ]
  },
  {
   "cell_type": "markdown",
   "id": "eb970a56",
   "metadata": {},
   "source": [
    "Los argumentos son los mismos, pero al cambiarse el orden la función pasa el valor de la fecha de nacimiento al parámetro `nombre` y el valor del nombre a `fecha_nacimiento`. Obviamente esto tiene como consecuencia que no se pueda calcular la edad porque no se puede restar un string a un entero.\n",
    "\n",
    "### ¿Cómo facilitar el uso de las funciones?\n",
    "\n",
    "Debido a que la función es directamente visible por nosotros, conocemos los parámetros y su posición, pero esto no es el caso en todas las situaciones. De hecho, suele ser la excepción. Para lograr que cualquier persona o nosotros mismos podamos reutilizar la función, es importante documentarla y explicar qué hace y qué parámetros recibe, su orden y su tipo. Esto se puede hacer con comentarios en el código:"
   ]
  },
  {
   "cell_type": "code",
   "execution_count": 5,
   "id": "b39a155b",
   "metadata": {},
   "outputs": [
    {
     "name": "stdout",
     "output_type": "stream",
     "text": [
      "Hola Virginia, ¿cómo estás? Tienes 33 años.\n"
     ]
    }
   ],
   "source": [
    "def saludar(nombre, fecha_nacimiento):\n",
    "    \"\"\"Saluda a una persona y le dice su edad.\n",
    "    \n",
    "    Parámetros\n",
    "    ----------\n",
    "    nombre: str\n",
    "        Nombre de la persona a saludar\n",
    "    fecha_nacimiento: int\n",
    "        Año de nacimiento de la persona\n",
    "    \"\"\"\n",
    "    edad = 2023 - fecha_nacimiento\n",
    "    print(f\"Hola {nombre.title()}, ¿cómo estás? Tienes {edad} años.\")\n",
    "\n",
    "saludar(\"Virginia\", 1990)"
   ]
  },
  {
   "cell_type": "markdown",
   "id": "12930f81",
   "metadata": {},
   "source": [
    "La mayoría de editores de código en la actualidad tienen funcionalidades que permiten ver la documentación de una función. Por ejemplo, en VS Code, podemos situar el cursor sobre el nombre de la función y ver la documentación en una ventana emergente:\n",
    "\n",
    "```{figure} ../_static/imgs/parametros.png\n",
    "---\n",
    "height: 200px\n",
    "name: parametros\n",
    "---\n",
    "Documentación de una función en VS Code\n",
    "```\n",
    "\n",
    "También podemos utilizar la función `help()` para ver la documentación de una función:"
   ]
  },
  {
   "cell_type": "code",
   "execution_count": 6,
   "id": "ef21add3",
   "metadata": {},
   "outputs": [
    {
     "name": "stdout",
     "output_type": "stream",
     "text": [
      "Help on function saludar in module __main__:\n",
      "\n",
      "saludar(nombre, fecha_nacimiento)\n",
      "    Saluda a una persona y le dice su edad.\n",
      "    \n",
      "    Parámetros\n",
      "    ----------\n",
      "    nombre: str\n",
      "        Nombre de la persona a saludar\n",
      "    fecha_nacimiento: int\n",
      "        Año de nacimiento de la persona\n",
      "\n"
     ]
    }
   ],
   "source": [
    "help(saludar)"
   ]
  },
  {
   "cell_type": "markdown",
   "id": "0e63c8a1",
   "metadata": {},
   "source": [
    "```{admonition} Documentación\n",
    ":class: tip\n",
    "La labor de documentar las funciones es una de las tareas más importantes que debemos realizar cuando elaboramos un programa. Incluso si lo hacemos para nosotros sin la intención de distribuirlo, podemos olvidarnos de los detalles y no recordar qué hace una función en un tiempo. Por esta razón, es importante documentar las funciones para que podamos entenderlas en el futuro. Por otra parte, una documentación detallada (aunque no excesiva) es evidencia de un procedimiento metódico y profesional.\n",
    "```\n",
    "\n",
    "### Argumentos con palabras clave\n",
    "\n",
    "También podemos pasar argumentos asociando directamente el valor a un parámetro. Esto se conoce como *argumentos con palabras clave*. Por ejemplo, podemos hacer lo siguiente:"
   ]
  },
  {
   "cell_type": "code",
   "execution_count": 7,
   "id": "b33dbe17",
   "metadata": {},
   "outputs": [
    {
     "name": "stdout",
     "output_type": "stream",
     "text": [
      "Hola Virginia, ¿cómo estás? Tienes 33 años.\n"
     ]
    }
   ],
   "source": [
    "saludar(nombre=\"Virginia\", fecha_nacimiento=1990)"
   ]
  },
  {
   "cell_type": "markdown",
   "id": "0aa802c1",
   "metadata": {},
   "source": [
    "En este caso, el orden de los argumentos no importa, ya que se asocia directamente el valor a un parámetro. Esto es útil cuando tenemos muchas funciones y no queremos recordar el orden de los parámetros."
   ]
  },
  {
   "cell_type": "code",
   "execution_count": 8,
   "id": "d8b50cf7",
   "metadata": {},
   "outputs": [
    {
     "name": "stdout",
     "output_type": "stream",
     "text": [
      "Hola Virginia, ¿cómo estás? Tienes 33 años.\n"
     ]
    }
   ],
   "source": [
    "saludar(fecha_nacimiento=1990, nombre=\"Virginia\")"
   ]
  },
  {
   "cell_type": "markdown",
   "id": "3db7beab",
   "metadata": {},
   "source": [
    "Incluso, no es necesario que todos los argumentos sean con palabras clave, podemos mezclarlos:"
   ]
  },
  {
   "cell_type": "code",
   "execution_count": 9,
   "id": "3443a6dd",
   "metadata": {},
   "outputs": [
    {
     "name": "stdout",
     "output_type": "stream",
     "text": [
      "Hola Virginia, ¿cómo estás? Tienes 33 años.\n"
     ]
    }
   ],
   "source": [
    "saludar(\"Virginia\", fecha_nacimiento=1990)"
   ]
  },
  {
   "cell_type": "markdown",
   "id": "7b043df7",
   "metadata": {},
   "source": [
    "Ten en cuenta que en este último caso el argumento \"Virginia\" se asigna posicionalmente, mientras el argumento `fecha_nacimiento` se asigna con palabras clave.\n",
    "\n",
    "### Argumentos predeterminados\n",
    "\n",
    "Otra forma útil de definir parámetros consiste en asignar un valor predeterminado. En este caso, a menos que se pase un argumento diferente, Python tomará el valor predeterminado para ejecutar el bloque de código de la función. Por ejemplo, podemos modificar la función anterior para incluir un valor que puede ser muy común, por ejemplo, lugar de nacimiento:"
   ]
  },
  {
   "cell_type": "code",
   "execution_count": 10,
   "id": "74003bb3",
   "metadata": {},
   "outputs": [
    {
     "name": "stdout",
     "output_type": "stream",
     "text": [
      "Hola Virginia, ¿cómo estás? Tienes 33 años y naciste en Colombia.\n"
     ]
    }
   ],
   "source": [
    "def saludar(nombre, fecha_nacimiento, lugar_de_nacimiento=\"Colombia\"):\n",
    "    \"\"\"Saluda a una persona y le dice su edad.\n",
    "    \n",
    "    Parámetros\n",
    "    ----------\n",
    "    nombre: str\n",
    "        Nombre de la persona a saludar\n",
    "    fecha_nacimiento: int\n",
    "        Año de nacimiento de la persona\n",
    "    lugar_de_nacimiento: str\n",
    "        Lugar de nacimiento de la persona\n",
    "    \"\"\"\n",
    "    edad = 2023 - fecha_nacimiento\n",
    "    print(f\"Hola {nombre.title()}, ¿cómo estás? Tienes {edad} años y naciste en {lugar_de_nacimiento.title()}.\")\n",
    "\n",
    "saludar(\"Virginia\", 1990)"
   ]
  },
  {
   "cell_type": "markdown",
   "id": "c8cc7e66",
   "metadata": {},
   "source": [
    "Notarás que no necesitamos pasar un argumento para el parámetro `lugar_de_nacimiento`, ya que Python toma el valor predeterminado. Sin embargo, si queremos cambiar el valor predeterminado, podemos hacerlo:"
   ]
  },
  {
   "cell_type": "code",
   "execution_count": 11,
   "id": "3d7ab5be",
   "metadata": {},
   "outputs": [
    {
     "name": "stdout",
     "output_type": "stream",
     "text": [
      "Hola Virginia, ¿cómo estás? Tienes 33 años y naciste en México.\n"
     ]
    }
   ],
   "source": [
    "saludar(\"Virginia\", 1990, lugar_de_nacimiento=\"México\")"
   ]
  },
  {
   "cell_type": "markdown",
   "id": "10f112a2",
   "metadata": {},
   "source": [
    "```{admonition} Importante\n",
    ":class: important\n",
    "Los argumentos con palabras clave deben ir después de los argumentos posicionales, de otra manera tendrás un error de sintaxis.\n",
    "```\n",
    "\n",
    "### Errores comunes\n",
    "\n",
    "A continuación, veremos algunos errores comunes que se pueden presentar al pasar argumentos a una función.\n",
    "\n",
    "#### Número incorrecto de argumentos\n",
    "\n",
    "Si pasamos un número incorrecto de argumentos, Python nos arrojará un error indicando que falta un argumento o que hay un argumento de más:"
   ]
  },
  {
   "cell_type": "code",
   "execution_count": 12,
   "id": "1b40d061",
   "metadata": {},
   "outputs": [
    {
     "ename": "TypeError",
     "evalue": "saludar() missing 1 required positional argument: 'fecha_nacimiento'",
     "output_type": "error",
     "traceback": [
      "\u001b[1;31m---------------------------------------------------------------------------\u001b[0m",
      "\u001b[1;31mTypeError\u001b[0m                                 Traceback (most recent call last)",
      "Cell \u001b[1;32mIn[12], line 1\u001b[0m\n\u001b[1;32m----> 1\u001b[0m \u001b[43msaludar\u001b[49m\u001b[43m(\u001b[49m\u001b[38;5;124;43m\"\u001b[39;49m\u001b[38;5;124;43mVirginia\u001b[39;49m\u001b[38;5;124;43m\"\u001b[39;49m\u001b[43m)\u001b[49m\n",
      "\u001b[1;31mTypeError\u001b[0m: saludar() missing 1 required positional argument: 'fecha_nacimiento'"
     ]
    }
   ],
   "source": [
    "saludar(\"Virginia\")"
   ]
  },
  {
   "cell_type": "code",
   "execution_count": 13,
   "id": "ada88876",
   "metadata": {},
   "outputs": [
    {
     "ename": "TypeError",
     "evalue": "saludar() takes from 2 to 3 positional arguments but 4 were given",
     "output_type": "error",
     "traceback": [
      "\u001b[1;31m---------------------------------------------------------------------------\u001b[0m",
      "\u001b[1;31mTypeError\u001b[0m                                 Traceback (most recent call last)",
      "Cell \u001b[1;32mIn[13], line 1\u001b[0m\n\u001b[1;32m----> 1\u001b[0m \u001b[43msaludar\u001b[49m\u001b[43m(\u001b[49m\u001b[38;5;124;43m\"\u001b[39;49m\u001b[38;5;124;43mVirginia\u001b[39;49m\u001b[38;5;124;43m\"\u001b[39;49m\u001b[43m,\u001b[49m\u001b[43m \u001b[49m\u001b[38;5;241;43m1990\u001b[39;49m\u001b[43m,\u001b[49m\u001b[43m \u001b[49m\u001b[38;5;124;43m\"\u001b[39;49m\u001b[38;5;124;43mMéxico\u001b[39;49m\u001b[38;5;124;43m\"\u001b[39;49m\u001b[43m,\u001b[49m\u001b[43m \u001b[49m\u001b[38;5;124;43m\"\u001b[39;49m\u001b[38;5;124;43mMichoacán\u001b[39;49m\u001b[38;5;124;43m\"\u001b[39;49m\u001b[43m)\u001b[49m\n",
      "\u001b[1;31mTypeError\u001b[0m: saludar() takes from 2 to 3 positional arguments but 4 were given"
     ]
    }
   ],
   "source": [
    "saludar(\"Virginia\", 1990, \"México\", \"Michoacán\")"
   ]
  },
  {
   "cell_type": "markdown",
   "id": "6f1afaae",
   "metadata": {},
   "source": [
    "#### Argumentos con palabras clave incorrectos\n",
    "\n",
    "Si pasamos un argumento con palabras clave incorrecto, Python nos arrojará un error indicando que el parámetro no existe:"
   ]
  },
  {
   "cell_type": "code",
   "execution_count": 14,
   "id": "787224eb",
   "metadata": {},
   "outputs": [
    {
     "ename": "TypeError",
     "evalue": "saludar() got an unexpected keyword argument 'lugar_de_residencia'",
     "output_type": "error",
     "traceback": [
      "\u001b[1;31m---------------------------------------------------------------------------\u001b[0m",
      "\u001b[1;31mTypeError\u001b[0m                                 Traceback (most recent call last)",
      "Cell \u001b[1;32mIn[14], line 1\u001b[0m\n\u001b[1;32m----> 1\u001b[0m \u001b[43msaludar\u001b[49m\u001b[43m(\u001b[49m\u001b[38;5;124;43m\"\u001b[39;49m\u001b[38;5;124;43mVirginia\u001b[39;49m\u001b[38;5;124;43m\"\u001b[39;49m\u001b[43m,\u001b[49m\u001b[43m \u001b[49m\u001b[38;5;241;43m1990\u001b[39;49m\u001b[43m,\u001b[49m\u001b[43m \u001b[49m\u001b[43mlugar_de_nacimiento\u001b[49m\u001b[38;5;241;43m=\u001b[39;49m\u001b[38;5;124;43m\"\u001b[39;49m\u001b[38;5;124;43mMéxico\u001b[39;49m\u001b[38;5;124;43m\"\u001b[39;49m\u001b[43m,\u001b[49m\u001b[43m \u001b[49m\u001b[43mlugar_de_residencia\u001b[49m\u001b[38;5;241;43m=\u001b[39;49m\u001b[38;5;124;43m\"\u001b[39;49m\u001b[38;5;124;43mMichoacán\u001b[39;49m\u001b[38;5;124;43m\"\u001b[39;49m\u001b[43m)\u001b[49m\n",
      "\u001b[1;31mTypeError\u001b[0m: saludar() got an unexpected keyword argument 'lugar_de_residencia'"
     ]
    }
   ],
   "source": [
    "saludar(\"Virginia\", 1990, lugar_de_nacimiento=\"México\", lugar_de_residencia=\"Michoacán\")"
   ]
  },
  {
   "cell_type": "markdown",
   "id": "7f5bb1ce",
   "metadata": {},
   "source": [
    "Este error también puede presentarse si escribimos mal el nombre del parámetro:"
   ]
  },
  {
   "cell_type": "code",
   "execution_count": 15,
   "id": "c690b7f6",
   "metadata": {},
   "outputs": [
    {
     "ename": "TypeError",
     "evalue": "saludar() got an unexpected keyword argument 'nacimiento'",
     "output_type": "error",
     "traceback": [
      "\u001b[1;31m---------------------------------------------------------------------------\u001b[0m",
      "\u001b[1;31mTypeError\u001b[0m                                 Traceback (most recent call last)",
      "Cell \u001b[1;32mIn[15], line 1\u001b[0m\n\u001b[1;32m----> 1\u001b[0m \u001b[43msaludar\u001b[49m\u001b[43m(\u001b[49m\u001b[38;5;124;43m\"\u001b[39;49m\u001b[38;5;124;43mVirginia\u001b[39;49m\u001b[38;5;124;43m\"\u001b[39;49m\u001b[43m,\u001b[49m\u001b[43m \u001b[49m\u001b[38;5;241;43m1990\u001b[39;49m\u001b[43m,\u001b[49m\u001b[43m \u001b[49m\u001b[43mnacimiento\u001b[49m\u001b[38;5;241;43m=\u001b[39;49m\u001b[38;5;124;43m\"\u001b[39;49m\u001b[38;5;124;43mMéxico\u001b[39;49m\u001b[38;5;124;43m\"\u001b[39;49m\u001b[43m)\u001b[49m\n",
      "\u001b[1;31mTypeError\u001b[0m: saludar() got an unexpected keyword argument 'nacimiento'"
     ]
    }
   ],
   "source": [
    "saludar(\"Virginia\", 1990, nacimiento=\"México\")"
   ]
  },
  {
   "cell_type": "markdown",
   "id": "bbbb4fe4",
   "metadata": {},
   "source": [
    "## En resumen\n",
    "\n",
    "Las funciones son bloques de código que podemos reutilizar en cualquier parte del programa o incluso en otros programas. Hemos visto la sintaxis de las funciones y aprendimos a evitar algunos errores comunes al pasar argumentos a una función. En la siguiente lección, veremos cómo podemos lograr recibir información directamente del usuario del programa con el método `input`."
   ]
  }
 ],
 "metadata": {
  "jupytext": {
   "cell_metadata_filter": "-all",
   "formats": "md:myst",
   "text_representation": {
    "extension": ".md",
    "format_name": "myst",
    "format_version": 0.13,
    "jupytext_version": "1.14.4"
   }
  },
  "kernelspec": {
   "display_name": "Python 3 (ipykernel)",
   "language": "python",
   "name": "python3"
  },
  "language_info": {
   "codemirror_mode": {
    "name": "ipython",
    "version": 3
   },
   "file_extension": ".py",
   "mimetype": "text/x-python",
   "name": "python",
   "nbconvert_exporter": "python",
   "pygments_lexer": "ipython3",
   "version": "3.11.4"
  },
  "source_map": [
   14,
   41,
   46,
   60,
   65,
   81,
   87,
   91,
   93,
   101,
   116,
   130,
   132,
   143,
   145,
   149,
   151,
   155,
   157,
   165,
   182,
   186,
   188,
   203,
   207,
   209,
   215,
   217,
   221,
   223
  ]
 },
 "nbformat": 4,
 "nbformat_minor": 5
}