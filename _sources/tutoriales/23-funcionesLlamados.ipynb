{
 "cells": [
  {
   "cell_type": "markdown",
   "id": "6096d0c1",
   "metadata": {},
   "source": [
    "# Funciones y modularidad\n",
    "\n",
    "La modularidad es una técnica de diseño de software que consiste en dividir un programa en partes más pequeñas, llamadas módulos. Cada módulo tiene una responsabilidad específica y se encarga de realizar una tarea concreta. Los módulos se comunican entre sí mediante llamadas a funciones. De esta forma, el programa se divide en partes más pequeñas y más fáciles de entender y modificar.\n",
    "\n",
    "En la programación funcional se aplica el principio de modularidad para indicar que cada función realiza una tarea concreta e independiente de las demás.\n",
    "\n",
    "Por ejemplo, en nuestra función `saludar()` podemos dividirla en dos partes: una que se encarga de solicitar el año de nacimiento para calcular la edad y otra que se encarga de saludar al usuario:"
   ]
  },
  {
   "cell_type": "code",
   "execution_count": 1,
   "id": "41ab3200",
   "metadata": {},
   "outputs": [],
   "source": [
    "def edad(anio):\n",
    "    return 2023 - int(anio)\n",
    "\n",
    "def saludar(nombre, fecha_nacimiento=1990, lugar_de_nacimiento=\"Colombia\"):\n",
    "    return f\"Hola {nombre}, tienes {edad(fecha_nacimiento)} años y naciste en {lugar_de_nacimiento}\""
   ]
  },
  {
   "cell_type": "markdown",
   "id": "a828118b",
   "metadata": {},
   "source": [
    "En este sentido, podemos llamar a la función `saludar()` sin necesidad de llamar a la función `edad()`:"
   ]
  },
  {
   "cell_type": "code",
   "execution_count": 2,
   "id": "4c5ee3a3",
   "metadata": {},
   "outputs": [
    {
     "data": {
      "text/plain": [
       "'Hola Juan, tienes 43 años y naciste en Colombia'"
      ]
     },
     "execution_count": 2,
     "metadata": {},
     "output_type": "execute_result"
    }
   ],
   "source": [
    "saludar(\"Juan\", 1980, \"Colombia\")"
   ]
  },
  {
   "cell_type": "markdown",
   "id": "17ffe9fd",
   "metadata": {},
   "source": [
    "Pero también podemos llamar a la función `edad()` sin necesidad de llamar a la función `saludar()`:"
   ]
  },
  {
   "cell_type": "code",
   "execution_count": 3,
   "id": "069af0a1",
   "metadata": {},
   "outputs": [
    {
     "data": {
      "text/plain": [
       "43"
      ]
     },
     "execution_count": 3,
     "metadata": {},
     "output_type": "execute_result"
    }
   ],
   "source": [
    "edad(1980)"
   ]
  },
  {
   "cell_type": "markdown",
   "id": "164f0da4",
   "metadata": {},
   "source": [
    "```{admonition} Programación funcional\n",
    ":class: tip\n",
    "En la programación funcional, cada función realiza una tarea concreta e independiente de las demás. Por lo tanto, las funciones no deben depender de otras funciones para funcionar. En este ejemplo, la función `edad()` no depende de la función `saludar()` para funcionar. La función `saludar()` usar la función `edad()` para calcular la edad del usuario, lo que es un ejemplo de **composición de funciones**, un aspecto clave de la programación funcional.\n",
    "```\n",
    "\n",
    "Podemos hacer algo similar con nuestra función `extraer_fechas()` para hacerla un poco más sintética:"
   ]
  },
  {
   "cell_type": "code",
   "execution_count": 4,
   "id": "f71ccb59",
   "metadata": {},
   "outputs": [],
   "source": [
    "def separador(palabra, caracter):\n",
    "    \"\"\"Separa una palabra en una lista de palabras según un caracter.\n",
    "\n",
    "    Parámetros\n",
    "    ----------\n",
    "    palabra: str\n",
    "        Palabra a separar\n",
    "    caracter: str\n",
    "        Caracter por el cual se separará la palabra\n",
    "\n",
    "    Retorna\n",
    "    -------\n",
    "    palabras: list\n",
    "        Lista de palabras separadas\n",
    "    \"\"\"\n",
    "    palabras = []\n",
    "    for palabra in palabra.split(caracter):\n",
    "        if palabra.isdigit() and len(palabra) == 4:\n",
    "            palabras.append(palabra)\n",
    "    return palabras\n",
    "\n",
    "def extraer_fechas(texto):\n",
    "    \"\"\"Extrae todas las fechas que aparezcan en un texto.\n",
    "    \n",
    "    Parámetros\n",
    "    ----------\n",
    "    texto: str\n",
    "        Texto del cual se extraerán las fechas\n",
    "\n",
    "    Retorna\n",
    "    -------\n",
    "    fechas: list\n",
    "        Lista de fechas extraídas del texto\n",
    "    \"\"\"\n",
    "    fechas = []\n",
    "    for palabra in texto.split():\n",
    "        palabra = palabra = palabra.strip(\",;:()[]{}\")\n",
    "        if palabra.endswith(\".\"):\n",
    "            palabra = palabra.replace(\".\", \"\")\n",
    "\n",
    "        if palabra.isdigit() and len(palabra) == 4:\n",
    "            fechas.append(palabra)\n",
    "        elif len(palabra) > 5 and \"-\" in palabra:\n",
    "            fechas.extend(separador(palabra, \"-\"))\n",
    "        elif len(palabra) > 5 and \".\" in palabra:\n",
    "            fechas.extend(separador(palabra, \".\"))\n",
    "\n",
    "    return fechas"
   ]
  },
  {
   "cell_type": "markdown",
   "id": "a473c3c0",
   "metadata": {},
   "source": [
    "El efecto en nuestro programa es el mismo:"
   ]
  },
  {
   "cell_type": "code",
   "execution_count": 5,
   "id": "c61b3c98",
   "metadata": {},
   "outputs": [
    {
     "name": "stdout",
     "output_type": "stream",
     "text": [
      "[['1547', '1616'], ['1580', '1645'], ['1600', '1681']]\n"
     ]
    }
   ],
   "source": [
    "Cervantes = \"Miguel de Cervantes Saavedra (Alcalá de Henares,4​ 29 de septiembre de 1547-Madrid, 22 de abril3​ de 1616) fue un novelista, poeta, dramaturgo y soldado español.\"\n",
    "Quevedo = \"Francisco Gómez de Quevedo Villegas y Santibáñez Cevallos (Madrid, 14 de septiembre de 1580-Villanueva de los Infantes, Ciudad Real, 8 de septiembre de 1645) fue un noble, político y escritor español del Siglo de Oro.\"\n",
    "Calderon = \"Pedro Calderón de la Barca (Madrid, 17 de enero de 1600-25 de mayo de 1681) fue un escritor español, sacerdote católico, miembro de la Venerable Congregación de Presbíteros Seculares Naturales de Madrid San Pedro Apóstol y caballero de la Orden de Santiago, conocido fundamentalmente por ser uno de los más insignes literatos barrocos del Siglo de Oro, en especial por su teatro.\"\n",
    "\n",
    "bios = [Cervantes, Quevedo, Calderon]\n",
    "\n",
    "fechas = []\n",
    "for b in bios:\n",
    "    fechas.append(extraer_fechas(b))\n",
    "\n",
    "print(fechas)"
   ]
  },
  {
   "cell_type": "markdown",
   "id": "dc05fc9d",
   "metadata": {},
   "source": [
    "Aun mejor, podemos utilizar la función `separador()` en cualquier otro momento:"
   ]
  },
  {
   "cell_type": "code",
   "execution_count": 6,
   "id": "472ee3ba",
   "metadata": {},
   "outputs": [
    {
     "name": "stdout",
     "output_type": "stream",
     "text": [
      "['1580']\n"
     ]
    }
   ],
   "source": [
    "texto = \"1580-Villanueva\"\n",
    "print(separador(texto, \"-\"))"
   ]
  },
  {
   "cell_type": "markdown",
   "id": "5ab85f22",
   "metadata": {},
   "source": [
    "Habrás notado que esto es un asunto de diseño más que de funcionalidad. La modularidad hace que el código sea más fácil de leer y mantener, por ello es sumamente recomendable utilizar este tipo de técnicas de diseño."
   ]
  }
 ],
 "metadata": {
  "jupytext": {
   "cell_metadata_filter": "-all",
   "formats": "md:myst",
   "text_representation": {
    "extension": ".md",
    "format_name": "myst",
    "format_version": 0.13,
    "jupytext_version": "1.14.4"
   }
  },
  "kernelspec": {
   "display_name": "Python 3 (ipykernel)",
   "language": "python",
   "name": "python3"
  },
  "language_info": {
   "codemirror_mode": {
    "name": "ipython",
    "version": 3
   },
   "file_extension": ".py",
   "mimetype": "text/x-python",
   "name": "python",
   "nbconvert_exporter": "python",
   "pygments_lexer": "ipython3",
   "version": "3.11.4"
  },
  "source_map": [
   14,
   24,
   30,
   34,
   36,
   40,
   42,
   51,
   100,
   104,
   116,
   120,
   123
  ]
 },
 "nbformat": 4,
 "nbformat_minor": 5
}