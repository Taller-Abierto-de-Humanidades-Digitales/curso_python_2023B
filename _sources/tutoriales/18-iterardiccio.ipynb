{
 "cells": [
  {
   "cell_type": "markdown",
   "id": "e8c9a442",
   "metadata": {},
   "source": [
    "# Iterar a través de un diccionario\n",
    "\n",
    "Un diccionario es una estructura de datos y, como tal, puede contener una cantidad sumamente grande de elementos. En cuanto mayor sea el tamaño del diccionario, las operaciones para acceder a los valores deben ser un poco más complejas. En este capítulo veremos cómo iterar a través de un diccionario.\n",
    "\n",
    "Para estos ejercicios, crearemos un diccionario a partir de la siguiente bibliografía:"
   ]
  },
  {
   "cell_type": "code",
   "execution_count": 1,
   "id": "453650cf",
   "metadata": {},
   "outputs": [],
   "source": [
    "bibliografia = {\n",
    "    \"001\": {\n",
    "        \"tipo\": \"libro\",\n",
    "        \"autor\": [{\"nombre\": \"Martin\", \"apellido\": \"Heidegger\"}],\n",
    "        \"titulo\": \"Ser y tiempo\",\n",
    "        \"editorial\": \"Trotta\",\n",
    "        \"lugar\": \"Madrid\",\n",
    "        \"fecha\": 2003\n",
    "    },\n",
    "    \"002\": {\n",
    "        \"tipo\": \"libro\",\n",
    "        \"autor\": [{\"nombre\": \"Fernand\", \"apellido\": \"Braudel\"}],\n",
    "        \"titulo\": \"El Mediterráneo y el mundo mediterráneo en la época de Felipe II\",\n",
    "        \"editorial\": \"Fondo de Cultura Económica\",\n",
    "        \"lugar\": \"México\",\n",
    "        \"fecha\": 2022,\n",
    "        \"edicion\": \"tercera\"\n",
    "    },\n",
    "    \"003\": {\n",
    "        \"tipo\": \"libro\",\n",
    "        \"autor\": [{\"nombre\": \"Hans-Georg\", \"apellido\": \"Gadamer\"}],\n",
    "        \"titulo\": \"Verdad y método I: fundamentos de una hermenéutica filosófica\",\n",
    "        \"editorial\": \"Sígueme\",\n",
    "        \"lugar\": \"Salamanca\",\n",
    "        \"fecha\": 1996\n",
    "    },\n",
    "    \"004\": {\n",
    "        \"tipo\": \"libro\",\n",
    "        \"autor\": [{\"nombre\": \"Giorgio\", \"apellido\": \"Agamben\"}],\n",
    "        \"titulo\": \"Estado de excepción\",\n",
    "        \"editorial\": \"Adriana Hidalgo Editora\",\n",
    "        \"lugar\": \"Buenos Aires\",\n",
    "        \"fecha\": 2010\n",
    "    },\n",
    "    \"005\": {\n",
    "        \"tipo\": \"libro\",\n",
    "        \"autor\": [{\"nombre\": \"Ludwig\", \"apellido\": \"Wittgenstein\"}],\n",
    "        \"titulo\": \"Zettel\",\n",
    "        \"editorial\": \"University of California Press\",\n",
    "        \"lugar\": \"Berkeley\",\n",
    "        \"fecha\": 1970,\n",
    "        \"idioma\": \"en\"\n",
    "    }\n",
    "}\n",
    "    "
   ]
  },
  {
   "cell_type": "markdown",
   "id": "4c4cef46",
   "metadata": {},
   "source": [
    "Como verás, la estructura diccionario contiene una serie de claves propias de un conjunto bibliográfico: `tipo`, `autor`, `título`, `editorial`, `lugar`, `fecha`, `edición` y `idioma`. No todos los elementos tienen todas las claves, por lo que debemos considerar que el campo está vacío si no existe.\n",
    "\n",
    "## Iterar a través pares clave-valor\n",
    "\n",
    "Para iterar a través de un diccionario, podemos utilizar el método `items()`. Este método devuelve una lista de tuplas, donde cada tupla contiene una clave y su valor correspondiente."
   ]
  },
  {
   "cell_type": "code",
   "execution_count": 2,
   "id": "1bb21d89",
   "metadata": {},
   "outputs": [
    {
     "name": "stdout",
     "output_type": "stream",
     "text": [
      "Clave: 001 :: Valor: {'tipo': 'libro', 'autor': [{'nombre': 'Martin', 'apellido': 'Heidegger'}], 'titulo': 'Ser y tiempo', 'editorial': 'Trotta', 'lugar': 'Madrid', 'fecha': 2003}\n",
      "Clave: 002 :: Valor: {'tipo': 'libro', 'autor': [{'nombre': 'Fernand', 'apellido': 'Braudel'}], 'titulo': 'El Mediterráneo y el mundo mediterráneo en la época de Felipe II', 'editorial': 'Fondo de Cultura Económica', 'lugar': 'México', 'fecha': 2022, 'edicion': 'tercera'}\n",
      "Clave: 003 :: Valor: {'tipo': 'libro', 'autor': [{'nombre': 'Hans-Georg', 'apellido': 'Gadamer'}], 'titulo': 'Verdad y método I: fundamentos de una hermenéutica filosófica', 'editorial': 'Sígueme', 'lugar': 'Salamanca', 'fecha': 1996}\n",
      "Clave: 004 :: Valor: {'tipo': 'libro', 'autor': [{'nombre': 'Giorgio', 'apellido': 'Agamben'}], 'titulo': 'Estado de excepción', 'editorial': 'Adriana Hidalgo Editora', 'lugar': 'Buenos Aires', 'fecha': 2010}\n",
      "Clave: 005 :: Valor: {'tipo': 'libro', 'autor': [{'nombre': 'Ludwig', 'apellido': 'Wittgenstein'}], 'titulo': 'Zettel', 'editorial': 'University of California Press', 'lugar': 'Berkeley', 'fecha': 1970, 'idioma': 'en'}\n"
     ]
    }
   ],
   "source": [
    "for clave, valor in bibliografia.items():\n",
    "    print(f\"Clave: {clave} :: Valor: {valor}\")"
   ]
  },
  {
   "cell_type": "markdown",
   "id": "a9663b78",
   "metadata": {},
   "source": [
    "En este caso la clave es el identificador de cada elemento bibliográfico (por ejemplo, `001`), y el valor es el diccionario que contiene los campos de cada libro.\n",
    "\n",
    "Iterar sobre este diccionario sería útil para, por ejemplo, obtener un listado de todos los libros que se encuentran en la bibliografía. Para ello, podemos utilizar la clave `tipo` para filtrar los elementos que sean libros."
   ]
  },
  {
   "cell_type": "code",
   "execution_count": 3,
   "id": "6454da38",
   "metadata": {},
   "outputs": [
    {
     "name": "stdout",
     "output_type": "stream",
     "text": [
      "        LISTADO DE LIBROS\n",
      "\n",
      "        Identificador: 001\n",
      "        Título: Ser y tiempo\n",
      "        Autor: Heidegger, Martin\n",
      "        Editorial: Trotta\n",
      "        Lugar: Madrid\n",
      "        Fecha: 2003\n",
      "        \n",
      "\n",
      "        Identificador: 002\n",
      "        Título: El Mediterráneo y el mundo mediterráneo en la época de Felipe II\n",
      "        Autor: Braudel, Fernand\n",
      "        Editorial: Fondo de Cultura Económica\n",
      "        Lugar: México\n",
      "        Fecha: 2022\n",
      "        \n",
      "\n",
      "        Identificador: 003\n",
      "        Título: Verdad y método I: fundamentos de una hermenéutica filosófica\n",
      "        Autor: Gadamer, Hans-Georg\n",
      "        Editorial: Sígueme\n",
      "        Lugar: Salamanca\n",
      "        Fecha: 1996\n",
      "        \n",
      "\n",
      "        Identificador: 004\n",
      "        Título: Estado de excepción\n",
      "        Autor: Agamben, Giorgio\n",
      "        Editorial: Adriana Hidalgo Editora\n",
      "        Lugar: Buenos Aires\n",
      "        Fecha: 2010\n",
      "        \n",
      "\n",
      "        Identificador: 005\n",
      "        Título: Zettel\n",
      "        Autor: Wittgenstein, Ludwig\n",
      "        Editorial: University of California Press\n",
      "        Lugar: Berkeley\n",
      "        Fecha: 1970\n",
      "        \n"
     ]
    }
   ],
   "source": [
    "print(\"        Listado de libros\".upper())\n",
    "\n",
    "for clave, valor in bibliografia.items():\n",
    "    if valor[\"tipo\"] == \"libro\":\n",
    "        print(f\"\"\"\n",
    "        Identificador: {clave}\n",
    "        Título: {valor[\"titulo\"]}\n",
    "        Autor: {valor[\"autor\"][0][\"apellido\"]}, {valor[\"autor\"][0][\"nombre\"]}\n",
    "        Editorial: {valor[\"editorial\"]}\n",
    "        Lugar: {valor[\"lugar\"]}\n",
    "        Fecha: {valor[\"fecha\"]}\n",
    "        \"\"\")"
   ]
  },
  {
   "cell_type": "markdown",
   "id": "1018d7ac",
   "metadata": {},
   "source": [
    "## Iterar a través de las claves\n",
    "\n",
    "Si queremos iterar a través de las claves de un diccionario, podemos utilizar el método `keys()`."
   ]
  },
  {
   "cell_type": "code",
   "execution_count": 4,
   "id": "aecaba33",
   "metadata": {},
   "outputs": [
    {
     "name": "stdout",
     "output_type": "stream",
     "text": [
      "Clave: 001\n",
      "Clave: 002\n",
      "Clave: 003\n",
      "Clave: 004\n",
      "Clave: 005\n"
     ]
    }
   ],
   "source": [
    "for clave in bibliografia.keys():\n",
    "    print(f\"Clave: {clave}\")"
   ]
  },
  {
   "cell_type": "markdown",
   "id": "04243f2e",
   "metadata": {},
   "source": [
    "De hecho, este es el comportamiento predeterminado al iterar sobre un diccionario, de tal manera que si no utilizamos la función `keys()`, el resultado será el mismo."
   ]
  },
  {
   "cell_type": "code",
   "execution_count": 5,
   "id": "e6fef34d",
   "metadata": {},
   "outputs": [
    {
     "name": "stdout",
     "output_type": "stream",
     "text": [
      "Clave: 001\n",
      "Clave: 002\n",
      "Clave: 003\n",
      "Clave: 004\n",
      "Clave: 005\n"
     ]
    }
   ],
   "source": [
    "for clave in bibliografia:\n",
    "    print(f\"Clave: {clave}\")"
   ]
  },
  {
   "cell_type": "markdown",
   "id": "c058585a",
   "metadata": {},
   "source": [
    "Usar o no la función `keys()` es un asunto de legibilidad.\n",
    "\n",
    "La utilidad de iterar sobre las claves está en el hecho de que podemos utilizarlas para acceder a los valores correspondientes, por ejemplo:"
   ]
  },
  {
   "cell_type": "code",
   "execution_count": 6,
   "id": "c5cdab0d",
   "metadata": {},
   "outputs": [
    {
     "name": "stdout",
     "output_type": "stream",
     "text": [
      "ID: 001\n",
      "Título: Ser y tiempo\n",
      "ID: 002\n",
      "Título: El Mediterráneo y el mundo mediterráneo en la época de Felipe II\n",
      "ID: 003\n",
      "Título: Verdad y método I: fundamentos de una hermenéutica filosófica\n",
      "ID: 004\n",
      "Título: Estado de excepción\n",
      "ID: 005\n",
      "Título: Zettel\n"
     ]
    }
   ],
   "source": [
    "for clave in bibliografia.keys():\n",
    "    print(f\"ID: {clave}\\nTítulo: {bibliografia[clave]['titulo']}\")"
   ]
  },
  {
   "cell_type": "markdown",
   "id": "0e45f7bb",
   "metadata": {},
   "source": [
    "También, debido a que el método `keys()` devuelve una lista de claves, podemos aplicar cualquiera de los métodos de listas que hemos visto, por ejemplo, determinar si una clave está en el diccionario:"
   ]
  },
  {
   "cell_type": "code",
   "execution_count": 7,
   "id": "a9925f18",
   "metadata": {},
   "outputs": [
    {
     "name": "stdout",
     "output_type": "stream",
     "text": [
      "La clave 006 no existe en el diccionario\n"
     ]
    }
   ],
   "source": [
    "if \"006\" not in bibliografia.keys():\n",
    "    print(\"La clave 006 no existe en el diccionario\")"
   ]
  },
  {
   "cell_type": "markdown",
   "id": "d82d444d",
   "metadata": {},
   "source": [
    "## Agregar elementos de una lista a un diccionario\n",
    "\n",
    "Ahora, veamos cómo podemos agregar elementos de una lista a un diccionario. Por ejemplo, si tenemos una lista similar a la de los ejercicios anteriores:"
   ]
  },
  {
   "cell_type": "code",
   "execution_count": 8,
   "id": "9deb3b59",
   "metadata": {},
   "outputs": [],
   "source": [
    "lista_bibliografia = [\n",
    "    \"Edgar Alan Poe; Cuentos completos; 2019; Alianza Editorial\",\n",
    "    \"David Hume; Del conocimiento; 1984; Aguilar\",\n",
    "    \"Ludwig Wittgenstein; Tractatus Logico-Philosophicus; 2017; Tecnos\",\n",
    "    \"Francois Hartog; Cronos; 2022; Siglo XXI\",\n",
    "    \"David Spiegelhalter; The art of statistics; 2021; Basic Books\"\n",
    "]\n"
   ]
  },
  {
   "cell_type": "markdown",
   "id": "d7eb277c",
   "metadata": {},
   "source": [
    "Podemos crear agregar estos elementos al diccionario `bibliografia` de la siguiente manera:"
   ]
  },
  {
   "cell_type": "code",
   "execution_count": 9,
   "id": "bdc4321c",
   "metadata": {},
   "outputs": [],
   "source": [
    "for elemento in lista_bibliografia:\n",
    "    # obtener la última clave del diccionario, convertirla a entero y sumarle 1\n",
    "    clave = int(list(bibliografia.keys())[-1]) + 1\n",
    "    # convertir la clave a string y darle el formato de 3 dígitos\n",
    "    clave = str(clave).zfill(3)\n",
    "    # agregar el elemento a la bibliografía\n",
    "    bibliografia[clave] = {\n",
    "        \"tipo\": \"libro\",\n",
    "        \"autor\": [{\"nombre\": elemento.split(\";\")[0].split(\" \")[0], \"apellido\": elemento.split(\";\")[0].split(\" \")[1]}],\n",
    "        \"titulo\": elemento.split(\";\")[1],\n",
    "        \"editorial\": elemento.split(\";\")[3],\n",
    "        \"fecha\": int(elemento.split(\";\")[2]),\n",
    "        \"lugar\": \"\" # dejamos vacío el campo lugar para evitar errores en la iteración\n",
    "    }\n"
   ]
  },
  {
   "cell_type": "markdown",
   "id": "1d2e8c7b",
   "metadata": {},
   "source": [
    "Podemos iterar sobre los valores para comprobar que se han agregado correctamente:"
   ]
  },
  {
   "cell_type": "code",
   "execution_count": 10,
   "id": "a4f1e477",
   "metadata": {},
   "outputs": [
    {
     "name": "stdout",
     "output_type": "stream",
     "text": [
      "        LISTADO DE LIBROS\n",
      "\n",
      "        Identificador: 001\n",
      "        Título: Ser y tiempo\n",
      "        Autor: Heidegger, Martin\n",
      "        Editorial: Trotta\n",
      "        Lugar: Madrid\n",
      "        Fecha: 2003\n",
      "        \n",
      "\n",
      "        Identificador: 002\n",
      "        Título: El Mediterráneo y el mundo mediterráneo en la época de Felipe II\n",
      "        Autor: Braudel, Fernand\n",
      "        Editorial: Fondo de Cultura Económica\n",
      "        Lugar: México\n",
      "        Fecha: 2022\n",
      "        \n",
      "\n",
      "        Identificador: 003\n",
      "        Título: Verdad y método I: fundamentos de una hermenéutica filosófica\n",
      "        Autor: Gadamer, Hans-Georg\n",
      "        Editorial: Sígueme\n",
      "        Lugar: Salamanca\n",
      "        Fecha: 1996\n",
      "        \n",
      "\n",
      "        Identificador: 004\n",
      "        Título: Estado de excepción\n",
      "        Autor: Agamben, Giorgio\n",
      "        Editorial: Adriana Hidalgo Editora\n",
      "        Lugar: Buenos Aires\n",
      "        Fecha: 2010\n",
      "        \n",
      "\n",
      "        Identificador: 005\n",
      "        Título: Zettel\n",
      "        Autor: Wittgenstein, Ludwig\n",
      "        Editorial: University of California Press\n",
      "        Lugar: Berkeley\n",
      "        Fecha: 1970\n",
      "        \n",
      "\n",
      "        Identificador: 006\n",
      "        Título:  Cuentos completos\n",
      "        Autor: Alan, Edgar\n",
      "        Editorial:  Alianza Editorial\n",
      "        Lugar: \n",
      "        Fecha: 2019\n",
      "        \n",
      "\n",
      "        Identificador: 007\n",
      "        Título:  Del conocimiento\n",
      "        Autor: Hume, David\n",
      "        Editorial:  Aguilar\n",
      "        Lugar: \n",
      "        Fecha: 1984\n",
      "        \n",
      "\n",
      "        Identificador: 008\n",
      "        Título:  Tractatus Logico-Philosophicus\n",
      "        Autor: Wittgenstein, Ludwig\n",
      "        Editorial:  Tecnos\n",
      "        Lugar: \n",
      "        Fecha: 2017\n",
      "        \n",
      "\n",
      "        Identificador: 009\n",
      "        Título:  Cronos\n",
      "        Autor: Hartog, Francois\n",
      "        Editorial:  Siglo XXI\n",
      "        Lugar: \n",
      "        Fecha: 2022\n",
      "        \n",
      "\n",
      "        Identificador: 010\n",
      "        Título:  The art of statistics\n",
      "        Autor: Spiegelhalter, David\n",
      "        Editorial:  Basic Books\n",
      "        Lugar: \n",
      "        Fecha: 2021\n",
      "        \n"
     ]
    }
   ],
   "source": [
    "print(\"        Listado de libros\".upper())\n",
    "for clave, valor in bibliografia.items():\n",
    "    if valor[\"tipo\"] == \"libro\":\n",
    "        print(f\"\"\"\n",
    "        Identificador: {clave}\n",
    "        Título: {valor[\"titulo\"]}\n",
    "        Autor: {valor[\"autor\"][0][\"apellido\"]}, {valor[\"autor\"][0][\"nombre\"]}\n",
    "        Editorial: {valor[\"editorial\"]}\n",
    "        Lugar: {valor[\"lugar\"]}\n",
    "        Fecha: {valor[\"fecha\"]}\n",
    "        \"\"\")"
   ]
  },
  {
   "cell_type": "markdown",
   "id": "6f2ef830",
   "metadata": {},
   "source": [
    "## Agregar valores a través de diccionarios\n",
    "\n",
    "Ahora, supongamos que queremos corregir el valor vacío del campo `lugar` para los libros que hemos agregado. Para ello, podemos crear un diccionario con los valores correspondientes:"
   ]
  },
  {
   "cell_type": "code",
   "execution_count": 11,
   "id": "39754671",
   "metadata": {},
   "outputs": [],
   "source": [
    "lugares = {\n",
    "    \"006\": \"Madrid\",\n",
    "    \"007\": \"Madrid\",\n",
    "    \"008\": \"Madrid\",\n",
    "    \"009\": \"México\",\n",
    "    \"010\": \"Nueva York\"\n",
    "}"
   ]
  },
  {
   "cell_type": "markdown",
   "id": "f8a94d5a",
   "metadata": {},
   "source": [
    "Y luego, iterar sobre el diccionario `lugares` para agregar los valores correspondientes al diccionario `bibliografia`:"
   ]
  },
  {
   "cell_type": "code",
   "execution_count": 12,
   "id": "cfc738bb",
   "metadata": {},
   "outputs": [],
   "source": [
    "for clave, valor in lugares.items():\n",
    "    bibliografia[clave][\"lugar\"] = valor\n"
   ]
  },
  {
   "cell_type": "markdown",
   "id": "5e1e62f5",
   "metadata": {},
   "source": [
    "Nota que lo que hicimos en esta operación fue tomar el valor coincidente en ambos diccionarios (la clave) y tomar el único valor que tiene el diccionario ``lugares` para esa clave. Debido a que la coincidencia es la clave, podemos utilizarla para acceder al valor correspondiente en el diccionario `bibliografia` y agregar el valor correspondiente a la clave anidada `lugar`.\n",
    "\n",
    "Finalmente, podemos volver a iterar sobre el diccionario `bibliografia` para comprobar que los valores se han agregado correctamente:"
   ]
  },
  {
   "cell_type": "code",
   "execution_count": 13,
   "id": "886a617a",
   "metadata": {},
   "outputs": [
    {
     "name": "stdout",
     "output_type": "stream",
     "text": [
      "        LISTADO DE LIBROS\n",
      "\n",
      "        Identificador: 001\n",
      "        Título: Ser y tiempo\n",
      "        Autor: Heidegger, Martin\n",
      "        Editorial: Trotta\n",
      "        Lugar: Madrid\n",
      "        Fecha: 2003\n",
      "        \n",
      "\n",
      "        Identificador: 002\n",
      "        Título: El Mediterráneo y el mundo mediterráneo en la época de Felipe II\n",
      "        Autor: Braudel, Fernand\n",
      "        Editorial: Fondo de Cultura Económica\n",
      "        Lugar: México\n",
      "        Fecha: 2022\n",
      "        \n",
      "\n",
      "        Identificador: 003\n",
      "        Título: Verdad y método I: fundamentos de una hermenéutica filosófica\n",
      "        Autor: Gadamer, Hans-Georg\n",
      "        Editorial: Sígueme\n",
      "        Lugar: Salamanca\n",
      "        Fecha: 1996\n",
      "        \n",
      "\n",
      "        Identificador: 004\n",
      "        Título: Estado de excepción\n",
      "        Autor: Agamben, Giorgio\n",
      "        Editorial: Adriana Hidalgo Editora\n",
      "        Lugar: Buenos Aires\n",
      "        Fecha: 2010\n",
      "        \n",
      "\n",
      "        Identificador: 005\n",
      "        Título: Zettel\n",
      "        Autor: Wittgenstein, Ludwig\n",
      "        Editorial: University of California Press\n",
      "        Lugar: Berkeley\n",
      "        Fecha: 1970\n",
      "        \n",
      "\n",
      "        Identificador: 006\n",
      "        Título:  Cuentos completos\n",
      "        Autor: Alan, Edgar\n",
      "        Editorial:  Alianza Editorial\n",
      "        Lugar: Madrid\n",
      "        Fecha: 2019\n",
      "        \n",
      "\n",
      "        Identificador: 007\n",
      "        Título:  Del conocimiento\n",
      "        Autor: Hume, David\n",
      "        Editorial:  Aguilar\n",
      "        Lugar: Madrid\n",
      "        Fecha: 1984\n",
      "        \n",
      "\n",
      "        Identificador: 008\n",
      "        Título:  Tractatus Logico-Philosophicus\n",
      "        Autor: Wittgenstein, Ludwig\n",
      "        Editorial:  Tecnos\n",
      "        Lugar: Madrid\n",
      "        Fecha: 2017\n",
      "        \n",
      "\n",
      "        Identificador: 009\n",
      "        Título:  Cronos\n",
      "        Autor: Hartog, Francois\n",
      "        Editorial:  Siglo XXI\n",
      "        Lugar: México\n",
      "        Fecha: 2022\n",
      "        \n",
      "\n",
      "        Identificador: 010\n",
      "        Título:  The art of statistics\n",
      "        Autor: Spiegelhalter, David\n",
      "        Editorial:  Basic Books\n",
      "        Lugar: Nueva York\n",
      "        Fecha: 2021\n",
      "        \n"
     ]
    }
   ],
   "source": [
    "print(\"        Listado de libros\".upper())\n",
    "for clave, valor in bibliografia.items():\n",
    "    if valor[\"tipo\"] == \"libro\":\n",
    "        print(f\"\"\"\n",
    "        Identificador: {clave}\n",
    "        Título: {valor[\"titulo\"]}\n",
    "        Autor: {valor[\"autor\"][0][\"apellido\"]}, {valor[\"autor\"][0][\"nombre\"]}\n",
    "        Editorial: {valor[\"editorial\"]}\n",
    "        Lugar: {valor[\"lugar\"]}\n",
    "        Fecha: {valor[\"fecha\"]}\n",
    "        \"\"\")"
   ]
  },
  {
   "cell_type": "markdown",
   "id": "4998207b",
   "metadata": {},
   "source": [
    "## Síntesis\n",
    "\n",
    "Como habrás visto, los diccionarios son estructuras de datos que hacen muy eficiente la búsqueda y almacenamiento de información. En estos ejercicios todavía trabajamos con datos efímeros (se agregan, procesan y finalizan con el mismo programa), pero esta misma estructura se puede utilizar para almacenar información en archivos de texto (JSON) o bases de datos, y luego recuperarla para procesarla. Es por esta razón que es fundamental conocer y dominar los diccionarios."
   ]
  }
 ],
 "metadata": {
  "jupytext": {
   "cell_metadata_filter": "-all",
   "formats": "md:myst",
   "text_representation": {
    "extension": ".md",
    "format_name": "myst",
    "format_version": 0.13,
    "jupytext_version": "1.14.4"
   }
  },
  "kernelspec": {
   "display_name": "Python 3 (ipykernel)",
   "language": "python",
   "name": "python3"
  },
  "language_info": {
   "codemirror_mode": {
    "name": "ipython",
    "version": 3
   },
   "file_extension": ".py",
   "mimetype": "text/x-python",
   "name": "python",
   "nbconvert_exporter": "python",
   "pygments_lexer": "ipython3",
   "version": "3.11.1"
  },
  "source_map": [
   14,
   22,
   69,
   77,
   81,
   87,
   101,
   107,
   111,
   115,
   119,
   125,
   129,
   133,
   137,
   143,
   153,
   157,
   174,
   178,
   190,
   196,
   205,
   209,
   214,
   220,
   233
  ]
 },
 "nbformat": 4,
 "nbformat_minor": 5
}