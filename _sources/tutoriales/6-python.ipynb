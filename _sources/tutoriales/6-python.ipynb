{
 "cells": [
  {
   "cell_type": "markdown",
   "id": "91775a79",
   "metadata": {},
   "source": [
    "# Introducción a Python\n",
    "\n",
    "## ¿Qué es Python?\n",
    "\n",
    "Python es un lenguaje de programación interpretado, de alto nivel y multiplataforma. Es un lenguaje de programación **interpretado**, lo que significa que no es necesario compilar el código fuente para ejecutarlo. Es un lenguaje de programación de **alto nivel**, lo que significa que no es necesario preocuparse por detalles de bajo nivel como la gestión de memoria. Es un lenguaje de programación **multiplataforma**, lo que significa que se puede ejecutar en diferentes sistemas operativos como Windows, Mac y Linux.\n",
    "\n",
    "## Ventajas de Python\n",
    "\n",
    "* Es un lenguaje de programación fácil de aprender y de utilizar.\n",
    "* Es un lenguaje muy popular y tiene una gran comunidad de usuarios.\n",
    "* Es un lenguaje que permite escribir código de forma rápida y eficiente, es decir, con menos líneas de código.\n",
    "* Python cuenta con una extensa biblioteca estándar que nos permite resolver problemas de forma rápida y sencilla.\n",
    "* Los programas escritos en Python son fáciles de mantener y de depurar.\n",
    "\n",
    "## ¿Para qué se usa Python?\n",
    "\n",
    "Python es un lenguaje de programación enfocado en el desarrollo de software de aplicación. Es decir, se utiliza para crear aplicaciones de escritorio, aplicaciones web, aplicaciones móviles, etc. También es un lenguaje ampliamente utilizado en la investigación científica, la ciencia de datos y en el desarrollo de inteligencia artificial. En las aplicaciones Web, Python es especialmente utilizado en el backend, es decir, en el servidor.\n",
    "\n",
    "En general, es un muy buen lenguaje para aprender a programar y es posible desarrollar una carrera enfocada en el procesamiento y análisis de información. Por otra parte, después de conocer los conceptos básicos de programación, es posible aprender otros lenguajes de programación con otros propósitos como JavaScript, C++, Rust, etc.\n",
    "\n",
    "## Sintaxis básica de Python\n",
    "\n",
    "### Comentarios\n",
    "\n",
    "Los comentarios son líneas de código que no se ejecutan. Se utilizan para documentar el código y explicar qué hace cada parte del programa. En Python, los comentarios se escriben utilizando el símbolo `#` al principio de la línea."
   ]
  },
  {
   "cell_type": "code",
   "execution_count": 1,
   "id": "61d55021",
   "metadata": {},
   "outputs": [
    {
     "name": "stdout",
     "output_type": "stream",
     "text": [
      "Hola mundo\n"
     ]
    }
   ],
   "source": [
    "# Esto es un comentario\n",
    "print(\"Hola mundo\") # Esto también es un comentario"
   ]
  },
  {
   "cell_type": "markdown",
   "id": "03e7a134",
   "metadata": {},
   "source": [
    "### Indentación\n",
    "\n",
    "Python utiliza la indentación para definir bloques de código. Un bloque de código es un conjunto de líneas de código que se ejecutan juntas. En Python, los bloques de código se definen utilizando la indentación. La indentación es la sangría que se agrega al principio de una línea de código."
   ]
  },
  {
   "cell_type": "code",
   "execution_count": 2,
   "id": "117883f8",
   "metadata": {},
   "outputs": [
    {
     "name": "stdout",
     "output_type": "stream",
     "text": [
      "Ada\n",
      "Hola Ada\n"
     ]
    }
   ],
   "source": [
    "# Esto es un bloque de código\n",
    "nombre = \"Ada\"\n",
    "apellido = \"Lovelace\"\n",
    "\n",
    "# Esto es otro bloque de código\n",
    "print(nombre)\n",
    "\n",
    "# Esto es otro bloque de código\n",
    "\n",
    "if nombre == \"Ada\":\n",
    "    print(\"Hola Ada\")\n",
    "else:\n",
    "    print(\"Hola desconocido\")"
   ]
  },
  {
   "cell_type": "markdown",
   "id": "79f2c977",
   "metadata": {},
   "source": [
    "Con el tiempo iremos familiarizándonos con la indentación y aprenderemos a identificar los bloques de código. Por ahora, solo debes saber que la indentación es importante en Python y que debes utilizarla correctamente."
   ]
  }
 ],
 "metadata": {
  "jupytext": {
   "cell_metadata_filter": "-all",
   "formats": "md:myst",
   "text_representation": {
    "extension": ".md",
    "format_name": "myst",
    "format_version": 0.13,
    "jupytext_version": "1.14.4"
   }
  },
  "kernelspec": {
   "display_name": "Python 3 (ipykernel)",
   "language": "python",
   "name": "python3"
  },
  "language_info": {
   "codemirror_mode": {
    "name": "ipython",
    "version": 3
   },
   "file_extension": ".py",
   "mimetype": "text/x-python",
   "name": "python",
   "nbconvert_exporter": "python",
   "pygments_lexer": "ipython3",
   "version": "3.11.4"
  },
  "source_map": [
   14,
   42,
   45,
   51,
   65
  ]
 },
 "nbformat": 4,
 "nbformat_minor": 5
}