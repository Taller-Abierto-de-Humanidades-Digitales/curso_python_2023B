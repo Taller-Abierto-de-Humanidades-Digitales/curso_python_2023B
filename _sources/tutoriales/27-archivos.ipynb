{
 "cells": [
  {
   "cell_type": "markdown",
   "id": "04a36a07",
   "metadata": {},
   "source": [
    "# Leer y escribir archivos\n",
    "\n",
    "Es muy frecuente en un programa que necesitemos almacenar y recuperar información que debe estar disponible incluso cuando el programa no se esté ejecutando. En este apartado, veremos cómo hacerlo con archivos de texto, que corresponden a la manera más básica de almacenar información en un disco.\n",
    "\n",
    "## Abrir un archivo\n",
    "\n",
    "Para abrir un archivo, debemos usar la función `open()`. \n",
    "\n",
    "La sintaxis de `open()` es la siguiente:\n",
    "\n",
    "``` python\n",
    "objeto = open(nombre_archivo, modo)\n",
    "```\n",
    "\n",
    "La variable `objeto` es un objeto de tipo `file` que representa el archivo. Este objeto \"prepara\" el texto para poder ser leído o escrito.\n",
    "\n",
    "El parámetro `nombre_archivo` es una cadena de caracteres que contiene el nombre del archivo que se va a abrir. Si el archivo no existe, `open()` lo crea. Si el archivo ya existe, `open()` lo sobreescribe. Es relevante señalar que el nombre del archivo corresponde a una ruta en el directorio, de tal manera que si es un nombre simple, indica que el archivo se encuentra en el directorio actual desde el cual se ejecuta el programa.\n",
    "\n",
    "El parámetro `modo` puede ser `r` para abrir el archivo en modo lectura, `w` para abrirlo en modo escritura, o `a` para abrirlo en modo de anexión. Si se omite el parámetro `modo`, se asume que el archivo se abre en modo lectura.\n",
    "\n",
    "Veamos un ejemplo muy sencillo:"
   ]
  },
  {
   "cell_type": "code",
   "execution_count": 1,
   "id": "b4a7b811",
   "metadata": {},
   "outputs": [
    {
     "name": "stdout",
     "output_type": "stream",
     "text": [
      "<_io.TextIOWrapper name='../archivos/txt/ejemplo.txt' mode='r' encoding='cp1252'>\n"
     ]
    }
   ],
   "source": [
    "f = open(\"../archivos/txt/ejemplo.txt\", \"r\")\n",
    "print(f)"
   ]
  },
  {
   "cell_type": "markdown",
   "id": "082e3b4b",
   "metadata": {},
   "source": [
    "Notemos dos cosas en este ejemplo:\n",
    "\n",
    "1. El archivo `ejemplo.txt` se encuentra en el directorio `archivos/txt`, que es un subdirectorio del directorio raíz desde el cual se ejecuta el programa. Los dos puntos le indican a Python que la ruta se encuentra en el directorio \"padre\" del programa. Por lo tanto, el nombre del archivo es `../archivos/txt/ejemplo.txt`.\n",
    "2. La variable `f` es un objeto de tipo `file`. Este tipo de objetos tiene métodos que permiten leer y escribir en el archivo. Por esa razón, cuando hacemos un `print(f)`, se imprime la información del objeto `file`, la cual es fácil de reconocer porque comienza con `_io.TextIOWrapper`.\n",
    "\n",
    "## Leer un archivo\n",
    "\n",
    "Para leer un archivo, debemos usar el método `read()` del objeto `file`.\n",
    "\n",
    "La sintaxis de `read()` es la siguiente:\n",
    "\n",
    "``` python\n",
    "objeto.read()\n",
    "```\n",
    "\n",
    "Usemos el método `read()` para leer el archivo `ejemplo.txt`:"
   ]
  },
  {
   "cell_type": "code",
   "execution_count": 2,
   "id": "2518a197",
   "metadata": {},
   "outputs": [
    {
     "ename": "UnicodeDecodeError",
     "evalue": "'charmap' codec can't decode byte 0x81 in position 29: character maps to <undefined>",
     "output_type": "error",
     "traceback": [
      "\u001b[1;31m---------------------------------------------------------------------------\u001b[0m",
      "\u001b[1;31mUnicodeDecodeError\u001b[0m                        Traceback (most recent call last)",
      "Cell \u001b[1;32mIn[2], line 1\u001b[0m\n\u001b[1;32m----> 1\u001b[0m \u001b[38;5;28mprint\u001b[39m(\u001b[43mf\u001b[49m\u001b[38;5;241;43m.\u001b[39;49m\u001b[43mread\u001b[49m\u001b[43m(\u001b[49m\u001b[43m)\u001b[49m)\n",
      "File \u001b[1;32m~\\AppData\\Local\\Programs\\Python\\Python311\\Lib\\encodings\\cp1252.py:23\u001b[0m, in \u001b[0;36mIncrementalDecoder.decode\u001b[1;34m(self, input, final)\u001b[0m\n\u001b[0;32m     22\u001b[0m \u001b[38;5;28;01mdef\u001b[39;00m \u001b[38;5;21mdecode\u001b[39m(\u001b[38;5;28mself\u001b[39m, \u001b[38;5;28minput\u001b[39m, final\u001b[38;5;241m=\u001b[39m\u001b[38;5;28;01mFalse\u001b[39;00m):\n\u001b[1;32m---> 23\u001b[0m     \u001b[38;5;28;01mreturn\u001b[39;00m codecs\u001b[38;5;241m.\u001b[39mcharmap_decode(\u001b[38;5;28minput\u001b[39m,\u001b[38;5;28mself\u001b[39m\u001b[38;5;241m.\u001b[39merrors,decoding_table)[\u001b[38;5;241m0\u001b[39m]\n",
      "\u001b[1;31mUnicodeDecodeError\u001b[0m: 'charmap' codec can't decode byte 0x81 in position 29: character maps to <undefined>"
     ]
    }
   ],
   "source": [
    "print(f.read())"
   ]
  },
  {
   "cell_type": "markdown",
   "id": "ff69f7d2",
   "metadata": {},
   "source": [
    "¿Por qué se muestra este `UnicodeDecodeError`? Este es un error muy común cuando trabajamos con archivos de texto. El problema es que el archivo `ejemplo.txt` no está codificado en UTF-8, sino en cp1252. Para solucionar este problema, debemos especificar el tipo de codificación al abrir el archivo:"
   ]
  },
  {
   "cell_type": "code",
   "execution_count": 3,
   "id": "cfab0988",
   "metadata": {},
   "outputs": [
    {
     "name": "stdout",
     "output_type": "stream",
     "text": [
      "\n",
      "\n",
      "                        Ágrafa musulmana en papiro de oxyrrinco\n",
      "\n",
      "        Juan José Arreola\n",
      "        \n",
      "        Estabas a ras de tierra y no te vi. Tuve que cavar hasta el fondo de mí para encontrarte.\n",
      "\n",
      "        FIN\n",
      "\n",
      "        \n"
     ]
    }
   ],
   "source": [
    "f = open(\"../archivos/txt/ejemplo.txt\", \"r\", encoding=\"utf-8\")\n",
    "print(f.read())"
   ]
  },
  {
   "cell_type": "markdown",
   "id": "c4d77b50",
   "metadata": {},
   "source": [
    "La codificación UTF-8 es la más común, sobre todo porque abarca una amplitud de símbolos como acentos, diéresis, virgulillas, etc. que no se pueden representar con el conjunto de caracteres ASCII. Sin embargo, hay otros tipos de codificación, como cp1252, que es la que utiliza Windows para representar los caracteres latinos.\n",
    "\n",
    "```{admonition} Nota\n",
    ":class: tip\n",
    "Un archivo de texto es en realidad un archivo binario. El texto se almacena en el archivo como una secuencia de bytes. Cada byte representa un caracter. La codificación es la forma en que se asigna un byte a un caracter. Por ejemplo, la codificación ASCII asigna un byte a cada caracter. La codificación UTF-8 asigna uno o más bytes a cada caracter. La codificación cp1252 asigna un byte a cada caracter.\n",
    "\n",
    "Dependiendo de la máquina en la que se ejecuta el programa, la codificación puede ser diferente. Por ejemplo, en Windows, la codificación por defecto es cp1252, mientras que en Linux, la codificación predeterminada es UTF-8. Por esa razón, es importante especificar la codificación al abrir un archivo de texto.\n",
    "```\n",
    "\n",
    "## Escribir en un archivo\n",
    "\n",
    "Para escribir en un archivo, debemos usar el método `write()` del objeto `file`.\n",
    "\n",
    "La sintaxis de `write()` es la siguiente:\n",
    "\n",
    "``` python\n",
    "objeto.write(cadena)\n",
    "```\n",
    "\n",
    "El parámetro `cadena` es una cadena de caracteres que contiene el texto que se va a escribir en el archivo.\n",
    "\n",
    "Utilicemos este método para escribir el primer párrafo del cuento \"El guardagujas\" de Juan José Arreola:"
   ]
  },
  {
   "cell_type": "code",
   "execution_count": 4,
   "id": "1db1c7c9",
   "metadata": {
    "tags": [
     "remove-output"
    ]
   },
   "outputs": [
    {
     "data": {
      "text/plain": [
       "354"
      ]
     },
     "execution_count": 4,
     "metadata": {},
     "output_type": "execute_result"
    }
   ],
   "source": [
    "f = open(\"../archivos/txt/arreola.txt\", \"w\", encoding=\"utf-8\")\n",
    "texto = \"El guardagujas\\n\\nJuan José Arreola\\n\\nEl forastero llegó sin aliento a la estación desierta. Su gran valija, que nadie quiso cargar, le había fatigado en extremo. Se enjugó el rostro con un pañuelo, y con la mano en visera miró los rieles que se perdían en el horizonte. Desalentado y pensativo consultó su reloj: la hora justa en que el tren debía partir.\\n\"\n",
    "f.write(texto)"
   ]
  },
  {
   "cell_type": "markdown",
   "id": "981434c4",
   "metadata": {},
   "source": [
    "```{admonition} Nota\n",
    ":class: tip\n",
    "El método `write()` no agrega un salto de línea al final de la cadena de caracteres. Por lo tanto, si queremos escribir varias líneas en el archivo, debemos agregar el salto de línea explícitamente con el caracter `\\n`.\n",
    "```\n",
    "\n",
    "También es muy común utilizar la palabra reservada `with` para abrir un archivo. La palabra reservada `with` permite que el archivo se cierre automáticamente al finalizar el bloque de código. Por ejemplo:"
   ]
  },
  {
   "cell_type": "code",
   "execution_count": 5,
   "id": "92715181",
   "metadata": {},
   "outputs": [],
   "source": [
    "with open(\"../archivos/txt/arreola.txt\", \"w\", encoding=\"utf-8\") as f:\n",
    "    f.write(texto)"
   ]
  },
  {
   "cell_type": "markdown",
   "id": "a6fa0ea7",
   "metadata": {},
   "source": [
    "En caso de que no utilicemos esta sintaxis, es recomendable cerrar el archivo con el método `close()`:\n",
    "\n",
    "``` python\n",
    "f = open(\"../archivos/txt/arreola.txt\", \"w\", encoding=\"utf-8\")\n",
    "f.write(texto)\n",
    "f.close()\n",
    "```\n",
    "\n",
    "## Agregar texto al archivo\n",
    "\n",
    "Cuando utilizamos el modo `w` se sobreescribe el archivo, lo cual tendrá consecuencias inesperadas si no es esa nuestra intención original. Por ejemplo, si tenemos este segundo párrafo:"
   ]
  },
  {
   "cell_type": "code",
   "execution_count": 6,
   "id": "79eeb25a",
   "metadata": {},
   "outputs": [],
   "source": [
    "segundoparrafo = \"Alguien, salido de quién sabe dónde, le dio una palmada muy suave. Al volverse el forastero se halló ante un viejecillo de vago aspecto ferrocarrilero. Llevaba en la mano una linterna roja, pero tan pequeña, que parecía de juguete. Miró sonriendo al viajero, que le preguntó con ansiedad:\\n\""
   ]
  },
  {
   "cell_type": "markdown",
   "id": "4fbfc943",
   "metadata": {},
   "source": [
    "Si lo agregamos con el modo `w` tendremos este resultado:"
   ]
  },
  {
   "cell_type": "code",
   "execution_count": 7,
   "id": "2458dbef",
   "metadata": {},
   "outputs": [
    {
     "name": "stdout",
     "output_type": "stream",
     "text": [
      "Alguien, salido de quién sabe dónde, le dio una palmada muy suave. Al volverse el forastero se halló ante un viejecillo de vago aspecto ferrocarrilero. Llevaba en la mano una linterna roja, pero tan pequeña, que parecía de juguete. Miró sonriendo al viajero, que le preguntó con ansiedad:\n",
      "\n"
     ]
    }
   ],
   "source": [
    "with open(\"../archivos/txt/arreola.txt\", \"w\", encoding=\"utf-8\") as f:\n",
    "  f.write(segundoparrafo)\n",
    "\n",
    "print(open(\"../archivos/txt/arreola.txt\", \"r\", encoding=\"utf-8\").read())"
   ]
  },
  {
   "cell_type": "markdown",
   "id": "b9986239",
   "metadata": {},
   "source": [
    "¡Se ha eliminado nuestro primer texto!\n",
    "\n",
    "Para evitar esto, debemos utilizar el modo `a` (append) para agregar texto al final del archivo:"
   ]
  },
  {
   "cell_type": "code",
   "execution_count": 8,
   "id": "be562771",
   "metadata": {
    "tags": [
     "remove-cell"
    ]
   },
   "outputs": [],
   "source": [
    "with open(\"../archivos/txt/arreola.txt\", \"w\", encoding=\"utf-8\") as f:\n",
    "  f.write(texto)"
   ]
  },
  {
   "cell_type": "code",
   "execution_count": 9,
   "id": "7d44df6a",
   "metadata": {},
   "outputs": [
    {
     "name": "stdout",
     "output_type": "stream",
     "text": [
      "El guardagujas\n",
      "\n",
      "Juan José Arreola\n",
      "\n",
      "El forastero llegó sin aliento a la estación desierta. Su gran valija, que nadie quiso cargar, le había fatigado en extremo. Se enjugó el rostro con un pañuelo, y con la mano en visera miró los rieles que se perdían en el horizonte. Desalentado y pensativo consultó su reloj: la hora justa en que el tren debía partir.\n",
      "Alguien, salido de quién sabe dónde, le dio una palmada muy suave. Al volverse el forastero se halló ante un viejecillo de vago aspecto ferrocarrilero. Llevaba en la mano una linterna roja, pero tan pequeña, que parecía de juguete. Miró sonriendo al viajero, que le preguntó con ansiedad:\n",
      "\n"
     ]
    }
   ],
   "source": [
    "with open(\"../archivos/txt/arreola.txt\", \"a\", encoding=\"utf-8\") as f:\n",
    "  f.write(segundoparrafo)\n",
    "\n",
    "print(open(\"../archivos/txt/arreola.txt\", \"r\", encoding=\"utf-8\").read())"
   ]
  },
  {
   "cell_type": "markdown",
   "id": "6c0ff40d",
   "metadata": {},
   "source": [
    "En este caso, el archivo no se sobreescribe, sino que se agrega el texto al final.\n",
    "\n",
    "## Leer líneas\n",
    "\n",
    "En este momento, si leemos el archivo `arreola.txt`, veremos que el texto se encuentra todo en una sola línea. Para leer una línea del archivo, debemos usar el método `readline()` del objeto `file`.\n",
    "\n",
    "La sintaxis de `readline()` es la siguiente:\n",
    "\n",
    "``` python\n",
    "objeto.readline()\n",
    "```\n",
    "\n",
    "Usemos este método para leer la primera línea del archivo `arreola.txt`:"
   ]
  },
  {
   "cell_type": "code",
   "execution_count": 10,
   "id": "60dd7844",
   "metadata": {},
   "outputs": [
    {
     "name": "stdout",
     "output_type": "stream",
     "text": [
      "El guardagujas\n",
      "\n"
     ]
    }
   ],
   "source": [
    "f = open(\"../archivos/txt/arreola.txt\", \"r\", encoding=\"utf-8\")\n",
    "print(f.readline())"
   ]
  },
  {
   "cell_type": "markdown",
   "id": "f48e1565",
   "metadata": {},
   "source": [
    "También podemos construir una iteración para leer todas las líneas del archivo:"
   ]
  },
  {
   "cell_type": "code",
   "execution_count": 11,
   "id": "9c796fc8",
   "metadata": {},
   "outputs": [
    {
     "name": "stdout",
     "output_type": "stream",
     "text": [
      "\n",
      "\n",
      "Juan José Arreola\n",
      "\n",
      "\n",
      "\n",
      "El forastero llegó sin aliento a la estación desierta. Su gran valija, que nadie quiso cargar, le había fatigado en extremo. Se enjugó el rostro con un pañuelo, y con la mano en visera miró los rieles que se perdían en el horizonte. Desalentado y pensativo consultó su reloj: la hora justa en que el tren debía partir.\n",
      "\n",
      "Alguien, salido de quién sabe dónde, le dio una palmada muy suave. Al volverse el forastero se halló ante un viejecillo de vago aspecto ferrocarrilero. Llevaba en la mano una linterna roja, pero tan pequeña, que parecía de juguete. Miró sonriendo al viajero, que le preguntó con ansiedad:\n",
      "\n"
     ]
    }
   ],
   "source": [
    "for linea in f:\n",
    "    print(linea)"
   ]
  },
  {
   "cell_type": "markdown",
   "id": "985b2917",
   "metadata": {},
   "source": [
    "Python también dispone de la función `readlines()` que lee todas las líneas del archivo y las almacena en una lista:"
   ]
  },
  {
   "cell_type": "code",
   "execution_count": 12,
   "id": "2ebd09b8",
   "metadata": {},
   "outputs": [
    {
     "name": "stdout",
     "output_type": "stream",
     "text": [
      "['El guardagujas\\n', '\\n', 'Juan José Arreola\\n', '\\n', 'El forastero llegó sin aliento a la estación desierta. Su gran valija, que nadie quiso cargar, le había fatigado en extremo. Se enjugó el rostro con un pañuelo, y con la mano en visera miró los rieles que se perdían en el horizonte. Desalentado y pensativo consultó su reloj: la hora justa en que el tren debía partir.\\n', 'Alguien, salido de quién sabe dónde, le dio una palmada muy suave. Al volverse el forastero se halló ante un viejecillo de vago aspecto ferrocarrilero. Llevaba en la mano una linterna roja, pero tan pequeña, que parecía de juguete. Miró sonriendo al viajero, que le preguntó con ansiedad:\\n']\n"
     ]
    }
   ],
   "source": [
    "f = open(\"../archivos/txt/arreola.txt\", \"r\", encoding=\"utf-8\")\n",
    "print(f.readlines())"
   ]
  },
  {
   "cell_type": "markdown",
   "id": "064f4b35",
   "metadata": {},
   "source": [
    "## Conclusión\n",
    "\n",
    "Como hemos visto, hay una serie de métodos que nos permiten manipular archivos de texto. Este tipo de métodos pueden extenderse a prácticamente cualquier tipo de archivo, incluso a archivos binarios. No obstante, entre más complejo sea el archivo, más compleja será la manipulación."
   ]
  }
 ],
 "metadata": {
  "jupytext": {
   "cell_metadata_filter": "-all",
   "formats": "md:myst",
   "text_representation": {
    "extension": ".md",
    "format_name": "myst",
    "format_version": 0.13,
    "jupytext_version": "1.14.4"
   }
  },
  "kernelspec": {
   "display_name": "Python 3 (ipykernel)",
   "language": "python",
   "name": "python3"
  },
  "language_info": {
   "codemirror_mode": {
    "name": "ipython",
    "version": 3
   },
   "file_extension": ".py",
   "mimetype": "text/x-python",
   "name": "python",
   "nbconvert_exporter": "python",
   "pygments_lexer": "ipython3",
   "version": "3.11.4"
  },
  "source_map": [
   14,
   37,
   41,
   60,
   62,
   66,
   69,
   94,
   99,
   108,
   111,
   125,
   127,
   131,
   136,
   142,
   148,
   153,
   169,
   172,
   176,
   179,
   183,
   186
  ]
 },
 "nbformat": 4,
 "nbformat_minor": 5
}