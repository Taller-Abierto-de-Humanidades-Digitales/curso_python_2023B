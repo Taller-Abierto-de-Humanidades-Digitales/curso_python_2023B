{
 "cells": [
  {
   "cell_type": "markdown",
   "id": "d5ab093b",
   "metadata": {},
   "source": [
    "# Control de errores con `Try` `Except`\n",
    "\n",
    "Como vimos en la sección previa, una función tiene muchas posibilidades de fallar. Una forma de intentar controlar los errores e identificar los posibles problemas es utilizar el comando `try` y `except`. Este comando permite que el programa se detenga cuando encuentre un error o que continúe con el programa en caso de que eso sea lo que queramos.\n",
    "\n",
    "Supongamos, por ejemplo, que nuestro usuario ingresa todos los valores, pero en la fecha de nacimiento comete un error y no escribe un número sino una cadena de caracteres. En ese caso, el programa se detendrá y no podremos continuar. Podemos evitar esto utilizando el comando `try` y `except`:"
   ]
  },
  {
   "cell_type": "code",
   "execution_count": 1,
   "id": "42a5e4e4",
   "metadata": {},
   "outputs": [],
   "source": [
    "def saludar(nombre, fecha_nacimiento=1990, lugar_de_nacimiento=\"Colombia\"):\n",
    "    \"\"\"Saluda a una persona y le dice su edad.\n",
    "    \n",
    "    Parámetros\n",
    "    ----------\n",
    "    nombre: str\n",
    "        Nombre de la persona a saludar\n",
    "    fecha_nacimiento: int\n",
    "        Año de nacimiento de la persona\n",
    "    lugar_de_nacimiento: str\n",
    "        Lugar de nacimiento de la persona\n",
    "    \"\"\"\n",
    "    try:\n",
    "        edad = 2023 - fecha_nacimiento\n",
    "        print(f\"Hola {nombre.title()}, ¿cómo estás? Tienes {edad} años y naciste en {lugar_de_nacimiento.title()}.\")\n",
    "    except:\n",
    "        print(\"No se pudo calcular la edad. Verifica que la fecha de nacimiento ingresada ({fecha_nacimiento}) sea un número.\")\n"
   ]
  },
  {
   "cell_type": "markdown",
   "id": "5d0aa373",
   "metadata": {},
   "source": [
    "Si el usuario ingresara de manera incorrecta su información, este sería el resultado"
   ]
  },
  {
   "cell_type": "code",
   "execution_count": 2,
   "id": "b5ae1b80",
   "metadata": {
    "tags": [
     "remove-input"
    ]
   },
   "outputs": [
    {
     "name": "stdout",
     "output_type": "stream",
     "text": [
      "No se pudo calcular la edad. Verifica que la fecha de nacimiento ingresada ({fecha_nacimiento}) sea un número.\n"
     ]
    }
   ],
   "source": [
    "nombre = \"Juan\"\n",
    "fecha_nacimiento = \"marzo de 1980\"\n",
    "\n",
    "saludar(nombre, fecha_nacimiento)"
   ]
  },
  {
   "cell_type": "markdown",
   "id": "430713ce",
   "metadata": {},
   "source": [
    "No obstante, usar `try` y `except` de esta manera no es la mejor forma de controlar los errores. En el ejemplo anterior, el programa no se detiene, pero tampoco nos dice qué fue lo que falló. Para esto, podemos utilizar el comando `raise`:"
   ]
  },
  {
   "cell_type": "code",
   "execution_count": 3,
   "id": "8c61bc41",
   "metadata": {},
   "outputs": [],
   "source": [
    "def saludar(nombre, fecha_nacimiento=1990, lugar_de_nacimiento=\"Colombia\"):\n",
    "    \"\"\"Saluda a una persona y le dice su edad.\n",
    "    \n",
    "    Parámetros\n",
    "    ----------\n",
    "    nombre: str\n",
    "        Nombre de la persona a saludar\n",
    "    fecha_nacimiento: int\n",
    "        Año de nacimiento de la persona\n",
    "    lugar_de_nacimiento: str\n",
    "        Lugar de nacimiento de la persona\n",
    "    \"\"\"\n",
    "    try:\n",
    "        edad = 2023 - fecha_nacimiento\n",
    "        print(f\"Hola {nombre.title()}, ¿cómo estás? Tienes {edad} años y naciste en {lugar_de_nacimiento.title()}.\")\n",
    "    except:\n",
    "        print(\"No se pudo calcular la edad. Verifica que la fecha de nacimiento ingresada ({fecha_nacimiento}) sea un número.\")\n",
    "        raise"
   ]
  },
  {
   "cell_type": "markdown",
   "id": "4fdbd144",
   "metadata": {},
   "source": [
    "El error se muestra de esta manera:"
   ]
  },
  {
   "cell_type": "code",
   "execution_count": 4,
   "id": "a5852e9c",
   "metadata": {
    "tags": [
     "remove-input"
    ]
   },
   "outputs": [
    {
     "name": "stdout",
     "output_type": "stream",
     "text": [
      "No se pudo calcular la edad. Verifica que la fecha de nacimiento ingresada ({fecha_nacimiento}) sea un número.\n"
     ]
    },
    {
     "ename": "TypeError",
     "evalue": "unsupported operand type(s) for -: 'int' and 'str'",
     "output_type": "error",
     "traceback": [
      "\u001b[1;31m---------------------------------------------------------------------------\u001b[0m",
      "\u001b[1;31mTypeError\u001b[0m                                 Traceback (most recent call last)",
      "Cell \u001b[1;32mIn[4], line 4\u001b[0m\n\u001b[0;32m      1\u001b[0m nombre \u001b[38;5;241m=\u001b[39m \u001b[38;5;124m\"\u001b[39m\u001b[38;5;124mJuan\u001b[39m\u001b[38;5;124m\"\u001b[39m\n\u001b[0;32m      2\u001b[0m fecha_nacimiento \u001b[38;5;241m=\u001b[39m \u001b[38;5;124m\"\u001b[39m\u001b[38;5;124mmarzo de 1980\u001b[39m\u001b[38;5;124m\"\u001b[39m\n\u001b[1;32m----> 4\u001b[0m \u001b[43msaludar\u001b[49m\u001b[43m(\u001b[49m\u001b[43mnombre\u001b[49m\u001b[43m,\u001b[49m\u001b[43m \u001b[49m\u001b[43mfecha_nacimiento\u001b[49m\u001b[43m)\u001b[49m\n",
      "Cell \u001b[1;32mIn[3], line 14\u001b[0m, in \u001b[0;36msaludar\u001b[1;34m(nombre, fecha_nacimiento, lugar_de_nacimiento)\u001b[0m\n\u001b[0;32m      2\u001b[0m \u001b[38;5;250m\u001b[39m\u001b[38;5;124;03m\"\"\"Saluda a una persona y le dice su edad.\u001b[39;00m\n\u001b[0;32m      3\u001b[0m \u001b[38;5;124;03m\u001b[39;00m\n\u001b[0;32m      4\u001b[0m \u001b[38;5;124;03mParámetros\u001b[39;00m\n\u001b[1;32m   (...)\u001b[0m\n\u001b[0;32m     11\u001b[0m \u001b[38;5;124;03m    Lugar de nacimiento de la persona\u001b[39;00m\n\u001b[0;32m     12\u001b[0m \u001b[38;5;124;03m\"\"\"\u001b[39;00m\n\u001b[0;32m     13\u001b[0m \u001b[38;5;28;01mtry\u001b[39;00m:\n\u001b[1;32m---> 14\u001b[0m     edad \u001b[38;5;241m=\u001b[39m \u001b[38;5;241;43m2023\u001b[39;49m\u001b[43m \u001b[49m\u001b[38;5;241;43m-\u001b[39;49m\u001b[43m \u001b[49m\u001b[43mfecha_nacimiento\u001b[49m\n\u001b[0;32m     15\u001b[0m     \u001b[38;5;28mprint\u001b[39m(\u001b[38;5;124mf\u001b[39m\u001b[38;5;124m\"\u001b[39m\u001b[38;5;124mHola \u001b[39m\u001b[38;5;132;01m{\u001b[39;00mnombre\u001b[38;5;241m.\u001b[39mtitle()\u001b[38;5;132;01m}\u001b[39;00m\u001b[38;5;124m, ¿cómo estás? Tienes \u001b[39m\u001b[38;5;132;01m{\u001b[39;00medad\u001b[38;5;132;01m}\u001b[39;00m\u001b[38;5;124m años y naciste en \u001b[39m\u001b[38;5;132;01m{\u001b[39;00mlugar_de_nacimiento\u001b[38;5;241m.\u001b[39mtitle()\u001b[38;5;132;01m}\u001b[39;00m\u001b[38;5;124m.\u001b[39m\u001b[38;5;124m\"\u001b[39m)\n\u001b[0;32m     16\u001b[0m \u001b[38;5;28;01mexcept\u001b[39;00m:\n",
      "\u001b[1;31mTypeError\u001b[0m: unsupported operand type(s) for -: 'int' and 'str'"
     ]
    }
   ],
   "source": [
    "nombre = \"Juan\"\n",
    "fecha_nacimiento = \"marzo de 1980\"\n",
    "\n",
    "saludar(nombre, fecha_nacimiento)"
   ]
  },
  {
   "cell_type": "markdown",
   "id": "6ff0d2f7",
   "metadata": {},
   "source": [
    "En este caso, el programa se detiene y necesita ejecutarse nuevamente para corregir el error.\n",
    "\n",
    "Otra opción consiste en identificar específicamente un tipo de error que podemos controlar. Para el ejemplo que hemos usado, el error `TypeError` es el más adecuado:"
   ]
  },
  {
   "cell_type": "code",
   "execution_count": 5,
   "id": "d86800fd",
   "metadata": {},
   "outputs": [],
   "source": [
    "def saludar(nombre, fecha_nacimiento=1990, lugar_de_nacimiento=\"Colombia\"):\n",
    "    \"\"\"Saluda a una persona y le dice su edad.\n",
    "    \n",
    "    Parámetros\n",
    "    ----------\n",
    "    nombre: str\n",
    "        Nombre de la persona a saludar\n",
    "    fecha_nacimiento: int\n",
    "        Año de nacimiento de la persona\n",
    "    lugar_de_nacimiento: str\n",
    "        Lugar de nacimiento de la persona\n",
    "    \"\"\"\n",
    "    try:\n",
    "        edad = 2023 - fecha_nacimiento\n",
    "        print(f\"Hola {nombre.title()}, ¿cómo estás? Tienes {edad} años y naciste en {lugar_de_nacimiento.title()}.\")\n",
    "    except TypeError:\n",
    "        print(\"No se pudo calcular la edad. Verifica que la fecha de nacimiento ingresada ({fecha_nacimiento}) sea un número.\")\n",
    "        raise"
   ]
  },
  {
   "cell_type": "markdown",
   "id": "3962d6fa",
   "metadata": {},
   "source": [
    "El resultado es idéntico a la primera forma que usamos:"
   ]
  },
  {
   "cell_type": "code",
   "execution_count": 6,
   "id": "7d223f01",
   "metadata": {
    "tags": [
     "remove-input"
    ]
   },
   "outputs": [
    {
     "name": "stdout",
     "output_type": "stream",
     "text": [
      "No se pudo calcular la edad. Verifica que la fecha de nacimiento ingresada ({fecha_nacimiento}) sea un número.\n"
     ]
    },
    {
     "ename": "TypeError",
     "evalue": "unsupported operand type(s) for -: 'int' and 'str'",
     "output_type": "error",
     "traceback": [
      "\u001b[1;31m---------------------------------------------------------------------------\u001b[0m",
      "\u001b[1;31mTypeError\u001b[0m                                 Traceback (most recent call last)",
      "Cell \u001b[1;32mIn[6], line 4\u001b[0m\n\u001b[0;32m      1\u001b[0m nombre \u001b[38;5;241m=\u001b[39m \u001b[38;5;124m\"\u001b[39m\u001b[38;5;124mJuan\u001b[39m\u001b[38;5;124m\"\u001b[39m\n\u001b[0;32m      2\u001b[0m fecha_nacimiento \u001b[38;5;241m=\u001b[39m \u001b[38;5;124m\"\u001b[39m\u001b[38;5;124mmarzo de 1980\u001b[39m\u001b[38;5;124m\"\u001b[39m\n\u001b[1;32m----> 4\u001b[0m \u001b[43msaludar\u001b[49m\u001b[43m(\u001b[49m\u001b[43mnombre\u001b[49m\u001b[43m,\u001b[49m\u001b[43m \u001b[49m\u001b[43mfecha_nacimiento\u001b[49m\u001b[43m)\u001b[49m\n",
      "Cell \u001b[1;32mIn[5], line 14\u001b[0m, in \u001b[0;36msaludar\u001b[1;34m(nombre, fecha_nacimiento, lugar_de_nacimiento)\u001b[0m\n\u001b[0;32m      2\u001b[0m \u001b[38;5;250m\u001b[39m\u001b[38;5;124;03m\"\"\"Saluda a una persona y le dice su edad.\u001b[39;00m\n\u001b[0;32m      3\u001b[0m \u001b[38;5;124;03m\u001b[39;00m\n\u001b[0;32m      4\u001b[0m \u001b[38;5;124;03mParámetros\u001b[39;00m\n\u001b[1;32m   (...)\u001b[0m\n\u001b[0;32m     11\u001b[0m \u001b[38;5;124;03m    Lugar de nacimiento de la persona\u001b[39;00m\n\u001b[0;32m     12\u001b[0m \u001b[38;5;124;03m\"\"\"\u001b[39;00m\n\u001b[0;32m     13\u001b[0m \u001b[38;5;28;01mtry\u001b[39;00m:\n\u001b[1;32m---> 14\u001b[0m     edad \u001b[38;5;241m=\u001b[39m \u001b[38;5;241;43m2023\u001b[39;49m\u001b[43m \u001b[49m\u001b[38;5;241;43m-\u001b[39;49m\u001b[43m \u001b[49m\u001b[43mfecha_nacimiento\u001b[49m\n\u001b[0;32m     15\u001b[0m     \u001b[38;5;28mprint\u001b[39m(\u001b[38;5;124mf\u001b[39m\u001b[38;5;124m\"\u001b[39m\u001b[38;5;124mHola \u001b[39m\u001b[38;5;132;01m{\u001b[39;00mnombre\u001b[38;5;241m.\u001b[39mtitle()\u001b[38;5;132;01m}\u001b[39;00m\u001b[38;5;124m, ¿cómo estás? Tienes \u001b[39m\u001b[38;5;132;01m{\u001b[39;00medad\u001b[38;5;132;01m}\u001b[39;00m\u001b[38;5;124m años y naciste en \u001b[39m\u001b[38;5;132;01m{\u001b[39;00mlugar_de_nacimiento\u001b[38;5;241m.\u001b[39mtitle()\u001b[38;5;132;01m}\u001b[39;00m\u001b[38;5;124m.\u001b[39m\u001b[38;5;124m\"\u001b[39m)\n\u001b[0;32m     16\u001b[0m \u001b[38;5;28;01mexcept\u001b[39;00m \u001b[38;5;167;01mTypeError\u001b[39;00m:\n",
      "\u001b[1;31mTypeError\u001b[0m: unsupported operand type(s) for -: 'int' and 'str'"
     ]
    }
   ],
   "source": [
    "nombre = \"Juan\"\n",
    "fecha_nacimiento = \"marzo de 1980\"\n",
    "\n",
    "saludar(nombre, fecha_nacimiento)"
   ]
  },
  {
   "cell_type": "markdown",
   "id": "d0949e52",
   "metadata": {},
   "source": [
    "No obstante, con eso nos evitamos que el programa se detenga por otros errores que podrían ser saltados o, al contrario, que continúe con el programa cuando no es lo que queremos."
   ]
  }
 ],
 "metadata": {
  "jupytext": {
   "cell_metadata_filter": "-all",
   "formats": "md:myst",
   "text_representation": {
    "extension": ".md",
    "format_name": "myst",
    "format_version": 0.13,
    "jupytext_version": "1.14.4"
   }
  },
  "kernelspec": {
   "display_name": "Python 3 (ipykernel)",
   "language": "python",
   "name": "python3"
  },
  "language_info": {
   "codemirror_mode": {
    "name": "ipython",
    "version": 3
   },
   "file_extension": ".py",
   "mimetype": "text/x-python",
   "name": "python",
   "nbconvert_exporter": "python",
   "pygments_lexer": "ipython3",
   "version": "3.11.4"
  },
  "source_map": [
   14,
   22,
   41,
   45,
   51,
   55,
   74,
   78,
   84,
   90,
   110,
   114,
   120
  ]
 },
 "nbformat": 4,
 "nbformat_minor": 5
}