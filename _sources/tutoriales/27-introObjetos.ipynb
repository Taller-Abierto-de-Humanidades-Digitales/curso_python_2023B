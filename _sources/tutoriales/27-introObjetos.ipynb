{
 "cells": [
  {
   "cell_type": "markdown",
   "id": "1b3feb0f",
   "metadata": {},
   "source": [
    "# Introducción a la programación orientada a objetos\n",
    "\n",
    "En términos técnicos, todo en Python es un objeto {cite}`vanderplas_whirlwind_2016`.[^1] Incluso los tipos de datos básicos como enteros, cadenas y listas son objetos en sí mismos y tienen sus propios métodos y propiedades.\n",
    "\n",
    "Las clases también son objetos y sirven para crear objetos. Tal vez parezca un poco complicado en este momento, pero con la práctica se hará más clara esta idea.\n",
    "\n",
    "En términos de la Programación Orientada a Objetos, podemos entender un objeto como una entidad que tiene un estado y un comportamiento. El estado de un objeto se refiere a sus propiedades y el comportamiento a sus métodos. Por ejemplo, un objeto de tipo `Coche` puede tener como propiedades el color, la marca, el modelo, etc. y como métodos el arrancar, el frenar, el girar, etc.\n",
    "\n",
    "Otro aspecto importante de entender, antes de iniciar nuestro proceso de programación, es la idea de instanciación. Cuando creamos un objeto a partir de una clase, decimos que estamos instanciando un objeto de esa clase. Por ejemplo, podemos instanciar un objeto de la clase `Coche` y asignarlo a una variable:"
   ]
  },
  {
   "cell_type": "code",
   "execution_count": 1,
   "id": "cacbb1cb",
   "metadata": {},
   "outputs": [],
   "source": [
    "class Coche:\n",
    "    def __init__(self, color, marca, modelo):\n",
    "        self.color = color\n",
    "        self.marca = marca\n",
    "        self.modelo = modelo\n",
    "\n",
    "mi_coche = Coche(\"rojo\", \"Renault\", \"Megane\")"
   ]
  },
  {
   "cell_type": "markdown",
   "id": "9514b601",
   "metadata": {},
   "source": [
    "El objeto `mi_coche` es una instancia de la clase `Coche` y tiene como propiedades el color, la marca y el modelo. Podemos acceder a ellas de la siguiente forma:"
   ]
  },
  {
   "cell_type": "code",
   "execution_count": 2,
   "id": "203460af",
   "metadata": {},
   "outputs": [
    {
     "name": "stdout",
     "output_type": "stream",
     "text": [
      "rojo\n",
      "Renault\n",
      "Megane\n"
     ]
    }
   ],
   "source": [
    "print(mi_coche.color)\n",
    "print(mi_coche.marca)\n",
    "print(mi_coche.modelo)"
   ]
  },
  {
   "cell_type": "markdown",
   "id": "e212b892",
   "metadata": {},
   "source": [
    "Podríamos verbalizarlo de la siguiente manera:\n",
    "\n",
    "Una clase es una plantilla para la creación de objetos. Cuando creamos un objeto a partir de una clase, decimos que estamos instanciando un objeto de esa clase.\n",
    "\n",
    "Lo que es relevante de entender en este momento, es que las clases nos ayudan a pensar como programadores. En lugar de pensar en un problema como un conjunto de variables y funciones, podemos pensar en él como un conjunto de objetos que interactúan entre sí. Esto nos permite abstraer el problema y centrarnos en los aspectos más importantes. Lo anterior implica que debamos diseñar antes de escribir código y en este sentido pasamos de un enfoque imperativo (una sucesión de instrucciones) a un enfoque orientado a objetos.\n",
    "\n",
    "## Notas\n",
    "\n",
    "[^1]: Puedes consultar la cita y algunos ejemplos en el siguiente enlace: https://jakevdp.github.io/WhirlwindTourOfPython/03-semantics-variables.html#Everything-Is-an-Object"
   ]
  }
 ],
 "metadata": {
  "jupytext": {
   "cell_metadata_filter": "-all",
   "formats": "md:myst",
   "text_representation": {
    "extension": ".md",
    "format_name": "myst",
    "format_version": 0.13,
    "jupytext_version": "1.14.4"
   }
  },
  "kernelspec": {
   "display_name": "Python 3 (ipykernel)",
   "language": "python",
   "name": "python3"
  },
  "language_info": {
   "codemirror_mode": {
    "name": "ipython",
    "version": 3
   },
   "file_extension": ".py",
   "mimetype": "text/x-python",
   "name": "python",
   "nbconvert_exporter": "python",
   "pygments_lexer": "ipython3",
   "version": "3.11.1"
  },
  "source_map": [
   14,
   26,
   34,
   38,
   42
  ]
 },
 "nbformat": 4,
 "nbformat_minor": 5
}