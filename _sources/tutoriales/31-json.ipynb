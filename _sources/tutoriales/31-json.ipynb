{
 "cells": [
  {
   "cell_type": "markdown",
   "id": "0ab234b3",
   "metadata": {},
   "source": [
    "# Archivos JSON\n",
    "\n",
    "## ¿Qué es JSON?\n",
    "\n",
    "JSON (JavaScript Object Notation) es un formato de texto sencillo para el intercambio de datos. Se trata de un subconjunto de la notación literal de objetos de JavaScript, aunque, debido a su amplia adopción como alternativa a XML, se considera un formato independiente del lenguaje.\n",
    "\n",
    "Este formato es ampliamente utilizado para el intercambio de datos entre aplicaciones, especialmente en aplicaciones web. El formato JSON es muy sencillo y se basa en dos estructuras:\n",
    "\n",
    "- Una colección de pares de nombre/valor. En varios lenguajes esto es conocido como un objeto, registro, estructura, diccionario, tabla hash, lista de claves o un arreglo asociativo.\n",
    "- Una lista ordenada de valores. En la mayoría de los lenguajes, esto se implementa como arreglos, vectores, listas o sequencias.\n",
    "\n",
    "De una manera burda, podríamos pensar en este formato de archivo como una lista de diccionarios, donde cada diccionario es un registro de datos.\n",
    "\n",
    "Esta flexibilidad, fácil uso y disponibilidad en múltiples lenguajes, ha hecho que se desarrolle toda una tecnología alrededor de este formato, conocida como bases de datos no relacionales o NoSQL. AL contrario de las bases de datos relacionales, fundamentadas en tablas, las bases de datos NoSQL se basan en documentos, que son estructuras de datos similares a los diccionarios de Python.\n",
    "\n",
    "En esta lección, veremos cómo podemos leer y escribir archivos JSON en Python, y para ello, vamos a retomar el archivo JSON que utilizamos para la actividad intermedia. Este archivo está ubicado en la ruta relativa `data/bibliografia.json` y desde esa ruta podremos leerlo.\n",
    "\n",
    "Para poder leer el archivo JSON, primero debemos importar el módulo `json` de Python."
   ]
  },
  {
   "cell_type": "code",
   "execution_count": 1,
   "id": "75877839",
   "metadata": {},
   "outputs": [],
   "source": [
    "import os\n",
    "import json"
   ]
  },
  {
   "cell_type": "markdown",
   "id": "9152328e",
   "metadata": {},
   "source": [
    "Este módulo nos proporciona dos funciones principales: `load` y `dump`. La primera nos permite leer un archivo JSON y convertirlo en un objeto de Python, mientras que la segunda nos permite convertir un objeto de Python en un archivo JSON.\n",
    "\n",
    "## Lectura de archivos JSON\n",
    "\n",
    "Para leer un archivo JSON, utilizamos la función `load` del módulo `json`. Esta función recibe como argumento un objeto de tipo archivo, que puede ser un archivo abierto o un objeto de tipo `StringIO`. En este caso, vamos a leer el archivo `data/bibliografia.json` y lo vamos a asignar a la variable `bibliografia`."
   ]
  },
  {
   "cell_type": "code",
   "execution_count": 2,
   "id": "9f9f1891",
   "metadata": {},
   "outputs": [],
   "source": [
    "with open(\"../data/bibliografia.json\", \"r\", encoding='utf-8') as archivo:\n",
    "    bibliografia = json.load(archivo)"
   ]
  },
  {
   "cell_type": "markdown",
   "id": "8f030e35",
   "metadata": {},
   "source": [
    "Si imprimimos el contenido de la variable `bibliografia`, veremos que se trata de una lista de diccionarios."
   ]
  },
  {
   "cell_type": "code",
   "execution_count": 3,
   "id": "e0e26bde",
   "metadata": {},
   "outputs": [
    {
     "data": {
      "text/plain": [
       "[{'id': 'Paz-Trillo.etal2005information',\n",
       "  'type': 'article-journal',\n",
       "  'container-title': 'Journal of the Brazilian Computer Society',\n",
       "  'DOI': '10/bq8g32',\n",
       "  'ISSN': '0104-6500, 1678-4804',\n",
       "  'issue': '2',\n",
       "  'language': 'en',\n",
       "  'note': 'number: 2\\n00022',\n",
       "  'page': '17-31',\n",
       "  'source': 'CrossRef',\n",
       "  'title': 'An information retrieval application using ontologies',\n",
       "  'URL': 'http://link.springer.com/10.1007/BF03192373',\n",
       "  'volume': '11',\n",
       "  'author': [{'family': 'Paz-Trillo', 'given': 'Christian'},\n",
       "   {'family': 'Wassermann', 'given': 'Renata'},\n",
       "   {'family': 'Braga', 'given': 'Paula P.'}],\n",
       "  'accessed': {'date-parts': [['2016', 11, 15]]},\n",
       "  'issued': {'date-parts': [['2005', 6]]}},\n",
       " {'id': 'RedHD2013Formulario',\n",
       "  'type': 'webpage',\n",
       "  'abstract': 'Guía de buenas prácticas para la elaboración y evaluación de proyectos de Humanidades Digitales y checklist\\nEsta guía proporciona lineamientos para ayudar a que los comités de evaluación tomen en consideración los productos digitales como resultados de investigaciones, así como orientar a los creadores de recursos digitales a los distintos elementos que deben incluir sus recursos con el objetivo de incrementar la calidad editorial de sus proyectos.  La Guía además se acompaña con una especia de checklist que permite a los interesados llenar una serie de preguntas para evaluar cómo cumplen con los lineamientos.',\n",
       "  'container-title': 'RedHD',\n",
       "  'genre': 'Blog',\n",
       "  'note': 'http://www.humanidadesdigitales.net/guia-de-buenas-practicas-para-la-elaboracion-y-evaluacion-de-proyectos-de-humanidades-digitales-y-checklist/',\n",
       "  'title': 'Formulario de evaluación para proyectos de Humanidades Digitales',\n",
       "  'URL': 'http://humanidadesdigitales.net/evaluacion/',\n",
       "  'author': [{'literal': 'RedHD'}],\n",
       "  'issued': {'date-parts': [['2013', 12]]}},\n",
       " {'id': 'http://zotero.org/groups/197065/items/2HY536KA',\n",
       "  'type': 'broadcast',\n",
       "  'abstract': 'Nos visita José Manuel Lucía Megías (Catedrático de Filología Rom.) Programa: Leer es un placer. Canal: Leer es un placer. Tiempo: 55:29. Subido 03/08 a las 20:54:06 2261337',\n",
       "  'dimensions': '55:29',\n",
       "  'language': 'Español',\n",
       "  'note': 'issued: 2013-08-19 15:15:41\\nPodcasters: _:n245\\n00000',\n",
       "  'title': 'José Manuel Lucía Megías: Elogio del texto digital',\n",
       "  'title-short': 'José Manuel Lucía Megías',\n",
       "  'URL': 'http://www.ivoox.com/jose-manuel-lucia-megias-elogio-del-texto-digital-audios-mp3_rf_2261337_1.html',\n",
       "  'author': [{'literal': 'Leer es un placer'}],\n",
       "  'accessed': {'date-parts': [['2013', 8, 19]]}},\n",
       " {'id': 'http://zotero.org/groups/197065/items/PFD38WRK',\n",
       "  'type': 'book',\n",
       "  'abstract': 'La historia de las mujeres es sin duda un referente ineludible para los estudios de diferencia sexual e identidad de los géneros. Esta obra aborda desde distintas perspectivas episodios y experiencias que permiten conocer la sensibilidad, las acciones y el perfil de las mujeres desde la antigüedad hasta nuestros días: la escritura de los textos líricos de la antigua Babilonia, centrados en el deseo; la configuración de la identidad masculina en la Roma republicana; el envejecimiento de la mujer durante la Edad Media; el gobierno de la casa, la práctica de la lectura y la alimentación en la modernidad; la división sexual del trabajo en la era industrial, y el papel del colectivo femenino en la construcción de una consciencia socialmente crítica en el siglo XX. Con un enfoque tan transversal como novedoso, Alternativas. Mujeres, género e historia contribuye a la definición social y cultural de la feminidad y de la masculinidad en una época en que la aceptación de la diversidad de género es un desafío de primer orden en la agenda política y ciudadana.',\n",
       "  'ISBN': '978-84-9168-435-0',\n",
       "  'language': 'spa',\n",
       "  'license': 'cc by-nc-nd (c) Edicions de la Universitat de Barcelona, 2020',\n",
       "  'note': 'Accepted: 2020-04-20T11:51:55Z',\n",
       "  'publisher': 'Edicions de la Universitat de Barcelona',\n",
       "  'source': 'diposit.ub.edu',\n",
       "  'title': 'Alternativas: Mujeres, género e historia',\n",
       "  'title-short': 'Alternativas',\n",
       "  'URL': 'http://diposit.ub.edu/dspace/handle/2445/156019',\n",
       "  'author': [{'family': 'Fargas Peñarrocha', 'given': 'Mariela'}],\n",
       "  'accessed': {'date-parts': [['2020', 5, 2]]},\n",
       "  'issued': {'date-parts': [['2020']]}},\n",
       " {'id': 'http://zotero.org/groups/197065/items/R7485KH3',\n",
       "  'type': 'webpage',\n",
       "  'abstract': 'PubMed comprises more than 26 million citations for biomedical literature from MEDLINE, life science journals, and online books. Citations may include links to full-text content from PubMed Central and publisher web sites.',\n",
       "  'note': '00000',\n",
       "  'title': 'Tourniquet application during anesthesia: \"What we need to know?\" [J Anaesthesiol Clin Pharmacol. 2016] - PubMed - NCBI',\n",
       "  'title-short': 'Tourniquet application during anesthesia',\n",
       "  'URL': 'https://www.ncbi.nlm.nih.gov/pubmed/?term=PMID%3A+28096570&report=docsum',\n",
       "  'author': [{'literal': 'pubmeddev'}],\n",
       "  'accessed': {'date-parts': [['2017', 2, 13]]},\n",
       "  'issued': {'date-parts': [['2017', 2, 13]]}}]"
      ]
     },
     "execution_count": 3,
     "metadata": {},
     "output_type": "execute_result"
    }
   ],
   "source": [
    "bibliografia[0:5]"
   ]
  },
  {
   "cell_type": "markdown",
   "id": "3d339c0a",
   "metadata": {},
   "source": [
    "```{admonition} load vs loads\n",
    ":class: tip\n",
    "Un error muy común consiste en confundir la función `load` con la función `loads`. La primera está diseñada para leer un archivo JSON, mientras que la segunda está diseñada para leer una cadena de texto en formato JSON. Si intentamos leer un archivo JSON con la función `loads`, obtendremos un error.\n",
    "```\n",
    "\n",
    "## Escritura de archivos JSON\n",
    "\n",
    "Para escribir un archivo JSON, utilizamos la función `dump` del módulo `json`. Esta función recibe como argumento un objeto de tipo archivo, que puede ser un archivo abierto o un objeto de tipo `StringIO`, y un objeto de Python que queremos convertir en un archivo JSON. Por ejemplo, vamos a crear un diccionario en Python con los valores un libro y luego crearemos un archivo de prueba con este diccionario."
   ]
  },
  {
   "cell_type": "code",
   "execution_count": 4,
   "id": "f53f0d89",
   "metadata": {},
   "outputs": [],
   "source": [
    "libro = {\n",
    "  \"id\": \"http://zotero.org/users/163570/items/DFIAXHAZ\",\n",
    "  \"type\": \"book\",\n",
    "  \"event-place\": \"Madrid\",\n",
    "  \"ISBN\": \"978-84-460-0264-2\",\n",
    "  \"language\": \"Spanish\",\n",
    "  \"note\": \"OCLC: 40162792\",\n",
    "  \"publisher\": \"Akal\",\n",
    "  \"publisher-place\": \"Madrid\",\n",
    "  \"source\": \"Open WorldCat\",\n",
    "  \"title\": \"El problema de la incredulidad en el siglo XVI: la religión de Rabelais\",\n",
    "  \"title-short\": \"El problema de la incredulidad\",\n",
    "  \"author\": [\n",
    "   {\n",
    "    \"family\": \"Febvre\",\n",
    "    \"given\": \"Lucien\"\n",
    "   }\n",
    "  ],\n",
    "  \"translator\": [\n",
    "   {\n",
    "    \"family\": \"Balsinde\",\n",
    "    \"given\": \"Isabel\"\n",
    "   }\n",
    "  ],\n",
    "  \"issued\": {\n",
    "   \"date-parts\": [\n",
    "    [\n",
    "     \"1993\"\n",
    "    ]\n",
    "   ]\n",
    "  }\n",
    " }"
   ]
  },
  {
   "cell_type": "code",
   "execution_count": 5,
   "id": "e9d353b8",
   "metadata": {},
   "outputs": [],
   "source": [
    "with open(\"../data/libro.json\", \"w\", encoding='utf-8') as archivo:\n",
    "    json.dump(libro, archivo)"
   ]
  },
  {
   "cell_type": "markdown",
   "id": "13a8fe92",
   "metadata": {},
   "source": [
    "Si abrimos el archivo `data/libro.json`, veremos que se trata de un archivo JSON con el contenido del diccionario que hemos creado."
   ]
  },
  {
   "cell_type": "code",
   "execution_count": 6,
   "id": "09631240",
   "metadata": {},
   "outputs": [
    {
     "name": "stdout",
     "output_type": "stream",
     "text": [
      "{\"id\": \"http://zotero.org/users/163570/items/DFIAXHAZ\", \"type\": \"book\", \"event-place\": \"Madrid\", \"ISBN\": \"978-84-460-0264-2\", \"language\": \"Spanish\", \"note\": \"OCLC: 40162792\", \"publisher\": \"Akal\", \"publisher-place\": \"Madrid\", \"source\": \"Open WorldCat\", \"title\": \"El problema de la incredulidad en el siglo XVI: la religi\\u00f3n de Rabelais\", \"title-short\": \"El problema de la incredulidad\", \"author\": [{\"family\": \"Febvre\", \"given\": \"Lucien\"}], \"translator\": [{\"family\": \"Balsinde\", \"given\": \"Isabel\"}], \"issued\": {\"date-parts\": [[\"1993\"]]}}\n"
     ]
    }
   ],
   "source": [
    "with open(\"../data/libro.json\", \"r\", encoding='utf-8') as archivo:\n",
    "    print(archivo.read())"
   ]
  },
  {
   "cell_type": "markdown",
   "id": "26d1230b",
   "metadata": {},
   "source": [
    "```{admonition} Atención\n",
    ":class: warning\n",
    "Para hacer una visualización rápida del contenido del archivo utilizamos la función `read()`, pero debemos tener en cuenta que en este caso no se retorna un diccionario sino un tipo `str`.\n",
    "```\n",
    "\n",
    "### Crear un archivo JSON a partir de una lista de diccionarios\n",
    "\n",
    "En el caso anterior, hemos creado un archivo JSON a partir de un diccionario, pero también podemos crear un archivo JSON a partir de una lista de diccionarios. Para ello, vamos a crear una lista de diccionarios con los datos de dos libros de la bibliografía."
   ]
  },
  {
   "cell_type": "code",
   "execution_count": 7,
   "id": "89f139f3",
   "metadata": {},
   "outputs": [],
   "source": [
    "libros = [\n",
    " {\n",
    "  \"id\": \"http://zotero.org/users/163570/items/KM78SEUK\",\n",
    "  \"type\": \"book\",\n",
    "  \"event-place\": \"Madrid\",\n",
    "  \"ISBN\": \"978-84-206-4775-3\",\n",
    "  \"language\": \"Spanish\",\n",
    "  \"note\": \"OCLC: 187040016\",\n",
    "  \"number-of-pages\": \"302\",\n",
    "  \"publisher\": \"Alianza\",\n",
    "  \"publisher-place\": \"Madrid\",\n",
    "  \"source\": \"Open WorldCat\",\n",
    "  \"title\": \"Formas de historia cultural\",\n",
    "  \"author\": [\n",
    "   {\n",
    "    \"family\": \"Burke\",\n",
    "    \"given\": \"Peter\"\n",
    "   }\n",
    "  ],\n",
    "  \"translator\": [\n",
    "   {\n",
    "    \"family\": \"Urrutia\",\n",
    "    \"given\": \"Belén\"\n",
    "   }\n",
    "  ],\n",
    "  \"issued\": {\n",
    "   \"date-parts\": [\n",
    "    [\n",
    "     \"2006\"\n",
    "    ]\n",
    "   ]\n",
    "  }\n",
    " },\n",
    " {\n",
    "  \"id\": \"http://zotero.org/users/163570/items/LKAU7WRX\",\n",
    "  \"type\": \"book\",\n",
    "  \"edition\": \"Kindle\",\n",
    "  \"event-place\": \"Madrid\",\n",
    "  \"language\": \"es\",\n",
    "  \"number-of-pages\": \"600\",\n",
    "  \"publisher\": \"Taurus\",\n",
    "  \"publisher-place\": \"Madrid\",\n",
    "  \"title\": \"El miedo en Occidente (Siglos XIV-XVIII) Una ciudad sitiada\",\n",
    "  \"title-short\": \"El miedo en Occidente\",\n",
    "  \"author\": [\n",
    "   {\n",
    "    \"family\": \"Delumeau\",\n",
    "    \"given\": \"Jean\"\n",
    "   }\n",
    "  ],\n",
    "  \"translator\": [\n",
    "   {\n",
    "    \"family\": \"Armiño\",\n",
    "    \"given\": \"Mauro\"\n",
    "   }\n",
    "  ],\n",
    "  \"contributor\": [\n",
    "   {\n",
    "    \"family\": \"Gutiérrez\",\n",
    "    \"given\": \"Francisco\"\n",
    "   }\n",
    "  ],\n",
    "  \"issued\": {\n",
    "   \"date-parts\": [\n",
    "    [\n",
    "     \"2012\"\n",
    "    ]\n",
    "   ]\n",
    "  }\n",
    " }\n",
    "]\n",
    "\n",
    "# Abrimos el archivo libros.json en modo escritura y volcamos el contenido de la lista libros\n",
    "\n",
    "with open(\"../data/libros.json\", \"w\", encoding='utf-8') as archivo:\n",
    "    json.dump(libros, archivo)"
   ]
  },
  {
   "cell_type": "markdown",
   "id": "0cff649e",
   "metadata": {},
   "source": [
    "Si abrimos el archivo `data/libros.json`, veremos que se trata de un archivo JSON con el contenido de la lista de diccionarios que hemos creado."
   ]
  },
  {
   "cell_type": "code",
   "execution_count": 8,
   "id": "70068435",
   "metadata": {},
   "outputs": [
    {
     "name": "stdout",
     "output_type": "stream",
     "text": [
      "Formas de historia cultural\n",
      "El miedo en Occidente (Siglos XIV-XVIII) Una ciudad sitiada\n"
     ]
    }
   ],
   "source": [
    "with open(\"../data/libros.json\", \"r\", encoding='utf-8') as archivo:\n",
    "   libros = json.load(archivo)\n",
    "\n",
    "for libro in libros:\n",
    "    print(libro[\"title\"])"
   ]
  },
  {
   "cell_type": "markdown",
   "id": "f4f2233e",
   "metadata": {},
   "source": [
    "## Añadir elementos a un archivo JSON\n",
    "\n",
    "Ahora, hagamos el ejercicio de agregar el contenido de nuestro archivo `libros.json` al archivo `bibliografia.json`. Para ello, vamos a leer el contenido del archivo `libros.json` y luego vamos a agregarlo al archivo `bibliografia.json` con la ayuda de la función `extend()`."
   ]
  },
  {
   "cell_type": "code",
   "execution_count": 9,
   "id": "629773a6",
   "metadata": {},
   "outputs": [],
   "source": [
    "# Leemos el archivo libros.json y lo guardamos en la variable libros\n",
    "\n",
    "with open(\"../data/libros.json\", \"r\", encoding='utf-8') as archivo:\n",
    "   libros = json.load(archivo)\n",
    "\n",
    "# Leemos el archivo bibliografia.json y lo guardamos en la variable bibliografia\n",
    "\n",
    "with open(\"../data/bibliografia.json\", \"r\", encoding='utf-8') as archivo:\n",
    "   bibliografia = json.load(archivo)\n",
    "\n",
    "# Agregamos el contenido de la variable libros a la variable bibliografia\n",
    "\n",
    "bibliografia.extend(libros)\n",
    "\n",
    "# Abrimos el archivo bibliografia.json en modo escritura y volcamos el contenido de la variable bibliografia\n",
    "\n",
    "with open(\"../data/bibliografia.json\", \"w\", encoding='utf-8') as archivo:\n",
    "    json.dump(bibliografia, archivo)"
   ]
  },
  {
   "cell_type": "markdown",
   "id": "684a9702",
   "metadata": {},
   "source": [
    "Comprobemos que el archivo `bibliografia.json` contiene el contenido de los dos archivos."
   ]
  },
  {
   "cell_type": "code",
   "execution_count": 10,
   "id": "63eba6d2",
   "metadata": {},
   "outputs": [
    {
     "name": "stdout",
     "output_type": "stream",
     "text": [
      "{'id': 'http://zotero.org/users/163570/items/LKAU7WRX', 'type': 'book', 'edition': 'Kindle', 'event-place': 'Madrid', 'language': 'es', 'number-of-pages': '600', 'publisher': 'Taurus', 'publisher-place': 'Madrid', 'title': 'El miedo en Occidente (Siglos XIV-XVIII) Una ciudad sitiada', 'title-short': 'El miedo en Occidente', 'author': [{'family': 'Delumeau', 'given': 'Jean'}], 'translator': [{'family': 'Armiño', 'given': 'Mauro'}], 'contributor': [{'family': 'Gutiérrez', 'given': 'Francisco'}], 'issued': {'date-parts': [['2012']]}}\n"
     ]
    }
   ],
   "source": [
    "with open(\"../data/bibliografia.json\", \"r\", encoding='utf-8') as archivo:\n",
    "   bibliografia = json.load(archivo)\n",
    "\n",
    "title = \"El miedo en Occidente (Siglos XIV-XVIII) Una ciudad sitiada\"\n",
    "\n",
    "for libro in bibliografia:\n",
    "    if libro[\"title\"] == title:\n",
    "        print(libro)"
   ]
  },
  {
   "cell_type": "markdown",
   "id": "4fb20517",
   "metadata": {},
   "source": [
    "## Eliminar elementos de un archivo JSON\n",
    "\n",
    "Para eliminar un elemento de la lista de diccionarios que hemos creado, vamos a utilizar la función `remove()`. En este ejemplo, quitaremos el libro *El miedo en Occidente (Siglos XIV-XVIII) Una ciudad sitiada* de la lista de diccionarios."
   ]
  },
  {
   "cell_type": "code",
   "execution_count": 11,
   "id": "6f5eff1e",
   "metadata": {},
   "outputs": [],
   "source": [
    "# Leemos el archivo bibliografia.json y lo guardamos en la variable bibliografia\n",
    "\n",
    "with open(\"../data/bibliografia.json\", \"r\", encoding='utf-8') as archivo:\n",
    "   bibliografia = json.load(archivo)\n",
    "\n",
    "# Eliminamos el libro \"El miedo en Occidente (Siglos XIV-XVIII) Una ciudad sitiada\" de la variable bibliografia\n",
    "\n",
    "title = \"El miedo en Occidente (Siglos XIV-XVIII) Una ciudad sitiada\"\n",
    "\n",
    "for libro in bibliografia:\n",
    "    if libro[\"title\"] == title:\n",
    "        bibliografia.remove(libro)\n",
    "\n",
    "# Abrimos el archivo bibliografia.json en modo escritura y volcamos el contenido de la variable bibliografia\n",
    "\n",
    "with open(\"../data/bibliografia.json\", \"w\", encoding='utf-8') as archivo:\n",
    "    json.dump(bibliografia, archivo)\n",
    "\n",
    "# Comprobamos que el libro ha sido eliminado\n",
    "\n",
    "with open(\"../data/bibliografia.json\", \"r\", encoding='utf-8') as archivo:\n",
    "   bibliografia = json.load(archivo)\n",
    "\n",
    "for libro in bibliografia:\n",
    "    if libro[\"title\"] == title:\n",
    "        print(libro)"
   ]
  },
  {
   "cell_type": "markdown",
   "id": "4878be47",
   "metadata": {},
   "source": [
    "Como no se ha impreso nada, podemos comprobar que el libro ha sido eliminado.\n",
    "\n",
    "## Modificar elementos de un archivo JSON\n",
    "\n",
    "Para modificar un elemento de la lista de diccionarios que hemos creado, vamos a utilizar la función `update()`. En este ejemplo, modificaremos el libro *Formas de historia cultural* de la lista de diccionarios, cambiaremos la fecha del libro de 2006 a 2020."
   ]
  },
  {
   "cell_type": "code",
   "execution_count": 12,
   "id": "29771d26",
   "metadata": {},
   "outputs": [
    {
     "name": "stdout",
     "output_type": "stream",
     "text": [
      "{'id': 'http://zotero.org/users/163570/items/KM78SEUK', 'type': 'book', 'event-place': 'Madrid', 'ISBN': '978-84-206-4775-3', 'language': 'Spanish', 'note': 'OCLC: 187040016', 'number-of-pages': '302', 'publisher': 'Alianza', 'publisher-place': 'Madrid', 'source': 'Open WorldCat', 'title': 'Formas de historia cultural', 'author': [{'family': 'Burke', 'given': 'Peter'}], 'translator': [{'family': 'Urrutia', 'given': 'Belén'}], 'issued': {'date-parts': [['2020']]}, 'edition': '2ª edición'}\n",
      "{'id': 'http://zotero.org/users/163570/items/KM78SEUK', 'type': 'book', 'event-place': 'Madrid', 'ISBN': '978-84-206-4775-3', 'language': 'Spanish', 'note': 'OCLC: 187040016', 'number-of-pages': '302', 'publisher': 'Alianza', 'publisher-place': 'Madrid', 'source': 'Open WorldCat', 'title': 'Formas de historia cultural', 'author': [{'family': 'Burke', 'given': 'Peter'}], 'translator': [{'family': 'Urrutia', 'given': 'Belén'}], 'issued': {'date-parts': [['2020']]}, 'edition': '2ª edición'}\n",
      "{'id': 'http://zotero.org/users/163570/items/KM78SEUK', 'type': 'book', 'event-place': 'Madrid', 'ISBN': '978-84-206-4775-3', 'language': 'Spanish', 'note': 'OCLC: 187040016', 'number-of-pages': '302', 'publisher': 'Alianza', 'publisher-place': 'Madrid', 'source': 'Open WorldCat', 'title': 'Formas de historia cultural', 'author': [{'family': 'Burke', 'given': 'Peter'}], 'translator': [{'family': 'Urrutia', 'given': 'Belén'}], 'issued': {'date-parts': [['2020']]}, 'edition': '2ª edición'}\n",
      "{'id': 'http://zotero.org/users/163570/items/KM78SEUK', 'type': 'book', 'event-place': 'Madrid', 'ISBN': '978-84-206-4775-3', 'language': 'Spanish', 'note': 'OCLC: 187040016', 'number-of-pages': '302', 'publisher': 'Alianza', 'publisher-place': 'Madrid', 'source': 'Open WorldCat', 'title': 'Formas de historia cultural', 'author': [{'family': 'Burke', 'given': 'Peter'}], 'translator': [{'family': 'Urrutia', 'given': 'Belén'}], 'issued': {'date-parts': [['2020']]}, 'edition': '2ª edición'}\n",
      "{'id': 'http://zotero.org/users/163570/items/KM78SEUK', 'type': 'book', 'event-place': 'Madrid', 'ISBN': '978-84-206-4775-3', 'language': 'Spanish', 'note': 'OCLC: 187040016', 'number-of-pages': '302', 'publisher': 'Alianza', 'publisher-place': 'Madrid', 'source': 'Open WorldCat', 'title': 'Formas de historia cultural', 'author': [{'family': 'Burke', 'given': 'Peter'}], 'translator': [{'family': 'Urrutia', 'given': 'Belén'}], 'issued': {'date-parts': [['2020']]}, 'edition': '2ª edición'}\n",
      "{'id': 'http://zotero.org/users/163570/items/KM78SEUK', 'type': 'book', 'event-place': 'Madrid', 'ISBN': '978-84-206-4775-3', 'language': 'Spanish', 'note': 'OCLC: 187040016', 'number-of-pages': '302', 'publisher': 'Alianza', 'publisher-place': 'Madrid', 'source': 'Open WorldCat', 'title': 'Formas de historia cultural', 'author': [{'family': 'Burke', 'given': 'Peter'}], 'translator': [{'family': 'Urrutia', 'given': 'Belén'}], 'issued': {'date-parts': [['2020']]}, 'edition': '2ª edición'}\n",
      "{'id': 'http://zotero.org/users/163570/items/KM78SEUK', 'type': 'book', 'event-place': 'Madrid', 'ISBN': '978-84-206-4775-3', 'language': 'Spanish', 'note': 'OCLC: 187040016', 'number-of-pages': '302', 'publisher': 'Alianza', 'publisher-place': 'Madrid', 'source': 'Open WorldCat', 'title': 'Formas de historia cultural', 'author': [{'family': 'Burke', 'given': 'Peter'}], 'translator': [{'family': 'Urrutia', 'given': 'Belén'}], 'issued': {'date-parts': [['2020']]}, 'edition': '2ª edición'}\n",
      "{'id': 'http://zotero.org/users/163570/items/KM78SEUK', 'type': 'book', 'event-place': 'Madrid', 'ISBN': '978-84-206-4775-3', 'language': 'Spanish', 'note': 'OCLC: 187040016', 'number-of-pages': '302', 'publisher': 'Alianza', 'publisher-place': 'Madrid', 'source': 'Open WorldCat', 'title': 'Formas de historia cultural', 'author': [{'family': 'Burke', 'given': 'Peter'}], 'translator': [{'family': 'Urrutia', 'given': 'Belén'}], 'issued': {'date-parts': [['2020']]}, 'edition': '2ª edición'}\n"
     ]
    }
   ],
   "source": [
    "# Leemos el archivo bibliografia.json y lo guardamos en la variable bibliografia\n",
    "\n",
    "with open(\"../data/bibliografia.json\", \"r\", encoding='utf-8') as archivo:\n",
    "   bibliografia = json.load(archivo)\n",
    "\n",
    "# Modificamos el libro \"Formas de historia cultural\" de la variable bibliografia\n",
    "\n",
    "title = \"Formas de historia cultural\"\n",
    "\n",
    "for libro in bibliografia:\n",
    "    if libro[\"title\"] == title:\n",
    "        libro[\"issued\"][\"date-parts\"] = [[\"2020\"]]\n",
    "        libro[\"edition\"] = \"2ª edición\"\n",
    "\n",
    "# Abrimos el archivo bibliografia.json en modo escritura y volcamos el contenido de la variable bibliografia\n",
    "\n",
    "with open(\"../data/bibliografia.json\", \"w\", encoding='utf-8') as archivo:\n",
    "    json.dump(bibliografia, archivo)\n",
    "\n",
    "# Comprobamos que el libro ha sido modificado\n",
    "\n",
    "with open(\"../data/bibliografia.json\", \"r\", encoding='utf-8') as archivo:\n",
    "   bibliografia = json.load(archivo)\n",
    "\n",
    "for libro in bibliografia:\n",
    "    if libro[\"title\"] == title:\n",
    "        print(libro)\n"
   ]
  },
  {
   "cell_type": "markdown",
   "id": "371a884d",
   "metadata": {},
   "source": [
    "## Formatear un archivo JSON\n",
    "\n",
    "Si abrimos el archivo JSON que hemos creado, veremos que está escrito de manera continua, sin saltos de línea ni sangrías. Para que sea más fácil de leer, podemos utilizar la función `dump()` con el parámetro `indent` para que el archivo se escriba con sangrías y saltos de línea."
   ]
  },
  {
   "cell_type": "code",
   "execution_count": 13,
   "id": "6c7e8e49",
   "metadata": {},
   "outputs": [],
   "source": [
    "with open(\"../data/bibliografia.json\", \"r\", encoding='utf-8') as archivo:\n",
    "   bibliografia = json.load(archivo)\n",
    "\n",
    "# guardar el archivo con formato\n",
    "\n",
    "with open(\"../data/bibliografia.json\", \"w\", encoding='utf-8') as archivo:\n",
    "    json.dump(bibliografia, archivo, indent=4)"
   ]
  },
  {
   "cell_type": "markdown",
   "id": "bea9bb21",
   "metadata": {},
   "source": [
    "Si abrimos el archivo `bibliografia.json`, veremos que ahora está escrito con sangrías y saltos de línea.\n",
    "\n",
    "En ocasiones, también será necesario que aseguremos que la codificación sea correcta, sobre todo cuando trabajamos con textos diferentes al inglés. La función `dump()` no trae incorporado el parámetro 'encoding', pero podemos utilizar el parámetro `ensure_ascii` el cual recibe un valor booleano (True|False) para determinar si debe codificarse en ASCII o en otra codificación. En nuesto caso, el idioma español, es recomendable usar el modo `ensure_ascii=False`. Nuestro código quedaría así;"
   ]
  },
  {
   "cell_type": "code",
   "execution_count": 14,
   "id": "c8fc2d4b",
   "metadata": {},
   "outputs": [],
   "source": [
    "with open(\"../data/bibliografia.json\", \"w\", encoding='utf-8') as archivo:\n",
    "    json.dump(bibliografia, archivo, indent=4, ensure_ascii=False)"
   ]
  },
  {
   "cell_type": "markdown",
   "id": "ff51e3d6",
   "metadata": {},
   "source": [
    "## Conclusión\n",
    "\n",
    "Como habrás notado, trabajar con archivos JSON es muy similar a hacerlo con diccionarios. Solamente debemos tener en cuenta que el objeto que se está recibiendo es una lista de diccionarios y que, por lo tanto, debemos iterar sobre ella para poder acceder a los elementos que contiene.\n",
    "\n",
    "## Ejercicio\n",
    "\n",
    "En la interfaz de la actividad intermedia, crea un archivo JSON que funcione como \"base de datos\" de la bibliografía, así, en lugar de interactuar con el archivo JSON que está en línea, lo puede hacer más rápidamente desde un directorio local.\n",
    "\n",
    "Un ejercicio intermedio: Crea un archivo JSON que te ayude a llevar la estadística de las consultas y búsquedas hechas en la bibliografía. Por ejemplo, cuántas veces se busca determinado autor o título.\n",
    "\n",
    "Un ejercicio \"avanzado\": Crea un archivo JSON que sirva como 'cache' de tu aplicación. Este, debe almacenar las búsquedas y así, en lugar de realizar siempre la búsqueda en todos los registros del JSON, puede recurrir a las búsquedas ya realizadas y solamente en caso de no encontrarlas busca en la totalidad de los registros. Con esta acción la aplicación aumentará significativamente su eficiencia."
   ]
  }
 ],
 "metadata": {
  "jupytext": {
   "cell_metadata_filter": "-all",
   "formats": "md:myst",
   "text_representation": {
    "extension": ".md",
    "format_name": "myst",
    "format_version": 0.13,
    "jupytext_version": "1.14.4"
   }
  },
  "kernelspec": {
   "display_name": "Python 3 (ipykernel)",
   "language": "python",
   "name": "python3"
  },
  "language_info": {
   "codemirror_mode": {
    "name": "ipython",
    "version": 3
   },
   "file_extension": ".py",
   "mimetype": "text/x-python",
   "name": "python",
   "nbconvert_exporter": "python",
   "pygments_lexer": "ipython3",
   "version": "3.11.1"
  },
  "source_map": [
   14,
   34,
   37,
   45,
   48,
   52,
   54,
   65,
   100,
   103,
   107,
   110,
   121,
   198,
   202,
   208,
   214,
   233,
   237,
   246,
   252,
   279,
   287,
   316,
   322,
   330,
   336,
   339
  ]
 },
 "nbformat": 4,
 "nbformat_minor": 5
}