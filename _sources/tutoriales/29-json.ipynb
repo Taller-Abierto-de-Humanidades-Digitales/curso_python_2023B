{
 "cells": [
  {
   "cell_type": "markdown",
   "id": "89bc7b9e",
   "metadata": {},
   "source": [
    "# Archivos JSON\n",
    "\n",
    "## ¿Qué es JSON?\n",
    "\n",
    "JSON (JavaScript Object Notation) es un formato de texto sencillo para el intercambio de datos. Se trata de un subconjunto de la notación literal de objetos de JavaScript, aunque, debido a su amplia adopción como alternativa a XML, se considera un formato independiente del lenguaje.\n",
    "\n",
    "Este formato es ampliamente utilizado para el intercambio de datos entre aplicaciones, especialmente en aplicaciones web. El formato JSON es muy sencillo y se basa en dos estructuras:\n",
    "\n",
    "- Una colección de pares de nombre/valor. En varios lenguajes esto es conocido como un objeto, registro, estructura, diccionario, tabla hash, lista de claves o un arreglo asociativo.\n",
    "- Una lista ordenada de valores. En la mayoría de los lenguajes, esto se implementa como arreglos, vectores, listas o sequencias.\n",
    "\n",
    "De una manera burda, podríamos pensar en este formato de archivo como una lista de diccionarios, donde cada diccionario es un registro de datos.\n",
    "\n",
    "Esta flexibilidad, fácil uso y disponibilidad en múltiples lenguajes, ha hecho que se desarrolle toda una tecnología alrededor de este formato, conocida como bases de datos no relacionales o NoSQL. AL contrario de las bases de datos relacionales, fundamentadas en tablas, las bases de datos NoSQL se basan en documentos, que son estructuras de datos similares a los diccionarios de Python.\n",
    "\n",
    "En esta lección, veremos cómo podemos leer y escribir archivos JSON en Python, y para ello, vamos a retomar el archivo JSON que utilizamos para la actividad intermedia. Este archivo está ubicado en la ruta relativa `data/bibliografia.json` y desde esa ruta podremos leerlo.\n",
    "\n",
    "Para poder leer el archivo JSON, primero debemos importar el módulo `json` de Python."
   ]
  },
  {
   "cell_type": "code",
   "execution_count": 1,
   "id": "08f83251",
   "metadata": {},
   "outputs": [],
   "source": [
    "import os\n",
    "import json"
   ]
  },
  {
   "cell_type": "markdown",
   "id": "7498b32d",
   "metadata": {},
   "source": [
    "Este módulo nos proporciona dos funciones principales: `load` y `dump`. La primera nos permite leer un archivo JSON y convertirlo en un objeto de Python, mientras que la segunda nos permite convertir un objeto de Python en un archivo JSON.\n",
    "\n",
    "## Lectura de archivos JSON\n",
    "\n",
    "Para leer un archivo JSON, utilizamos la función `load` del módulo `json`. Esta función recibe como argumento un objeto de tipo archivo, que puede ser un archivo abierto o un objeto de tipo `StringIO`. En este caso, vamos a leer el archivo `data/bibliografia.json` y lo vamos a asignar a la variable `bibliografia`."
   ]
  },
  {
   "cell_type": "code",
   "execution_count": 2,
   "id": "b9715d60",
   "metadata": {},
   "outputs": [],
   "source": [
    "with open(\"../data/bibliografia.json\", \"r\", encoding='utf-8') as archivo:\n",
    "    bibliografia = json.load(archivo)"
   ]
  },
  {
   "cell_type": "markdown",
   "id": "c0f4424a",
   "metadata": {},
   "source": [
    "Si imprimimos el contenido de la variable `bibliografia`, veremos que se trata de una lista de diccionarios."
   ]
  },
  {
   "cell_type": "code",
   "execution_count": 3,
   "id": "5a4fa7ac",
   "metadata": {},
   "outputs": [
    {
     "data": {
      "text/plain": [
       "[{'id': 'RojasCastro2015datos',\n",
       "  'type': 'article-journal',\n",
       "  'container-title': 'Ínsula',\n",
       "  'note': 'ZSCC: 0000000',\n",
       "  'page': '15-17',\n",
       "  'title': 'De los datos al metamedio',\n",
       "  'volume': '822',\n",
       "  'author': [{'family': 'Rojas Castro', 'given': 'Antonio'}],\n",
       "  'issued': {'date-parts': [['2015', 6]]}},\n",
       " {'id': 'Thuillier2014obraa',\n",
       "  'type': 'chapter',\n",
       "  'abstract': 'Un número considerable de trabajos filológicos impresos han pasado a ser consultables en línea. No obstante, puede afirmarse que este proceso de digitalización no siempre se traduce en la generación de genuinas obras digitales. Como lo indica Sven Tarp, esto es especialmente significativo en el caso de los diccionarios electrónicos, que han de dejar de ser objetos estáticos de consulta para reconceptualizarse como textos dinámicos y diseñados para conectarse con proyectos colaborativos más amplios. ¿Cuáles pueden ser los desafíos a los que se enfrentan los diccionarios para convertirse en recursos propios del ámbito digital? Para abordar esta cuestión, este estudio pretende describir las estrategias que están siendo implementadas en el Diccionario Griego-Español recientemente digitalizado (http://dge.cchs.csic.es/xdge/). Sugerimos unos caminos que se pueden seguir para dinamizar su contenido y interactuar con fuentes externas (en particular con los corpus en línea). El cambio de formato ha sumido de facto el DGE en un entorno cuyos desarrollos en la filología clásica son ya considerables; su papel activo en las aportaciones de la lexicografía en las humanidades digitales dependerá de que se convierta en una obra digital de pleno derecho.',\n",
       "  'container-title': 'Humanidades Digitales: desafíos, logros y perspectivas de futuro',\n",
       "  'event-place': 'A Coruña',\n",
       "  'note': 'ZSCC: NoCitationData[s0]',\n",
       "  'page': '459-471',\n",
       "  'publisher': 'SIELAE',\n",
       "  'publisher-place': 'A Coruña',\n",
       "  'title': 'De una obra digitalizada a una obra digital: reflexiones en torno al Diccionario Griego-Español en línea',\n",
       "  'URL': 'http://www.janusdigital.es/anexos/contribucion.htm;jsessionid=E61129CD6BA02CE34B37D2373DD6E86F?id=40',\n",
       "  'author': [{'family': 'Thuillier', 'given': 'Sabine'}],\n",
       "  'editor': [{'family': 'López Poza', 'given': 'Sagrario'},\n",
       "   {'family': 'Pena Sueiro', 'given': 'Nieves'}],\n",
       "  'issued': {'date-parts': [['2014']]}},\n",
       " {'id': 'PerdicesCastillo.PerianesRodriguez2014Documentacion',\n",
       "  'type': 'article-journal',\n",
       "  'abstract': 'Las imágenes digitales inundan nuestra vida y su número se incrementa diariamente. Sin embargo, ese volumen creciente contrasta con su escasa o nula descripción. El valor de esas instantáneas, bien para ilustrar el acontecimiento que las justifica, bien para ser empleadas en otros contextos o situaciones, pasa por su adecuada descripción. Mediante la tipificación de agencias e imágenes, la especificación de sus usos y la ejemplificación de las diferencias descriptivas que las caracterizan se pueden conseguir descripciones equilibradas que eviten registros escuetos o incompletos, excesivamente recargados o irreales. La aplicación de las recomendaciones propuestas mejorará la calidad de las descripciones, facilitará el éxito en la recuperación, ayudará en la difícil tarea de normalizar y aumentará las valoraciones positivas por parte de clientes y usuarios.',\n",
       "  'container-title': 'El profesional de la Información',\n",
       "  'issue': '5',\n",
       "  'note': 'ZSCC: 0000002',\n",
       "  'title': 'Documentación de fotografías en bancos de imágenes comerciales',\n",
       "  'volume': '23',\n",
       "  'author': [{'family': 'Perdices Castillo', 'given': 'Luisa'},\n",
       "   {'family': 'Perianes Rodríguez', 'given': 'Antonio'}],\n",
       "  'issued': {'date-parts': [['2014']]}},\n",
       " {'id': 'CurielDefosse.JimenezRivera2012Digitalizaciona',\n",
       "  'type': 'article-magazine',\n",
       "  'container-title': 'Gaceta FCE',\n",
       "  'issue': '499',\n",
       "  'note': 'ZSCC: 0000000[s0]',\n",
       "  'page': '12',\n",
       "  'title': 'Digitalización y acceso al patrimonio documental mexicano',\n",
       "  'author': [{'family': 'Curiel Defosse', 'given': 'Guadalupe'},\n",
       "   {'family': 'Jiménez Rivera', 'given': 'Ricardo J.'}],\n",
       "  'issued': {'date-parts': [['2012', 7]]}},\n",
       " {'id': 'Labastida2015Creative',\n",
       "  'type': 'article-journal',\n",
       "  'container-title': 'Ínsula',\n",
       "  'note': 'ZSCC: 0000002',\n",
       "  'page': '35-37',\n",
       "  'title': 'Creative Commons y Acceso Abierto en el ámbito académico',\n",
       "  'volume': '822',\n",
       "  'author': [{'family': 'Labastida', 'given': 'Ignasi'}],\n",
       "  'issued': {'date-parts': [['2015', 6]]}}]"
      ]
     },
     "execution_count": 3,
     "metadata": {},
     "output_type": "execute_result"
    }
   ],
   "source": [
    "bibliografia[0:5]"
   ]
  },
  {
   "cell_type": "markdown",
   "id": "2e0a0505",
   "metadata": {},
   "source": [
    "```{admonition} load vs loads\n",
    ":class: tip\n",
    "Un error muy común consiste en confundir la función `load` con la función `loads`. La primera está diseñada para leer un archivo JSON, mientras que la segunda está diseñada para leer una cadena de texto en formato JSON. Si intentamos leer un archivo JSON con la función `loads`, obtendremos un error.\n",
    "```\n",
    "\n",
    "## Escritura de archivos JSON\n",
    "\n",
    "Para escribir un archivo JSON, utilizamos la función `dump` del módulo `json`. Esta función recibe como argumento un objeto de tipo archivo, que puede ser un archivo abierto o un objeto de tipo `StringIO`, y un objeto de Python que queremos convertir en un archivo JSON. Por ejemplo, vamos a crear un diccionario en Python con los valores un libro y luego crearemos un archivo de prueba con este diccionario."
   ]
  },
  {
   "cell_type": "code",
   "execution_count": 4,
   "id": "caed61ba",
   "metadata": {},
   "outputs": [],
   "source": [
    "libro = {\n",
    "  \"id\": \"http://zotero.org/users/163570/items/DFIAXHAZ\",\n",
    "  \"type\": \"book\",\n",
    "  \"event-place\": \"Madrid\",\n",
    "  \"ISBN\": \"978-84-460-0264-2\",\n",
    "  \"language\": \"Spanish\",\n",
    "  \"note\": \"OCLC: 40162792\",\n",
    "  \"publisher\": \"Akal\",\n",
    "  \"publisher-place\": \"Madrid\",\n",
    "  \"source\": \"Open WorldCat\",\n",
    "  \"title\": \"El problema de la incredulidad en el siglo XVI: la religión de Rabelais\",\n",
    "  \"title-short\": \"El problema de la incredulidad\",\n",
    "  \"author\": [\n",
    "   {\n",
    "    \"family\": \"Febvre\",\n",
    "    \"given\": \"Lucien\"\n",
    "   }\n",
    "  ],\n",
    "  \"translator\": [\n",
    "   {\n",
    "    \"family\": \"Balsinde\",\n",
    "    \"given\": \"Isabel\"\n",
    "   }\n",
    "  ],\n",
    "  \"issued\": {\n",
    "   \"date-parts\": [\n",
    "    [\n",
    "     \"1993\"\n",
    "    ]\n",
    "   ]\n",
    "  }\n",
    " }"
   ]
  },
  {
   "cell_type": "code",
   "execution_count": 5,
   "id": "47032a19",
   "metadata": {},
   "outputs": [],
   "source": [
    "with open(\"../data/libro.json\", \"w\", encoding='utf-8') as archivo:\n",
    "    json.dump(libro, archivo)"
   ]
  },
  {
   "cell_type": "markdown",
   "id": "2b6f5dbf",
   "metadata": {},
   "source": [
    "Si abrimos el archivo `data/libro.json`, veremos que se trata de un archivo JSON con el contenido del diccionario que hemos creado."
   ]
  },
  {
   "cell_type": "code",
   "execution_count": 6,
   "id": "c84ea4d4",
   "metadata": {},
   "outputs": [
    {
     "name": "stdout",
     "output_type": "stream",
     "text": [
      "{\"id\": \"http://zotero.org/users/163570/items/DFIAXHAZ\", \"type\": \"book\", \"event-place\": \"Madrid\", \"ISBN\": \"978-84-460-0264-2\", \"language\": \"Spanish\", \"note\": \"OCLC: 40162792\", \"publisher\": \"Akal\", \"publisher-place\": \"Madrid\", \"source\": \"Open WorldCat\", \"title\": \"El problema de la incredulidad en el siglo XVI: la religi\\u00f3n de Rabelais\", \"title-short\": \"El problema de la incredulidad\", \"author\": [{\"family\": \"Febvre\", \"given\": \"Lucien\"}], \"translator\": [{\"family\": \"Balsinde\", \"given\": \"Isabel\"}], \"issued\": {\"date-parts\": [[\"1993\"]]}}\n"
     ]
    }
   ],
   "source": [
    "with open(\"../data/libro.json\", \"r\", encoding='utf-8') as archivo:\n",
    "    print(archivo.read())"
   ]
  },
  {
   "cell_type": "markdown",
   "id": "2fd2a857",
   "metadata": {},
   "source": [
    "```{admonition} Atención\n",
    ":class: warning\n",
    "Para hacer una visualización rápida del contenido del archivo utilizamos la función `read()`, pero debemos tener en cuenta que en este caso no se retorna un diccionario sino un tipo `str`.\n",
    "```\n",
    "\n",
    "### Crear un archivo JSON a partir de una lista de diccionarios\n",
    "\n",
    "En el caso anterior, hemos creado un archivo JSON a partir de un diccionario, pero también podemos crear un archivo JSON a partir de una lista de diccionarios. Para ello, vamos a crear una lista de diccionarios con los datos de dos libros de la bibliografía."
   ]
  },
  {
   "cell_type": "code",
   "execution_count": 7,
   "id": "231b58b1",
   "metadata": {},
   "outputs": [],
   "source": [
    "libros = [\n",
    " {\n",
    "  \"id\": \"http://zotero.org/users/163570/items/KM78SEUK\",\n",
    "  \"type\": \"book\",\n",
    "  \"event-place\": \"Madrid\",\n",
    "  \"ISBN\": \"978-84-206-4775-3\",\n",
    "  \"language\": \"Spanish\",\n",
    "  \"note\": \"OCLC: 187040016\",\n",
    "  \"number-of-pages\": \"302\",\n",
    "  \"publisher\": \"Alianza\",\n",
    "  \"publisher-place\": \"Madrid\",\n",
    "  \"source\": \"Open WorldCat\",\n",
    "  \"title\": \"Formas de historia cultural\",\n",
    "  \"author\": [\n",
    "   {\n",
    "    \"family\": \"Burke\",\n",
    "    \"given\": \"Peter\"\n",
    "   }\n",
    "  ],\n",
    "  \"translator\": [\n",
    "   {\n",
    "    \"family\": \"Urrutia\",\n",
    "    \"given\": \"Belén\"\n",
    "   }\n",
    "  ],\n",
    "  \"issued\": {\n",
    "   \"date-parts\": [\n",
    "    [\n",
    "     \"2006\"\n",
    "    ]\n",
    "   ]\n",
    "  }\n",
    " },\n",
    " {\n",
    "  \"id\": \"http://zotero.org/users/163570/items/LKAU7WRX\",\n",
    "  \"type\": \"book\",\n",
    "  \"edition\": \"Kindle\",\n",
    "  \"event-place\": \"Madrid\",\n",
    "  \"language\": \"es\",\n",
    "  \"number-of-pages\": \"600\",\n",
    "  \"publisher\": \"Taurus\",\n",
    "  \"publisher-place\": \"Madrid\",\n",
    "  \"title\": \"El miedo en Occidente (Siglos XIV-XVIII) Una ciudad sitiada\",\n",
    "  \"title-short\": \"El miedo en Occidente\",\n",
    "  \"author\": [\n",
    "   {\n",
    "    \"family\": \"Delumeau\",\n",
    "    \"given\": \"Jean\"\n",
    "   }\n",
    "  ],\n",
    "  \"translator\": [\n",
    "   {\n",
    "    \"family\": \"Armiño\",\n",
    "    \"given\": \"Mauro\"\n",
    "   }\n",
    "  ],\n",
    "  \"contributor\": [\n",
    "   {\n",
    "    \"family\": \"Gutiérrez\",\n",
    "    \"given\": \"Francisco\"\n",
    "   }\n",
    "  ],\n",
    "  \"issued\": {\n",
    "   \"date-parts\": [\n",
    "    [\n",
    "     \"2012\"\n",
    "    ]\n",
    "   ]\n",
    "  }\n",
    " }\n",
    "]\n",
    "\n",
    "# Abrimos el archivo libros.json en modo escritura y volcamos el contenido de la lista libros\n",
    "\n",
    "with open(\"../data/libros.json\", \"w\", encoding='utf-8') as archivo:\n",
    "    json.dump(libros, archivo)"
   ]
  },
  {
   "cell_type": "markdown",
   "id": "52222c47",
   "metadata": {},
   "source": [
    "Si abrimos el archivo `data/libros.json`, veremos que se trata de un archivo JSON con el contenido de la lista de diccionarios que hemos creado."
   ]
  },
  {
   "cell_type": "code",
   "execution_count": 8,
   "id": "317ed6ba",
   "metadata": {},
   "outputs": [
    {
     "name": "stdout",
     "output_type": "stream",
     "text": [
      "Formas de historia cultural\n",
      "El miedo en Occidente (Siglos XIV-XVIII) Una ciudad sitiada\n"
     ]
    }
   ],
   "source": [
    "with open(\"../data/libros.json\", \"r\", encoding='utf-8') as archivo:\n",
    "   libros = json.load(archivo)\n",
    "\n",
    "for libro in libros:\n",
    "    print(libro[\"title\"])"
   ]
  },
  {
   "cell_type": "markdown",
   "id": "cf0183a0",
   "metadata": {},
   "source": [
    "## Añadir elementos a un archivo JSON\n",
    "\n",
    "Ahora, hagamos el ejercicio de agregar el contenido de nuestro archivo `libros.json` al archivo `bibliografia.json`. Para ello, vamos a leer el contenido del archivo `libros.json` y luego vamos a agregarlo al archivo `bibliografia.json` con la ayuda de la función `extend()`."
   ]
  },
  {
   "cell_type": "code",
   "execution_count": 9,
   "id": "e672b2b4",
   "metadata": {},
   "outputs": [],
   "source": [
    "# Leemos el archivo libros.json y lo guardamos en la variable libros\n",
    "\n",
    "with open(\"../data/libros.json\", \"r\", encoding='utf-8') as archivo:\n",
    "   libros = json.load(archivo)\n",
    "\n",
    "# Leemos el archivo bibliografia.json y lo guardamos en la variable bibliografia\n",
    "\n",
    "with open(\"../data/bibliografia.json\", \"r\", encoding='utf-8') as archivo:\n",
    "   bibliografia = json.load(archivo)\n",
    "\n",
    "# Agregamos el contenido de la variable libros a la variable bibliografia\n",
    "\n",
    "bibliografia.extend(libros)\n",
    "\n",
    "# Abrimos el archivo bibliografia.json en modo escritura y volcamos el contenido de la variable bibliografia\n",
    "\n",
    "with open(\"../data/bibliografia.json\", \"w\", encoding='utf-8') as archivo:\n",
    "    json.dump(bibliografia, archivo)"
   ]
  },
  {
   "cell_type": "markdown",
   "id": "cfb891a0",
   "metadata": {},
   "source": [
    "Comprobemos que el archivo `bibliografia.json` contiene el contenido de los dos archivos."
   ]
  },
  {
   "cell_type": "code",
   "execution_count": 10,
   "id": "422f45c5",
   "metadata": {},
   "outputs": [
    {
     "name": "stdout",
     "output_type": "stream",
     "text": [
      "{'id': 'http://zotero.org/users/163570/items/LKAU7WRX', 'type': 'book', 'edition': 'Kindle', 'event-place': 'Madrid', 'language': 'es', 'number-of-pages': '600', 'publisher': 'Taurus', 'publisher-place': 'Madrid', 'title': 'El miedo en Occidente (Siglos XIV-XVIII) Una ciudad sitiada', 'title-short': 'El miedo en Occidente', 'author': [{'family': 'Delumeau', 'given': 'Jean'}], 'translator': [{'family': 'Armiño', 'given': 'Mauro'}], 'contributor': [{'family': 'Gutiérrez', 'given': 'Francisco'}], 'issued': {'date-parts': [['2012']]}}\n"
     ]
    }
   ],
   "source": [
    "with open(\"../data/bibliografia.json\", \"r\", encoding='utf-8') as archivo:\n",
    "   bibliografia = json.load(archivo)\n",
    "\n",
    "title = \"El miedo en Occidente (Siglos XIV-XVIII) Una ciudad sitiada\"\n",
    "\n",
    "for libro in bibliografia:\n",
    "    if libro[\"title\"] == title:\n",
    "        print(libro)"
   ]
  },
  {
   "cell_type": "markdown",
   "id": "e1da161a",
   "metadata": {},
   "source": [
    "## Eliminar elementos de un archivo JSON\n",
    "\n",
    "Para eliminar un elemento de la lista de diccionarios que hemos creado, vamos a utilizar la función `remove()`. En este ejemplo, quitaremos el libro *El miedo en Occidente (Siglos XIV-XVIII) Una ciudad sitiada* de la lista de diccionarios."
   ]
  },
  {
   "cell_type": "code",
   "execution_count": 11,
   "id": "01e99989",
   "metadata": {},
   "outputs": [],
   "source": [
    "# Leemos el archivo bibliografia.json y lo guardamos en la variable bibliografia\n",
    "\n",
    "with open(\"../data/bibliografia.json\", \"r\", encoding='utf-8') as archivo:\n",
    "   bibliografia = json.load(archivo)\n",
    "\n",
    "# Eliminamos el libro \"El miedo en Occidente (Siglos XIV-XVIII) Una ciudad sitiada\" de la variable bibliografia\n",
    "\n",
    "title = \"El miedo en Occidente (Siglos XIV-XVIII) Una ciudad sitiada\"\n",
    "\n",
    "for libro in bibliografia:\n",
    "    if libro[\"title\"] == title:\n",
    "        bibliografia.remove(libro)\n",
    "\n",
    "# Abrimos el archivo bibliografia.json en modo escritura y volcamos el contenido de la variable bibliografia\n",
    "\n",
    "with open(\"../data/bibliografia.json\", \"w\", encoding='utf-8') as archivo:\n",
    "    json.dump(bibliografia, archivo)\n",
    "\n",
    "# Comprobamos que el libro ha sido eliminado\n",
    "\n",
    "with open(\"../data/bibliografia.json\", \"r\", encoding='utf-8') as archivo:\n",
    "   bibliografia = json.load(archivo)\n",
    "\n",
    "for libro in bibliografia:\n",
    "    if libro[\"title\"] == title:\n",
    "        print(libro)"
   ]
  },
  {
   "cell_type": "markdown",
   "id": "96a35a8e",
   "metadata": {},
   "source": [
    "Como no se ha impreso nada, podemos comprobar que el libro ha sido eliminado.\n",
    "\n",
    "## Modificar elementos de un archivo JSON\n",
    "\n",
    "Para modificar un elemento de la lista de diccionarios que hemos creado, vamos a utilizar la función `update()`. En este ejemplo, modificaremos el libro *Formas de historia cultural* de la lista de diccionarios, cambiaremos la fecha del libro de 2006 a 2020."
   ]
  },
  {
   "cell_type": "code",
   "execution_count": 12,
   "id": "86eca3f6",
   "metadata": {},
   "outputs": [
    {
     "name": "stdout",
     "output_type": "stream",
     "text": [
      "{'id': 'http://zotero.org/users/163570/items/KM78SEUK', 'type': 'book', 'event-place': 'Madrid', 'ISBN': '978-84-206-4775-3', 'language': 'Spanish', 'note': 'OCLC: 187040016', 'number-of-pages': '302', 'publisher': 'Alianza', 'publisher-place': 'Madrid', 'source': 'Open WorldCat', 'title': 'Formas de historia cultural', 'author': [{'family': 'Burke', 'given': 'Peter'}], 'translator': [{'family': 'Urrutia', 'given': 'Belén'}], 'issued': {'date-parts': [['2020']]}, 'edition': '2ª edición'}\n",
      "{'id': 'http://zotero.org/users/163570/items/KM78SEUK', 'type': 'book', 'event-place': 'Madrid', 'ISBN': '978-84-206-4775-3', 'language': 'Spanish', 'note': 'OCLC: 187040016', 'number-of-pages': '302', 'publisher': 'Alianza', 'publisher-place': 'Madrid', 'source': 'Open WorldCat', 'title': 'Formas de historia cultural', 'author': [{'family': 'Burke', 'given': 'Peter'}], 'translator': [{'family': 'Urrutia', 'given': 'Belén'}], 'issued': {'date-parts': [['2020']]}, 'edition': '2ª edición'}\n",
      "{'id': 'http://zotero.org/users/163570/items/KM78SEUK', 'type': 'book', 'event-place': 'Madrid', 'ISBN': '978-84-206-4775-3', 'language': 'Spanish', 'note': 'OCLC: 187040016', 'number-of-pages': '302', 'publisher': 'Alianza', 'publisher-place': 'Madrid', 'source': 'Open WorldCat', 'title': 'Formas de historia cultural', 'author': [{'family': 'Burke', 'given': 'Peter'}], 'translator': [{'family': 'Urrutia', 'given': 'Belén'}], 'issued': {'date-parts': [['2020']]}, 'edition': '2ª edición'}\n",
      "{'id': 'http://zotero.org/users/163570/items/KM78SEUK', 'type': 'book', 'event-place': 'Madrid', 'ISBN': '978-84-206-4775-3', 'language': 'Spanish', 'note': 'OCLC: 187040016', 'number-of-pages': '302', 'publisher': 'Alianza', 'publisher-place': 'Madrid', 'source': 'Open WorldCat', 'title': 'Formas de historia cultural', 'author': [{'family': 'Burke', 'given': 'Peter'}], 'translator': [{'family': 'Urrutia', 'given': 'Belén'}], 'issued': {'date-parts': [['2020']]}, 'edition': '2ª edición'}\n",
      "{'id': 'http://zotero.org/users/163570/items/KM78SEUK', 'type': 'book', 'event-place': 'Madrid', 'ISBN': '978-84-206-4775-3', 'language': 'Spanish', 'note': 'OCLC: 187040016', 'number-of-pages': '302', 'publisher': 'Alianza', 'publisher-place': 'Madrid', 'source': 'Open WorldCat', 'title': 'Formas de historia cultural', 'author': [{'family': 'Burke', 'given': 'Peter'}], 'translator': [{'family': 'Urrutia', 'given': 'Belén'}], 'issued': {'date-parts': [['2020']]}, 'edition': '2ª edición'}\n",
      "{'id': 'http://zotero.org/users/163570/items/KM78SEUK', 'type': 'book', 'event-place': 'Madrid', 'ISBN': '978-84-206-4775-3', 'language': 'Spanish', 'note': 'OCLC: 187040016', 'number-of-pages': '302', 'publisher': 'Alianza', 'publisher-place': 'Madrid', 'source': 'Open WorldCat', 'title': 'Formas de historia cultural', 'author': [{'family': 'Burke', 'given': 'Peter'}], 'translator': [{'family': 'Urrutia', 'given': 'Belén'}], 'issued': {'date-parts': [['2020']]}, 'edition': '2ª edición'}\n",
      "{'id': 'http://zotero.org/users/163570/items/KM78SEUK', 'type': 'book', 'event-place': 'Madrid', 'ISBN': '978-84-206-4775-3', 'language': 'Spanish', 'note': 'OCLC: 187040016', 'number-of-pages': '302', 'publisher': 'Alianza', 'publisher-place': 'Madrid', 'source': 'Open WorldCat', 'title': 'Formas de historia cultural', 'author': [{'family': 'Burke', 'given': 'Peter'}], 'translator': [{'family': 'Urrutia', 'given': 'Belén'}], 'issued': {'date-parts': [['2020']]}, 'edition': '2ª edición'}\n",
      "{'id': 'http://zotero.org/users/163570/items/KM78SEUK', 'type': 'book', 'event-place': 'Madrid', 'ISBN': '978-84-206-4775-3', 'language': 'Spanish', 'note': 'OCLC: 187040016', 'number-of-pages': '302', 'publisher': 'Alianza', 'publisher-place': 'Madrid', 'source': 'Open WorldCat', 'title': 'Formas de historia cultural', 'author': [{'family': 'Burke', 'given': 'Peter'}], 'translator': [{'family': 'Urrutia', 'given': 'Belén'}], 'issued': {'date-parts': [['2020']]}, 'edition': '2ª edición'}\n"
     ]
    }
   ],
   "source": [
    "# Leemos el archivo bibliografia.json y lo guardamos en la variable bibliografia\n",
    "\n",
    "with open(\"../data/bibliografia.json\", \"r\", encoding='utf-8') as archivo:\n",
    "   bibliografia = json.load(archivo)\n",
    "\n",
    "# Modificamos el libro \"Formas de historia cultural\" de la variable bibliografia\n",
    "\n",
    "title = \"Formas de historia cultural\"\n",
    "\n",
    "for libro in bibliografia:\n",
    "    if libro[\"title\"] == title:\n",
    "        libro[\"issued\"][\"date-parts\"] = [[\"2020\"]]\n",
    "        libro[\"edition\"] = \"2ª edición\"\n",
    "\n",
    "# Abrimos el archivo bibliografia.json en modo escritura y volcamos el contenido de la variable bibliografia\n",
    "\n",
    "with open(\"../data/bibliografia.json\", \"w\", encoding='utf-8') as archivo:\n",
    "    json.dump(bibliografia, archivo)\n",
    "\n",
    "# Comprobamos que el libro ha sido modificado\n",
    "\n",
    "with open(\"../data/bibliografia.json\", \"r\", encoding='utf-8') as archivo:\n",
    "   bibliografia = json.load(archivo)\n",
    "\n",
    "for libro in bibliografia:\n",
    "    if libro[\"title\"] == title:\n",
    "        print(libro)\n"
   ]
  },
  {
   "cell_type": "markdown",
   "id": "ceae16ef",
   "metadata": {},
   "source": [
    "## Formatear un archivo JSON\n",
    "\n",
    "Si abrimos el archivo JSON que hemos creado, veremos que está escrito de manera continua, sin saltos de línea ni sangrías. Para que sea más fácil de leer, podemos utilizar la función `dump()` con el parámetro `indent` para que el archivo se escriba con sangrías y saltos de línea."
   ]
  },
  {
   "cell_type": "code",
   "execution_count": 13,
   "id": "fe0e8aa4",
   "metadata": {},
   "outputs": [],
   "source": [
    "with open(\"../data/bibliografia.json\", \"r\", encoding='utf-8') as archivo:\n",
    "   bibliografia = json.load(archivo)\n",
    "\n",
    "# guardar el archivo con formato\n",
    "\n",
    "with open(\"../data/bibliografia.json\", \"w\", encoding='utf-8') as archivo:\n",
    "    json.dump(bibliografia, archivo, indent=4)"
   ]
  },
  {
   "cell_type": "markdown",
   "id": "a5ce71f3",
   "metadata": {},
   "source": [
    "Si abrimos el archivo `bibliografia.json`, veremos que ahora está escrito con sangrías y saltos de línea.\n",
    "\n",
    "En ocasiones, también será necesario que aseguremos que la codificación sea correcta, sobre todo cuando trabajamos con textos diferentes al inglés. La función `dump()` no trae incorporado el parámetro 'encoding', pero podemos utilizar el parámetro `ensure_ascii` el cual recibe un valor booleano (True|False) para determinar si debe codificarse en ASCII o en otra codificación. En nuesto caso, el idioma español, es recomendable usar el modo `ensure_ascii=False`. Nuestro código quedaría así;"
   ]
  },
  {
   "cell_type": "code",
   "execution_count": 14,
   "id": "62664bf7",
   "metadata": {},
   "outputs": [],
   "source": [
    "with open(\"../data/bibliografia.json\", \"w\", encoding='utf-8') as archivo:\n",
    "    json.dump(bibliografia, archivo, indent=4, ensure_ascii=False)"
   ]
  },
  {
   "cell_type": "markdown",
   "id": "904f9058",
   "metadata": {},
   "source": [
    "## Conclusión\n",
    "\n",
    "Como habrás notado, trabajar con archivos JSON es muy similar a hacerlo con diccionarios. Solamente debemos tener en cuenta que el objeto que se está recibiendo es una lista de diccionarios y que, por lo tanto, debemos iterar sobre ella para poder acceder a los elementos que contiene."
   ]
  }
 ],
 "metadata": {
  "jupytext": {
   "cell_metadata_filter": "-all",
   "formats": "md:myst",
   "text_representation": {
    "extension": ".md",
    "format_name": "myst",
    "format_version": 0.13,
    "jupytext_version": "1.14.4"
   }
  },
  "kernelspec": {
   "display_name": "Python 3 (ipykernel)",
   "language": "python",
   "name": "python3"
  },
  "language_info": {
   "codemirror_mode": {
    "name": "ipython",
    "version": 3
   },
   "file_extension": ".py",
   "mimetype": "text/x-python",
   "name": "python",
   "nbconvert_exporter": "python",
   "pygments_lexer": "ipython3",
   "version": "3.11.4"
  },
  "source_map": [
   14,
   34,
   37,
   45,
   48,
   52,
   54,
   65,
   100,
   103,
   107,
   110,
   121,
   198,
   202,
   208,
   214,
   233,
   237,
   246,
   252,
   279,
   287,
   316,
   322,
   330,
   336,
   339
  ]
 },
 "nbformat": 4,
 "nbformat_minor": 5
}