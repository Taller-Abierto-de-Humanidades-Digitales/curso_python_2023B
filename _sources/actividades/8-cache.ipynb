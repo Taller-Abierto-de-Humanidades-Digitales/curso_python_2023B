{
 "cells": [
  {
   "cell_type": "markdown",
   "metadata": {},
   "source": [
    "# Actividad 8: Manejo de archivos\n",
    "\n",
    "👉 Abre este cuaderno en tu Google Colab utilizando el botón \"Open in Colab\", luego haz una copia en Drive (\"Archivo > Guardar una copia en Drive\") y sigue las instrucciones. \n",
    "\n",
    "<a href=\"https://colab.research.google.com/gist/jairomelo/edf555c56ade30e31991f7cb1d85eb60/8-cache.ipynb\" target=\"_parent\"><img src=\"https://colab.research.google.com/assets/colab-badge.svg\" alt=\"Open In Colab\"/></a>\n",
    "\n",
    "**Envío:** Envía la actividad a través del foro \"Actividad 8: Manejo de archivos\" de la unidad \"Archivos\" del curso."
   ]
  },
  {
   "cell_type": "markdown",
   "metadata": {},
   "source": [
    "## Ejercicio 1: Construir un archivo JSON local\n",
    "\n",
    "En la [actividad intermedia](9-actividadintermedia.ipynb) te compartimos un archivo JSON con un [conjunto de referencias bibliográficas](https://raw.githubusercontent.com/Taller-Abierto-de-Humanidades-Digitales/datos_ejemplo/main/JSON/bibliografia.json). En esta actividad, simplemente deberás crear un archivo JSON en tu entorno local de Google Colab.\n",
    "\n",
    "Para ello deberás:\n",
    "\n",
    "1. Habilitar el acceso a tu Google Drive desde Google Colab.\n",
    "2. Crear un directorio en tu Google Drive desde el cual puedas acceder a tus archivos.\n",
    "3. Crear un archivo JSON con el mismo formato que el archivo compartido en la actividad intermedia. Puedes simplemente descargarlo en el directorio.\n",
    "4. Leer el archivo JSON desde tu directorio local y mostrarlo en pantalla."
   ]
  },
  {
   "cell_type": "code",
   "execution_count": null,
   "metadata": {},
   "outputs": [],
   "source": [
    "# Escribe tu código aquí..."
   ]
  },
  {
   "cell_type": "markdown",
   "metadata": {},
   "source": [
    "## Ejercicio 2: Registro de consultas y búsquedas\n",
    "\n",
    "En este ejercicio, realizaremos una aplicación que nos permita registrar las consultas y búsquedas que realizamos en la bibliografía. \n",
    "\n",
    "Para ello, crea una función que se denomine `registro()` y que reciba como parámetros los inputs del usuario al hacer la búsqueda de un autor, título o palabra clave. Esta función debe crear un archivo JSON que registre la búsqueda realizada y la fecha en que se realizó. Para registrar la fecha, puedes utilizar la función `datetime.now()` del módulo `datetime`, así:\n",
    "\n",
    "```python\n",
    "from datetime import datetime\n",
    "\n",
    "fecha = datetime.now()\n",
    "```\n",
    "\n",
    "El registro del archivo JSON debe ser similar al siguiente:\n",
    "\n",
    "```json\n",
    "{\n",
    "    \"id\": \"unique_id\",\n",
    "    \"fecha\": \"2021-10-10 12:00:00\",\n",
    "    \"busqueda\": \"Borges\",\n",
    "    \"tipo\": \"autor\",\n",
    "    \"clase\": \"libro\",\n",
    "    \"resultado\": [\n",
    "        {\n",
    "            \"zotero_id\": \"unique_id\",\n",
    "            \"titulo\": \"Book Title 1\",\n",
    "            \"autor\": \"Jorge Luis Borges\",\n",
    "            \"tipo\": \"libro\"\n",
    "        },\n",
    "        {\n",
    "            \"zotero_id\": \"unique_id\",\n",
    "            \"titulo\": \"Book Title 2\",\n",
    "            \"autor\": \"Another Author\",\n",
    "            \"tipo\": \"libro\"\n",
    "        }\n",
    "    ]\n",
    "}\n",
    "\n",
    "```\n"
   ]
  },
  {
   "cell_type": "code",
   "execution_count": null,
   "metadata": {},
   "outputs": [],
   "source": [
    "# Escribe tu código aquí..."
   ]
  },
  {
   "cell_type": "markdown",
   "metadata": {},
   "source": [
    "## Ejercicio 3: Búsqueda en Cache y en Bibliografía\n",
    "\n",
    "En este ejercicio, realizaremos una aplicación que nos permita buscar en la bibliografía y en el registro de búsquedas.\n",
    "\n",
    "Los pasos básicos de la aplicación son los siguientes:\n",
    "\n",
    "1. El usuario ingresa un término de búsqueda, un tipo de búsqueda y una clase de búsqueda.\n",
    "2. La aplicación busca en el registro de búsquedas si existe una búsqueda previa con los mismos parámetros.\n",
    "3. Si existe una búsqueda previa, la aplicación devuelve los resultados de la búsqueda previa.\n",
    "4. Si no existe una búsqueda previa, la aplicación busca en la bibliografía y devuelve los resultados de la búsqueda.\n",
    "5. La aplicación registra la búsqueda en el registro de búsquedas.\n",
    "\n",
    "Un pseudocódigo de alto nivel que les puede servir como guía es el siguiente:\n",
    "\n",
    "```python\n",
    "def buscar(query, tipo, clase):\n",
    "    # Comprobar la caché en busca de resultados existentes\n",
    "    entrada_cache = obtener_entrada_cache(query, tipo, clase)\n",
    "    \n",
    "    # Si existe una entrada de caché válida\n",
    "    if entrada_cache:\n",
    "        return entrada_cache[\"resultado\"]\n",
    "    \n",
    "    # Si no existe una entrada de caché válida\n",
    "    else:\n",
    "        # Realizar una nueva búsqueda en el archivo JSON bibliográfico completo\n",
    "        nuevos_resultados = realizar_nueva_busqueda(query, tipo, clase)\n",
    "        \n",
    "        # Actualizar o crear una entrada de caché para la consulta\n",
    "        actualizar_entrada_cache(query, tipo, clase, nuevos_resultados)\n",
    "        \n",
    "        return nuevos_resultados\n",
    "\n",
    "def obtener_entrada_cache(query, tipo, clase):\n",
    "    # Recuperar la entrada de caché según los parámetros de consulta\n",
    "    # Devolver None si no se encuentra ninguna entrada de caché\n",
    "\n",
    "def realizar_nueva_busqueda(query, tipo, clase):\n",
    "    # Realizar una nueva búsqueda en el archivo JSON bibliográfico completo\n",
    "    # Devolver los resultados de la búsqueda como una lista\n",
    "\n",
    "def actualizar_entrada_cache(query, tipo, clase, resultados):\n",
    "    # Actualizar o crear una entrada de caché para la consulta\n",
    "    # Incluir la marca de tiempo actual\n",
    "    # Guardar la caché actualizada en el archivo de caché\n",
    "```"
   ]
  },
  {
   "cell_type": "code",
   "execution_count": null,
   "metadata": {},
   "outputs": [],
   "source": [
    "# Escribe tu código aquí..."
   ]
  }
 ],
 "metadata": {
  "language_info": {
   "name": "python"
  },
  "orig_nbformat": 4
 },
 "nbformat": 4,
 "nbformat_minor": 2
}
