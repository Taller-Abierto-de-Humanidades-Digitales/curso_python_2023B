{
 "cells": [
  {
   "cell_type": "markdown",
   "id": "09fca141",
   "metadata": {},
   "source": [
    "# Actividad intermedia: Construye un programa real\n",
    "\n",
    "En esta actividad vamos a construir un programa que nos permita consultar una biblioteca de citas bibliográficas. El programa debe permitirnos consultar la biblioteca de citas bibliográficas por título, autor, año de publicación y palabras claves.\n",
    "\n",
    "## Sobre el conjunto de datos\n",
    "\n",
    "Para realizar este ejercicio, les brindamos un conjunto de citas bibliográficas exportadas desde el programa [Zotero](https://www.zotero.org/) las cuales pueden visualizar en el [repositorio del curso](https://github.com/Taller-Abierto-de-Humanidades-Digitales/curso_python_extenso/blob/main/data/bibliografia.json).\n",
    "\n",
    "Este conjunto de datos contiene la siguiente información:"
   ]
  },
  {
   "cell_type": "code",
   "execution_count": 1,
   "id": "6cc61ea4",
   "metadata": {
    "tags": [
     "remove-input"
    ]
   },
   "outputs": [
    {
     "name": "stdout",
     "output_type": "stream",
     "text": [
      "Número de elementos en la biblioteca: 263\n",
      "\n",
      "Tipos de elementos: ['book', 'webpage', 'article-journal', 'paper-conference', 'chapter', 'post-weblog', 'document', 'thesis', 'software', 'speech', 'article-newspaper', 'report', 'article-magazine']\n",
      "\n",
      "Claves de los elementos: ['id', 'type', 'collection-title', 'event-place', 'ISBN', 'publisher', 'publisher-place', 'title', 'URL', 'author', 'issued', 'accessed', 'container-title', 'abstract', 'language', 'number-of-pages', 'source', 'title-short', 'ISSN', 'issue', 'license', 'page', 'volume', 'DOI', 'journalAbbreviation', 'collection-number', 'event-title', 'editor', 'genre', 'note', 'call-number', 'edition', 'translator', 'contributor', 'section']\n",
      "\n"
     ]
    }
   ],
   "source": [
    "from biblioteca import biblioteca # importar el conjunto de datos\n",
    "\n",
    "# contar el número de elementos en la biblioteca\n",
    "biblioteca  = biblioteca()\n",
    "print(f'Número de elementos en la biblioteca: {len(biblioteca)}\\n')\n",
    "\n",
    "# imprimir las claves de todos los elementos:\n",
    "\n",
    "claves = []\n",
    "\n",
    "for elemento in biblioteca:\n",
    "    for clave in elemento:\n",
    "        if clave not in claves:\n",
    "            claves.append(clave)\n",
    "\n",
    "tipos_bibliograficos = []\n",
    "\n",
    "for elemento in biblioteca:\n",
    "    if elemento['type'] not in tipos_bibliograficos:\n",
    "        tipos_bibliograficos.append(elemento['type'])\n",
    "\n",
    "print(f'Tipos de elementos: {tipos_bibliograficos}\\n')\n",
    "print(f'Claves de los elementos: {claves}\\n')"
   ]
  },
  {
   "cell_type": "markdown",
   "id": "9e72832d",
   "metadata": {},
   "source": [
    "```{admonition} Importante\n",
    "Es sumamente recomendable (por no decir *obligatorio*) que realicen una revisión de la estructura y contenido del conjunto de datos antes de iniciar la escritura del programa. Por ejemplo, cuántos elementos hay por cada tipo, qué claves tiene cada tipo de elemento, cuáles de estas claves son obligatorias, etc.\n",
    "```\n",
    "\n",
    "### Acceder al conjunto de datos\n",
    "\n",
    "El archivo contiene una biblioteca de citas bibliográficas en formato CSL-JSON. La biblioteca está construida a partir de una exportación de elementos de Zotero en el formato [CSL-JSON](https://citeproc-js.readthedocs.io/en/latest/csl-json/markup.html). En esta estructura, cada elemento un diccionario dentro de una lista. Cada diccionario contiene una serie de pares clave-valor.\n",
    "\n",
    "Para facilitar la recuperación de la información y evitar duplicar innecesariamente los datos, he creado el módulo biblioteca.py (ubicado en `codigo/actividad_intermedia/biblioteca.py`) que contiene una función llamada `biblioteca` que se encarga de descargar y leer el conjunto de datos.\n",
    "\n",
    "Para usarlo, debes **copiar** el archivo `biblioteca.py` en tu carpeta de trabajo y luego importar la función `biblioteca` en un nuevo archivo de Python:"
   ]
  },
  {
   "cell_type": "code",
   "execution_count": 2,
   "id": "9cd79d92",
   "metadata": {},
   "outputs": [],
   "source": [
    "from biblioteca import biblioteca"
   ]
  },
  {
   "cell_type": "markdown",
   "id": "4f9ce6e3",
   "metadata": {},
   "source": [
    "Prueba que la importación sea correcta. En caso de que no lo sea y obtengas un error de `ModuleNotFoundError` o `ImportError`, revisa que el archivo `biblioteca.py` se encuentre en la misma carpeta de trabajo que el archivo donde estás escribiendo el código.\n",
    "\n",
    "```{admonition} Advertencia\n",
    ":class: warning\n",
    "No debes escribir en el código del módulo `biblioteca.py` ni borrar el archivo del directorio original. De otra manera puedes encontrar errores de importación o afectar el funcionamiento de los programas de tus compañeros.\n",
    "```\n",
    "\n",
    "### Acceder a los elementos de la biblioteca\n",
    "\n",
    "Debido a que la biblioteca es una lista de diccionarios, podemos acceder a cada elemento de la biblioteca usando la sintaxis de listas.\n",
    "\n",
    "Por ejemplo, para acceder al primer elemento de la biblioteca, podemos usar la siguiente sintaxis:"
   ]
  },
  {
   "cell_type": "code",
   "execution_count": 3,
   "id": "f6e9b613",
   "metadata": {},
   "outputs": [
    {
     "name": "stdout",
     "output_type": "stream",
     "text": [
      "{'id': 'http://zotero.org/users/163570/items/32TCDQ2T', 'type': 'book', 'collection-title': 'Blackwell Companions to Literature and Culture', 'event-place': 'Oxford', 'ISBN': '1-4051-0321-3', 'publisher': 'Blackwell Publishing Professional', 'publisher-place': 'Oxford', 'title': 'Companion to Digital Humanities', 'URL': 'http://www.digitalhumanities.org/companion/', 'author': [{'family': 'Schreibman', 'given': 'Susan'}, {'family': 'Siemens', 'given': 'Ray'}, {'family': 'Unsworth', 'given': 'John'}], 'issued': {'date-parts': [['2004', 12]]}}\n"
     ]
    }
   ],
   "source": [
    "from biblioteca import biblioteca\n",
    "\n",
    "biblioteca = biblioteca()\n",
    "\n",
    "print(biblioteca[0])"
   ]
  },
  {
   "cell_type": "markdown",
   "id": "c658c065",
   "metadata": {},
   "source": [
    "Y en este ejemplo, si queremos acceder al valor de la clave `title`, podemos usar la siguiente sintaxis:"
   ]
  },
  {
   "cell_type": "code",
   "execution_count": 4,
   "id": "7595eaf3",
   "metadata": {},
   "outputs": [
    {
     "name": "stdout",
     "output_type": "stream",
     "text": [
      "Companion to Digital Humanities\n"
     ]
    }
   ],
   "source": [
    "print(biblioteca[0]['title'])"
   ]
  },
  {
   "cell_type": "markdown",
   "id": "127dbe17",
   "metadata": {},
   "source": [
    "En este sentido, un buscador deberá iterar sobre todo el diccionario y comparar el valor de cada clave con el valor de búsqueda. Por ejemplo, si queremos buscar un elemento por título, podemos usar la siguiente sintaxis para encontrar una coincidencia exacta:"
   ]
  },
  {
   "cell_type": "code",
   "execution_count": 5,
   "id": "fb5c91f4",
   "metadata": {},
   "outputs": [
    {
     "name": "stdout",
     "output_type": "stream",
     "text": [
      "{'id': 'http://zotero.org/users/163570/items/93RVDA7Z', 'type': 'webpage', 'container-title': 'Dh2015.org', 'title': 'What Do You Do With A Million Readers?', 'URL': 'http://dh2015.org/abstracts/xml/TANGHERLINI_Timothy_Roland_What_Do_You_Do_With_A_/TANGHERLINI_Timothy_Roland_What_Do_You_Do_With_A_Millio.html', 'author': [{'family': 'Bandari', 'given': 'Roja'}, {'family': 'Tangherlini', 'given': 'Timothy Roland'}, {'family': 'Roychowdhury', 'given': 'Vwani'}], 'accessed': {'date-parts': [['2016', 6, 19]]}, 'issued': {'date-parts': [['2015', 7, 3]]}}\n"
     ]
    }
   ],
   "source": [
    "from biblioteca import biblioteca\n",
    "\n",
    "titulo = 'What Do You Do With A Million Readers?'\n",
    "\n",
    "for elemento in biblioteca():\n",
    "    if elemento['title'].lower() == titulo.lower():\n",
    "        print(elemento)"
   ]
  },
  {
   "cell_type": "markdown",
   "id": "64d057bb",
   "metadata": {},
   "source": [
    "## Instrucciones\n",
    "\n",
    "### 1. Construir el módulo de búsquedas\n",
    "\n",
    "El primer paso es construir un módulo que permita realizar búsquedas en la biblioteca. Para esto, debes crear un nuevo archivo de Python en la carpeta de trabajo con el nombre `busqueda.py`.\n",
    "\n",
    "Este archivo debe tener una función para realizar búsquedas con las siguientes condiciones:\n",
    "\n",
    "* Debe buscar por título, autor, año de publicación y palabras claves.\n",
    "* Debe tener la opción de buscar por libro, artículo, tesis o cualquier otro tipo de elemento.\n",
    "* Debe tener la opción de buscar por coincidencia exacta o por coincidencia parcial.\n",
    "* Debe tener la capacidad de formatear el resultado para hacerlo legible al usuario.\n",
    "* Debe poder lidiar con el tipo de dato de los autores (`list`) y de las fechas (`dict`).\n",
    "\n",
    "Este módulo debe tener un conjunto de funciones que permitan hacer estas tareas.\n",
    "\n",
    "Debe tener por lo menos dos funciones:\n",
    "\n",
    "* Una función que permita buscar por título, autor, año de publicación y palabras claves.\n",
    "* Una función que permita formatear el resultado de la búsqueda.\n",
    "\n",
    "El módulo debe estar en la capacidad de replicar un resultado como el siguiente:"
   ]
  },
  {
   "cell_type": "code",
   "execution_count": 6,
   "id": "ce71712a",
   "metadata": {},
   "outputs": [
    {
     "name": "stdout",
     "output_type": "stream",
     "text": [
      "\n",
      "\n",
      "[1]------------\n",
      "\n",
      "id: http://zotero.org/users/163570/items/897DPHEI\n",
      "type: book\n",
      "call-number: P96.N35 D38 2018\n",
      "collection-title: A K Peters Visualization Series\n",
      "event-place: Boca Raton, Florida\n",
      "ISBN: 978-1-138-19710-7\n",
      "number-of-pages: 296\n",
      "publisher: CRC Press/Taylor & Francis Group\n",
      "publisher-place: Boca Raton, Florida\n",
      "source: Library of Congress ISBN\n",
      "title: Data-driven storytelling\n",
      "editor: Riche, Nathalie Henry; Hurter, Christophe; Diakopoulos, Nicholas; Carpendale, Sheelagh\n",
      "issued: 2018\n",
      "-----------------\n",
      "\n",
      "[2]------------\n",
      "\n",
      "id: http://zotero.org/users/163570/items/NGAJFMZ6\n",
      "type: book\n",
      "event-place: Madrid\n",
      "ISBN: 978-84-15832-10-2\n",
      "language: English\n",
      "note: OCLC: 892201485\n",
      "publisher: Turner\n",
      "publisher-place: Madrid\n",
      "source: Open WorldCat\n",
      "title: Big data: la revolución de los datos masivos\n",
      "title-short: Big data\n",
      "author: Mayer-Schönberger, Viktor; Cukier, Kenneth; Iriarte, Antonio\n",
      "issued: 2013\n",
      "-----------------\n",
      "\n",
      "[3]------------\n",
      "\n",
      "id: http://zotero.org/users/163570/items/TKF3IK4J\n",
      "type: book\n",
      "abstract: \"Data and its technologies now play a large and growing role in humanities research and teaching. This book addresses the needs of humanities scholars who seek deeper expertise in the area of data modeling and representation. The authors, all experts in digital humanities, offer a clear explanation of key technical principles, a grounded discussion of case studies, and an exploration of important theoretical concerns. The book opens with an orientation, giving the reader a history of data modeling in the humanities and a grounding in the technical concepts necessary to understand and engage with the second part of the book. The second part of the book is a wide-ranging exploration of topics central for a deeper understanding of data modeling in digital humanities. Chapters cover data modeling standards and the role they play in shaping digital humanities practice, traditional forms of modeling in the humanities and how they have been transformed by digital approaches, ontologies which seek to anchor meaning in digital humanities resources, and how data models inhabit the other analytical tools used in digital humanities research. It concludes with a glossary chapter that explains specific terms and concepts for data modeling in the digital humanities context. This book is a unique and invaluable resource for teaching and practising data modeling in a digital humanities context\"--\n",
      "call-number: AZ105 .S43 2019\n",
      "collection-title: Digital research in the arts and humanities\n",
      "event-place: London ; New York\n",
      "ISBN: 978-1-4724-4324-3\n",
      "number-of-pages: 341\n",
      "publisher: Routledge, Taylor & Francis Group\n",
      "publisher-place: London ; New York\n",
      "source: Library of Congress ISBN\n",
      "title: The shape of data in the digital humanities: modeling texts and text-based resources\n",
      "title-short: The shape of data in the digital humanities\n",
      "editor: Flanders, Julia; Jannidis, Fotis\n",
      "issued: 2019\n",
      "-----------------\n",
      "\n",
      "[4]------------\n",
      "\n",
      "id: http://zotero.org/users/163570/items/Z8VUPBD6\n",
      "type: book\n",
      "call-number: Q355 .R385 2013\n",
      "collection-title: Infrastructures series\n",
      "event-place: Cambridge, Massachusetts ; London, England\n",
      "ISBN: 978-0-262-51828-4\n",
      "number-of-pages: 182\n",
      "publisher: The MIT Press\n",
      "publisher-place: Cambridge, Massachusetts ; London, England\n",
      "source: Library of Congress ISBN\n",
      "title: \"Raw data\" is an oxymoron\n",
      "editor: Gitelman, Lisa\n",
      "issued: 2013\n",
      "-----------------\n",
      "\n",
      "[5]------------\n",
      "\n",
      "id: http://zotero.org/users/163570/items/PIYZREFG\n",
      "type: book\n",
      "abstract: \"The use of quantitative methods in the humanities and related social sciences has increased considerably in recent years, allowing researchers to discover patterns in a vast range of source materials. Despite this growth, there are few resources addressed to students and scholars who wish to take advantage of these powerful tools. Humanities Data Analysis offers the first intermediate-level guide to quantitative data analysis for humanities students and scholars using the Python programming language. This practical textbook, which assumes a basic knowledge of Python, teaches readers the necessary skills for conducting humanities research in the rapidly developing digital environment. The book begins with an overview of the place of data science in the humanities, and proceeds to cover data carpentry: the essential techniques for gathering, cleaning, representing, and transforming textual and tabular data. Then, drawing from real-world, publicly available data sets that cover a variety of scholarly domains, the book delves into detailed case studies. Focusing on textual data analysis, the authors explore such diverse topics as network analysis, genre theory, onomastics, literacy, author attribution, mapping, stylometry, topic modeling, and time series analysis. Exercises and resources for further reading are provided at the end of each chapter. An ideal resource for humanities students and scholars aiming to take their Python skills to the next level, Humanities Data Analysis illustrates the benefits that quantitative methods can bring to complex research questions. Appropriate for advanced undergraduates, graduate students, and scholars with a basic knowledge of Python. Applicable to many humanities disciplines, including history, literature, and sociology. Offers real-world case studies using publicly available data sets. Provides exercises at the end of each chapter for students to test acquired skills. Emphasizes visual storytelling via data visualizations\"--\n",
      "call-number: AZ186 .K37 2021\n",
      "event-place: Princeton\n",
      "ISBN: 978-0-691-17236-1\n",
      "publisher: Princeton University Press\n",
      "publisher-place: Princeton\n",
      "source: Library of Congress ISBN\n",
      "title: Humanities data analysis: case studies with Python\n",
      "title-short: Humanities data analysis\n",
      "author: Karsdorp, Folgert; Kestemont, Mike; Riddell, Allen\n",
      "issued: 2021\n",
      "-----------------\n",
      "\n",
      "Se encontraron 5 resultados\n"
     ]
    }
   ],
   "source": [
    "from busqueda import busqueda_simple, formar_result\n",
    "\n",
    "# Buscar la palabra \"Data\" en el título de los libros\n",
    "resultado = busqueda_simple('Data', 'title', 'book')\n",
    "print(formar_result(resultado))"
   ]
  },
  {
   "cell_type": "markdown",
   "id": "719b9c57",
   "metadata": {},
   "source": [
    "### 2. Construir el módulo de interfaz\n",
    "\n",
    "El segundo paso es construir un módulo que permita interactuar con el usuario. Para esto, debes crear un nuevo archivo de Python en la carpeta de trabajo con el nombre `buscador.py`.\n",
    "\n",
    "Este archivo debe tener una función que permita interactuar con el usuario. Esta función debe tener un menú que permita al usuario elegir entre las siguientes opciones:\n",
    "\n",
    "* Ingresar la palabra clave de búsqueda.\n",
    "* Seleccionar si se desea buscar por título, autor, fecha o palabra clave.\n",
    "* Seleccionar si se desea filtrar por libro, artículo, tesis o cualquier otro tipo de elemento.\n",
    "\n",
    "El módulo debe estar en la capacidad de replicar un resultado como el siguiente:\n",
    "\n",
    "```bash\n",
    "\n",
    "Ingrese los datos de la búsqueda\n",
    "Palabra a buscar: Data\n",
    "Tipos de búsqueda: [1] Título, [2] Autor, [3] Fecha, [4] Palabra clave\n",
    "Tipo de búsqueda (1, 2, 3, 4): 1\n",
    "Tipos de documento: [1] Libro, [2] Artículo, [3] Tesis, [4] Cualquiera\n",
    "Tipo de documento (1, 2, 3, 4): 1\n",
    "Buscando 'Data' en 'title' de tipo 'book'\n",
    "\n",
    "\n",
    "[1]------------\n",
    "\n",
    "id: http://zotero.org/users/163570/items/897DPHEI\n",
    "type: book\n",
    "call-number: P96.N35 D38 2018\n",
    "collection-title: A K Peters Visualization Series\n",
    "event-place: Boca Raton, Florida\n",
    "ISBN: 978-1-138-19710-7\n",
    "number-of-pages: 296\n",
    "publisher: CRC Press/Taylor & Francis Group\n",
    "publisher-place: Boca Raton, Florida\n",
    "source: Library of Congress ISBN\n",
    "title: Data-driven storytelling\n",
    "editor: Riche, Nathalie Henry; Hurter, Christophe; Diakopoulos, Nicholas; Carpendale, Sheelagh\n",
    "issued: 2018\n",
    "-----------------\n",
    "\n",
    "[2]------------\n",
    "\n",
    "id: http://zotero.org/users/163570/items/NGAJFMZ6\n",
    "type: book\n",
    "event-place: Madrid\n",
    "ISBN: 978-84-15832-10-2\n",
    "language: English\n",
    "note: OCLC: 892201485\n",
    "publisher: Turner\n",
    "publisher-place: Madrid\n",
    "source: Open WorldCat\n",
    "title: Big data: la revolución de los datos masivos\n",
    "title-short: Big data\n",
    "author: Mayer-Schönberger, Viktor; Cukier, Kenneth; Iriarte, Antonio\n",
    "issued: 2013\n",
    "-----------------\n",
    "\n",
    "[3]------------\n",
    "\n",
    "id: http://zotero.org/users/163570/items/TKF3IK4J\n",
    "type: book\n",
    "abstract: \"Data and its technologies now play a large and growing role in humanities research and teaching. This book addresses the needs of humanities scholars who seek deeper expertise in the area of data modeling and representation. The authors, all experts in digital humanities, offer a clear explanation of key technical principles, a grounded discussion of case studies, and an exploration of important theoretical concerns. The book opens with an orientation, giving the reader a history of data modeling in the humanities and a grounding in the technical concepts necessary to understand and engage with the second part of the book. The second part of the book is a wide-ranging exploration of topics central for a deeper understanding of data modeling in digital humanities. Chapters cover data modeling standards and the role they play in shaping digital humanities practice, traditional forms of modeling in the humanities and how they have been transformed by digital approaches, ontologies which seek to anchor meaning in digital humanities resources, and how data models inhabit the other analytical tools used in digital humanities research. It concludes with a glossary chapter that explains specific terms and concepts for data modeling in the digital humanities context. This book is a unique and invaluable resource for teaching and practising data modeling in a digital humanities context\"--\n",
    "call-number: AZ105 .S43 2019\n",
    "collection-title: Digital research in the arts and humanities\n",
    "event-place: London ; New York\n",
    "ISBN: 978-1-4724-4324-3\n",
    "number-of-pages: 341\n",
    "publisher: Routledge, Taylor & Francis Group\n",
    "publisher-place: London ; New York\n",
    "source: Library of Congress ISBN\n",
    "title: The shape of data in the digital humanities: modeling texts and text-based resources\n",
    "title-short: The shape of data in the digital humanities\n",
    "editor: Flanders, Julia; Jannidis, Fotis\n",
    "issued: 2019\n",
    "-----------------\n",
    "\n",
    "[4]------------\n",
    "\n",
    "id: http://zotero.org/users/163570/items/Z8VUPBD6\n",
    "type: book\n",
    "call-number: Q355 .R385 2013\n",
    "collection-title: Infrastructures series\n",
    "event-place: Cambridge, Massachusetts ; London, England\n",
    "ISBN: 978-0-262-51828-4\n",
    "number-of-pages: 182\n",
    "publisher: The MIT Press\n",
    "publisher-place: Cambridge, Massachusetts ; London, England\n",
    "source: Library of Congress ISBN\n",
    "title: \"Raw data\" is an oxymoron\n",
    "editor: Gitelman, Lisa\n",
    "issued: 2013\n",
    "-----------------\n",
    "\n",
    "[5]------------\n",
    "\n",
    "id: http://zotero.org/users/163570/items/PIYZREFG\n",
    "type: book\n",
    "abstract: \"The use of quantitative methods in the humanities and related social sciences has increased considerably in recent years, allowing researchers to discover patterns in a vast range of source materials. Despite this growth, there are few resources addressed to students and scholars who wish to take advantage of these powerful tools. Humanities Data Analysis offers the first intermediate-level guide to quantitative data analysis for humanities students and scholars using the Python programming language. This practical textbook, which assumes a basic knowledge of Python, teaches readers the necessary skills for conducting humanities research in the rapidly developing digital environment. The book begins with an overview of the place of data science in the humanities, and proceeds to cover data carpentry: the essential techniques for gathering, cleaning, representing, and transforming textual and tabular data. Then, drawing from real-world, publicly available data sets that cover a variety of scholarly domains, the book delves into detailed case studies. Focusing on textual data analysis, the authors explore such diverse topics as network analysis, genre theory, onomastics, literacy, author attribution, mapping, stylometry, topic modeling, and time series analysis. Exercises and resources for further reading are provided at the end of each chapter. An ideal resource for humanities students and scholars aiming to take their Python skills to the next level, Humanities Data Analysis illustrates the benefits that quantitative methods can bring to complex research questions. Appropriate for advanced undergraduates, graduate students, and scholars with a basic knowledge of Python. Applicable to many humanities disciplines, including history, literature, and sociology. Offers real-world case studies using publicly available data sets. Provides exercises at the end of each chapter for students to test acquired skills. Emphasizes visual storytelling via data visualizations\"--\n",
    "call-number: AZ186 .K37 2021\n",
    "event-place: Princeton\n",
    "ISBN: 978-0-691-17236-1\n",
    "publisher: Princeton University Press\n",
    "publisher-place: Princeton\n",
    "source: Library of Congress ISBN\n",
    "title: Humanities data analysis: case studies with Python\n",
    "title-short: Humanities data analysis\n",
    "author: Karsdorp, Folgert; Kestemont, Mike; Riddell, Allen\n",
    "issued: 2021\n",
    "-----------------\n",
    "\n",
    "Se encontraron 5 resultados\n",
    "\n",
    "```\n",
    "\n",
    "## Envío de la actividad\n",
    "\n",
    "Al igual que las actividades anteriores, envía tu código a través de Github.\n",
    "\n",
    "Para entregar la actividad, debes hacer un `commit` de los modificados y hacer un `push` de tu brazo al repositorio remoto.\n",
    "\n",
    "```bash\n",
    "git add .\n",
    "git commit -m \"Entrega de la actividad intermedia\"\n",
    "git push -u origin nombre-del-brazo\n",
    "```"
   ]
  }
 ],
 "metadata": {
  "jupytext": {
   "cell_metadata_filter": "-all",
   "formats": "md:myst",
   "text_representation": {
    "extension": ".md",
    "format_name": "myst",
    "format_version": 0.13,
    "jupytext_version": "1.14.4"
   }
  },
  "kernelspec": {
   "display_name": "Python 3 (ipykernel)",
   "language": "python",
   "name": "python3"
  },
  "language_info": {
   "codemirror_mode": {
    "name": "ipython",
    "version": 3
   },
   "file_extension": ".py",
   "mimetype": "text/x-python",
   "name": "python",
   "nbconvert_exporter": "python",
   "pygments_lexer": "ipython3",
   "version": "3.11.1"
  },
  "source_map": [
   14,
   26,
   51,
   65,
   67,
   82,
   88,
   92,
   94,
   98,
   106,
   131,
   137
  ]
 },
 "nbformat": 4,
 "nbformat_minor": 5
}