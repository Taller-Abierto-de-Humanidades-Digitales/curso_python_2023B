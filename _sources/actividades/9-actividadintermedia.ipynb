{
 "cells": [
  {
   "cell_type": "markdown",
   "id": "daa8b6e3",
   "metadata": {},
   "source": [
    "# Actividad intermedia: Construye un programa real\n",
    "\n",
    "En esta actividad vamos a construir un programa que nos permita consultar una biblioteca de referencias bibliográficas. El programa debe permitirnos consultar la bibliografía por título, autor, año de publicación y palabras claves.\n",
    "\n",
    "## Sobre el conjunto de datos\n",
    "\n",
    "Para realizar este ejercicio, les brindamos un [conjunto de referencias bibliográficas](https://www.zotero.org/groups/197065/humanidades_digitales/library) exportadas desde el programa [Zotero](https://www.zotero.org/) las cuales pueden visualizar en el [repositorio del curso](https://github.com/Taller-Abierto-de-Humanidades-Digitales/curso_python_extenso/blob/main/data/bibliografia.json).\n",
    "\n",
    "Este conjunto de datos contiene la siguiente información:"
   ]
  },
  {
   "cell_type": "code",
   "execution_count": 1,
   "id": "fb8a208a",
   "metadata": {
    "tags": [
     "remove-input"
    ]
   },
   "outputs": [
    {
     "name": "stdout",
     "output_type": "stream",
     "text": [
      "Número de elementos en la biblioteca: 745\n",
      "\n",
      "Tipos de elementos: ['article-journal', 'article-magazine', 'article-newspaper', 'book', 'broadcast', 'chapter', 'document', 'entry-encyclopedia', 'interview', 'motion_picture', 'paper-conference', 'post-weblog', 'thesis', 'webpage']\n",
      "\n",
      "Claves de los elementos: ['DOI', 'ISBN', 'ISSN', 'URL', 'abstract', 'accessed', 'archive', 'archive_location', 'author', 'call-number', 'collection-number', 'collection-title', 'container-title', 'contributor', 'dimensions', 'director', 'edition', 'editor', 'event-place', 'event-title', 'genre', 'guest', 'id', 'issue', 'issued', 'journalAbbreviation', 'language', 'license', 'medium', 'note', 'number-of-pages', 'number-of-volumes', 'page', 'performer', 'producer', 'publisher', 'publisher-place', 'source', 'title', 'title-short', 'translator', 'type', 'volume']\n",
      "\n"
     ]
    }
   ],
   "source": [
    "from biblioteca import biblioteca # importar el conjunto de datos\n",
    "\n",
    "# contar el número de elementos en la biblioteca\n",
    "biblioteca  = biblioteca()\n",
    "print(f'Número de elementos en la biblioteca: {len(biblioteca)}\\n')\n",
    "\n",
    "# imprimir las claves de todos los elementos:\n",
    "\n",
    "claves = []\n",
    "\n",
    "for elemento in biblioteca:\n",
    "    for clave in elemento:\n",
    "        if clave not in claves:\n",
    "            claves.append(clave)\n",
    "\n",
    "tipos_bibliograficos = []\n",
    "\n",
    "for elemento in biblioteca:\n",
    "    if elemento['type'] not in tipos_bibliograficos:\n",
    "        tipos_bibliograficos.append(elemento['type'])\n",
    "\n",
    "tipos_bibliograficos.sort()\n",
    "claves.sort()\n",
    "\n",
    "print(f'Tipos de elementos: {tipos_bibliograficos}\\n')\n",
    "print(f'Claves de los elementos: {claves}\\n')"
   ]
  },
  {
   "cell_type": "markdown",
   "id": "19650158",
   "metadata": {},
   "source": [
    "```{admonition} Importante\n",
    "Es sumamente recomendable (por no decir *obligatorio*) que realicen una revisión de la estructura y contenido del conjunto de datos antes de iniciar la escritura del programa. Por ejemplo, cuántos elementos hay por cada tipo, qué claves tiene cada tipo de elemento, cuáles de estas claves son obligatorias, etc.\n",
    "```\n",
    "\n",
    "### Acceder al conjunto de datos\n",
    "\n",
    "El archivo contiene una biblioteca de citas bibliográficas en formato CSL-JSON. La biblioteca está construida a partir de una exportación de elementos de Zotero en el formato [CSL-JSON](https://citeproc-js.readthedocs.io/en/latest/csl-json/markup.html). En esta estructura, cada elemento un diccionario dentro de una lista. Cada diccionario contiene una serie de pares clave-valor.\n",
    "\n",
    "Para facilitar la recuperación de la información y evitar duplicar innecesariamente los datos, he creado el módulo biblioteca.py (ubicado en `codigo/actividad_intermedia/biblioteca.py`) que contiene una función llamada `biblioteca` que se encarga de descargar y leer el conjunto de datos.\n",
    "\n",
    "Para usarlo, debes **copiar** el archivo `biblioteca.py` en tu carpeta de trabajo y luego importar la función `biblioteca` en un nuevo archivo de Python:"
   ]
  },
  {
   "cell_type": "code",
   "execution_count": 2,
   "id": "180e9516",
   "metadata": {},
   "outputs": [],
   "source": [
    "from biblioteca import biblioteca"
   ]
  },
  {
   "cell_type": "markdown",
   "id": "943953e3",
   "metadata": {},
   "source": [
    "También deberás instalar las dependencias necesarias para que el programa se ejecute correctamente. Para ello, debes ejecutar el siguiente comando en la terminal:"
   ]
  },
  {
   "cell_type": "code",
   "execution_count": 3,
   "id": "c2ad8067",
   "metadata": {
    "tags": [
     "remove-output"
    ]
   },
   "outputs": [
    {
     "ename": "SyntaxError",
     "evalue": "invalid syntax (258358554.py, line 1)",
     "output_type": "error",
     "traceback": [
      "\u001b[1;36m  Cell \u001b[1;32mIn[3], line 1\u001b[1;36m\u001b[0m\n\u001b[1;33m    py -m pip install -U pip\u001b[0m\n\u001b[1;37m          ^\u001b[0m\n\u001b[1;31mSyntaxError\u001b[0m\u001b[1;31m:\u001b[0m invalid syntax\n"
     ]
    }
   ],
   "source": [
    "py -m pip install -U pip\n",
    "py -m pip install -U requests"
   ]
  },
  {
   "cell_type": "markdown",
   "id": "6ccf0d30",
   "metadata": {},
   "source": [
    "```{admonition} Importante\n",
    ":class: important\n",
    "Puede que la primera instrucción no funcione en tu computadora. En ese caso, debes ejecutar el comando `python -m pip install -U pip` en lugar de `py -m pip install -U pip`.\n",
    "\n",
    "Desde un sistema operativo Mac, debes ejecutar el comando `python3 -m pip install -U pip` en lugar de `py -m pip install -U pip`.\n",
    "\n",
    "Sigue la misma lógica para instalar las dependencias de `requests`.\n",
    "```\n",
    "\n",
    "Prueba que la importación sea correcta. En caso de que no lo sea y obtengas un error de `ModuleNotFoundError` o `ImportError`, revisa que el archivo `biblioteca.py` se encuentre en la misma carpeta de trabajo que el archivo donde estás escribiendo el código.\n",
    "\n",
    "```{admonition} Advertencia\n",
    ":class: warning\n",
    "No debes escribir en el código del módulo `biblioteca.py` ni borrar el archivo del directorio original. De otra manera puedes encontrar errores de importación o afectar el funcionamiento de los programas de tus compañeros.\n",
    "```\n",
    "\n",
    "### Acceder a los elementos de la biblioteca\n",
    "\n",
    "Debido a que la biblioteca es una lista de diccionarios, podemos acceder a cada elemento de la biblioteca usando la sintaxis de listas.\n",
    "\n",
    "Por ejemplo, para acceder al primer elemento de la biblioteca, podemos usar la siguiente sintaxis:"
   ]
  },
  {
   "cell_type": "code",
   "execution_count": 4,
   "id": "1b778f62",
   "metadata": {},
   "outputs": [
    {
     "name": "stdout",
     "output_type": "stream",
     "text": [
      "{'id': 'Paz-Trillo.etal2005information', 'type': 'article-journal', 'container-title': 'Journal of the Brazilian Computer Society', 'DOI': '10/bq8g32', 'ISSN': '0104-6500, 1678-4804', 'issue': '2', 'language': 'en', 'note': 'number: 2\\n00022', 'page': '17-31', 'source': 'CrossRef', 'title': 'An information retrieval application using ontologies', 'URL': 'http://link.springer.com/10.1007/BF03192373', 'volume': '11', 'author': [{'family': 'Paz-Trillo', 'given': 'Christian'}, {'family': 'Wassermann', 'given': 'Renata'}, {'family': 'Braga', 'given': 'Paula P.'}], 'accessed': {'date-parts': [['2016', 11, 15]]}, 'issued': {'date-parts': [['2005', 6]]}}\n"
     ]
    }
   ],
   "source": [
    "from biblioteca import biblioteca\n",
    "\n",
    "biblioteca = biblioteca()\n",
    "\n",
    "print(biblioteca[0])"
   ]
  },
  {
   "cell_type": "markdown",
   "id": "1fdff7cd",
   "metadata": {},
   "source": [
    "Y en este ejemplo, si queremos acceder al valor de la clave `title`, podemos usar la siguiente sintaxis:"
   ]
  },
  {
   "cell_type": "code",
   "execution_count": 5,
   "id": "912a8b3d",
   "metadata": {},
   "outputs": [
    {
     "name": "stdout",
     "output_type": "stream",
     "text": [
      "An information retrieval application using ontologies\n"
     ]
    }
   ],
   "source": [
    "print(biblioteca[0]['title'])"
   ]
  },
  {
   "cell_type": "markdown",
   "id": "23f2b2d1",
   "metadata": {},
   "source": [
    "En este sentido, un buscador deberá iterar sobre todo el diccionario y comparar el valor de cada clave con el valor de búsqueda. Por ejemplo, si queremos buscar un elemento por título, podemos usar la siguiente sintaxis para encontrar una coincidencia exacta:"
   ]
  },
  {
   "cell_type": "code",
   "execution_count": 6,
   "id": "331ef2cb",
   "metadata": {},
   "outputs": [
    {
     "name": "stdout",
     "output_type": "stream",
     "text": [
      "{'id': 'Afanador2019Que', 'type': 'motion_picture', 'abstract': 'Maria José Afanador, profesora de la Maestría en Humanidades Digitales de la Universidad de los Andes, explica qué son las Humanidades Digitales y cuál es su pertinencia en la actualidad.', 'dimensions': '0:56', 'note': 'Directors: _:n3225', 'source': 'YouTube', 'title': '¿Qué son las Humanidades Digitales?', 'URL': 'https://www.youtube.com/watch?v=otNSk8oNz8k', 'director': [{'family': 'Afanador', 'given': 'María José'}], 'accessed': {'date-parts': [['2019', 10, 14]]}, 'issued': {'date-parts': [['2019', 10, 14]]}}\n",
      "{'id': 'GalinaRussell2011Que', 'type': 'article-journal', 'container-title': 'Revista digital universitaria', 'issue': '7', 'note': 'ZSCC: 0000080', 'page': '3-10', 'title': '¿Qué son las humanidades digitales?', 'URL': 'http://www.revista.unam.mx/vol.12/num7/art68/art68.pdf', 'volume': '12', 'author': [{'family': 'Galina Russell', 'given': 'Isabel'}], 'issued': {'date-parts': [['2011']]}}\n"
     ]
    }
   ],
   "source": [
    "from biblioteca import biblioteca\n",
    "\n",
    "titulo = '¿Qué son las Humanidades Digitales?'\n",
    "\n",
    "for elemento in biblioteca():\n",
    "    if elemento['title'].lower() == titulo.lower():\n",
    "        print(elemento)"
   ]
  },
  {
   "cell_type": "markdown",
   "id": "3eb6667c",
   "metadata": {},
   "source": [
    "## Instrucciones\n",
    "\n",
    "### 1. Construir el módulo de búsquedas\n",
    "\n",
    "El primer paso es construir un módulo que permita realizar búsquedas en la biblioteca. Para esto, debes crear un nuevo archivo de Python en la carpeta de trabajo con el nombre `busqueda.py`.\n",
    "\n",
    "Este archivo debe tener una función para realizar búsquedas con las siguientes condiciones:\n",
    "\n",
    "* Debe buscar por título, autor, año de publicación y palabras claves.\n",
    "* Debe tener la opción de buscar por libro, artículo, tesis o cualquier otro tipo de elemento.\n",
    "* Debe tener la opción de buscar por coincidencia exacta o por coincidencia parcial.\n",
    "* Debe tener la capacidad de formatear el resultado para hacerlo legible al usuario.\n",
    "* Debe poder lidiar con el tipo de dato de los autores (`list`) y de las fechas (`dict`).\n",
    "\n",
    "Este módulo debe tener un conjunto de funciones que permitan hacer estas tareas.\n",
    "\n",
    "Debe tener por lo menos dos funciones:\n",
    "\n",
    "* Una función que permita buscar por título, autor, año de publicación y palabras claves.\n",
    "* Una función que permita formatear el resultado de la búsqueda.\n",
    "\n",
    "El módulo debe estar en la capacidad de replicar un resultado como el siguiente:"
   ]
  },
  {
   "cell_type": "code",
   "execution_count": 7,
   "id": "161afa0f",
   "metadata": {},
   "outputs": [
    {
     "name": "stdout",
     "output_type": "stream",
     "text": [
      "\n",
      "\n",
      "[1]------------\n",
      "\n",
      "id: AdrianCaballeroRoldan2019Bid\n",
      "type: book\n",
      "abstract: rare book\n",
      "ISBN: 978-84-948972-0-7\n",
      "language: Spanish\n",
      "note: 00000\n",
      "publisher: RC Libros\n",
      "source: Amazon\n",
      "title: Bid data con Python. Recolección, almacenamiento y proceso\n",
      "author: Adrián Caballero Roldán, Rafael Caballero / Martín Martín\n",
      "issued: 2019\n",
      "-----------------\n",
      "\n",
      "[2]------------\n",
      "\n",
      "id: Hamidovic.etal2019Ancient\n",
      "type: book\n",
      "abstract: Ancient Manuscripts in Digital Culture presents an overview of the digital turn in Ancient Jewish and Christian manuscripts visualisation, data mining and communication. Edited by David Hamidović, Claire Clivaz and Sarah Bowen Savant, it gathers together the contributions of seventeen scholars involved in Biblical, Early Jewish and Christian studies. The volume attests to the spreading of digital humanities in these fields and presents fundamental analysis of the rise of visual culture as well as specific test-cases concerning ancient manuscripts. Sophisticated visualisation tools, stylometric analysis, teaching and visual data, epigraphy and visualisation belong notably to the varied overview presented in the volume.\n",
      "collection-number: 3\n",
      "collection-title: Digital Biblical Studies\n",
      "edition: 1ª\n",
      "event-place: Leiden - Boston\n",
      "ISBN: 978-90-04-39929-7\n",
      "language: English\n",
      "note: ZSCC: 0000001\n",
      "number-of-pages: xvi, 284\n",
      "number-of-volumes: 1\n",
      "publisher: Brill\n",
      "publisher-place: Leiden - Boston\n",
      "title: Ancient Manuscripts in Digital Culture. Visualisation, Data Mining, Communication\n",
      "URL: https://doi.org/10.1163/9789004399297\n",
      "volume: 1\n",
      "editor: Hamidović, D.; Clivaz, C.; Bowen Savant, S.\n",
      "issued: 2019\n",
      "-----------------\n",
      "\n",
      "[3]------------\n",
      "\n",
      "id: Gitelman2013Rawa\n",
      "type: book\n",
      "call-number: Q355 .R385 2013\n",
      "collection-title: Infrastructures series\n",
      "event-place: Cambridge, Massachusetts ; London, England\n",
      "ISBN: 978-0-262-51828-4\n",
      "number-of-pages: 182\n",
      "publisher: The MIT Press\n",
      "publisher-place: Cambridge, Massachusetts ; London, England\n",
      "source: Library of Congress ISBN\n",
      "title: \"Raw data\" is an oxymoron\n",
      "editor: Gitelman, Lisa\n",
      "issued: 2013\n",
      "-----------------\n",
      "\n",
      "[4]------------\n",
      "\n",
      "id: Flanders.Jannidis2019shapea\n",
      "type: book\n",
      "abstract: \"Data and its technologies now play a large and growing role in humanities research and teaching. This book addresses the needs of humanities scholars who seek deeper expertise in the area of data modeling and representation. The authors, all experts in digital humanities, offer a clear explanation of key technical principles, a grounded discussion of case studies, and an exploration of important theoretical concerns. The book opens with an orientation, giving the reader a history of data modeling in the humanities and a grounding in the technical concepts necessary to understand and engage with the second part of the book. The second part of the book is a wide-ranging exploration of topics central for a deeper understanding of data modeling in digital humanities. Chapters cover data modeling standards and the role they play in shaping digital humanities practice, traditional forms of modeling in the humanities and how they have been transformed by digital approaches, ontologies which seek to anchor meaning in digital humanities resources, and how data models inhabit the other analytical tools used in digital humanities research. It concludes with a glossary chapter that explains specific terms and concepts for data modeling in the digital humanities context. This book is a unique and invaluable resource for teaching and practising data modeling in a digital humanities context\"--\n",
      "call-number: AZ105 .S43 2019\n",
      "collection-title: Digital research in the arts and humanities\n",
      "event-place: London ; New York\n",
      "ISBN: 978-1-4724-4324-3\n",
      "number-of-pages: 341\n",
      "publisher: Routledge, Taylor & Francis Group\n",
      "publisher-place: London ; New York\n",
      "source: Library of Congress ISBN\n",
      "title: The shape of data in the digital humanities: modeling texts and text-based resources\n",
      "title-short: The shape of data in the digital humanities\n",
      "editor: Flanders, Julia; Jannidis, Fotis\n",
      "issued: 2019\n",
      "-----------------\n",
      "\n",
      "Se encontraron 4 resultados\n"
     ]
    }
   ],
   "source": [
    "from busqueda import busqueda_simple, formar_result\n",
    "\n",
    "# Buscar la palabra \"Data\" en el título de los libros\n",
    "resultado = busqueda_simple('Data', 'title', 'book')\n",
    "print(formar_result(resultado))"
   ]
  },
  {
   "cell_type": "markdown",
   "id": "0ce51432",
   "metadata": {},
   "source": [
    "### 2. Construir el módulo de interfaz\n",
    "\n",
    "El segundo paso es construir un módulo que permita interactuar con el usuario. Para esto, debes crear un nuevo archivo de Python en la carpeta de trabajo con el nombre `buscador.py`.\n",
    "\n",
    "Este archivo debe tener una función que permita interactuar con el usuario. Esta función debe tener un menú que permita al usuario elegir entre las siguientes opciones:\n",
    "\n",
    "* Ingresar la palabra clave de búsqueda.\n",
    "* Seleccionar si se desea buscar por título, autor, fecha o palabra clave.\n",
    "* Seleccionar si se desea filtrar por libro, artículo, tesis o cualquier otro tipo de elemento.\n",
    "\n",
    "El módulo debe estar en la capacidad de replicar un resultado como el siguiente:\n",
    "\n",
    "```bash\n",
    "\n",
    "Ingrese los datos de la búsqueda\n",
    "Palabra a buscar: Data\n",
    "Tipos de búsqueda: [1] Título, [2] Autor, [3] Fecha, [4] Palabra clave\n",
    "Tipo de búsqueda (1, 2, 3, 4): 1\n",
    "Tipos de documento: [1] Libro, [2] Artículo, [3] Tesis, [4] Cualquiera\n",
    "Tipo de documento (1, 2, 3, 4): 1\n",
    "Buscando 'Data' en 'title' de tipo 'book'\n",
    "\n",
    "\n",
    "[1]------------\n",
    "\n",
    "id: AdrianCaballeroRoldan2019Bid\n",
    "type: book\n",
    "abstract: rare book\n",
    "ISBN: 978-84-948972-0-7\n",
    "language: Spanish\n",
    "note: 00000\n",
    "publisher: RC Libros\n",
    "source: Amazon\n",
    "title: Bid data con Python. Recolección, almacenamiento y proceso\n",
    "author: Adrián Caballero Roldán, Rafael Caballero / Martín Martín\n",
    "issued: 2019\n",
    "-----------------\n",
    "\n",
    "[2]------------\n",
    "\n",
    "id: Hamidovic.etal2019Ancient\n",
    "type: book\n",
    "abstract: Ancient Manuscripts in Digital Culture presents an overview of the digital turn in Ancient Jewish and Christian manuscripts visualisation, data mining and communication. Edited by David Hamidović, Claire Clivaz and Sarah Bowen Savant, it gathers together the contributions of seventeen scholars involved in Biblical, Early Jewish and Christian studies. The volume attests to the spreading of digital humanities in these fields and presents fundamental analysis of the rise of visual culture as well as specific test-cases concerning ancient manuscripts. Sophisticated visualisation tools, stylometric analysis, teaching and visual data, epigraphy and visualisation belong notably to the varied overview presented in the volume.\n",
    "collection-number: 3\n",
    "collection-title: Digital Biblical Studies\n",
    "edition: 1ª\n",
    "event-place: Leiden - Boston\n",
    "ISBN: 978-90-04-39929-7\n",
    "language: English\n",
    "note: ZSCC: 0000001\n",
    "number-of-pages: xvi, 284\n",
    "number-of-volumes: 1\n",
    "publisher: Brill\n",
    "publisher-place: Leiden - Boston\n",
    "title: Ancient Manuscripts in Digital Culture. Visualisation, Data Mining, Communication\n",
    "source: Library of Congress ISBN\n",
    "title: The shape of data in the digital humanities: modeling texts and text-based resources\n",
    "title-short: The shape of data in the digital humanities\n",
    "editor: Flanders, Julia; Jannidis, Fotis\n",
    "issued: 2019\n",
    "-----------------\n",
    "\n",
    "Se encontraron 4 resultados\n",
    "\n",
    "```\n",
    "\n",
    "## Envío de la actividad\n",
    "\n",
    "Al igual que las actividades anteriores, envía tu código a través de Github.\n",
    "\n",
    "Para entregar la actividad, debes hacer un `commit` de los modificados y hacer un `push` de tu brazo al repositorio remoto.\n",
    "\n",
    "```bash\n",
    "git add .\n",
    "git commit -m \"Entrega de la actividad intermedia\"\n",
    "git push -u origin nombre-del-brazo\n",
    "```"
   ]
  }
 ],
 "metadata": {
  "jupytext": {
   "cell_metadata_filter": "-all",
   "formats": "md:myst",
   "text_representation": {
    "extension": ".md",
    "format_name": "myst",
    "format_version": 0.13,
    "jupytext_version": "1.14.4"
   }
  },
  "kernelspec": {
   "display_name": "Python 3 (ipykernel)",
   "language": "python",
   "name": "python3"
  },
  "language_info": {
   "codemirror_mode": {
    "name": "ipython",
    "version": 3
   },
   "file_extension": ".py",
   "mimetype": "text/x-python",
   "name": "python",
   "nbconvert_exporter": "python",
   "pygments_lexer": "ipython3",
   "version": "3.11.1"
  },
  "source_map": [
   14,
   26,
   54,
   68,
   70,
   74,
   78,
   102,
   108,
   112,
   114,
   118,
   126,
   151,
   157
  ]
 },
 "nbformat": 4,
 "nbformat_minor": 5
}