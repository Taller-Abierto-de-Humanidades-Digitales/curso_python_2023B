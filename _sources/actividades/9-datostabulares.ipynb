{
 "cells": [
  {
   "cell_type": "markdown",
   "metadata": {},
   "source": [
    "# Actividad 9: Datos tabulares\n",
    "\n",
    "👉 Abre este cuaderno en tu Google Colab utilizando el botón \"Open in Colab\", luego haz una copia en Drive (\"Archivo > Guardar una copia en Drive\") y sigue las instrucciones. \n",
    "\n",
    "<a href=\"https://colab.research.google.com/gist/jairomelo/f0a446eba3b93a46f96ac8741f92654f/9-datostabulares.ipynb\" target=\"_parent\"><img src=\"https://colab.research.google.com/assets/colab-badge.svg\" alt=\"Open In Colab\"/></a>\n",
    "\n",
    "**Envío:** Envía la actividad a través del foro \"Actividad 9: Datos tabulares\" de la unidad \"Archivos\" del curso."
   ]
  },
  {
   "cell_type": "markdown",
   "metadata": {},
   "source": [
    "## Ejercicio 1: JSON a CSV\n",
    "\n",
    "En este primer ejercicio, vamos a construir un conversor de archivos JSON a CSV. Este nos servirá posteriormente para construir un exportador de información bibliográfica a formato CSV o Excel.\n",
    "\n",
    "Crea una función que reciba como parámetro un archivo JSON y retorne un archivo CSV con el mismo nombre. El archivo CSV debe tener el mismo nombre que el archivo JSON, pero con la extensión `.csv`. Prueba esta función con el archivo que descargaste en el [Ejercicio 1 de la Actividad 8](8-cache.ipynb).\n",
    "\n",
    "La función deberá tener las siguientes características:\n",
    "\n",
    "- Deberá recibir como parámetro el nombre del archivo JSON.\n",
    "- Deberá validar que el archivo exista y que tenga la extensión `.json`.\n",
    "- Deberá leer el archivo JSON y convertirlo a un diccionario.\n",
    "- Aprovecha la librería `pandas` para convertir el diccionario a un DataFrame.\n",
    "- Utiliza el método `to_csv` del DataFrame para guardar el archivo CSV.\n",
    "- Deberá tener la opción de seleccionar una ruta de destino para el archivo CSV.\n"
   ]
  },
  {
   "cell_type": "code",
   "execution_count": null,
   "metadata": {},
   "outputs": [],
   "source": [
    "# Escribe tu código aquí..."
   ]
  },
  {
   "cell_type": "markdown",
   "metadata": {},
   "source": [
    "## Ejercicio 2: Exportador de búsquedas\n",
    "\n",
    "Este ejercicio implica un reto particularmente interesante. Con los resultados de la búsqueda que mostramos a los usuarios al realizar el buscador de información bibliográfica, vamos a darles la opción de realizar una nueva búsqueda o exportar los resultados a un archivo CSV.\n",
    "\n",
    "Para ello, debemos garantizar que la función que retorna la búsqueda de información bibliográfica regrese un diccionario o lista de diccionarios. Esto lo debes haber realizado en la [actividad intermedia](evaluaciones/1-actividadintermedia.ipynb).\n",
    "\n",
    "Una vez tengas la función que retorna los resultados de la búsqueda, modifica la función que creaste en el ejercicio anterior para que tenga la opción de recibir un archivo JSON o un diccionario. Las condiciones de la función deberán ser las siguientes:\n",
    "\n",
    "- Garantiza la flexibilidad de la función para recibir un archivo JSON o un diccionario mediante un parámetro con valor por defecto (por ejemplo `json=True`).\n",
    "- Si el parámetro `json` es `True`, la función deberá recibir un archivo JSON y convertirlo a un diccionario.\n",
    "- Si el parámetro `json` es `False`, la función deberá recibir un diccionario.\n",
    "- La función deberá validar que el archivo exista y que tenga la extensión `.json` si el parámetro `json` es `True`.\n",
    "- La función deberá validar que el parámetro recibido sea un diccionario si el parámetro `json` es `False`. Utiliza el método `isinstance` para validar que el parámetro sea un diccionario (por ejemplo, `isinstance(diccionario, dict)`).\n",
    "- Realiza las mismas operaciones previas para convertir el diccionario a un DataFrame y luego a un archivo CSV.\n"
   ]
  },
  {
   "cell_type": "code",
   "execution_count": null,
   "metadata": {},
   "outputs": [],
   "source": [
    "# Escribe tu código aquí..."
   ]
  }
 ],
 "metadata": {
  "language_info": {
   "name": "python"
  },
  "orig_nbformat": 4
 },
 "nbformat": 4,
 "nbformat_minor": 2
}
