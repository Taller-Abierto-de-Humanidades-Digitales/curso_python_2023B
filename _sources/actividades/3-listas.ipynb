{
 "cells": [
  {
   "cell_type": "markdown",
   "metadata": {},
   "source": [
    "# Actividad 3: Listas (operaciones básicas)\n",
    "\n",
    "👉 Abre este cuaderno en tu Google Colab utilizando el botón \"Open in Colab\", luego haz una copia en Drive (\"Archivo > Guardar una copia en Drive\") y sigue las instrucciones. \n",
    "\n",
    "<a href=\"https://colab.research.google.com/gist/jairomelo/fd93996c42652050a680414a3d31b6ef/listas.ipynb\" target=\"_parent\"><img src=\"https://colab.research.google.com/assets/colab-badge.svg\" alt=\"Open In Colab\"/></a>\n",
    "\n",
    "**Envío:** Envía la actividad a través del foro \"Actividad 3: Listas\" de la unidad \"Conceptos básicos\" del curso."
   ]
  },
  {
   "cell_type": "markdown",
   "metadata": {},
   "source": [
    "## Ejercicio 1: Crear un listado de autores\n",
    "\n",
    "En este ejercicio, deberás crear un listado con al menos cinco autores y autoras, pueden ser de un tema literario, científico, de divulgación, entre otros. Realiza un `print` de cada elemento de la lista a través de un índice.\n",
    "\n",
    "👉 **Tip**: Recuerda que los índices comienzan en 0."
   ]
  },
  {
   "cell_type": "code",
   "execution_count": null,
   "metadata": {},
   "outputs": [],
   "source": [
    "# Escribe aquí tu código"
   ]
  },
  {
   "cell_type": "markdown",
   "metadata": {},
   "source": [
    "Ahora, construye un mensaje personalizado para cada autora y autor. La estructura del mensaje debe ser la siguiente:\n",
    "\n",
    "> Hola, soy [nombre del autor o autora] y me conocen por el libro [título del libro]."
   ]
  },
  {
   "cell_type": "code",
   "execution_count": null,
   "metadata": {},
   "outputs": [],
   "source": [
    "# Escribe aquí tu código"
   ]
  },
  {
   "cell_type": "markdown",
   "metadata": {},
   "source": [
    "Finalmente, crea una lista con los títulos de los libros de cada autor o autora. Realiza un `print` de cada elemento de la lista a través de un índice que construya el mensaje anterior."
   ]
  },
  {
   "cell_type": "code",
   "execution_count": null,
   "metadata": {},
   "outputs": [],
   "source": [
    "# Escribe aquí tu código"
   ]
  },
  {
   "cell_type": "markdown",
   "metadata": {},
   "source": [
    "## Ejercicio 2: Crear un microcatálogo bibliográfico\n",
    "\n",
    "En este ejercicio, deberás crear un microcatálogo bibliográfico con al menos cinco libros. Cada libro debe tener un título, un autor o autora, un año de publicación y un género. Realiza un `print` de la lista completa para ver los datos. \n",
    "\n",
    "**Nota**: Es muy importante que tengas en cuenta la sintaxis de la lista. Cada libro debe ser un elemento y los valores de título, autor o autora, año y género deben estar en una cadena de caracteres. Por ejemplo:\n",
    "\n",
    "```python\n",
    "libro = [\"Cuentos completos; Jorge Luis Borges; 1995; Ficción\"]\n",
    "```"
   ]
  },
  {
   "cell_type": "code",
   "execution_count": null,
   "metadata": {},
   "outputs": [],
   "source": [
    "# Escribe aquí tu código"
   ]
  },
  {
   "cell_type": "markdown",
   "metadata": {},
   "source": [
    "Ahora, reemplaza uno de los libros por otro. Realiza un `print` de la lista completa para mostrar los cambios."
   ]
  },
  {
   "cell_type": "code",
   "execution_count": null,
   "metadata": {},
   "outputs": [],
   "source": [
    "# Escribe aquí tu código"
   ]
  },
  {
   "cell_type": "markdown",
   "metadata": {},
   "source": [
    "Añade tres nuevos libros a tu lista de la siguiente manera:\n",
    "\n",
    "* Un libro al inicio mediante el método `insert()`.\n",
    "* Un libro al final mediante el método `append()`.\n",
    "* Un libro en la posición 3 mediante el método `insert()`."
   ]
  },
  {
   "cell_type": "code",
   "execution_count": null,
   "metadata": {},
   "outputs": [],
   "source": [
    "# Escribe aquí tu código"
   ]
  },
  {
   "cell_type": "markdown",
   "metadata": {},
   "source": [
    "Utiliza la función `len()` para conocer el número de elementos de la lista y construye el mensaje:\n",
    "\n",
    "> La lista tiene ahora [número de elementos] libros."
   ]
  },
  {
   "cell_type": "code",
   "execution_count": null,
   "metadata": {},
   "outputs": [],
   "source": [
    "# Escribe aquí tu código"
   ]
  },
  {
   "cell_type": "markdown",
   "metadata": {},
   "source": [
    "Ahora, elimina un libro de la lista mediante el método `remove()`. Realiza un `print` de la lista completa para mostrar los cambios."
   ]
  },
  {
   "cell_type": "code",
   "execution_count": null,
   "metadata": {},
   "outputs": [],
   "source": [
    "# Escribe aquí tu código"
   ]
  },
  {
   "cell_type": "markdown",
   "metadata": {},
   "source": [
    "Ahora, elimina un libro de la lista mediante el método `remove`. Realiza un `print` de la lista completa para mostrar los cambios."
   ]
  },
  {
   "cell_type": "code",
   "execution_count": null,
   "metadata": {},
   "outputs": [],
   "source": [
    "# Escribe aquí tu código"
   ]
  },
  {
   "cell_type": "markdown",
   "metadata": {},
   "source": [
    "Utiliza la función `len()` para conocer el número de elementos de la lista y construye el mensaje:\n",
    "\n",
    "> La lista tiene ahora [número de elementos] libros."
   ]
  },
  {
   "cell_type": "code",
   "execution_count": null,
   "metadata": {},
   "outputs": [],
   "source": [
    "# Escribe aquí tu código"
   ]
  },
  {
   "cell_type": "markdown",
   "metadata": {},
   "source": [
    "Finalmente, imprime cada uno de los libros de la lista y que pueda construir el siguiente mensaje:\n",
    "\n",
    "> El libro [título del libro] fue escrito por [autor o autora] en el año [año de publicación] y es de género [género]."
   ]
  },
  {
   "cell_type": "code",
   "execution_count": null,
   "metadata": {},
   "outputs": [],
   "source": [
    "# Escribe aquí tu código"
   ]
  },
  {
   "cell_type": "markdown",
   "metadata": {},
   "source": [
    "## Ejercicio 3: Organizar una lista\n",
    "\n",
    "Aprovechando el microcatálogo bibliográfico realizaremos las siguientes operaciones:\n",
    "\n",
    "* Crea una variable llamada `titulo_asc` que contenga una copia de la lista de libros ordenada alfabéticamente por título. Usa el método `sort()` para ordenar la lista.\n",
    "\n",
    "* Crea una variable llamada `titulo_desc` que contenga una copia de la lista de libros ordenada alfabéticamente inversa por título. Usa el método `reverse()` para ordenar la lista."
   ]
  },
  {
   "cell_type": "code",
   "execution_count": null,
   "metadata": {},
   "outputs": [],
   "source": []
  },
  {
   "cell_type": "markdown",
   "metadata": {},
   "source": [
    "Imprime los primeros dos resultados de cada lista."
   ]
  },
  {
   "cell_type": "code",
   "execution_count": null,
   "metadata": {},
   "outputs": [],
   "source": [
    "# Escribe aquí tu código"
   ]
  },
  {
   "cell_type": "markdown",
   "metadata": {},
   "source": [
    "Con esto hemos terminado nuestro ejercicio con listas en Python 🐍."
   ]
  }
 ],
 "metadata": {
  "language_info": {
   "name": "python"
  },
  "orig_nbformat": 4
 },
 "nbformat": 4,
 "nbformat_minor": 2
}
