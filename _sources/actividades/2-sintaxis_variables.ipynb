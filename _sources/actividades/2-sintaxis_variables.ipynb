{
 "cells": [
  {
   "cell_type": "markdown",
   "metadata": {},
   "source": [
    "# Actividad 2: Variables y sintaxis\n",
    "\n",
    "Las variables y la sintaxis de Python son dos aspectos básicos, sencillos y fundamentales para la programación. En esta actividad, realizaremos tres ejercicios para practicar la sintaxis de Python y aprender a utilizar variables.\n",
    "\n",
    "👉 Abre este cuaderno en tu Google Colab utilizando el botón \"Open in Colab\", luego haz una copia en Drive (\"Archivo > Guardar una copia en Drive\") y sigue las instrucciones. \n",
    "\n",
    "<a href=\"https://colab.research.google.com/gist/jairomelo/ba71f9fe43d731a13679f026677d3efe/2-sintaxis_variables.ipynb\" target=\"_parent\"><img src=\"https://colab.research.google.com/assets/colab-badge.svg\" alt=\"Open In Colab\"/></a>\n",
    "\n",
    "**Envío:** Envía la actividad a través del foro \"Actividad 2: Variables y sintaxis\" de la unidad \"Introducción\" del curso.\n",
    "\n",
    "## Ejercicio 1: Sintaxis\n",
    "\n",
    "Crea una variable llamada `hola` para el valor \"Hola mundo\" e imprímela en pantalla."
   ]
  },
  {
   "cell_type": "code",
   "execution_count": null,
   "metadata": {},
   "outputs": [],
   "source": [
    "# crea tu código aquí\n"
   ]
  },
  {
   "cell_type": "markdown",
   "metadata": {},
   "source": [
    "## Ejercicio 2: Crea una variable para el nombre de una persona y otra para su apellido. Imprime el nombre completo de la persona.\n",
    "\n",
    "La variable debe ser `nombre` y `apellido` respectivamente."
   ]
  },
  {
   "cell_type": "code",
   "execution_count": null,
   "metadata": {},
   "outputs": [],
   "source": [
    "# Escribe aquí tu código"
   ]
  },
  {
   "cell_type": "markdown",
   "metadata": {},
   "source": [
    "## Ejercicio 3: Crea una variable para la marca de un carro. \n",
    "\n",
    "El nombre de la variable debe ser `nombre_carro`. Imprime el nombre del carro.\n"
   ]
  },
  {
   "cell_type": "code",
   "execution_count": null,
   "metadata": {},
   "outputs": [],
   "source": [
    "# Escribe aquí tu código"
   ]
  },
  {
   "cell_type": "markdown",
   "metadata": {},
   "source": [
    "## Validación:\n",
    "\n",
    "Ejecuta la siguiente celda. Debe mostrar el mensaje correctamente. Si no es así, revisa tu código.\n"
   ]
  },
  {
   "cell_type": "code",
   "execution_count": null,
   "metadata": {},
   "outputs": [],
   "source": [
    "# ⚠️ Esta celda solamente se utiliza para validar tu código. No modifiques nada en ella\n",
    "\n",
    "assert type(nombre) == str\n",
    "assert type(apellido) == str\n",
    "assert type(nombre_carro) == str\n",
    "assert saludo + \" \" + nombre + \" \" + apellido + \" y tengo un carro \" + nombre_carro\n",
    "print(\"¡Felicitaciones! ¡Tu código es correcto!\")"
   ]
  },
  {
   "cell_type": "markdown",
   "metadata": {},
   "source": [
    "## Ejercicio 4: El siguiente código está escrito de manera incorrecta.\n",
    "\n",
    "Corrige el código para que funcione correctamente."
   ]
  },
  {
   "cell_type": "code",
   "execution_count": null,
   "metadata": {},
   "outputs": [],
   "source": [
    "# corrige los errores de sintaxis para que las siguientes sentencias se puedan ejecutar correctamente\n",
    "\n",
    "1primer_nombre = Akira\n",
    "2primer_apellido = \"Toriyama\n",
    "\n",
    "\n",
    "print autor\n",
    "\n",
    "fech@_nacimiento = 1955\n",
    "\n",
    "    Nombre_Manga = \"Dr. Slump\"\n",
    "\n",
    "fecha pub = \"1979\""
   ]
  },
  {
   "cell_type": "markdown",
   "metadata": {},
   "source": [
    "## Ejercicio 5: Corrige las siguientes variables de texto para que el código funcione correctamente."
   ]
  },
  {
   "cell_type": "code",
   "execution_count": null,
   "metadata": {},
   "outputs": [],
   "source": [
    "texto1 = \"Akira Toriyama publicó su manga \"Dragon Ball\" en 1984\"\n",
    "texto2 = \"Quentin Tarantino es el director\" \"de la película Pulp Fiction\"\n",
    "texto3 = \"Yo, señor, soy acontista.\n",
    "        Mi profesión es hacer disparos al aire.\n",
    "        Todavía no habré descendido la primera nube.\n",
    "        Mas, la delicia está en curvar el arco\n",
    "        y en suponer la flecha donde la clava el ojo.\"\n",
    "texto4 = \"Es posible que {nombre} no haya leído nombre_manga.\""
   ]
  },
  {
   "cell_type": "markdown",
   "metadata": {},
   "source": [
    "## Validación ejercicio 5\n",
    "\n",
    "Ejecuta la siguiente celda para comprobar que tu ejercicio es correcto:"
   ]
  },
  {
   "cell_type": "code",
   "execution_count": null,
   "metadata": {},
   "outputs": [],
   "source": [
    "# ⚠️ Esta celda solamente se utiliza para validar tu código. No modifiques nada en ella\n",
    "\n",
    "assert type(texto1) == str\n",
    "# check if texto2 is defined and is a string\n",
    "assert type(texto2) == str\n",
    "assert texto2 == \"Quentin Tarantino es el director de la película Pulp Fiction\", \"La variable texto2 no es correcta\"\n",
    "assert type(texto3) == str\n",
    "assert type(texto4) == str\n",
    "assert texto4 == f\"Es posible que {nombre} no haya leído {nombre_manga}.\", \"La variable texto4 no es correcta\"\n",
    "print(\"¡Felicitaciones! ¡Has completado el ejercicio!\")"
   ]
  },
  {
   "cell_type": "markdown",
   "metadata": {},
   "source": [
    "## Ejercicio 6\n",
    "\n",
    "Este ejercicio consiste en escribir un programa que exprese la conversación entre dos personas. El programa debe contener las siguientes variables:\n",
    "\n",
    "- `nombre1`: Nombre de la primera persona\n",
    "- `nombre2`: Nombre de la segunda persona\n",
    "- `edad1`: Edad de la primera persona\n",
    "- `edad2`: Edad de la segunda persona\n",
    "- `lugar`: Lugar donde se encuentran las personas\n",
    "- `tiempo`: Tiempo que llevan conversando\n",
    "\n",
    "El programa debe imprimir la siguiente conversación:\n",
    "\n",
    "```\n",
    "Hola, mi nombre es [nombre1] y tengo [edad1] años.\n",
    "Hola, mi nombre es [nombre2] y tengo [edad2] años.\n",
    "Hemos estado conversando por [tiempo] minutos mientras estábamos en [lugar].\n",
    "```"
   ]
  },
  {
   "cell_type": "code",
   "execution_count": null,
   "metadata": {},
   "outputs": [],
   "source": [
    "# Escribe aquí tu código"
   ]
  },
  {
   "cell_type": "code",
   "execution_count": null,
   "metadata": {},
   "outputs": [],
   "source": [
    "# ⚠️ Esta celda solamente se utiliza para validar parte de tu código. No modifiques nada en ella\n",
    "\n",
    "assert type(nombre1) == str, \"Tu variable nombre no es un string\"\n",
    "assert type(nombre2) == str, \"Tu variable nombre no es un string\"\n",
    "assert int(edad1)\n",
    "assert int(edad2)\n",
    "assert type(tiempo) == str, \"Tu variable tiempo no es un string\"\n",
    "assert type(lugar) == str, \"Tu variable lugar no es un string\""
   ]
  },
  {
   "cell_type": "markdown",
   "metadata": {},
   "source": [
    "## Ejercicio 7: Manipulación de cadenas de texto\n",
    "\n",
    "Este ejercicio consiste en escribir un programa que tome una frase y aplique las siguientes funciones:\n",
    "\n",
    "- `lower()`: Convierte todas las letras de la frase a minúsculas\n",
    "- `upper()`: Convierte todas las letras de la frase a mayúsculas\n",
    "- `capitalize()`: Convierte la primera letra de la frase a mayúscula\n",
    "- `title()`: Convierte la primera letra de cada palabra de la frase a mayúscula\n",
    "- `swapcase()`: Convierte todas las letras de la frase a mayúsculas y minúsculas\n",
    "- `strip()`: Elimina los espacios en blanco al inicio y al final de la frase\n",
    "- `replace()`: Reemplaza una palabra por otra en la frase\n",
    "- `split()`: Divide la frase en palabras\n",
    "\n",
    "Cada función debe ser aplicada a la frase e imprimirla usando `format()`. Por ejemplo, si la frase es `hola mundo`, el programa debe imprimir:\n",
    "\n",
    "```python\n",
    ">>> print(f\"Esta es la frase en mayúsculas: {frase.upper()}\")\n",
    ">>> Esta es la frase en mayúsculas: HOLA MUNDO\n",
    "```\n",
    "\n"
   ]
  },
  {
   "cell_type": "code",
   "execution_count": null,
   "metadata": {},
   "outputs": [],
   "source": [
    "# Escribe aquí tu código"
   ]
  },
  {
   "cell_type": "markdown",
   "metadata": {},
   "source": [
    "## Ejercicio 8: Operadores con cadenas de texto\n",
    "\n",
    "El último ejercicio consiste en escribir un programa que tome una frase y aplique los siguientes operadores:\n",
    "\n",
    "- `+`: Concatena dos cadenas de texto\n",
    "- `*`: Repite una cadena de texto un número de veces\n",
    "- `in`: Verifica si una cadena de texto está contenida en otra\n",
    "- `not in`: Verifica si una cadena de texto no está contenida en otra\n",
    "- `==`: Verifica si dos cadenas de texto son iguales\n",
    "- `!=`: Verifica si dos cadenas de texto son diferentes\n",
    "\n",
    "Cada operador debe ser aplicado a la frase e imprimirla usando `format()`. Por ejemplo, si la frase es `hola mundo`, el programa debe imprimir:\n",
    "\n",
    "```python\n",
    ">>> print(f\"Esta es la frase concatenada: {frase + ' hola'}\")\n",
    ">>> Esta es la frase concatenada: hola mundo hola\n",
    "```"
   ]
  },
  {
   "cell_type": "code",
   "execution_count": null,
   "metadata": {},
   "outputs": [],
   "source": [
    "# Escribe aquí tu código"
   ]
  }
 ],
 "metadata": {
  "kernelspec": {
   "display_name": "curso_env",
   "language": "python",
   "name": "python3"
  },
  "language_info": {
   "codemirror_mode": {
    "name": "ipython",
    "version": 3
   },
   "file_extension": ".py",
   "mimetype": "text/x-python",
   "name": "python",
   "nbconvert_exporter": "python",
   "pygments_lexer": "ipython3",
   "version": "3.11.4"
  },
  "orig_nbformat": 4
 },
 "nbformat": 4,
 "nbformat_minor": 2
}
