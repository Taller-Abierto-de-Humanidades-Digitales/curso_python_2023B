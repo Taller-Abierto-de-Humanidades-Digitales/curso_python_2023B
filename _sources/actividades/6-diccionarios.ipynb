{
 "cells": [
  {
   "cell_type": "markdown",
   "metadata": {},
   "source": [
    "# Actividad 6: Diccionarios\n",
    "\n",
    "👉 Abre este cuaderno en tu Google Colab utilizando el botón \"Open in Colab\", luego haz una copia en Drive (\"Archivo > Guardar una copia en Drive\") y sigue las instrucciones. \n",
    "\n",
    "<a href=\"https://colab.research.google.com/gist/jairomelo/2d628adb92691eab4a1a5f2087c2b957/6-diccionarios.ipynb\" target=\"_parent\"><img src=\"https://colab.research.google.com/assets/colab-badge.svg\" alt=\"Open In Colab\"/></a>\n",
    "\n",
    "**Envío:** Envía la actividad a través del foro \"Actividad 6: Diccionarios\" de la unidad \"Conceptos básicos\" del curso.\n",
    "\n",
    "En esta actividad vamos a convertir nuestros listados bibliográficos en un catálogo de libros más estructurado utilizando diccionarios. Para ello, retomaremos el listado de libros que elaboraste en la [actividad 4](4-iteraciones.html)"
   ]
  },
  {
   "cell_type": "markdown",
   "metadata": {},
   "source": [
    "## Ejercicio 1: Crear un diccionario a partir del listado bibliográfico\n",
    "\n",
    "Para este ejercicio, convertiremos nuestro listado en un diccionario, donde cada elemento del diccionario será un libro.\n",
    "\n",
    "Para ello, debemos primero, crear un diccionario vacío donde estarán incluidos los campos así:\n",
    "\n",
    "```python\n",
    "bibliografia = {\"000\" : {\n",
    "    \"tipo\" : \"\",\n",
    "    \"autor\" : [{\"nombre\" : \"\", \"apellido\" : \"\"}],\n",
    "    \"titulo\" : \"\",\n",
    "    \"editorial\" : \"\",\n",
    "    \"fecha\" : 0,\n",
    "    \"lugar\" : \"\"\n",
    "    },\n",
    "}\n",
    "```\n",
    "\n",
    "Posteriormente, itera sobre la lista de libros que retomas desde la actividad 4 y ajusta el diccionario para que contenga los datos de cada libro. Deberás actualizar el diccionario con la información que no haya estado disponible en tu listado original.\n",
    "\n",
    "Al finalizar, imprime la lista con los libros que se encuentran en el diccionario de tal manera que se muestren de la siguiente manera:\n",
    "\n",
    "```shell\n",
    "        LISTADO DE LIBROS\n",
    "\n",
    "        Identificador: 001\n",
    "        Título: El arte de la guerra\n",
    "        Autor: Sun Tzu\n",
    "        Editorial: Ediciones B\n",
    "        Lugar: Barcelona\n",
    "        Fecha: 2000\n",
    "```"
   ]
  },
  {
   "cell_type": "code",
   "execution_count": null,
   "metadata": {},
   "outputs": [],
   "source": [
    "# Escribe tu código aquí"
   ]
  },
  {
   "cell_type": "markdown",
   "metadata": {},
   "source": [
    "## Ejercicio 2: Añadir nuevos elementos al diccionario\n",
    "\n",
    "Ahora que ya tenemos un conjunto bibliográfico en formato diccionario, podemos añadir nuevos tipos de materiales. Para este ejercicio, agrega por lo menos tres artículos de revista académica, dos artículos de periódico y un video de YouTube a tu diccionario.\n",
    "\n",
    "Puedes utilizar cualquier método para añadir estos elementos, ya sea a través de una lista o de un diccionario. Intenta que el procedimiento sea lo más automático posible.\n",
    "\n",
    "Para las revistas académicas deberás incluir los siguientes campos:\n",
    "\n",
    "- Revista\n",
    "- Volumen\n",
    "- Número\n",
    "- url\n",
    "\n",
    "Para los artículos de periódico deberás incluir los siguientes campos:\n",
    "\n",
    "- Periódico\n",
    "- Sección\n",
    "- Fecha de publicación\n",
    "- url\n",
    "\n",
    "Para los videos de YouTube deberás incluir los siguientes campos:\n",
    "\n",
    "- Título\n",
    "- Canal\n",
    "- Fecha de publicación\n",
    "- url\n",
    "\n",
    "Al igual que en el ejercicio 1, imprime la lista con todos los elementos."
   ]
  },
  {
   "cell_type": "code",
   "execution_count": null,
   "metadata": {},
   "outputs": [],
   "source": [
    "# Escribe tu código aquí..."
   ]
  },
  {
   "cell_type": "markdown",
   "metadata": {},
   "source": [
    "## Ejercicio 3: Listar los elementos por tipo\n",
    "\n",
    "En este ejercicio, deberás crear un programa que te permita mostrar los elementos contenidos en el diccionario de acuerdo a su tipo. Por ejemplo, si el usuario \"ingresa\" `artículo`, el programa deberá mostrar todos los artículos académicos que se encuentren en el diccionario. El resultado debería verse en pantalla de la siguiente manera:\n",
    "\n",
    "```shell\n",
    "        LISTADO DE ARTÍCULOS\n",
    "\n",
    "        Identificador: 005\n",
    "        Título: El título del artículo\n",
    "        Autor: Ramírez Beltrán, Juan\n",
    "        Revista: Revista de Ciencias Sociales\n",
    "        Volumen: 1\n",
    "        Número: 1\n",
    "        Fecha: 2000\n",
    "        url: https://www.revistacienciassociales.com/1/1/1\n",
    "```"
   ]
  },
  {
   "cell_type": "code",
   "execution_count": null,
   "metadata": {},
   "outputs": [],
   "source": [
    "# Escribe tu código aquí..."
   ]
  },
  {
   "cell_type": "markdown",
   "metadata": {},
   "source": [
    "## Ejercicio 4: Contar ciudades\n",
    "\n",
    "Para este ejercicio, deberás crear un programa que te muestre cuántas coincidencias existe en la ciudad de publicación de los libros que se encuentran en el diccionario. Debes iterar sobre el diccionario de tal manera que sea posible contar cuántas veces aparece una ciudad específica. Los resultado deberás guardarlos en un diccionario de esta manera:\n",
    "\n",
    "```python\n",
    "resultados {\n",
    "    \"Barcelona\" : 3,\n",
    "    \"Madrid\" : 2,\n",
    "    \"Buenos Aires\" : 1\n",
    "}\n",
    "```\n",
    "\n",
    "Al finalizar, imprime el diccionario de resultados de tal manera que se muestre en pantalla de la siguiente manera:\n",
    "\n",
    "```shell\n",
    "        RESULTADOS\n",
    "\n",
    "        Barcelona: 3\n",
    "        Madrid: 2\n",
    "        Buenos Aires: 1\n",
    "```"
   ]
  },
  {
   "cell_type": "code",
   "execution_count": null,
   "metadata": {},
   "outputs": [],
   "source": [
    "# Escribe tu código aquí..."
   ]
  }
 ],
 "metadata": {
  "language_info": {
   "name": "python"
  },
  "orig_nbformat": 4
 },
 "nbformat": 4,
 "nbformat_minor": 2
}
