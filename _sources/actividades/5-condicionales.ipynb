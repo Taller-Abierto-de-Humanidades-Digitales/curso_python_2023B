{
 "cells": [
  {
   "cell_type": "markdown",
   "metadata": {},
   "source": [
    "# Actividad 5: Condicionales\n",
    "\n",
    "👉 Abre este cuaderno en tu Google Colab utilizando el botón \"Open in Colab\", luego haz una copia en Drive (\"Archivo > Guardar una copia en Drive\") y sigue las instrucciones. \n",
    "\n",
    "<a href=\"https://colab.research.google.com/gist/jairomelo/c3438396d895e8c310bde21e5560cf06/5-condicionales.ipynb\" target=\"_parent\"><img src=\"https://colab.research.google.com/assets/colab-badge.svg\" alt=\"Open In Colab\"/></a>\n",
    "\n",
    "**Envío:** Envía la actividad a través del foro \"Actividad 5: Condicionales\" de la unidad \"Conceptos básicos\" del curso."
   ]
  },
  {
   "cell_type": "markdown",
   "metadata": {},
   "source": [
    "## Ejercicio 1: Lista de libros a partir de palabras clave\n",
    "\n",
    "Crea un programa que guarde en una lista los libros que contengan una palabra clave. Para ello, deberás utilizar la sentencia `if` y \"guardar\" la palabra clave en una variable. Por ejemplo, si la palabra clave es \"México\", el programa deberá guardar en una lista los libros que contengan esta palabra. Al final, deberás imprimir la lista de libros que contengan la palabra clave.\n",
    "\n",
    "El programa deberá funcionar con coincidencias independientes de mayúsculas y minúsculas. Por ejemplo, si la palabra clave es \"méxico\" y el título del libro es \"Historia de la conquista de México\", el programa deberá guardar el libro en la lista.\n",
    "\n",
    "Asimismo, el programa deberá funcionar con cualquier palabra clave que se introduzca. En caso de que la palabra clave no se encuentre en ningún libro, el programa deberá imprimir un mensaje que indique que no se encontraron coincidencias."
   ]
  },
  {
   "cell_type": "code",
   "execution_count": null,
   "metadata": {},
   "outputs": [],
   "source": [
    "# Escribe aquí tu programa"
   ]
  },
  {
   "cell_type": "markdown",
   "metadata": {},
   "source": [
    "## Ejercicio 2: Lista de libros a anteriores o posteriores a una fecha\n",
    "\n",
    "Crea un programa que permita encontrar en tu listado de libros aquellos que fueron publicados antes o después de una fecha determinada. Al igual que en el ejercicio anterior, deberás guardar el resultado en una lista e imprimir la lista de libros que cumplan con la condición.\n",
    "\n",
    "Guarda la fecha de búsqueda en una variable y comprueba que su resultado sea correcto tanto para fechas anteriores como posteriores. Esto implica que debes crear una condición que valide si la consulta es para libros anteriores o posteriores a la fecha de búsqueda.\n",
    "\n",
    "En caso de que no se encuentren libros que cumplan con la condición, el programa deberá imprimir un mensaje que indique que no se encontraron coincidencias."
   ]
  },
  {
   "cell_type": "code",
   "execution_count": null,
   "metadata": {},
   "outputs": [],
   "source": [
    "# Escribe aquí tu código"
   ]
  },
  {
   "cell_type": "markdown",
   "metadata": {},
   "source": [
    "## Ejercicio 3: Listado de títulos de libros por género\n",
    "\n",
    "En este tercer programa deberás crear un listado de títulos de libros de tu listado a partir del género de la publicación. Para ello puedes buscar el género por coincidencia en cada elemento de la lista (por ejemplo, `if \"ensayo\" in libro`) o forzar una coincidencia en el campo correspondiente al género (por ejemplo, `if libro.split(\"; \")[-1] == \"ensayo\"`). En cualquiera de los casos, deberás guardar el resultado en una lista e imprimir la lista de libros que cumplan con la condición.\n",
    "\n",
    "Al igual que en el ejercicio 1, el programa deberá funcionar con coincidencias independientes de mayúsculas y minúsculas.\n",
    "\n",
    "En caso de que no se encuentren libros que cumplan con la condición, el programa deberá imprimir un mensaje que indique que no se encontraron coincidencias."
   ]
  },
  {
   "cell_type": "code",
   "execution_count": null,
   "metadata": {},
   "outputs": [],
   "source": [
    "# Escribe aquí tu código"
   ]
  },
  {
   "cell_type": "markdown",
   "metadata": {},
   "source": [
    "## Ejercicio 4: Inventario de libros por categoría\n",
    "\n",
    "En este ejercicio realizarás un inventario de libros por su categoría. Para ello, deberás crear al menos dos listados vacíos para cada categoría (p. ej: \"historia\", \"filosofía\"). Luego, deberás recorrer tu listado de libros y guardar cada libro en el listado correspondiente a su categoría. Por ejemplo, si el libro es de historia, deberás guardarlo en el listado de \"historia\". En caso de que el libro no tenga una categoría, deberás guardarlo en un listado llamado \"otras categorías\".\n",
    "\n",
    "Para finalizar el programa, deberás imprimir el listado de libros de tal manera que se muestre un mensaje similar al siguiente:\n",
    "\n",
    "```shell\n",
    "Libros de historia:\n",
    "- <autor>, <título> (<año>), <género>\n",
    "\n",
    "Libros de filosofía:\n",
    "- <autor>, <título> (<año>), <género>\n",
    "- <autor>, <título> (<año>), <género>\n",
    "\n",
    "Otros libros:\n",
    "- <autor>, <título> (<año>), <género>\n",
    "- <autor>, <título> (<año>), <género>\n",
    "```"
   ]
  },
  {
   "cell_type": "code",
   "execution_count": null,
   "metadata": {},
   "outputs": [],
   "source": [
    "# Escribe tu código aquí"
   ]
  },
  {
   "cell_type": "markdown",
   "metadata": {},
   "source": [
    "## Ejercicio 5: Lista de títulos por autor y fecha\n",
    "\n",
    "En este ejercicio deberás crear un listado de libros a partir de la coincidencia con un autor y una fecha determinada. Para ello, deberás crear una lista vacía y recorrer tu listado de libros. En caso de que el autor y la fecha del libro coincidan con los valores de búsqueda, deberás guardar el título, fecha y género en una lista. Al final, deberás imprimir la lista de libros que cumplan con la condición de la siguiente manera:\n",
    "\n",
    "```shell\n",
    "Libros de <autor> publicados en <año>:\n",
    "- <título> (<año>), <género>\n",
    "- <título> (<año>), <género>\n",
    "```\n",
    "\n",
    "En caso de que no se encuentren libros que cumplan con la condición, el programa deberá imprimir un mensaje que indique que no se encontraron coincidencias."
   ]
  },
  {
   "cell_type": "code",
   "execution_count": null,
   "metadata": {},
   "outputs": [],
   "source": [
    "# Escribe tu código aquí"
   ]
  }
 ],
 "metadata": {
  "language_info": {
   "name": "python"
  },
  "orig_nbformat": 4
 },
 "nbformat": 4,
 "nbformat_minor": 2
}
